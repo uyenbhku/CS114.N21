{
  "cells": [
    {
      "cell_type": "markdown",
      "metadata": {
        "id": "view-in-github",
        "colab_type": "text"
      },
      "source": [
        "<a href=\"https://colab.research.google.com/github/uyenbhku/CS114.N21/blob/main/VietnameseSarcasticHeadlineClassification.ipynb\" target=\"_parent\"><img src=\"https://colab.research.google.com/assets/colab-badge.svg\" alt=\"Open In Colab\"/></a>"
      ]
    },
    {
      "cell_type": "markdown",
      "metadata": {
        "id": "i9R786HL_tXD"
      },
      "source": [
        "# Vietnamese Sarcastic Headline Classification\n",
        "\n",
        "Inspired by: https://www.kaggle.com/datasets/rmisra/news-headlines-dataset-for-sarcasm-detection\n",
        "\n",
        "## Team Information\n",
        "\n",
        "**Team:** NSFW\n",
        "\n",
        "**Members:**\n",
        "\n",
        "|No.|Member|Student ID|\n",
        "|:-:|:-:|:-:|\n",
        "|1|[Nguyen Trong An](https://github.com/chongan0224)|21520548|\n",
        "|2|[Bui Huynh Kim Uyen](https://github.com/uyenbhku)|21521659|\n",
        "|3|[Nguyen Nguyen Giap](https://github.com/Paignn)|21522025|\n",
        "|4|[Nguyen Bui Thanh Mai](https://github.com/21522320)|21522320|\n",
        "\n",
        "**Instructor:** Msc. Pham Nguyen Truong An\n",
        "\n",
        "**Phát biểu bài toán:**\n",
        "- Mục tiêu: Phân loại các headline của các bài báo là sarcastic or not\n",
        "- Input: headline một bài báo tiếng Việt (<= 50 ký tự) + đường dẫn đến bài báo đó, các ký tự encode dưới dạng UTF-8\n",
        "- Output: 1: là headline mang tính sarcastic, 0 nếu ngược lại\n",
        "\n",
        "\n",
        "Notebook này bao gồm end-to-end pipeline từ training đến serving phase.\n",
        "Nếu chỉ muốn sử dụng serving, chỉ gần chạy các cells trong phần Installation và xuống dưới phần Playground để thử test với model"
      ]
    },
    {
      "cell_type": "markdown",
      "metadata": {
        "id": "Vysoe2EodXqx"
      },
      "source": [
        "## Installation"
      ]
    },
    {
      "cell_type": "code",
      "execution_count": null,
      "metadata": {
        "colab": {
          "base_uri": "https://localhost:8080/"
        },
        "id": "fXy4TWtQgOXX",
        "outputId": "8bb22dcf-f6cf-45d9-8b74-3fe6672b50a2"
      },
      "outputs": [
        {
          "output_type": "stream",
          "name": "stdout",
          "text": [
            "Requirement already satisfied: transformers in /usr/local/lib/python3.10/dist-packages (4.30.2)\n",
            "Requirement already satisfied: filelock in /usr/local/lib/python3.10/dist-packages (from transformers) (3.12.2)\n",
            "Requirement already satisfied: huggingface-hub<1.0,>=0.14.1 in /usr/local/lib/python3.10/dist-packages (from transformers) (0.15.1)\n",
            "Requirement already satisfied: numpy>=1.17 in /usr/local/lib/python3.10/dist-packages (from transformers) (1.22.4)\n",
            "Requirement already satisfied: packaging>=20.0 in /usr/local/lib/python3.10/dist-packages (from transformers) (23.1)\n",
            "Requirement already satisfied: pyyaml>=5.1 in /usr/local/lib/python3.10/dist-packages (from transformers) (6.0)\n",
            "Requirement already satisfied: regex!=2019.12.17 in /usr/local/lib/python3.10/dist-packages (from transformers) (2022.10.31)\n",
            "Requirement already satisfied: requests in /usr/local/lib/python3.10/dist-packages (from transformers) (2.27.1)\n",
            "Requirement already satisfied: tokenizers!=0.11.3,<0.14,>=0.11.1 in /usr/local/lib/python3.10/dist-packages (from transformers) (0.13.3)\n",
            "Requirement already satisfied: safetensors>=0.3.1 in /usr/local/lib/python3.10/dist-packages (from transformers) (0.3.1)\n",
            "Requirement already satisfied: tqdm>=4.27 in /usr/local/lib/python3.10/dist-packages (from transformers) (4.65.0)\n",
            "Requirement already satisfied: fsspec in /usr/local/lib/python3.10/dist-packages (from huggingface-hub<1.0,>=0.14.1->transformers) (2023.6.0)\n",
            "Requirement already satisfied: typing-extensions>=3.7.4.3 in /usr/local/lib/python3.10/dist-packages (from huggingface-hub<1.0,>=0.14.1->transformers) (4.6.3)\n",
            "Requirement already satisfied: urllib3<1.27,>=1.21.1 in /usr/local/lib/python3.10/dist-packages (from requests->transformers) (1.26.16)\n",
            "Requirement already satisfied: certifi>=2017.4.17 in /usr/local/lib/python3.10/dist-packages (from requests->transformers) (2023.5.7)\n",
            "Requirement already satisfied: charset-normalizer~=2.0.0 in /usr/local/lib/python3.10/dist-packages (from requests->transformers) (2.0.12)\n",
            "Requirement already satisfied: idna<4,>=2.5 in /usr/local/lib/python3.10/dist-packages (from requests->transformers) (3.4)\n"
          ]
        }
      ],
      "source": [
        "!pip install transformers"
      ]
    },
    {
      "cell_type": "code",
      "execution_count": null,
      "metadata": {
        "colab": {
          "base_uri": "https://localhost:8080/"
        },
        "id": "mgCXuGoEdbCb",
        "outputId": "0c1dadfc-a68a-4114-a389-555fef6f8b63"
      },
      "outputs": [
        {
          "output_type": "stream",
          "name": "stdout",
          "text": [
            "Requirement already satisfied: tokenizers in /usr/local/lib/python3.10/dist-packages (0.13.3)\n"
          ]
        }
      ],
      "source": [
        "!pip3 install tokenizers"
      ]
    },
    {
      "cell_type": "code",
      "execution_count": null,
      "metadata": {
        "colab": {
          "base_uri": "https://localhost:8080/"
        },
        "id": "jR4gPiS4d9fH",
        "outputId": "937c4510-2ece-45b3-f410-ec12f306a285"
      },
      "outputs": [
        {
          "output_type": "stream",
          "name": "stdout",
          "text": [
            "Requirement already satisfied: py_vncorenlp in /usr/local/lib/python3.10/dist-packages (0.1.4)\n",
            "Requirement already satisfied: pyjnius in /usr/local/lib/python3.10/dist-packages (from py_vncorenlp) (1.5.0)\n"
          ]
        }
      ],
      "source": [
        "# A word segmentor recommended for PhoBERT\n",
        "!pip install py_vncorenlp"
      ]
    },
    {
      "cell_type": "markdown",
      "metadata": {
        "id": "i0C8mduZgjz7"
      },
      "source": [
        "## Get dataset"
      ]
    },
    {
      "cell_type": "markdown",
      "metadata": {
        "id": "PN51EbgAnoTU"
      },
      "source": [
        "#### Crawl data"
      ]
    },
    {
      "cell_type": "code",
      "execution_count": null,
      "metadata": {
        "colab": {
          "base_uri": "https://localhost:8080/"
        },
        "id": "551lX20pjI7F",
        "outputId": "db203896-c7d4-41b0-f23e-bb9842177de1"
      },
      "outputs": [
        {
          "output_type": "stream",
          "name": "stdout",
          "text": [
            "--2023-06-30 14:13:54--  https://raw.githubusercontent.com/uyenbhku/CS114.N21/main/sarcasm_detection_dataset/NSFW.json\n",
            "Resolving raw.githubusercontent.com (raw.githubusercontent.com)... 185.199.110.133, 185.199.108.133, 185.199.109.133, ...\n",
            "Connecting to raw.githubusercontent.com (raw.githubusercontent.com)|185.199.110.133|:443... connected.\n",
            "HTTP request sent, awaiting response... 200 OK\n",
            "Length: 91978 (90K) [text/plain]\n",
            "Saving to: ‘NSFW.json’\n",
            "\n",
            "\rNSFW.json             0%[                    ]       0  --.-KB/s               \rNSFW.json           100%[===================>]  89.82K  --.-KB/s    in 0.008s  \n",
            "\n",
            "2023-06-30 14:13:54 (10.6 MB/s) - ‘NSFW.json’ saved [91978/91978]\n",
            "\n"
          ]
        }
      ],
      "source": [
        "!wget https://raw.githubusercontent.com/uyenbhku/CS114.N21/main/sarcasm_detection_dataset/NSFW.json"
      ]
    },
    {
      "cell_type": "code",
      "execution_count": null,
      "metadata": {
        "colab": {
          "base_uri": "https://localhost:8080/"
        },
        "id": "zGAi1E82hFK3",
        "outputId": "14ff8a9c-d75e-44e5-b394-325090600e1d"
      },
      "outputs": [
        {
          "output_type": "stream",
          "name": "stdout",
          "text": [
            "--2023-06-30 14:13:54--  https://raw.githubusercontent.com/KiRzEa/CS114/main/SarcasmData/SarcasmData_fixed.json\n",
            "Resolving raw.githubusercontent.com (raw.githubusercontent.com)... 185.199.110.133, 185.199.108.133, 185.199.109.133, ...\n",
            "Connecting to raw.githubusercontent.com (raw.githubusercontent.com)|185.199.110.133|:443... connected.\n",
            "HTTP request sent, awaiting response... 200 OK\n",
            "Length: 601730 (588K) [text/plain]\n",
            "Saving to: ‘SarcasmData_fixed.json’\n",
            "\n",
            "\rSarcasmData_fixed.j   0%[                    ]       0  --.-KB/s               \rSarcasmData_fixed.j 100%[===================>] 587.63K  --.-KB/s    in 0.009s  \n",
            "\n",
            "2023-06-30 14:13:54 (62.2 MB/s) - ‘SarcasmData_fixed.json’ saved [601730/601730]\n",
            "\n"
          ]
        }
      ],
      "source": [
        "!wget https://raw.githubusercontent.com/KiRzEa/CS114/main/SarcasmData/SarcasmData_fixed.json"
      ]
    },
    {
      "cell_type": "code",
      "execution_count": null,
      "metadata": {
        "colab": {
          "base_uri": "https://localhost:8080/"
        },
        "id": "GwofurJyhyCZ",
        "outputId": "de7fa238-26c3-4903-ef33-bf83082fbef0"
      },
      "outputs": [
        {
          "output_type": "stream",
          "name": "stdout",
          "text": [
            "--2023-06-30 14:13:54--  https://raw.githubusercontent.com/HungStark/sarcasm_detection_dataset/main/sarcasm_detection_dataset.json\n",
            "Resolving raw.githubusercontent.com (raw.githubusercontent.com)... 185.199.110.133, 185.199.111.133, 185.199.108.133, ...\n",
            "Connecting to raw.githubusercontent.com (raw.githubusercontent.com)|185.199.110.133|:443... connected.\n",
            "HTTP request sent, awaiting response... 200 OK\n",
            "Length: 67965 (66K) [text/plain]\n",
            "Saving to: ‘sarcasm_detection_dataset.json’\n",
            "\n",
            "\r          sarcasm_d   0%[                    ]       0  --.-KB/s               \rsarcasm_detection_d 100%[===================>]  66.37K  --.-KB/s    in 0.005s  \n",
            "\n",
            "2023-06-30 14:13:54 (13.5 MB/s) - ‘sarcasm_detection_dataset.json’ saved [67965/67965]\n",
            "\n"
          ]
        }
      ],
      "source": [
        "!wget https://raw.githubusercontent.com/HungStark/sarcasm_detection_dataset/main/sarcasm_detection_dataset.json"
      ]
    },
    {
      "cell_type": "code",
      "execution_count": null,
      "metadata": {
        "colab": {
          "base_uri": "https://localhost:8080/"
        },
        "id": "qYXUVzuWh7U5",
        "outputId": "15af50cc-1ec2-4e5c-fd8a-b1e0214f3f57"
      },
      "outputs": [
        {
          "output_type": "stream",
          "name": "stdout",
          "text": [
            "--2023-06-30 14:13:54--  https://raw.githubusercontent.com/TruongNoDame/Sarcasm-Detection/main/sarcasm_detection_dataset.json\n",
            "Resolving raw.githubusercontent.com (raw.githubusercontent.com)... 185.199.108.133, 185.199.109.133, 185.199.110.133, ...\n",
            "Connecting to raw.githubusercontent.com (raw.githubusercontent.com)|185.199.108.133|:443... connected.\n",
            "HTTP request sent, awaiting response... 200 OK\n",
            "Length: 34773 (34K) [text/plain]\n",
            "Saving to: ‘sarcasm_detection_dataset.json.1’\n",
            "\n",
            "\r          sarcasm_d   0%[                    ]       0  --.-KB/s               \rsarcasm_detection_d 100%[===================>]  33.96K  --.-KB/s    in 0s      \n",
            "\n",
            "2023-06-30 14:13:55 (71.6 MB/s) - ‘sarcasm_detection_dataset.json.1’ saved [34773/34773]\n",
            "\n"
          ]
        }
      ],
      "source": [
        "!wget https://raw.githubusercontent.com/TruongNoDame/Sarcasm-Detection/main/sarcasm_detection_dataset.json"
      ]
    },
    {
      "cell_type": "code",
      "execution_count": null,
      "metadata": {
        "colab": {
          "base_uri": "https://localhost:8080/"
        },
        "id": "5U3nSe7HiFx9",
        "outputId": "20605a42-7b2f-496d-d7e8-f0ff56ec3bbb"
      },
      "outputs": [
        {
          "output_type": "stream",
          "name": "stdout",
          "text": [
            "--2023-06-30 14:13:55--  https://raw.githubusercontent.com/Tlon9/CS114/main/sarcasm_detection_dataset.json\n",
            "Resolving raw.githubusercontent.com (raw.githubusercontent.com)... 185.199.108.133, 185.199.109.133, 185.199.110.133, ...\n",
            "Connecting to raw.githubusercontent.com (raw.githubusercontent.com)|185.199.108.133|:443... connected.\n",
            "HTTP request sent, awaiting response... 200 OK\n",
            "Length: 417641 (408K) [text/plain]\n",
            "Saving to: ‘sarcasm_detection_dataset.json.2’\n",
            "\n",
            "\r          sarcasm_d   0%[                    ]       0  --.-KB/s               \rsarcasm_detection_d 100%[===================>] 407.85K  --.-KB/s    in 0.006s  \n",
            "\n",
            "2023-06-30 14:13:55 (68.9 MB/s) - ‘sarcasm_detection_dataset.json.2’ saved [417641/417641]\n",
            "\n"
          ]
        }
      ],
      "source": [
        "!wget https://raw.githubusercontent.com/Tlon9/CS114/main/sarcasm_detection_dataset.json"
      ]
    },
    {
      "cell_type": "code",
      "execution_count": null,
      "metadata": {
        "colab": {
          "base_uri": "https://localhost:8080/"
        },
        "id": "_raGzuBHiLH9",
        "outputId": "04f04889-1c0b-4c50-cfd1-3b2e55abddcc"
      },
      "outputs": [
        {
          "output_type": "stream",
          "name": "stdout",
          "text": [
            "--2023-06-30 14:13:55--  https://raw.githubusercontent.com/npk7264/CS114/main/sarcasm_detection_dataset.json\n",
            "Resolving raw.githubusercontent.com (raw.githubusercontent.com)... 185.199.111.133, 185.199.109.133, 185.199.108.133, ...\n",
            "Connecting to raw.githubusercontent.com (raw.githubusercontent.com)|185.199.111.133|:443... connected.\n",
            "HTTP request sent, awaiting response... 200 OK\n",
            "Length: 46203 (45K) [text/plain]\n",
            "Saving to: ‘sarcasm_detection_dataset.json.3’\n",
            "\n",
            "\r          sarcasm_d   0%[                    ]       0  --.-KB/s               \rsarcasm_detection_d 100%[===================>]  45.12K  --.-KB/s    in 0.001s  \n",
            "\n",
            "2023-06-30 14:13:55 (54.8 MB/s) - ‘sarcasm_detection_dataset.json.3’ saved [46203/46203]\n",
            "\n"
          ]
        }
      ],
      "source": [
        "!wget https://raw.githubusercontent.com/npk7264/CS114/main/sarcasm_detection_dataset.json"
      ]
    },
    {
      "cell_type": "code",
      "execution_count": null,
      "metadata": {
        "colab": {
          "base_uri": "https://localhost:8080/"
        },
        "id": "Hx5PBKBBiO70",
        "outputId": "76aca63f-b770-498b-c8c6-a9b13247a39e"
      },
      "outputs": [
        {
          "output_type": "stream",
          "name": "stdout",
          "text": [
            "--2023-06-30 14:13:55--  https://raw.githubusercontent.com/Quan-Minh/CS114/main/sarcasm_detection_dataset.json\n",
            "Resolving raw.githubusercontent.com (raw.githubusercontent.com)... 185.199.111.133, 185.199.108.133, 185.199.110.133, ...\n",
            "Connecting to raw.githubusercontent.com (raw.githubusercontent.com)|185.199.111.133|:443... connected.\n",
            "HTTP request sent, awaiting response... 200 OK\n",
            "Length: 143228 (140K) [text/plain]\n",
            "Saving to: ‘sarcasm_detection_dataset.json.4’\n",
            "\n",
            "sarcasm_detection_d 100%[===================>] 139.87K  --.-KB/s    in 0.003s  \n",
            "\n",
            "2023-06-30 14:13:55 (46.7 MB/s) - ‘sarcasm_detection_dataset.json.4’ saved [143228/143228]\n",
            "\n"
          ]
        }
      ],
      "source": [
        "!wget https://raw.githubusercontent.com/Quan-Minh/CS114/main/sarcasm_detection_dataset.json"
      ]
    },
    {
      "cell_type": "code",
      "execution_count": null,
      "metadata": {
        "colab": {
          "base_uri": "https://localhost:8080/"
        },
        "id": "Vh8khnjJibqm",
        "outputId": "e23f27ae-0902-4852-f8c0-75b30a7c44d6"
      },
      "outputs": [
        {
          "output_type": "stream",
          "name": "stdout",
          "text": [
            "--2023-06-30 14:13:55--  https://raw.githubusercontent.com/tqnghia210/CS114/main/data_ne.json\n",
            "Resolving raw.githubusercontent.com (raw.githubusercontent.com)... 185.199.111.133, 185.199.108.133, 185.199.110.133, ...\n",
            "Connecting to raw.githubusercontent.com (raw.githubusercontent.com)|185.199.111.133|:443... connected.\n",
            "HTTP request sent, awaiting response... 200 OK\n",
            "Length: 43941 (43K) [text/plain]\n",
            "Saving to: ‘data_ne.json’\n",
            "\n",
            "data_ne.json        100%[===================>]  42.91K  --.-KB/s    in 0.002s  \n",
            "\n",
            "2023-06-30 14:13:56 (17.4 MB/s) - ‘data_ne.json’ saved [43941/43941]\n",
            "\n"
          ]
        }
      ],
      "source": [
        "!wget https://raw.githubusercontent.com/tqnghia210/CS114/main/data_ne.json"
      ]
    },
    {
      "cell_type": "code",
      "execution_count": null,
      "metadata": {
        "colab": {
          "base_uri": "https://localhost:8080/"
        },
        "id": "kk1vT-Uzige5",
        "outputId": "ff00c1b0-f348-4ea8-abc5-d85bdeeb5fa6"
      },
      "outputs": [
        {
          "output_type": "stream",
          "name": "stdout",
          "text": [
            "--2023-06-30 14:13:56--  https://raw.githubusercontent.com/ngcthc/CS114-ML-Public/main/sarcasm_detection_dataset.json\n",
            "Resolving raw.githubusercontent.com (raw.githubusercontent.com)... 185.199.111.133, 185.199.108.133, 185.199.110.133, ...\n",
            "Connecting to raw.githubusercontent.com (raw.githubusercontent.com)|185.199.111.133|:443... connected.\n",
            "HTTP request sent, awaiting response... 200 OK\n",
            "Length: 26769 (26K) [text/plain]\n",
            "Saving to: ‘sarcasm_detection_dataset.json.5’\n",
            "\n",
            "\r          sarcasm_d   0%[                    ]       0  --.-KB/s               \rsarcasm_detection_d 100%[===================>]  26.14K  --.-KB/s    in 0s      \n",
            "\n",
            "2023-06-30 14:13:56 (69.2 MB/s) - ‘sarcasm_detection_dataset.json.5’ saved [26769/26769]\n",
            "\n"
          ]
        }
      ],
      "source": [
        "!wget https://raw.githubusercontent.com/ngcthc/CS114-ML-Public/main/sarcasm_detection_dataset.json"
      ]
    },
    {
      "cell_type": "code",
      "execution_count": null,
      "metadata": {
        "colab": {
          "base_uri": "https://localhost:8080/"
        },
        "id": "yRgb-O1einuh",
        "outputId": "3fa59185-8b98-442a-ddea-1c17f0e0349f"
      },
      "outputs": [
        {
          "output_type": "stream",
          "name": "stdout",
          "text": [
            "--2023-06-30 14:13:56--  https://raw.githubusercontent.com/Kuma221203/CS114/main/sarcasm_detection_dataset.json\n",
            "Resolving raw.githubusercontent.com (raw.githubusercontent.com)... 185.199.111.133, 185.199.108.133, 185.199.110.133, ...\n",
            "Connecting to raw.githubusercontent.com (raw.githubusercontent.com)|185.199.111.133|:443... connected.\n",
            "HTTP request sent, awaiting response... 200 OK\n",
            "Length: 90505 (88K) [text/plain]\n",
            "Saving to: ‘sarcasm_detection_dataset.json.6’\n",
            "\n",
            "sarcasm_detection_d 100%[===================>]  88.38K  --.-KB/s    in 0.003s  \n",
            "\n",
            "2023-06-30 14:13:56 (32.3 MB/s) - ‘sarcasm_detection_dataset.json.6’ saved [90505/90505]\n",
            "\n"
          ]
        }
      ],
      "source": [
        "!wget https://raw.githubusercontent.com/Kuma221203/CS114/main/sarcasm_detection_dataset.json"
      ]
    },
    {
      "cell_type": "markdown",
      "metadata": {
        "id": "HNdJnKf8nszG"
      },
      "source": [
        "#### Classify JSON and JSONLine"
      ]
    },
    {
      "cell_type": "code",
      "execution_count": null,
      "metadata": {
        "id": "vYWmgq1bmxY3"
      },
      "outputs": [],
      "source": [
        "!mkdir json jsonlines"
      ]
    },
    {
      "cell_type": "code",
      "execution_count": null,
      "metadata": {
        "id": "wsEq-XUPnbJ1"
      },
      "outputs": [],
      "source": [
        "!mv data* jsonlines/"
      ]
    },
    {
      "cell_type": "code",
      "execution_count": null,
      "metadata": {
        "id": "RLCKnMdznMqH"
      },
      "outputs": [],
      "source": [
        "!mv Sar* json/"
      ]
    },
    {
      "cell_type": "code",
      "execution_count": null,
      "metadata": {
        "id": "EesByoPGm3oR"
      },
      "outputs": [],
      "source": [
        "!mv NSFW* jsonlines/"
      ]
    },
    {
      "cell_type": "code",
      "execution_count": null,
      "metadata": {
        "id": "0a-5iokWm8wW"
      },
      "outputs": [],
      "source": [
        "!mv *.json HungStark.json\n",
        "!mv HungS* json/"
      ]
    },
    {
      "cell_type": "code",
      "execution_count": null,
      "metadata": {
        "id": "X3NPCi6BnXNG"
      },
      "outputs": [],
      "source": [
        "!mv *.json.1 TruongNoDame.json\n",
        "!mv Truon* json/"
      ]
    },
    {
      "cell_type": "code",
      "execution_count": null,
      "metadata": {
        "id": "9fjJBJy6nRfI"
      },
      "outputs": [],
      "source": [
        "!mv *json.2 Tlon9.json\n",
        "!mv Tlon9* jsonlines/"
      ]
    },
    {
      "cell_type": "code",
      "execution_count": null,
      "metadata": {
        "id": "mZNn2bs7nifz"
      },
      "outputs": [],
      "source": [
        "!mv *.json.3 npk.json\n",
        "!mv npk* json/"
      ]
    },
    {
      "cell_type": "code",
      "execution_count": null,
      "metadata": {
        "id": "AZS57OqNnG-0"
      },
      "outputs": [],
      "source": [
        "!mv *.json.4 Quan-Minh.json\n",
        "!mv Quan-Minh.json jsonlines/"
      ]
    },
    {
      "cell_type": "code",
      "execution_count": null,
      "metadata": {
        "id": "CeaD19SpneKB"
      },
      "outputs": [],
      "source": [
        "!mv *.json.5 ngcthc.json\n",
        "!mv ngct* json/"
      ]
    },
    {
      "cell_type": "code",
      "execution_count": null,
      "metadata": {
        "id": "EIdndvwFnAX0"
      },
      "outputs": [],
      "source": [
        "!mv *.json.6 Kuma221203.json\n",
        "!mv Kuma* json/"
      ]
    },
    {
      "cell_type": "markdown",
      "metadata": {
        "id": "tRrjPawAjfL5"
      },
      "source": [
        "## Read files"
      ]
    },
    {
      "cell_type": "code",
      "execution_count": null,
      "metadata": {
        "id": "TKaR8iRnjiQQ"
      },
      "outputs": [],
      "source": [
        "import json\n",
        "import os\n",
        "import pandas as pd"
      ]
    },
    {
      "cell_type": "code",
      "execution_count": null,
      "metadata": {
        "colab": {
          "base_uri": "https://localhost:8080/"
        },
        "id": "rbuwrd8fU4BJ",
        "outputId": "676fd6ca-4b74-46da-eaf0-cad3b73a7e78"
      },
      "outputs": [
        {
          "output_type": "stream",
          "name": "stdout",
          "text": [
            "/content\n"
          ]
        }
      ],
      "source": [
        "%cd /content/"
      ]
    },
    {
      "cell_type": "code",
      "execution_count": null,
      "metadata": {
        "id": "pXtnAKq5n8YL"
      },
      "outputs": [],
      "source": [
        "jsonlines_files = sorted(os.listdir('jsonlines'))"
      ]
    },
    {
      "cell_type": "code",
      "execution_count": null,
      "metadata": {
        "colab": {
          "base_uri": "https://localhost:8080/"
        },
        "id": "iUgkUIKgoDZr",
        "outputId": "fb4bbe1f-7faf-4ed7-dd7d-d64d2363afcb"
      },
      "outputs": [
        {
          "output_type": "execute_result",
          "data": {
            "text/plain": [
              "['NSFW.json', 'Quan-Minh.json', 'Tlon9.json', 'data_ne.json']"
            ]
          },
          "metadata": {},
          "execution_count": 28
        }
      ],
      "source": [
        "jsonlines_files"
      ]
    },
    {
      "cell_type": "code",
      "execution_count": null,
      "metadata": {
        "id": "8y73eIKqoGqt"
      },
      "outputs": [],
      "source": [
        "json_files = sorted(os.listdir('json'))"
      ]
    },
    {
      "cell_type": "code",
      "execution_count": null,
      "metadata": {
        "colab": {
          "base_uri": "https://localhost:8080/"
        },
        "id": "WqyF-js0oJu2",
        "outputId": "c72b63ff-9fb7-4729-bb0e-68317ba3c0b9"
      },
      "outputs": [
        {
          "output_type": "execute_result",
          "data": {
            "text/plain": [
              "['HungStark.json',\n",
              " 'Kuma221203.json',\n",
              " 'SarcasmData_fixed.json',\n",
              " 'TruongNoDame.json',\n",
              " 'ngcthc.json',\n",
              " 'npk.json']"
            ]
          },
          "metadata": {},
          "execution_count": 30
        }
      ],
      "source": [
        "json_files"
      ]
    },
    {
      "cell_type": "code",
      "execution_count": null,
      "metadata": {
        "id": "EMhsvS8CmjXr"
      },
      "outputs": [],
      "source": [
        "dataset = []\n",
        "df = pd.DataFrame(columns=['is_sarcastic', 'headline', 'article_link'])"
      ]
    },
    {
      "cell_type": "code",
      "execution_count": null,
      "metadata": {
        "id": "PKYU0hC_oWCv"
      },
      "outputs": [],
      "source": [
        "for json_file in json_files:\n",
        "    with open(f'json/{json_file}', 'r') as file:\n",
        "        content = file.read()\n",
        "        parser = json.loads(content)\n",
        "        temp = pd.DataFrame(parser)\n",
        "        df = pd.concat([df, temp], axis=0, ignore_index=True)"
      ]
    },
    {
      "cell_type": "code",
      "execution_count": null,
      "metadata": {
        "colab": {
          "base_uri": "https://localhost:8080/"
        },
        "id": "MJB9frunqahu",
        "outputId": "3317bfa7-04c9-4ef2-b663-86a8428fdfa3"
      },
      "outputs": [
        {
          "output_type": "stream",
          "name": "stdout",
          "text": [
            "<class 'pandas.core.frame.DataFrame'>\n",
            "RangeIndex: 3755 entries, 0 to 3754\n",
            "Data columns (total 3 columns):\n",
            " #   Column        Non-Null Count  Dtype \n",
            "---  ------        --------------  ----- \n",
            " 0   is_sarcastic  3755 non-null   object\n",
            " 1   headline      3755 non-null   object\n",
            " 2   article_link  3755 non-null   object\n",
            "dtypes: object(3)\n",
            "memory usage: 88.1+ KB\n"
          ]
        }
      ],
      "source": [
        "df.info()"
      ]
    },
    {
      "cell_type": "code",
      "execution_count": null,
      "metadata": {
        "colab": {
          "base_uri": "https://localhost:8080/"
        },
        "id": "9igAF9FqpuJI",
        "outputId": "9dafb856-2932-4fab-c573-9e287aae6619"
      },
      "outputs": [
        {
          "output_type": "execute_result",
          "data": {
            "text/plain": [
              "        is_sarcastic headline  \\\n",
              "count           3755     3755   \n",
              "unique             2     3599   \n",
              "top                0            \n",
              "freq            2109        7   \n",
              "\n",
              "                                             article_link  \n",
              "count                                                3755  \n",
              "unique                                               3600  \n",
              "top     https://vnexpress.net/qua-cam-on-hon-30-ty-don...  \n",
              "freq                                                    4  "
            ],
            "text/html": [
              "\n",
              "  <div id=\"df-1b1c858e-83e6-45d6-ac2e-4011fe3c6873\">\n",
              "    <div class=\"colab-df-container\">\n",
              "      <div>\n",
              "<style scoped>\n",
              "    .dataframe tbody tr th:only-of-type {\n",
              "        vertical-align: middle;\n",
              "    }\n",
              "\n",
              "    .dataframe tbody tr th {\n",
              "        vertical-align: top;\n",
              "    }\n",
              "\n",
              "    .dataframe thead th {\n",
              "        text-align: right;\n",
              "    }\n",
              "</style>\n",
              "<table border=\"1\" class=\"dataframe\">\n",
              "  <thead>\n",
              "    <tr style=\"text-align: right;\">\n",
              "      <th></th>\n",
              "      <th>is_sarcastic</th>\n",
              "      <th>headline</th>\n",
              "      <th>article_link</th>\n",
              "    </tr>\n",
              "  </thead>\n",
              "  <tbody>\n",
              "    <tr>\n",
              "      <th>count</th>\n",
              "      <td>3755</td>\n",
              "      <td>3755</td>\n",
              "      <td>3755</td>\n",
              "    </tr>\n",
              "    <tr>\n",
              "      <th>unique</th>\n",
              "      <td>2</td>\n",
              "      <td>3599</td>\n",
              "      <td>3600</td>\n",
              "    </tr>\n",
              "    <tr>\n",
              "      <th>top</th>\n",
              "      <td>0</td>\n",
              "      <td></td>\n",
              "      <td>https://vnexpress.net/qua-cam-on-hon-30-ty-don...</td>\n",
              "    </tr>\n",
              "    <tr>\n",
              "      <th>freq</th>\n",
              "      <td>2109</td>\n",
              "      <td>7</td>\n",
              "      <td>4</td>\n",
              "    </tr>\n",
              "  </tbody>\n",
              "</table>\n",
              "</div>\n",
              "      <button class=\"colab-df-convert\" onclick=\"convertToInteractive('df-1b1c858e-83e6-45d6-ac2e-4011fe3c6873')\"\n",
              "              title=\"Convert this dataframe to an interactive table.\"\n",
              "              style=\"display:none;\">\n",
              "        \n",
              "  <svg xmlns=\"http://www.w3.org/2000/svg\" height=\"24px\"viewBox=\"0 0 24 24\"\n",
              "       width=\"24px\">\n",
              "    <path d=\"M0 0h24v24H0V0z\" fill=\"none\"/>\n",
              "    <path d=\"M18.56 5.44l.94 2.06.94-2.06 2.06-.94-2.06-.94-.94-2.06-.94 2.06-2.06.94zm-11 1L8.5 8.5l.94-2.06 2.06-.94-2.06-.94L8.5 2.5l-.94 2.06-2.06.94zm10 10l.94 2.06.94-2.06 2.06-.94-2.06-.94-.94-2.06-.94 2.06-2.06.94z\"/><path d=\"M17.41 7.96l-1.37-1.37c-.4-.4-.92-.59-1.43-.59-.52 0-1.04.2-1.43.59L10.3 9.45l-7.72 7.72c-.78.78-.78 2.05 0 2.83L4 21.41c.39.39.9.59 1.41.59.51 0 1.02-.2 1.41-.59l7.78-7.78 2.81-2.81c.8-.78.8-2.07 0-2.86zM5.41 20L4 18.59l7.72-7.72 1.47 1.35L5.41 20z\"/>\n",
              "  </svg>\n",
              "      </button>\n",
              "      \n",
              "  <style>\n",
              "    .colab-df-container {\n",
              "      display:flex;\n",
              "      flex-wrap:wrap;\n",
              "      gap: 12px;\n",
              "    }\n",
              "\n",
              "    .colab-df-convert {\n",
              "      background-color: #E8F0FE;\n",
              "      border: none;\n",
              "      border-radius: 50%;\n",
              "      cursor: pointer;\n",
              "      display: none;\n",
              "      fill: #1967D2;\n",
              "      height: 32px;\n",
              "      padding: 0 0 0 0;\n",
              "      width: 32px;\n",
              "    }\n",
              "\n",
              "    .colab-df-convert:hover {\n",
              "      background-color: #E2EBFA;\n",
              "      box-shadow: 0px 1px 2px rgba(60, 64, 67, 0.3), 0px 1px 3px 1px rgba(60, 64, 67, 0.15);\n",
              "      fill: #174EA6;\n",
              "    }\n",
              "\n",
              "    [theme=dark] .colab-df-convert {\n",
              "      background-color: #3B4455;\n",
              "      fill: #D2E3FC;\n",
              "    }\n",
              "\n",
              "    [theme=dark] .colab-df-convert:hover {\n",
              "      background-color: #434B5C;\n",
              "      box-shadow: 0px 1px 3px 1px rgba(0, 0, 0, 0.15);\n",
              "      filter: drop-shadow(0px 1px 2px rgba(0, 0, 0, 0.3));\n",
              "      fill: #FFFFFF;\n",
              "    }\n",
              "  </style>\n",
              "\n",
              "      <script>\n",
              "        const buttonEl =\n",
              "          document.querySelector('#df-1b1c858e-83e6-45d6-ac2e-4011fe3c6873 button.colab-df-convert');\n",
              "        buttonEl.style.display =\n",
              "          google.colab.kernel.accessAllowed ? 'block' : 'none';\n",
              "\n",
              "        async function convertToInteractive(key) {\n",
              "          const element = document.querySelector('#df-1b1c858e-83e6-45d6-ac2e-4011fe3c6873');\n",
              "          const dataTable =\n",
              "            await google.colab.kernel.invokeFunction('convertToInteractive',\n",
              "                                                     [key], {});\n",
              "          if (!dataTable) return;\n",
              "\n",
              "          const docLinkHtml = 'Like what you see? Visit the ' +\n",
              "            '<a target=\"_blank\" href=https://colab.research.google.com/notebooks/data_table.ipynb>data table notebook</a>'\n",
              "            + ' to learn more about interactive tables.';\n",
              "          element.innerHTML = '';\n",
              "          dataTable['output_type'] = 'display_data';\n",
              "          await google.colab.output.renderOutput(dataTable, element);\n",
              "          const docLink = document.createElement('div');\n",
              "          docLink.innerHTML = docLinkHtml;\n",
              "          element.appendChild(docLink);\n",
              "        }\n",
              "      </script>\n",
              "    </div>\n",
              "  </div>\n",
              "  "
            ]
          },
          "metadata": {},
          "execution_count": 34
        }
      ],
      "source": [
        "df.describe()"
      ]
    },
    {
      "cell_type": "code",
      "execution_count": null,
      "metadata": {
        "id": "Ov0qC06Nlefa"
      },
      "outputs": [],
      "source": [
        "for jsonline_file in jsonlines_files:\n",
        "    dataset = []\n",
        "    with open(f'jsonlines/{jsonline_file}') as file:\n",
        "        for line in file:\n",
        "            line = line.rstrip(', ')\n",
        "            try:\n",
        "                line = json.loads(line)\n",
        "            except: continue\n",
        "            dataset.append(line)\n",
        "        dataset = pd.DataFrame(dataset)\n",
        "        df = pd.concat([df, dataset], ignore_index=True)"
      ]
    },
    {
      "cell_type": "code",
      "execution_count": null,
      "metadata": {
        "colab": {
          "base_uri": "https://localhost:8080/"
        },
        "id": "IEmFXANNs-dz",
        "outputId": "e19dc2e5-3522-46da-9ad6-6f599272d27e"
      },
      "outputs": [
        {
          "output_type": "stream",
          "name": "stdout",
          "text": [
            "<class 'pandas.core.frame.DataFrame'>\n",
            "RangeIndex: 6484 entries, 0 to 6483\n",
            "Data columns (total 3 columns):\n",
            " #   Column        Non-Null Count  Dtype \n",
            "---  ------        --------------  ----- \n",
            " 0   is_sarcastic  6484 non-null   object\n",
            " 1   headline      6484 non-null   object\n",
            " 2   article_link  6484 non-null   object\n",
            "dtypes: object(3)\n",
            "memory usage: 152.1+ KB\n"
          ]
        }
      ],
      "source": [
        "df.info()"
      ]
    },
    {
      "cell_type": "code",
      "execution_count": null,
      "metadata": {
        "colab": {
          "base_uri": "https://localhost:8080/"
        },
        "id": "FE3pZmxvtAIO",
        "outputId": "1a55b14b-d082-4720-9134-05d439490029"
      },
      "outputs": [
        {
          "output_type": "execute_result",
          "data": {
            "text/plain": [
              "        is_sarcastic headline  \\\n",
              "count           6484     6484   \n",
              "unique             2     5308   \n",
              "top                0            \n",
              "freq            4229        8   \n",
              "\n",
              "                                             article_link  \n",
              "count                                                6484  \n",
              "unique                                               5029  \n",
              "top     https://tuoitre.vn/ai-phat-hien-them-nhieu-duo...  \n",
              "freq                                                    8  "
            ],
            "text/html": [
              "\n",
              "  <div id=\"df-48f12b44-8921-41bf-abc6-0c8dc51205a5\">\n",
              "    <div class=\"colab-df-container\">\n",
              "      <div>\n",
              "<style scoped>\n",
              "    .dataframe tbody tr th:only-of-type {\n",
              "        vertical-align: middle;\n",
              "    }\n",
              "\n",
              "    .dataframe tbody tr th {\n",
              "        vertical-align: top;\n",
              "    }\n",
              "\n",
              "    .dataframe thead th {\n",
              "        text-align: right;\n",
              "    }\n",
              "</style>\n",
              "<table border=\"1\" class=\"dataframe\">\n",
              "  <thead>\n",
              "    <tr style=\"text-align: right;\">\n",
              "      <th></th>\n",
              "      <th>is_sarcastic</th>\n",
              "      <th>headline</th>\n",
              "      <th>article_link</th>\n",
              "    </tr>\n",
              "  </thead>\n",
              "  <tbody>\n",
              "    <tr>\n",
              "      <th>count</th>\n",
              "      <td>6484</td>\n",
              "      <td>6484</td>\n",
              "      <td>6484</td>\n",
              "    </tr>\n",
              "    <tr>\n",
              "      <th>unique</th>\n",
              "      <td>2</td>\n",
              "      <td>5308</td>\n",
              "      <td>5029</td>\n",
              "    </tr>\n",
              "    <tr>\n",
              "      <th>top</th>\n",
              "      <td>0</td>\n",
              "      <td></td>\n",
              "      <td>https://tuoitre.vn/ai-phat-hien-them-nhieu-duo...</td>\n",
              "    </tr>\n",
              "    <tr>\n",
              "      <th>freq</th>\n",
              "      <td>4229</td>\n",
              "      <td>8</td>\n",
              "      <td>8</td>\n",
              "    </tr>\n",
              "  </tbody>\n",
              "</table>\n",
              "</div>\n",
              "      <button class=\"colab-df-convert\" onclick=\"convertToInteractive('df-48f12b44-8921-41bf-abc6-0c8dc51205a5')\"\n",
              "              title=\"Convert this dataframe to an interactive table.\"\n",
              "              style=\"display:none;\">\n",
              "        \n",
              "  <svg xmlns=\"http://www.w3.org/2000/svg\" height=\"24px\"viewBox=\"0 0 24 24\"\n",
              "       width=\"24px\">\n",
              "    <path d=\"M0 0h24v24H0V0z\" fill=\"none\"/>\n",
              "    <path d=\"M18.56 5.44l.94 2.06.94-2.06 2.06-.94-2.06-.94-.94-2.06-.94 2.06-2.06.94zm-11 1L8.5 8.5l.94-2.06 2.06-.94-2.06-.94L8.5 2.5l-.94 2.06-2.06.94zm10 10l.94 2.06.94-2.06 2.06-.94-2.06-.94-.94-2.06-.94 2.06-2.06.94z\"/><path d=\"M17.41 7.96l-1.37-1.37c-.4-.4-.92-.59-1.43-.59-.52 0-1.04.2-1.43.59L10.3 9.45l-7.72 7.72c-.78.78-.78 2.05 0 2.83L4 21.41c.39.39.9.59 1.41.59.51 0 1.02-.2 1.41-.59l7.78-7.78 2.81-2.81c.8-.78.8-2.07 0-2.86zM5.41 20L4 18.59l7.72-7.72 1.47 1.35L5.41 20z\"/>\n",
              "  </svg>\n",
              "      </button>\n",
              "      \n",
              "  <style>\n",
              "    .colab-df-container {\n",
              "      display:flex;\n",
              "      flex-wrap:wrap;\n",
              "      gap: 12px;\n",
              "    }\n",
              "\n",
              "    .colab-df-convert {\n",
              "      background-color: #E8F0FE;\n",
              "      border: none;\n",
              "      border-radius: 50%;\n",
              "      cursor: pointer;\n",
              "      display: none;\n",
              "      fill: #1967D2;\n",
              "      height: 32px;\n",
              "      padding: 0 0 0 0;\n",
              "      width: 32px;\n",
              "    }\n",
              "\n",
              "    .colab-df-convert:hover {\n",
              "      background-color: #E2EBFA;\n",
              "      box-shadow: 0px 1px 2px rgba(60, 64, 67, 0.3), 0px 1px 3px 1px rgba(60, 64, 67, 0.15);\n",
              "      fill: #174EA6;\n",
              "    }\n",
              "\n",
              "    [theme=dark] .colab-df-convert {\n",
              "      background-color: #3B4455;\n",
              "      fill: #D2E3FC;\n",
              "    }\n",
              "\n",
              "    [theme=dark] .colab-df-convert:hover {\n",
              "      background-color: #434B5C;\n",
              "      box-shadow: 0px 1px 3px 1px rgba(0, 0, 0, 0.15);\n",
              "      filter: drop-shadow(0px 1px 2px rgba(0, 0, 0, 0.3));\n",
              "      fill: #FFFFFF;\n",
              "    }\n",
              "  </style>\n",
              "\n",
              "      <script>\n",
              "        const buttonEl =\n",
              "          document.querySelector('#df-48f12b44-8921-41bf-abc6-0c8dc51205a5 button.colab-df-convert');\n",
              "        buttonEl.style.display =\n",
              "          google.colab.kernel.accessAllowed ? 'block' : 'none';\n",
              "\n",
              "        async function convertToInteractive(key) {\n",
              "          const element = document.querySelector('#df-48f12b44-8921-41bf-abc6-0c8dc51205a5');\n",
              "          const dataTable =\n",
              "            await google.colab.kernel.invokeFunction('convertToInteractive',\n",
              "                                                     [key], {});\n",
              "          if (!dataTable) return;\n",
              "\n",
              "          const docLinkHtml = 'Like what you see? Visit the ' +\n",
              "            '<a target=\"_blank\" href=https://colab.research.google.com/notebooks/data_table.ipynb>data table notebook</a>'\n",
              "            + ' to learn more about interactive tables.';\n",
              "          element.innerHTML = '';\n",
              "          dataTable['output_type'] = 'display_data';\n",
              "          await google.colab.output.renderOutput(dataTable, element);\n",
              "          const docLink = document.createElement('div');\n",
              "          docLink.innerHTML = docLinkHtml;\n",
              "          element.appendChild(docLink);\n",
              "        }\n",
              "      </script>\n",
              "    </div>\n",
              "  </div>\n",
              "  "
            ]
          },
          "metadata": {},
          "execution_count": 37
        }
      ],
      "source": [
        "df.describe()"
      ]
    },
    {
      "cell_type": "markdown",
      "metadata": {
        "id": "QJhxDIV7tS_D"
      },
      "source": [
        "## Preprocess training data"
      ]
    },
    {
      "cell_type": "markdown",
      "metadata": {
        "id": "yVyjaqzF42vP"
      },
      "source": [
        "### Impute missing values"
      ]
    },
    {
      "cell_type": "markdown",
      "metadata": {
        "id": "TKcHwi-H2TyW"
      },
      "source": [
        "Let's check if there are any empty headlines or article_link"
      ]
    },
    {
      "cell_type": "code",
      "execution_count": null,
      "metadata": {
        "colab": {
          "base_uri": "https://localhost:8080/"
        },
        "id": "vV3ze81-2k7G",
        "outputId": "b1f85bd8-021c-44b0-8e11-2e57cf7f1e46"
      },
      "outputs": [
        {
          "output_type": "execute_result",
          "data": {
            "text/plain": [
              "Empty DataFrame\n",
              "Columns: [is_sarcastic, headline, article_link]\n",
              "Index: []"
            ],
            "text/html": [
              "\n",
              "  <div id=\"df-aefd617b-bdca-49a7-b2ad-ccc6657894b1\">\n",
              "    <div class=\"colab-df-container\">\n",
              "      <div>\n",
              "<style scoped>\n",
              "    .dataframe tbody tr th:only-of-type {\n",
              "        vertical-align: middle;\n",
              "    }\n",
              "\n",
              "    .dataframe tbody tr th {\n",
              "        vertical-align: top;\n",
              "    }\n",
              "\n",
              "    .dataframe thead th {\n",
              "        text-align: right;\n",
              "    }\n",
              "</style>\n",
              "<table border=\"1\" class=\"dataframe\">\n",
              "  <thead>\n",
              "    <tr style=\"text-align: right;\">\n",
              "      <th></th>\n",
              "      <th>is_sarcastic</th>\n",
              "      <th>headline</th>\n",
              "      <th>article_link</th>\n",
              "    </tr>\n",
              "  </thead>\n",
              "  <tbody>\n",
              "  </tbody>\n",
              "</table>\n",
              "</div>\n",
              "      <button class=\"colab-df-convert\" onclick=\"convertToInteractive('df-aefd617b-bdca-49a7-b2ad-ccc6657894b1')\"\n",
              "              title=\"Convert this dataframe to an interactive table.\"\n",
              "              style=\"display:none;\">\n",
              "        \n",
              "  <svg xmlns=\"http://www.w3.org/2000/svg\" height=\"24px\"viewBox=\"0 0 24 24\"\n",
              "       width=\"24px\">\n",
              "    <path d=\"M0 0h24v24H0V0z\" fill=\"none\"/>\n",
              "    <path d=\"M18.56 5.44l.94 2.06.94-2.06 2.06-.94-2.06-.94-.94-2.06-.94 2.06-2.06.94zm-11 1L8.5 8.5l.94-2.06 2.06-.94-2.06-.94L8.5 2.5l-.94 2.06-2.06.94zm10 10l.94 2.06.94-2.06 2.06-.94-2.06-.94-.94-2.06-.94 2.06-2.06.94z\"/><path d=\"M17.41 7.96l-1.37-1.37c-.4-.4-.92-.59-1.43-.59-.52 0-1.04.2-1.43.59L10.3 9.45l-7.72 7.72c-.78.78-.78 2.05 0 2.83L4 21.41c.39.39.9.59 1.41.59.51 0 1.02-.2 1.41-.59l7.78-7.78 2.81-2.81c.8-.78.8-2.07 0-2.86zM5.41 20L4 18.59l7.72-7.72 1.47 1.35L5.41 20z\"/>\n",
              "  </svg>\n",
              "      </button>\n",
              "      \n",
              "  <style>\n",
              "    .colab-df-container {\n",
              "      display:flex;\n",
              "      flex-wrap:wrap;\n",
              "      gap: 12px;\n",
              "    }\n",
              "\n",
              "    .colab-df-convert {\n",
              "      background-color: #E8F0FE;\n",
              "      border: none;\n",
              "      border-radius: 50%;\n",
              "      cursor: pointer;\n",
              "      display: none;\n",
              "      fill: #1967D2;\n",
              "      height: 32px;\n",
              "      padding: 0 0 0 0;\n",
              "      width: 32px;\n",
              "    }\n",
              "\n",
              "    .colab-df-convert:hover {\n",
              "      background-color: #E2EBFA;\n",
              "      box-shadow: 0px 1px 2px rgba(60, 64, 67, 0.3), 0px 1px 3px 1px rgba(60, 64, 67, 0.15);\n",
              "      fill: #174EA6;\n",
              "    }\n",
              "\n",
              "    [theme=dark] .colab-df-convert {\n",
              "      background-color: #3B4455;\n",
              "      fill: #D2E3FC;\n",
              "    }\n",
              "\n",
              "    [theme=dark] .colab-df-convert:hover {\n",
              "      background-color: #434B5C;\n",
              "      box-shadow: 0px 1px 3px 1px rgba(0, 0, 0, 0.15);\n",
              "      filter: drop-shadow(0px 1px 2px rgba(0, 0, 0, 0.3));\n",
              "      fill: #FFFFFF;\n",
              "    }\n",
              "  </style>\n",
              "\n",
              "      <script>\n",
              "        const buttonEl =\n",
              "          document.querySelector('#df-aefd617b-bdca-49a7-b2ad-ccc6657894b1 button.colab-df-convert');\n",
              "        buttonEl.style.display =\n",
              "          google.colab.kernel.accessAllowed ? 'block' : 'none';\n",
              "\n",
              "        async function convertToInteractive(key) {\n",
              "          const element = document.querySelector('#df-aefd617b-bdca-49a7-b2ad-ccc6657894b1');\n",
              "          const dataTable =\n",
              "            await google.colab.kernel.invokeFunction('convertToInteractive',\n",
              "                                                     [key], {});\n",
              "          if (!dataTable) return;\n",
              "\n",
              "          const docLinkHtml = 'Like what you see? Visit the ' +\n",
              "            '<a target=\"_blank\" href=https://colab.research.google.com/notebooks/data_table.ipynb>data table notebook</a>'\n",
              "            + ' to learn more about interactive tables.';\n",
              "          element.innerHTML = '';\n",
              "          dataTable['output_type'] = 'display_data';\n",
              "          await google.colab.output.renderOutput(dataTable, element);\n",
              "          const docLink = document.createElement('div');\n",
              "          docLink.innerHTML = docLinkHtml;\n",
              "          element.appendChild(docLink);\n",
              "        }\n",
              "      </script>\n",
              "    </div>\n",
              "  </div>\n",
              "  "
            ]
          },
          "metadata": {},
          "execution_count": 38
        }
      ],
      "source": [
        "df[df.article_link=='']"
      ]
    },
    {
      "cell_type": "code",
      "execution_count": null,
      "metadata": {
        "colab": {
          "base_uri": "https://localhost:8080/"
        },
        "id": "NApzVAEt2RIW",
        "outputId": "26ba0b78-7b14-47fc-e469-7b7908f71575"
      },
      "outputs": [
        {
          "output_type": "execute_result",
          "data": {
            "text/plain": [
              "     is_sarcastic headline                                       article_link\n",
              "3443            0           https://vnexpress.net/thit-heo-khong-thuoc-die...\n",
              "3448            0           https://vnexpress.net/nha-pho-co-ha-noi-bi-ha-...\n",
              "3453            0           https://vnexpress.net/hlv-bo-dao-nha-ca-ngoi-t...\n",
              "3462            0           https://vnexpress.net/can-thi-bao-nhieu-do-duo...\n",
              "3467            0           https://vnexpress.net/ngoai-tinh-voi-ai-461888...\n",
              "3472            0           https://vnexpress.net/12-hoc-sinh-lien-quan-vu...\n",
              "3504            1           https://cuoi.tuoitre.vn/su-that-ve-cac-ong-bo-...\n",
              "4622            0           https://tuoitre.vn/khien-trach-chu-tich-tinh-k..."
            ],
            "text/html": [
              "\n",
              "  <div id=\"df-1c2ff3a5-4eb2-4376-b9a4-cf3b4de3faeb\">\n",
              "    <div class=\"colab-df-container\">\n",
              "      <div>\n",
              "<style scoped>\n",
              "    .dataframe tbody tr th:only-of-type {\n",
              "        vertical-align: middle;\n",
              "    }\n",
              "\n",
              "    .dataframe tbody tr th {\n",
              "        vertical-align: top;\n",
              "    }\n",
              "\n",
              "    .dataframe thead th {\n",
              "        text-align: right;\n",
              "    }\n",
              "</style>\n",
              "<table border=\"1\" class=\"dataframe\">\n",
              "  <thead>\n",
              "    <tr style=\"text-align: right;\">\n",
              "      <th></th>\n",
              "      <th>is_sarcastic</th>\n",
              "      <th>headline</th>\n",
              "      <th>article_link</th>\n",
              "    </tr>\n",
              "  </thead>\n",
              "  <tbody>\n",
              "    <tr>\n",
              "      <th>3443</th>\n",
              "      <td>0</td>\n",
              "      <td></td>\n",
              "      <td>https://vnexpress.net/thit-heo-khong-thuoc-die...</td>\n",
              "    </tr>\n",
              "    <tr>\n",
              "      <th>3448</th>\n",
              "      <td>0</td>\n",
              "      <td></td>\n",
              "      <td>https://vnexpress.net/nha-pho-co-ha-noi-bi-ha-...</td>\n",
              "    </tr>\n",
              "    <tr>\n",
              "      <th>3453</th>\n",
              "      <td>0</td>\n",
              "      <td></td>\n",
              "      <td>https://vnexpress.net/hlv-bo-dao-nha-ca-ngoi-t...</td>\n",
              "    </tr>\n",
              "    <tr>\n",
              "      <th>3462</th>\n",
              "      <td>0</td>\n",
              "      <td></td>\n",
              "      <td>https://vnexpress.net/can-thi-bao-nhieu-do-duo...</td>\n",
              "    </tr>\n",
              "    <tr>\n",
              "      <th>3467</th>\n",
              "      <td>0</td>\n",
              "      <td></td>\n",
              "      <td>https://vnexpress.net/ngoai-tinh-voi-ai-461888...</td>\n",
              "    </tr>\n",
              "    <tr>\n",
              "      <th>3472</th>\n",
              "      <td>0</td>\n",
              "      <td></td>\n",
              "      <td>https://vnexpress.net/12-hoc-sinh-lien-quan-vu...</td>\n",
              "    </tr>\n",
              "    <tr>\n",
              "      <th>3504</th>\n",
              "      <td>1</td>\n",
              "      <td></td>\n",
              "      <td>https://cuoi.tuoitre.vn/su-that-ve-cac-ong-bo-...</td>\n",
              "    </tr>\n",
              "    <tr>\n",
              "      <th>4622</th>\n",
              "      <td>0</td>\n",
              "      <td></td>\n",
              "      <td>https://tuoitre.vn/khien-trach-chu-tich-tinh-k...</td>\n",
              "    </tr>\n",
              "  </tbody>\n",
              "</table>\n",
              "</div>\n",
              "      <button class=\"colab-df-convert\" onclick=\"convertToInteractive('df-1c2ff3a5-4eb2-4376-b9a4-cf3b4de3faeb')\"\n",
              "              title=\"Convert this dataframe to an interactive table.\"\n",
              "              style=\"display:none;\">\n",
              "        \n",
              "  <svg xmlns=\"http://www.w3.org/2000/svg\" height=\"24px\"viewBox=\"0 0 24 24\"\n",
              "       width=\"24px\">\n",
              "    <path d=\"M0 0h24v24H0V0z\" fill=\"none\"/>\n",
              "    <path d=\"M18.56 5.44l.94 2.06.94-2.06 2.06-.94-2.06-.94-.94-2.06-.94 2.06-2.06.94zm-11 1L8.5 8.5l.94-2.06 2.06-.94-2.06-.94L8.5 2.5l-.94 2.06-2.06.94zm10 10l.94 2.06.94-2.06 2.06-.94-2.06-.94-.94-2.06-.94 2.06-2.06.94z\"/><path d=\"M17.41 7.96l-1.37-1.37c-.4-.4-.92-.59-1.43-.59-.52 0-1.04.2-1.43.59L10.3 9.45l-7.72 7.72c-.78.78-.78 2.05 0 2.83L4 21.41c.39.39.9.59 1.41.59.51 0 1.02-.2 1.41-.59l7.78-7.78 2.81-2.81c.8-.78.8-2.07 0-2.86zM5.41 20L4 18.59l7.72-7.72 1.47 1.35L5.41 20z\"/>\n",
              "  </svg>\n",
              "      </button>\n",
              "      \n",
              "  <style>\n",
              "    .colab-df-container {\n",
              "      display:flex;\n",
              "      flex-wrap:wrap;\n",
              "      gap: 12px;\n",
              "    }\n",
              "\n",
              "    .colab-df-convert {\n",
              "      background-color: #E8F0FE;\n",
              "      border: none;\n",
              "      border-radius: 50%;\n",
              "      cursor: pointer;\n",
              "      display: none;\n",
              "      fill: #1967D2;\n",
              "      height: 32px;\n",
              "      padding: 0 0 0 0;\n",
              "      width: 32px;\n",
              "    }\n",
              "\n",
              "    .colab-df-convert:hover {\n",
              "      background-color: #E2EBFA;\n",
              "      box-shadow: 0px 1px 2px rgba(60, 64, 67, 0.3), 0px 1px 3px 1px rgba(60, 64, 67, 0.15);\n",
              "      fill: #174EA6;\n",
              "    }\n",
              "\n",
              "    [theme=dark] .colab-df-convert {\n",
              "      background-color: #3B4455;\n",
              "      fill: #D2E3FC;\n",
              "    }\n",
              "\n",
              "    [theme=dark] .colab-df-convert:hover {\n",
              "      background-color: #434B5C;\n",
              "      box-shadow: 0px 1px 3px 1px rgba(0, 0, 0, 0.15);\n",
              "      filter: drop-shadow(0px 1px 2px rgba(0, 0, 0, 0.3));\n",
              "      fill: #FFFFFF;\n",
              "    }\n",
              "  </style>\n",
              "\n",
              "      <script>\n",
              "        const buttonEl =\n",
              "          document.querySelector('#df-1c2ff3a5-4eb2-4376-b9a4-cf3b4de3faeb button.colab-df-convert');\n",
              "        buttonEl.style.display =\n",
              "          google.colab.kernel.accessAllowed ? 'block' : 'none';\n",
              "\n",
              "        async function convertToInteractive(key) {\n",
              "          const element = document.querySelector('#df-1c2ff3a5-4eb2-4376-b9a4-cf3b4de3faeb');\n",
              "          const dataTable =\n",
              "            await google.colab.kernel.invokeFunction('convertToInteractive',\n",
              "                                                     [key], {});\n",
              "          if (!dataTable) return;\n",
              "\n",
              "          const docLinkHtml = 'Like what you see? Visit the ' +\n",
              "            '<a target=\"_blank\" href=https://colab.research.google.com/notebooks/data_table.ipynb>data table notebook</a>'\n",
              "            + ' to learn more about interactive tables.';\n",
              "          element.innerHTML = '';\n",
              "          dataTable['output_type'] = 'display_data';\n",
              "          await google.colab.output.renderOutput(dataTable, element);\n",
              "          const docLink = document.createElement('div');\n",
              "          docLink.innerHTML = docLinkHtml;\n",
              "          element.appendChild(docLink);\n",
              "        }\n",
              "      </script>\n",
              "    </div>\n",
              "  </div>\n",
              "  "
            ]
          },
          "metadata": {},
          "execution_count": 39
        }
      ],
      "source": [
        "df[df.headline=='']"
      ]
    },
    {
      "cell_type": "markdown",
      "metadata": {
        "id": "oLJGP_Mn2rdD"
      },
      "source": [
        "Since the number of missing headlines is quite small, I will add headline manually"
      ]
    },
    {
      "cell_type": "code",
      "execution_count": null,
      "metadata": {
        "id": "s-ChIFys3ECS"
      },
      "outputs": [],
      "source": [
        "df.at[3443, 'headline'] = \"Thịt heo không thuộc diện bình ổn giá\""
      ]
    },
    {
      "cell_type": "code",
      "execution_count": null,
      "metadata": {
        "colab": {
          "base_uri": "https://localhost:8080/"
        },
        "id": "zqclUx7u2y1U",
        "outputId": "648c0863-60ad-4b96-f4b3-1af5ab75e0c4"
      },
      "outputs": [
        {
          "output_type": "execute_result",
          "data": {
            "text/plain": [
              "     is_sarcastic                               headline  \\\n",
              "3443            0  Thịt heo không thuộc diện bình ổn giá   \n",
              "\n",
              "                                           article_link  \n",
              "3443  https://vnexpress.net/thit-heo-khong-thuoc-die...  "
            ],
            "text/html": [
              "\n",
              "  <div id=\"df-6c6845d8-6d0f-469e-8ef7-c63d06cf230a\">\n",
              "    <div class=\"colab-df-container\">\n",
              "      <div>\n",
              "<style scoped>\n",
              "    .dataframe tbody tr th:only-of-type {\n",
              "        vertical-align: middle;\n",
              "    }\n",
              "\n",
              "    .dataframe tbody tr th {\n",
              "        vertical-align: top;\n",
              "    }\n",
              "\n",
              "    .dataframe thead th {\n",
              "        text-align: right;\n",
              "    }\n",
              "</style>\n",
              "<table border=\"1\" class=\"dataframe\">\n",
              "  <thead>\n",
              "    <tr style=\"text-align: right;\">\n",
              "      <th></th>\n",
              "      <th>is_sarcastic</th>\n",
              "      <th>headline</th>\n",
              "      <th>article_link</th>\n",
              "    </tr>\n",
              "  </thead>\n",
              "  <tbody>\n",
              "    <tr>\n",
              "      <th>3443</th>\n",
              "      <td>0</td>\n",
              "      <td>Thịt heo không thuộc diện bình ổn giá</td>\n",
              "      <td>https://vnexpress.net/thit-heo-khong-thuoc-die...</td>\n",
              "    </tr>\n",
              "  </tbody>\n",
              "</table>\n",
              "</div>\n",
              "      <button class=\"colab-df-convert\" onclick=\"convertToInteractive('df-6c6845d8-6d0f-469e-8ef7-c63d06cf230a')\"\n",
              "              title=\"Convert this dataframe to an interactive table.\"\n",
              "              style=\"display:none;\">\n",
              "        \n",
              "  <svg xmlns=\"http://www.w3.org/2000/svg\" height=\"24px\"viewBox=\"0 0 24 24\"\n",
              "       width=\"24px\">\n",
              "    <path d=\"M0 0h24v24H0V0z\" fill=\"none\"/>\n",
              "    <path d=\"M18.56 5.44l.94 2.06.94-2.06 2.06-.94-2.06-.94-.94-2.06-.94 2.06-2.06.94zm-11 1L8.5 8.5l.94-2.06 2.06-.94-2.06-.94L8.5 2.5l-.94 2.06-2.06.94zm10 10l.94 2.06.94-2.06 2.06-.94-2.06-.94-.94-2.06-.94 2.06-2.06.94z\"/><path d=\"M17.41 7.96l-1.37-1.37c-.4-.4-.92-.59-1.43-.59-.52 0-1.04.2-1.43.59L10.3 9.45l-7.72 7.72c-.78.78-.78 2.05 0 2.83L4 21.41c.39.39.9.59 1.41.59.51 0 1.02-.2 1.41-.59l7.78-7.78 2.81-2.81c.8-.78.8-2.07 0-2.86zM5.41 20L4 18.59l7.72-7.72 1.47 1.35L5.41 20z\"/>\n",
              "  </svg>\n",
              "      </button>\n",
              "      \n",
              "  <style>\n",
              "    .colab-df-container {\n",
              "      display:flex;\n",
              "      flex-wrap:wrap;\n",
              "      gap: 12px;\n",
              "    }\n",
              "\n",
              "    .colab-df-convert {\n",
              "      background-color: #E8F0FE;\n",
              "      border: none;\n",
              "      border-radius: 50%;\n",
              "      cursor: pointer;\n",
              "      display: none;\n",
              "      fill: #1967D2;\n",
              "      height: 32px;\n",
              "      padding: 0 0 0 0;\n",
              "      width: 32px;\n",
              "    }\n",
              "\n",
              "    .colab-df-convert:hover {\n",
              "      background-color: #E2EBFA;\n",
              "      box-shadow: 0px 1px 2px rgba(60, 64, 67, 0.3), 0px 1px 3px 1px rgba(60, 64, 67, 0.15);\n",
              "      fill: #174EA6;\n",
              "    }\n",
              "\n",
              "    [theme=dark] .colab-df-convert {\n",
              "      background-color: #3B4455;\n",
              "      fill: #D2E3FC;\n",
              "    }\n",
              "\n",
              "    [theme=dark] .colab-df-convert:hover {\n",
              "      background-color: #434B5C;\n",
              "      box-shadow: 0px 1px 3px 1px rgba(0, 0, 0, 0.15);\n",
              "      filter: drop-shadow(0px 1px 2px rgba(0, 0, 0, 0.3));\n",
              "      fill: #FFFFFF;\n",
              "    }\n",
              "  </style>\n",
              "\n",
              "      <script>\n",
              "        const buttonEl =\n",
              "          document.querySelector('#df-6c6845d8-6d0f-469e-8ef7-c63d06cf230a button.colab-df-convert');\n",
              "        buttonEl.style.display =\n",
              "          google.colab.kernel.accessAllowed ? 'block' : 'none';\n",
              "\n",
              "        async function convertToInteractive(key) {\n",
              "          const element = document.querySelector('#df-6c6845d8-6d0f-469e-8ef7-c63d06cf230a');\n",
              "          const dataTable =\n",
              "            await google.colab.kernel.invokeFunction('convertToInteractive',\n",
              "                                                     [key], {});\n",
              "          if (!dataTable) return;\n",
              "\n",
              "          const docLinkHtml = 'Like what you see? Visit the ' +\n",
              "            '<a target=\"_blank\" href=https://colab.research.google.com/notebooks/data_table.ipynb>data table notebook</a>'\n",
              "            + ' to learn more about interactive tables.';\n",
              "          element.innerHTML = '';\n",
              "          dataTable['output_type'] = 'display_data';\n",
              "          await google.colab.output.renderOutput(dataTable, element);\n",
              "          const docLink = document.createElement('div');\n",
              "          docLink.innerHTML = docLinkHtml;\n",
              "          element.appendChild(docLink);\n",
              "        }\n",
              "      </script>\n",
              "    </div>\n",
              "  </div>\n",
              "  "
            ]
          },
          "metadata": {},
          "execution_count": 41
        }
      ],
      "source": [
        "df[df.article_link == 'https://vnexpress.net/thit-heo-khong-thuoc-dien-binh-on-gia-4618797.html']"
      ]
    },
    {
      "cell_type": "code",
      "execution_count": null,
      "metadata": {
        "id": "FR_voAFg33M6"
      },
      "outputs": [],
      "source": [
        "df.at[3448, 'headline'] = 'Nhà phố cổ Hà Nội bị hạ giá hàng chục tỷ đồng'\n",
        "df.at[3453, 'headline'] = 'HLV Bồ Đào Nha ca ngợi tinh thần đồng đội của Ronaldo'\n",
        "df.at[3462, 'headline'] = 'Cận thị bao nhiêu độ được mổ mắt?'\n",
        "df.at[3467, 'headline'] = 'Ngoại tình với AI'\n",
        "df.at[3472, 'headline'] = '12 học sinh liên quan vụ lộ đề thi lớp 10'\n",
        "df.at[3504, 'headline'] = 'Sự thật về các ông bố trông con hiện nay'\n",
        "df.at[4622, 'headline'] = 'Khiển trách chủ tịch tỉnh Kiên Giang, cảnh cáo thứ trưởng Bộ Xây dựng'"
      ]
    },
    {
      "cell_type": "markdown",
      "metadata": {
        "id": "UjZfC7Wm4nDh"
      },
      "source": [
        "Finish!!! 💃"
      ]
    },
    {
      "cell_type": "code",
      "execution_count": null,
      "metadata": {
        "colab": {
          "base_uri": "https://localhost:8080/"
        },
        "id": "RVmb1YL14jS5",
        "outputId": "68bd4f68-37bf-493b-8bdb-26f5f7644bd7"
      },
      "outputs": [
        {
          "output_type": "execute_result",
          "data": {
            "text/plain": [
              "Empty DataFrame\n",
              "Columns: [is_sarcastic, headline, article_link]\n",
              "Index: []"
            ],
            "text/html": [
              "\n",
              "  <div id=\"df-4eceedc7-c82b-498f-8e31-cb8587fdfe7d\">\n",
              "    <div class=\"colab-df-container\">\n",
              "      <div>\n",
              "<style scoped>\n",
              "    .dataframe tbody tr th:only-of-type {\n",
              "        vertical-align: middle;\n",
              "    }\n",
              "\n",
              "    .dataframe tbody tr th {\n",
              "        vertical-align: top;\n",
              "    }\n",
              "\n",
              "    .dataframe thead th {\n",
              "        text-align: right;\n",
              "    }\n",
              "</style>\n",
              "<table border=\"1\" class=\"dataframe\">\n",
              "  <thead>\n",
              "    <tr style=\"text-align: right;\">\n",
              "      <th></th>\n",
              "      <th>is_sarcastic</th>\n",
              "      <th>headline</th>\n",
              "      <th>article_link</th>\n",
              "    </tr>\n",
              "  </thead>\n",
              "  <tbody>\n",
              "  </tbody>\n",
              "</table>\n",
              "</div>\n",
              "      <button class=\"colab-df-convert\" onclick=\"convertToInteractive('df-4eceedc7-c82b-498f-8e31-cb8587fdfe7d')\"\n",
              "              title=\"Convert this dataframe to an interactive table.\"\n",
              "              style=\"display:none;\">\n",
              "        \n",
              "  <svg xmlns=\"http://www.w3.org/2000/svg\" height=\"24px\"viewBox=\"0 0 24 24\"\n",
              "       width=\"24px\">\n",
              "    <path d=\"M0 0h24v24H0V0z\" fill=\"none\"/>\n",
              "    <path d=\"M18.56 5.44l.94 2.06.94-2.06 2.06-.94-2.06-.94-.94-2.06-.94 2.06-2.06.94zm-11 1L8.5 8.5l.94-2.06 2.06-.94-2.06-.94L8.5 2.5l-.94 2.06-2.06.94zm10 10l.94 2.06.94-2.06 2.06-.94-2.06-.94-.94-2.06-.94 2.06-2.06.94z\"/><path d=\"M17.41 7.96l-1.37-1.37c-.4-.4-.92-.59-1.43-.59-.52 0-1.04.2-1.43.59L10.3 9.45l-7.72 7.72c-.78.78-.78 2.05 0 2.83L4 21.41c.39.39.9.59 1.41.59.51 0 1.02-.2 1.41-.59l7.78-7.78 2.81-2.81c.8-.78.8-2.07 0-2.86zM5.41 20L4 18.59l7.72-7.72 1.47 1.35L5.41 20z\"/>\n",
              "  </svg>\n",
              "      </button>\n",
              "      \n",
              "  <style>\n",
              "    .colab-df-container {\n",
              "      display:flex;\n",
              "      flex-wrap:wrap;\n",
              "      gap: 12px;\n",
              "    }\n",
              "\n",
              "    .colab-df-convert {\n",
              "      background-color: #E8F0FE;\n",
              "      border: none;\n",
              "      border-radius: 50%;\n",
              "      cursor: pointer;\n",
              "      display: none;\n",
              "      fill: #1967D2;\n",
              "      height: 32px;\n",
              "      padding: 0 0 0 0;\n",
              "      width: 32px;\n",
              "    }\n",
              "\n",
              "    .colab-df-convert:hover {\n",
              "      background-color: #E2EBFA;\n",
              "      box-shadow: 0px 1px 2px rgba(60, 64, 67, 0.3), 0px 1px 3px 1px rgba(60, 64, 67, 0.15);\n",
              "      fill: #174EA6;\n",
              "    }\n",
              "\n",
              "    [theme=dark] .colab-df-convert {\n",
              "      background-color: #3B4455;\n",
              "      fill: #D2E3FC;\n",
              "    }\n",
              "\n",
              "    [theme=dark] .colab-df-convert:hover {\n",
              "      background-color: #434B5C;\n",
              "      box-shadow: 0px 1px 3px 1px rgba(0, 0, 0, 0.15);\n",
              "      filter: drop-shadow(0px 1px 2px rgba(0, 0, 0, 0.3));\n",
              "      fill: #FFFFFF;\n",
              "    }\n",
              "  </style>\n",
              "\n",
              "      <script>\n",
              "        const buttonEl =\n",
              "          document.querySelector('#df-4eceedc7-c82b-498f-8e31-cb8587fdfe7d button.colab-df-convert');\n",
              "        buttonEl.style.display =\n",
              "          google.colab.kernel.accessAllowed ? 'block' : 'none';\n",
              "\n",
              "        async function convertToInteractive(key) {\n",
              "          const element = document.querySelector('#df-4eceedc7-c82b-498f-8e31-cb8587fdfe7d');\n",
              "          const dataTable =\n",
              "            await google.colab.kernel.invokeFunction('convertToInteractive',\n",
              "                                                     [key], {});\n",
              "          if (!dataTable) return;\n",
              "\n",
              "          const docLinkHtml = 'Like what you see? Visit the ' +\n",
              "            '<a target=\"_blank\" href=https://colab.research.google.com/notebooks/data_table.ipynb>data table notebook</a>'\n",
              "            + ' to learn more about interactive tables.';\n",
              "          element.innerHTML = '';\n",
              "          dataTable['output_type'] = 'display_data';\n",
              "          await google.colab.output.renderOutput(dataTable, element);\n",
              "          const docLink = document.createElement('div');\n",
              "          docLink.innerHTML = docLinkHtml;\n",
              "          element.appendChild(docLink);\n",
              "        }\n",
              "      </script>\n",
              "    </div>\n",
              "  </div>\n",
              "  "
            ]
          },
          "metadata": {},
          "execution_count": 43
        }
      ],
      "source": [
        "df[df.headline=='']"
      ]
    },
    {
      "cell_type": "markdown",
      "metadata": {
        "id": "dV5yG6WqtsIT"
      },
      "source": [
        "### Remove duplicates\n",
        "\n",
        "There are 1109 completely duplicated rows => keep the first row and remove all duplicates of that row"
      ]
    },
    {
      "cell_type": "code",
      "execution_count": null,
      "metadata": {
        "colab": {
          "base_uri": "https://localhost:8080/"
        },
        "id": "avxSkFAitq7F",
        "outputId": "a72548c7-028d-4fbc-9a4b-d24354c094ef"
      },
      "outputs": [
        {
          "output_type": "execute_result",
          "data": {
            "text/plain": [
              "1109"
            ]
          },
          "metadata": {},
          "execution_count": 44
        }
      ],
      "source": [
        "df.duplicated(subset=['is_sarcastic', 'headline', 'article_link']).sum()"
      ]
    },
    {
      "cell_type": "code",
      "execution_count": null,
      "metadata": {
        "id": "UFQ3doGouXZe"
      },
      "outputs": [],
      "source": [
        "df = df.drop_duplicates(subset=['is_sarcastic', 'headline', 'article_link'])"
      ]
    },
    {
      "cell_type": "code",
      "execution_count": null,
      "metadata": {
        "colab": {
          "base_uri": "https://localhost:8080/"
        },
        "id": "DPDZgYdVxGjT",
        "outputId": "6952afa3-cddb-4bf1-fb3d-790cc3d06406"
      },
      "outputs": [
        {
          "output_type": "stream",
          "name": "stdout",
          "text": [
            "<class 'pandas.core.frame.DataFrame'>\n",
            "Int64Index: 5375 entries, 0 to 6483\n",
            "Data columns (total 3 columns):\n",
            " #   Column        Non-Null Count  Dtype \n",
            "---  ------        --------------  ----- \n",
            " 0   is_sarcastic  5375 non-null   object\n",
            " 1   headline      5375 non-null   object\n",
            " 2   article_link  5375 non-null   object\n",
            "dtypes: object(3)\n",
            "memory usage: 168.0+ KB\n"
          ]
        }
      ],
      "source": [
        "df.info()"
      ]
    },
    {
      "cell_type": "markdown",
      "metadata": {
        "id": "7yvpYvLmuyXj"
      },
      "source": [
        "Check if there are any rows which have the same content but labeled different"
      ]
    },
    {
      "cell_type": "code",
      "execution_count": null,
      "metadata": {
        "colab": {
          "base_uri": "https://localhost:8080/"
        },
        "id": "EaVjy2Y1uhos",
        "outputId": "b9436a49-2aa0-432f-bc2a-eaf69e8af262"
      },
      "outputs": [
        {
          "output_type": "execute_result",
          "data": {
            "text/plain": [
              "18"
            ]
          },
          "metadata": {},
          "execution_count": 47
        }
      ],
      "source": [
        "df.duplicated(subset=['headline', 'article_link']).sum()"
      ]
    },
    {
      "cell_type": "markdown",
      "metadata": {
        "id": "ezIer9ns6CO4"
      },
      "source": [
        "There are some paradox here, but the number is quite low so I will analyze the error manually too"
      ]
    },
    {
      "cell_type": "code",
      "execution_count": null,
      "metadata": {
        "colab": {
          "base_uri": "https://localhost:8080/"
        },
        "id": "E54bPNSh5jsj",
        "outputId": "89c1a20f-2fac-41e2-e1f5-f17d0e384072"
      },
      "outputs": [
        {
          "output_type": "execute_result",
          "data": {
            "text/plain": [
              "     is_sarcastic                                           headline  \\\n",
              "3489            1  Chuyên gia Michelin âm thầm đánh giá quán hủ t...   \n",
              "3542            1  Lãi suất cho vay cao có nguyên nhân ngân hàng ...   \n",
              "3873            0                           Vì sao gọi là răng khôn?   \n",
              "3877            0  Nhân viên 'giãy đành đạch' không chịu đi làm q...   \n",
              "3880            0  Ảnh chế tràn ngập sau khi Michelin không 'chiề...   \n",
              "4085            1  Pogba: 'Tôi như già đi 10 tuổi trong bảy tháng...   \n",
              "5766            1  Huyền thoại Rod Stewart từ bỏ Rock'n Roll, thử...   \n",
              "5811            1  Một địa điểm ở Việt Nam được Charlie Puth và d...   \n",
              "5813            1  Chương trình: ''Làm đẹp từ tâm, nâng tầm nhan ...   \n",
              "5814            1  Bác sĩ Yến Nhi chia sẻ hành trình giúp hàng tr...   \n",
              "5815            1            Thi thử IELTS chuẩn đề thi Hội đồng Anh   \n",
              "5818            1  Đánh giá xe máy điện Yamaha NEO’S thắng giải t...   \n",
              "5820            1  Tài khoản Chọn tên Như ý: Từ xu hướng mới trở ...   \n",
              "5821            1  Bỏ túi kinh nghiệm ôn tập và thi cử từ Hoa hậu...   \n",
              "5822            1  Tiger Soju Infused Lager - Sản phẩm bia đồng h...   \n",
              "5823            1  \"Khoai tây Mỹ cho sức khoẻ như ý\" - hành trình...   \n",
              "5841            1  Gia Đình Mình Vui Bất Thình Lình: Con trai lại...   \n",
              "5844            1  Vì sao phim của NSND Lê Khanh lại bị hoãn chiế...   \n",
              "\n",
              "                                           article_link  \n",
              "3489  https://cuoi.tuoitre.vn/chuyen-gia-michelin-am...  \n",
              "3542  https://tuoitre.vn/lai-suat-cho-vay-cao-co-ngu...  \n",
              "3873  https://cuoi.tuoitre.vn/vi-sao-goi-la-rang-kho...  \n",
              "3877  https://cuoi.tuoitre.vn/nhan-vien-giay-danh-da...  \n",
              "3880  https://cuoi.tuoitre.vn/anh-che-tran-ngap-sau-...  \n",
              "4085  https://vnexpress.net/pogba-toi-nhu-gia-di-10-...  \n",
              "5766  https://kenh14.vn/huyen-thoai-rod-stewart-tu-b...  \n",
              "5811  https://kenh14.vn/mot-dia-diem-o-viet-nam-duoc...  \n",
              "5813  https://kenh14.vn/chuong-trinh-lam-dep-tu-tam-...  \n",
              "5814  https://kenh14.vn/bac-si-yen-nhi-chia-se-hanh-...  \n",
              "5815  https://kenh14.vn/thi-thu-ielts-chuan-de-thi-h...  \n",
              "5818  https://kenh14.vn/danh-gia-xe-may-dien-yamaha-...  \n",
              "5820  https://kenh14.vn/tai-khoan-chon-ten-nhu-y-tu-...  \n",
              "5821  https://kenh14.vn/bo-tui-kinh-nghiem-on-tap-va...  \n",
              "5822  https://kenh14.vn/tiger-soju-infused-lager-san...  \n",
              "5823  https://kenh14.vn/khoai-tay-my-cho-suc-khoe-nh...  \n",
              "5841  https://kenh14.vn/gia-dinh-minh-vui-bat-thinh-...  \n",
              "5844  https://kenh14.vn/vi-sao-phim-cua-nsnd-le-khan...  "
            ],
            "text/html": [
              "\n",
              "  <div id=\"df-148bb11e-e8d7-4437-a0b2-0197c30971aa\">\n",
              "    <div class=\"colab-df-container\">\n",
              "      <div>\n",
              "<style scoped>\n",
              "    .dataframe tbody tr th:only-of-type {\n",
              "        vertical-align: middle;\n",
              "    }\n",
              "\n",
              "    .dataframe tbody tr th {\n",
              "        vertical-align: top;\n",
              "    }\n",
              "\n",
              "    .dataframe thead th {\n",
              "        text-align: right;\n",
              "    }\n",
              "</style>\n",
              "<table border=\"1\" class=\"dataframe\">\n",
              "  <thead>\n",
              "    <tr style=\"text-align: right;\">\n",
              "      <th></th>\n",
              "      <th>is_sarcastic</th>\n",
              "      <th>headline</th>\n",
              "      <th>article_link</th>\n",
              "    </tr>\n",
              "  </thead>\n",
              "  <tbody>\n",
              "    <tr>\n",
              "      <th>3489</th>\n",
              "      <td>1</td>\n",
              "      <td>Chuyên gia Michelin âm thầm đánh giá quán hủ t...</td>\n",
              "      <td>https://cuoi.tuoitre.vn/chuyen-gia-michelin-am...</td>\n",
              "    </tr>\n",
              "    <tr>\n",
              "      <th>3542</th>\n",
              "      <td>1</td>\n",
              "      <td>Lãi suất cho vay cao có nguyên nhân ngân hàng ...</td>\n",
              "      <td>https://tuoitre.vn/lai-suat-cho-vay-cao-co-ngu...</td>\n",
              "    </tr>\n",
              "    <tr>\n",
              "      <th>3873</th>\n",
              "      <td>0</td>\n",
              "      <td>Vì sao gọi là răng khôn?</td>\n",
              "      <td>https://cuoi.tuoitre.vn/vi-sao-goi-la-rang-kho...</td>\n",
              "    </tr>\n",
              "    <tr>\n",
              "      <th>3877</th>\n",
              "      <td>0</td>\n",
              "      <td>Nhân viên 'giãy đành đạch' không chịu đi làm q...</td>\n",
              "      <td>https://cuoi.tuoitre.vn/nhan-vien-giay-danh-da...</td>\n",
              "    </tr>\n",
              "    <tr>\n",
              "      <th>3880</th>\n",
              "      <td>0</td>\n",
              "      <td>Ảnh chế tràn ngập sau khi Michelin không 'chiề...</td>\n",
              "      <td>https://cuoi.tuoitre.vn/anh-che-tran-ngap-sau-...</td>\n",
              "    </tr>\n",
              "    <tr>\n",
              "      <th>4085</th>\n",
              "      <td>1</td>\n",
              "      <td>Pogba: 'Tôi như già đi 10 tuổi trong bảy tháng...</td>\n",
              "      <td>https://vnexpress.net/pogba-toi-nhu-gia-di-10-...</td>\n",
              "    </tr>\n",
              "    <tr>\n",
              "      <th>5766</th>\n",
              "      <td>1</td>\n",
              "      <td>Huyền thoại Rod Stewart từ bỏ Rock'n Roll, thử...</td>\n",
              "      <td>https://kenh14.vn/huyen-thoai-rod-stewart-tu-b...</td>\n",
              "    </tr>\n",
              "    <tr>\n",
              "      <th>5811</th>\n",
              "      <td>1</td>\n",
              "      <td>Một địa điểm ở Việt Nam được Charlie Puth và d...</td>\n",
              "      <td>https://kenh14.vn/mot-dia-diem-o-viet-nam-duoc...</td>\n",
              "    </tr>\n",
              "    <tr>\n",
              "      <th>5813</th>\n",
              "      <td>1</td>\n",
              "      <td>Chương trình: ''Làm đẹp từ tâm, nâng tầm nhan ...</td>\n",
              "      <td>https://kenh14.vn/chuong-trinh-lam-dep-tu-tam-...</td>\n",
              "    </tr>\n",
              "    <tr>\n",
              "      <th>5814</th>\n",
              "      <td>1</td>\n",
              "      <td>Bác sĩ Yến Nhi chia sẻ hành trình giúp hàng tr...</td>\n",
              "      <td>https://kenh14.vn/bac-si-yen-nhi-chia-se-hanh-...</td>\n",
              "    </tr>\n",
              "    <tr>\n",
              "      <th>5815</th>\n",
              "      <td>1</td>\n",
              "      <td>Thi thử IELTS chuẩn đề thi Hội đồng Anh</td>\n",
              "      <td>https://kenh14.vn/thi-thu-ielts-chuan-de-thi-h...</td>\n",
              "    </tr>\n",
              "    <tr>\n",
              "      <th>5818</th>\n",
              "      <td>1</td>\n",
              "      <td>Đánh giá xe máy điện Yamaha NEO’S thắng giải t...</td>\n",
              "      <td>https://kenh14.vn/danh-gia-xe-may-dien-yamaha-...</td>\n",
              "    </tr>\n",
              "    <tr>\n",
              "      <th>5820</th>\n",
              "      <td>1</td>\n",
              "      <td>Tài khoản Chọn tên Như ý: Từ xu hướng mới trở ...</td>\n",
              "      <td>https://kenh14.vn/tai-khoan-chon-ten-nhu-y-tu-...</td>\n",
              "    </tr>\n",
              "    <tr>\n",
              "      <th>5821</th>\n",
              "      <td>1</td>\n",
              "      <td>Bỏ túi kinh nghiệm ôn tập và thi cử từ Hoa hậu...</td>\n",
              "      <td>https://kenh14.vn/bo-tui-kinh-nghiem-on-tap-va...</td>\n",
              "    </tr>\n",
              "    <tr>\n",
              "      <th>5822</th>\n",
              "      <td>1</td>\n",
              "      <td>Tiger Soju Infused Lager - Sản phẩm bia đồng h...</td>\n",
              "      <td>https://kenh14.vn/tiger-soju-infused-lager-san...</td>\n",
              "    </tr>\n",
              "    <tr>\n",
              "      <th>5823</th>\n",
              "      <td>1</td>\n",
              "      <td>\"Khoai tây Mỹ cho sức khoẻ như ý\" - hành trình...</td>\n",
              "      <td>https://kenh14.vn/khoai-tay-my-cho-suc-khoe-nh...</td>\n",
              "    </tr>\n",
              "    <tr>\n",
              "      <th>5841</th>\n",
              "      <td>1</td>\n",
              "      <td>Gia Đình Mình Vui Bất Thình Lình: Con trai lại...</td>\n",
              "      <td>https://kenh14.vn/gia-dinh-minh-vui-bat-thinh-...</td>\n",
              "    </tr>\n",
              "    <tr>\n",
              "      <th>5844</th>\n",
              "      <td>1</td>\n",
              "      <td>Vì sao phim của NSND Lê Khanh lại bị hoãn chiế...</td>\n",
              "      <td>https://kenh14.vn/vi-sao-phim-cua-nsnd-le-khan...</td>\n",
              "    </tr>\n",
              "  </tbody>\n",
              "</table>\n",
              "</div>\n",
              "      <button class=\"colab-df-convert\" onclick=\"convertToInteractive('df-148bb11e-e8d7-4437-a0b2-0197c30971aa')\"\n",
              "              title=\"Convert this dataframe to an interactive table.\"\n",
              "              style=\"display:none;\">\n",
              "        \n",
              "  <svg xmlns=\"http://www.w3.org/2000/svg\" height=\"24px\"viewBox=\"0 0 24 24\"\n",
              "       width=\"24px\">\n",
              "    <path d=\"M0 0h24v24H0V0z\" fill=\"none\"/>\n",
              "    <path d=\"M18.56 5.44l.94 2.06.94-2.06 2.06-.94-2.06-.94-.94-2.06-.94 2.06-2.06.94zm-11 1L8.5 8.5l.94-2.06 2.06-.94-2.06-.94L8.5 2.5l-.94 2.06-2.06.94zm10 10l.94 2.06.94-2.06 2.06-.94-2.06-.94-.94-2.06-.94 2.06-2.06.94z\"/><path d=\"M17.41 7.96l-1.37-1.37c-.4-.4-.92-.59-1.43-.59-.52 0-1.04.2-1.43.59L10.3 9.45l-7.72 7.72c-.78.78-.78 2.05 0 2.83L4 21.41c.39.39.9.59 1.41.59.51 0 1.02-.2 1.41-.59l7.78-7.78 2.81-2.81c.8-.78.8-2.07 0-2.86zM5.41 20L4 18.59l7.72-7.72 1.47 1.35L5.41 20z\"/>\n",
              "  </svg>\n",
              "      </button>\n",
              "      \n",
              "  <style>\n",
              "    .colab-df-container {\n",
              "      display:flex;\n",
              "      flex-wrap:wrap;\n",
              "      gap: 12px;\n",
              "    }\n",
              "\n",
              "    .colab-df-convert {\n",
              "      background-color: #E8F0FE;\n",
              "      border: none;\n",
              "      border-radius: 50%;\n",
              "      cursor: pointer;\n",
              "      display: none;\n",
              "      fill: #1967D2;\n",
              "      height: 32px;\n",
              "      padding: 0 0 0 0;\n",
              "      width: 32px;\n",
              "    }\n",
              "\n",
              "    .colab-df-convert:hover {\n",
              "      background-color: #E2EBFA;\n",
              "      box-shadow: 0px 1px 2px rgba(60, 64, 67, 0.3), 0px 1px 3px 1px rgba(60, 64, 67, 0.15);\n",
              "      fill: #174EA6;\n",
              "    }\n",
              "\n",
              "    [theme=dark] .colab-df-convert {\n",
              "      background-color: #3B4455;\n",
              "      fill: #D2E3FC;\n",
              "    }\n",
              "\n",
              "    [theme=dark] .colab-df-convert:hover {\n",
              "      background-color: #434B5C;\n",
              "      box-shadow: 0px 1px 3px 1px rgba(0, 0, 0, 0.15);\n",
              "      filter: drop-shadow(0px 1px 2px rgba(0, 0, 0, 0.3));\n",
              "      fill: #FFFFFF;\n",
              "    }\n",
              "  </style>\n",
              "\n",
              "      <script>\n",
              "        const buttonEl =\n",
              "          document.querySelector('#df-148bb11e-e8d7-4437-a0b2-0197c30971aa button.colab-df-convert');\n",
              "        buttonEl.style.display =\n",
              "          google.colab.kernel.accessAllowed ? 'block' : 'none';\n",
              "\n",
              "        async function convertToInteractive(key) {\n",
              "          const element = document.querySelector('#df-148bb11e-e8d7-4437-a0b2-0197c30971aa');\n",
              "          const dataTable =\n",
              "            await google.colab.kernel.invokeFunction('convertToInteractive',\n",
              "                                                     [key], {});\n",
              "          if (!dataTable) return;\n",
              "\n",
              "          const docLinkHtml = 'Like what you see? Visit the ' +\n",
              "            '<a target=\"_blank\" href=https://colab.research.google.com/notebooks/data_table.ipynb>data table notebook</a>'\n",
              "            + ' to learn more about interactive tables.';\n",
              "          element.innerHTML = '';\n",
              "          dataTable['output_type'] = 'display_data';\n",
              "          await google.colab.output.renderOutput(dataTable, element);\n",
              "          const docLink = document.createElement('div');\n",
              "          docLink.innerHTML = docLinkHtml;\n",
              "          element.appendChild(docLink);\n",
              "        }\n",
              "      </script>\n",
              "    </div>\n",
              "  </div>\n",
              "  "
            ]
          },
          "metadata": {},
          "execution_count": 48
        }
      ],
      "source": [
        "df[df.duplicated(subset=['headline', 'article_link'])]"
      ]
    },
    {
      "cell_type": "code",
      "execution_count": null,
      "metadata": {
        "colab": {
          "base_uri": "https://localhost:8080/"
        },
        "id": "I6du0QdczoXs",
        "outputId": "3ccb2e8a-c0ca-4b3f-ec91-3d1e93cce186"
      },
      "outputs": [
        {
          "output_type": "execute_result",
          "data": {
            "text/plain": [
              "     is_sarcastic                                           headline  \\\n",
              "0               1                  'Chỉ có tiền mới làm vợ vui thôi'   \n",
              "1               1  Người đàn ông đứng hình 3 giây khi đập mặt vào...   \n",
              "2               1  Hai gymer ngơ ngác trước anh lao công nâng tạ ...   \n",
              "3               1                Những tác hại của thuốc lá - Phần 1   \n",
              "4               1  Sấm nổ ngang tai khi con gái kêu mẹ 'trời mưa ...   \n",
              "...           ...                                                ...   \n",
              "6479            1  Gặp gỡ Nhà Xoài Đây: Mẹ 9x chia sẻ quan điểm n...   \n",
              "6480            1  CADMIUM - nữ sinh 2k6 khuấy đảo Rap Việt lần đ...   \n",
              "6481            1  Đem tiền về quê sống thử 1 tháng, chàng trai n...   \n",
              "6482            1  Thanh niên nhớ quay quắt vị cơm tấm, bún bò kh...   \n",
              "6483            1                Bạo lực học đường: Tốt khoe xấu che   \n",
              "\n",
              "                                           article_link  \n",
              "0     https://cuoi.tuoitre.vn/chi-co-tien-moi-lam-vo...  \n",
              "1     https://cuoi.tuoitre.vn/nguoi-dan-ong-dung-hin...  \n",
              "2     https://cuoi.tuoitre.vn/hai-gymer-ngo-ngac-tru...  \n",
              "3     https://cuoi.tuoitre.vn/nhung-tac-hai-cua-thuo...  \n",
              "4     https://cuoi.tuoitre.vn/sam-no-ngang-tai-khi-c...  \n",
              "...                                                 ...  \n",
              "6479  https://kenh14.vn/gap-go-nha-xoai-day-me-9x-ch...  \n",
              "6480  https://kenh14.vn/cadmium-nu-sinh-2k6-khuay-da...  \n",
              "6481  https://kenh14.vn/dem-tien-ve-que-song-thu-1-t...  \n",
              "6482  https://kenh14.vn/thanh-nien-nho-quay-quat-vi-...  \n",
              "6483  https://cuoi.tuoitre.vn/bao-luc-hoc-duong-tot-...  \n",
              "\n",
              "[5375 rows x 3 columns]"
            ],
            "text/html": [
              "\n",
              "  <div id=\"df-617652e3-c863-40bd-b854-7167ba0c2e95\">\n",
              "    <div class=\"colab-df-container\">\n",
              "      <div>\n",
              "<style scoped>\n",
              "    .dataframe tbody tr th:only-of-type {\n",
              "        vertical-align: middle;\n",
              "    }\n",
              "\n",
              "    .dataframe tbody tr th {\n",
              "        vertical-align: top;\n",
              "    }\n",
              "\n",
              "    .dataframe thead th {\n",
              "        text-align: right;\n",
              "    }\n",
              "</style>\n",
              "<table border=\"1\" class=\"dataframe\">\n",
              "  <thead>\n",
              "    <tr style=\"text-align: right;\">\n",
              "      <th></th>\n",
              "      <th>is_sarcastic</th>\n",
              "      <th>headline</th>\n",
              "      <th>article_link</th>\n",
              "    </tr>\n",
              "  </thead>\n",
              "  <tbody>\n",
              "    <tr>\n",
              "      <th>0</th>\n",
              "      <td>1</td>\n",
              "      <td>'Chỉ có tiền mới làm vợ vui thôi'</td>\n",
              "      <td>https://cuoi.tuoitre.vn/chi-co-tien-moi-lam-vo...</td>\n",
              "    </tr>\n",
              "    <tr>\n",
              "      <th>1</th>\n",
              "      <td>1</td>\n",
              "      <td>Người đàn ông đứng hình 3 giây khi đập mặt vào...</td>\n",
              "      <td>https://cuoi.tuoitre.vn/nguoi-dan-ong-dung-hin...</td>\n",
              "    </tr>\n",
              "    <tr>\n",
              "      <th>2</th>\n",
              "      <td>1</td>\n",
              "      <td>Hai gymer ngơ ngác trước anh lao công nâng tạ ...</td>\n",
              "      <td>https://cuoi.tuoitre.vn/hai-gymer-ngo-ngac-tru...</td>\n",
              "    </tr>\n",
              "    <tr>\n",
              "      <th>3</th>\n",
              "      <td>1</td>\n",
              "      <td>Những tác hại của thuốc lá - Phần 1</td>\n",
              "      <td>https://cuoi.tuoitre.vn/nhung-tac-hai-cua-thuo...</td>\n",
              "    </tr>\n",
              "    <tr>\n",
              "      <th>4</th>\n",
              "      <td>1</td>\n",
              "      <td>Sấm nổ ngang tai khi con gái kêu mẹ 'trời mưa ...</td>\n",
              "      <td>https://cuoi.tuoitre.vn/sam-no-ngang-tai-khi-c...</td>\n",
              "    </tr>\n",
              "    <tr>\n",
              "      <th>...</th>\n",
              "      <td>...</td>\n",
              "      <td>...</td>\n",
              "      <td>...</td>\n",
              "    </tr>\n",
              "    <tr>\n",
              "      <th>6479</th>\n",
              "      <td>1</td>\n",
              "      <td>Gặp gỡ Nhà Xoài Đây: Mẹ 9x chia sẻ quan điểm n...</td>\n",
              "      <td>https://kenh14.vn/gap-go-nha-xoai-day-me-9x-ch...</td>\n",
              "    </tr>\n",
              "    <tr>\n",
              "      <th>6480</th>\n",
              "      <td>1</td>\n",
              "      <td>CADMIUM - nữ sinh 2k6 khuấy đảo Rap Việt lần đ...</td>\n",
              "      <td>https://kenh14.vn/cadmium-nu-sinh-2k6-khuay-da...</td>\n",
              "    </tr>\n",
              "    <tr>\n",
              "      <th>6481</th>\n",
              "      <td>1</td>\n",
              "      <td>Đem tiền về quê sống thử 1 tháng, chàng trai n...</td>\n",
              "      <td>https://kenh14.vn/dem-tien-ve-que-song-thu-1-t...</td>\n",
              "    </tr>\n",
              "    <tr>\n",
              "      <th>6482</th>\n",
              "      <td>1</td>\n",
              "      <td>Thanh niên nhớ quay quắt vị cơm tấm, bún bò kh...</td>\n",
              "      <td>https://kenh14.vn/thanh-nien-nho-quay-quat-vi-...</td>\n",
              "    </tr>\n",
              "    <tr>\n",
              "      <th>6483</th>\n",
              "      <td>1</td>\n",
              "      <td>Bạo lực học đường: Tốt khoe xấu che</td>\n",
              "      <td>https://cuoi.tuoitre.vn/bao-luc-hoc-duong-tot-...</td>\n",
              "    </tr>\n",
              "  </tbody>\n",
              "</table>\n",
              "<p>5375 rows × 3 columns</p>\n",
              "</div>\n",
              "      <button class=\"colab-df-convert\" onclick=\"convertToInteractive('df-617652e3-c863-40bd-b854-7167ba0c2e95')\"\n",
              "              title=\"Convert this dataframe to an interactive table.\"\n",
              "              style=\"display:none;\">\n",
              "        \n",
              "  <svg xmlns=\"http://www.w3.org/2000/svg\" height=\"24px\"viewBox=\"0 0 24 24\"\n",
              "       width=\"24px\">\n",
              "    <path d=\"M0 0h24v24H0V0z\" fill=\"none\"/>\n",
              "    <path d=\"M18.56 5.44l.94 2.06.94-2.06 2.06-.94-2.06-.94-.94-2.06-.94 2.06-2.06.94zm-11 1L8.5 8.5l.94-2.06 2.06-.94-2.06-.94L8.5 2.5l-.94 2.06-2.06.94zm10 10l.94 2.06.94-2.06 2.06-.94-2.06-.94-.94-2.06-.94 2.06-2.06.94z\"/><path d=\"M17.41 7.96l-1.37-1.37c-.4-.4-.92-.59-1.43-.59-.52 0-1.04.2-1.43.59L10.3 9.45l-7.72 7.72c-.78.78-.78 2.05 0 2.83L4 21.41c.39.39.9.59 1.41.59.51 0 1.02-.2 1.41-.59l7.78-7.78 2.81-2.81c.8-.78.8-2.07 0-2.86zM5.41 20L4 18.59l7.72-7.72 1.47 1.35L5.41 20z\"/>\n",
              "  </svg>\n",
              "      </button>\n",
              "      \n",
              "  <style>\n",
              "    .colab-df-container {\n",
              "      display:flex;\n",
              "      flex-wrap:wrap;\n",
              "      gap: 12px;\n",
              "    }\n",
              "\n",
              "    .colab-df-convert {\n",
              "      background-color: #E8F0FE;\n",
              "      border: none;\n",
              "      border-radius: 50%;\n",
              "      cursor: pointer;\n",
              "      display: none;\n",
              "      fill: #1967D2;\n",
              "      height: 32px;\n",
              "      padding: 0 0 0 0;\n",
              "      width: 32px;\n",
              "    }\n",
              "\n",
              "    .colab-df-convert:hover {\n",
              "      background-color: #E2EBFA;\n",
              "      box-shadow: 0px 1px 2px rgba(60, 64, 67, 0.3), 0px 1px 3px 1px rgba(60, 64, 67, 0.15);\n",
              "      fill: #174EA6;\n",
              "    }\n",
              "\n",
              "    [theme=dark] .colab-df-convert {\n",
              "      background-color: #3B4455;\n",
              "      fill: #D2E3FC;\n",
              "    }\n",
              "\n",
              "    [theme=dark] .colab-df-convert:hover {\n",
              "      background-color: #434B5C;\n",
              "      box-shadow: 0px 1px 3px 1px rgba(0, 0, 0, 0.15);\n",
              "      filter: drop-shadow(0px 1px 2px rgba(0, 0, 0, 0.3));\n",
              "      fill: #FFFFFF;\n",
              "    }\n",
              "  </style>\n",
              "\n",
              "      <script>\n",
              "        const buttonEl =\n",
              "          document.querySelector('#df-617652e3-c863-40bd-b854-7167ba0c2e95 button.colab-df-convert');\n",
              "        buttonEl.style.display =\n",
              "          google.colab.kernel.accessAllowed ? 'block' : 'none';\n",
              "\n",
              "        async function convertToInteractive(key) {\n",
              "          const element = document.querySelector('#df-617652e3-c863-40bd-b854-7167ba0c2e95');\n",
              "          const dataTable =\n",
              "            await google.colab.kernel.invokeFunction('convertToInteractive',\n",
              "                                                     [key], {});\n",
              "          if (!dataTable) return;\n",
              "\n",
              "          const docLinkHtml = 'Like what you see? Visit the ' +\n",
              "            '<a target=\"_blank\" href=https://colab.research.google.com/notebooks/data_table.ipynb>data table notebook</a>'\n",
              "            + ' to learn more about interactive tables.';\n",
              "          element.innerHTML = '';\n",
              "          dataTable['output_type'] = 'display_data';\n",
              "          await google.colab.output.renderOutput(dataTable, element);\n",
              "          const docLink = document.createElement('div');\n",
              "          docLink.innerHTML = docLinkHtml;\n",
              "          element.appendChild(docLink);\n",
              "        }\n",
              "      </script>\n",
              "    </div>\n",
              "  </div>\n",
              "  "
            ]
          },
          "metadata": {},
          "execution_count": 49
        }
      ],
      "source": [
        "df"
      ]
    },
    {
      "cell_type": "markdown",
      "metadata": {
        "id": "C07yJo9P6Tzu"
      },
      "source": [
        "Since the content of cuoi.tuoitre.vn is sarcastic, I will remove the record 573"
      ]
    },
    {
      "cell_type": "code",
      "execution_count": null,
      "metadata": {
        "id": "cjI955m46kHH"
      },
      "outputs": [],
      "source": [
        "df = df.drop([500])"
      ]
    },
    {
      "cell_type": "markdown",
      "metadata": {
        "id": "w5_9y-1q6ul0"
      },
      "source": [
        "There is nothing sarcastic in this headline... https://tuoitre.vn/lai-suat-cho-vay-cao-co-n"
      ]
    },
    {
      "cell_type": "code",
      "execution_count": null,
      "metadata": {
        "id": "Targ2QA66zYh"
      },
      "outputs": [],
      "source": [
        "df = df.drop([3542])"
      ]
    },
    {
      "cell_type": "markdown",
      "metadata": {
        "id": "dGJ9y47N7Iwd"
      },
      "source": [
        "This headline cannot be categorised as sarcasm!! Although it was collected from cuoi.tuoitre.vn"
      ]
    },
    {
      "cell_type": "code",
      "execution_count": null,
      "metadata": {
        "id": "t3WJlU5p7WAi"
      },
      "outputs": [],
      "source": [
        "df = df.drop([4211, 7])"
      ]
    },
    {
      "cell_type": "code",
      "execution_count": null,
      "metadata": {
        "id": "KgXHdfL5-ioC"
      },
      "outputs": [],
      "source": [
        "df = df.drop([4353, 3500])"
      ]
    },
    {
      "cell_type": "code",
      "execution_count": null,
      "metadata": {
        "id": "fkZE2fbW_D2j"
      },
      "outputs": [],
      "source": [
        "df = df.drop([3494])"
      ]
    },
    {
      "cell_type": "code",
      "execution_count": null,
      "metadata": {
        "id": "8MYuJLvX_Sl3"
      },
      "outputs": [],
      "source": [
        "df = df.drop([4085])"
      ]
    },
    {
      "cell_type": "code",
      "execution_count": null,
      "metadata": {
        "id": "83UZTdvg_g9_"
      },
      "outputs": [],
      "source": [
        "df = df.drop([5766])"
      ]
    },
    {
      "cell_type": "code",
      "execution_count": null,
      "metadata": {
        "id": "S5KV6UZQ_shq"
      },
      "outputs": [],
      "source": [
        "df = df.drop([5811])"
      ]
    },
    {
      "cell_type": "code",
      "execution_count": null,
      "metadata": {
        "id": "nwezmZMZ_81J"
      },
      "outputs": [],
      "source": [
        "df = df.drop([5813])"
      ]
    },
    {
      "cell_type": "code",
      "execution_count": null,
      "metadata": {
        "id": "xfpC3pSBAIla"
      },
      "outputs": [],
      "source": [
        "df = df.drop([5814])"
      ]
    },
    {
      "cell_type": "code",
      "execution_count": null,
      "metadata": {
        "id": "q-21AxFVAV2O"
      },
      "outputs": [],
      "source": [
        "df = df.drop([5815])"
      ]
    },
    {
      "cell_type": "code",
      "execution_count": null,
      "metadata": {
        "id": "PkGYrQBQAfZo"
      },
      "outputs": [],
      "source": [
        "df = df.drop([5818])"
      ]
    },
    {
      "cell_type": "code",
      "execution_count": null,
      "metadata": {
        "id": "DXEbH1ttAujv"
      },
      "outputs": [],
      "source": [
        "df = df.drop([5820])"
      ]
    },
    {
      "cell_type": "code",
      "execution_count": null,
      "metadata": {
        "id": "z29RMUtFA5Cp"
      },
      "outputs": [],
      "source": [
        "df = df.drop([5821])"
      ]
    },
    {
      "cell_type": "code",
      "execution_count": null,
      "metadata": {
        "id": "6YKACeeGBFz9"
      },
      "outputs": [],
      "source": [
        "df = df.drop([5844, 5841, 5823, 5822])"
      ]
    },
    {
      "cell_type": "code",
      "execution_count": null,
      "metadata": {
        "colab": {
          "base_uri": "https://localhost:8080/"
        },
        "id": "MnfnLtJJBaeN",
        "outputId": "ec7d41b2-a401-4e71-de1d-a70f8d5e5ee1"
      },
      "outputs": [
        {
          "output_type": "stream",
          "name": "stdout",
          "text": [
            "<class 'pandas.core.frame.DataFrame'>\n",
            "Int64Index: 5355 entries, 0 to 6483\n",
            "Data columns (total 3 columns):\n",
            " #   Column        Non-Null Count  Dtype \n",
            "---  ------        --------------  ----- \n",
            " 0   is_sarcastic  5355 non-null   object\n",
            " 1   headline      5355 non-null   object\n",
            " 2   article_link  5355 non-null   object\n",
            "dtypes: object(3)\n",
            "memory usage: 167.3+ KB\n"
          ]
        }
      ],
      "source": [
        "df.info()"
      ]
    },
    {
      "cell_type": "markdown",
      "metadata": {
        "id": "P6i515p7C2U0"
      },
      "source": [
        "I finished cleaning!\n",
        "\n",
        "Now I will check if any article link link to different headline :)"
      ]
    },
    {
      "cell_type": "code",
      "execution_count": null,
      "metadata": {
        "colab": {
          "base_uri": "https://localhost:8080/"
        },
        "id": "RE3Kvm-sxVPp",
        "outputId": "dbb80980-5afc-4686-b37f-cf49d47505da"
      },
      "outputs": [
        {
          "output_type": "execute_result",
          "data": {
            "text/plain": [
              "326"
            ]
          },
          "metadata": {},
          "execution_count": 66
        }
      ],
      "source": [
        "df.duplicated(subset=['article_link']).sum()"
      ]
    },
    {
      "cell_type": "code",
      "execution_count": null,
      "metadata": {
        "colab": {
          "base_uri": "https://localhost:8080/"
        },
        "id": "omOTHOyaBw9K",
        "outputId": "2a16e5a1-44fe-4240-e520-76e0e6b43df9"
      },
      "outputs": [
        {
          "output_type": "execute_result",
          "data": {
            "text/plain": [
              "     is_sarcastic                                           headline  \\\n",
              "298             0  Huy động toàn dân bảo vệ an ninh Tổ quốc trên ...   \n",
              "312             0  Federer hạnh phúc khi Djokovic lập kỷ lục Gran...   \n",
              "329             1  'Cuộc chiến' ô tô điện gay cấn ngay từ khâu 'c...   \n",
              "563             1  'Lộ mặt thật', YouTuber bị chê... xấu trai đến...   \n",
              "651             1                 Khi Đàn Ông Gọi Điện Thoại Xin Lỗi   \n",
              "...           ...                                                ...   \n",
              "5524            0  Bạn đã biết cách kích hoạt chế độ SOS trên điệ...   \n",
              "5525            0  Chợt nghe một bài hát hay, bạn có biết cách dù...   \n",
              "5731            1  Phim doanh thu 0 đồng vì cặp nam chính chuyên ...   \n",
              "5783            1  Vợ cũ Đan Trường khoe ảnh gia đình hạnh phúc d...   \n",
              "5792            1  Mỹ nhân Việt có thành tích cao nhất tại Miss W...   \n",
              "\n",
              "                                           article_link  \n",
              "298   https://nhandan.vn/thong-cao-bao-chi-ky-hop-th...  \n",
              "312   https://vnexpress.net/hlv-argentina-hy-vong-me...  \n",
              "329   https://cuoi.tuoitre.vn/cuoc-chien-o-to-dien-g...  \n",
              "563   https://cuoi.tuoitre.vn/lo-mat-that-youtuber-b...  \n",
              "651   https://cuoi.tuoitre.vn/o-xi-pho-ve-que-an-tet...  \n",
              "...                                                 ...  \n",
              "5524  https://tuoitre.vn/ban-da-biet-cach-kich-hoat-...  \n",
              "5525  https://tuoitre.vn/chot-nghe-mot-bai-hat-hay-b...  \n",
              "5731  https://kenh14.vn/phim-doanh-thu-0-dong-vi-cap...  \n",
              "5783  https://kenh14.vn/vo-cu-dan-truong-khoe-anh-gi...  \n",
              "5792  https://kenh14.vn/my-nhan-viet-co-thanh-tich-c...  \n",
              "\n",
              "[326 rows x 3 columns]"
            ],
            "text/html": [
              "\n",
              "  <div id=\"df-9551302d-a380-4ebb-afbe-34a05e31d7aa\">\n",
              "    <div class=\"colab-df-container\">\n",
              "      <div>\n",
              "<style scoped>\n",
              "    .dataframe tbody tr th:only-of-type {\n",
              "        vertical-align: middle;\n",
              "    }\n",
              "\n",
              "    .dataframe tbody tr th {\n",
              "        vertical-align: top;\n",
              "    }\n",
              "\n",
              "    .dataframe thead th {\n",
              "        text-align: right;\n",
              "    }\n",
              "</style>\n",
              "<table border=\"1\" class=\"dataframe\">\n",
              "  <thead>\n",
              "    <tr style=\"text-align: right;\">\n",
              "      <th></th>\n",
              "      <th>is_sarcastic</th>\n",
              "      <th>headline</th>\n",
              "      <th>article_link</th>\n",
              "    </tr>\n",
              "  </thead>\n",
              "  <tbody>\n",
              "    <tr>\n",
              "      <th>298</th>\n",
              "      <td>0</td>\n",
              "      <td>Huy động toàn dân bảo vệ an ninh Tổ quốc trên ...</td>\n",
              "      <td>https://nhandan.vn/thong-cao-bao-chi-ky-hop-th...</td>\n",
              "    </tr>\n",
              "    <tr>\n",
              "      <th>312</th>\n",
              "      <td>0</td>\n",
              "      <td>Federer hạnh phúc khi Djokovic lập kỷ lục Gran...</td>\n",
              "      <td>https://vnexpress.net/hlv-argentina-hy-vong-me...</td>\n",
              "    </tr>\n",
              "    <tr>\n",
              "      <th>329</th>\n",
              "      <td>1</td>\n",
              "      <td>'Cuộc chiến' ô tô điện gay cấn ngay từ khâu 'c...</td>\n",
              "      <td>https://cuoi.tuoitre.vn/cuoc-chien-o-to-dien-g...</td>\n",
              "    </tr>\n",
              "    <tr>\n",
              "      <th>563</th>\n",
              "      <td>1</td>\n",
              "      <td>'Lộ mặt thật', YouTuber bị chê... xấu trai đến...</td>\n",
              "      <td>https://cuoi.tuoitre.vn/lo-mat-that-youtuber-b...</td>\n",
              "    </tr>\n",
              "    <tr>\n",
              "      <th>651</th>\n",
              "      <td>1</td>\n",
              "      <td>Khi Đàn Ông Gọi Điện Thoại Xin Lỗi</td>\n",
              "      <td>https://cuoi.tuoitre.vn/o-xi-pho-ve-que-an-tet...</td>\n",
              "    </tr>\n",
              "    <tr>\n",
              "      <th>...</th>\n",
              "      <td>...</td>\n",
              "      <td>...</td>\n",
              "      <td>...</td>\n",
              "    </tr>\n",
              "    <tr>\n",
              "      <th>5524</th>\n",
              "      <td>0</td>\n",
              "      <td>Bạn đã biết cách kích hoạt chế độ SOS trên điệ...</td>\n",
              "      <td>https://tuoitre.vn/ban-da-biet-cach-kich-hoat-...</td>\n",
              "    </tr>\n",
              "    <tr>\n",
              "      <th>5525</th>\n",
              "      <td>0</td>\n",
              "      <td>Chợt nghe một bài hát hay, bạn có biết cách dù...</td>\n",
              "      <td>https://tuoitre.vn/chot-nghe-mot-bai-hat-hay-b...</td>\n",
              "    </tr>\n",
              "    <tr>\n",
              "      <th>5731</th>\n",
              "      <td>1</td>\n",
              "      <td>Phim doanh thu 0 đồng vì cặp nam chính chuyên ...</td>\n",
              "      <td>https://kenh14.vn/phim-doanh-thu-0-dong-vi-cap...</td>\n",
              "    </tr>\n",
              "    <tr>\n",
              "      <th>5783</th>\n",
              "      <td>1</td>\n",
              "      <td>Vợ cũ Đan Trường khoe ảnh gia đình hạnh phúc d...</td>\n",
              "      <td>https://kenh14.vn/vo-cu-dan-truong-khoe-anh-gi...</td>\n",
              "    </tr>\n",
              "    <tr>\n",
              "      <th>5792</th>\n",
              "      <td>1</td>\n",
              "      <td>Mỹ nhân Việt có thành tích cao nhất tại Miss W...</td>\n",
              "      <td>https://kenh14.vn/my-nhan-viet-co-thanh-tich-c...</td>\n",
              "    </tr>\n",
              "  </tbody>\n",
              "</table>\n",
              "<p>326 rows × 3 columns</p>\n",
              "</div>\n",
              "      <button class=\"colab-df-convert\" onclick=\"convertToInteractive('df-9551302d-a380-4ebb-afbe-34a05e31d7aa')\"\n",
              "              title=\"Convert this dataframe to an interactive table.\"\n",
              "              style=\"display:none;\">\n",
              "        \n",
              "  <svg xmlns=\"http://www.w3.org/2000/svg\" height=\"24px\"viewBox=\"0 0 24 24\"\n",
              "       width=\"24px\">\n",
              "    <path d=\"M0 0h24v24H0V0z\" fill=\"none\"/>\n",
              "    <path d=\"M18.56 5.44l.94 2.06.94-2.06 2.06-.94-2.06-.94-.94-2.06-.94 2.06-2.06.94zm-11 1L8.5 8.5l.94-2.06 2.06-.94-2.06-.94L8.5 2.5l-.94 2.06-2.06.94zm10 10l.94 2.06.94-2.06 2.06-.94-2.06-.94-.94-2.06-.94 2.06-2.06.94z\"/><path d=\"M17.41 7.96l-1.37-1.37c-.4-.4-.92-.59-1.43-.59-.52 0-1.04.2-1.43.59L10.3 9.45l-7.72 7.72c-.78.78-.78 2.05 0 2.83L4 21.41c.39.39.9.59 1.41.59.51 0 1.02-.2 1.41-.59l7.78-7.78 2.81-2.81c.8-.78.8-2.07 0-2.86zM5.41 20L4 18.59l7.72-7.72 1.47 1.35L5.41 20z\"/>\n",
              "  </svg>\n",
              "      </button>\n",
              "      \n",
              "  <style>\n",
              "    .colab-df-container {\n",
              "      display:flex;\n",
              "      flex-wrap:wrap;\n",
              "      gap: 12px;\n",
              "    }\n",
              "\n",
              "    .colab-df-convert {\n",
              "      background-color: #E8F0FE;\n",
              "      border: none;\n",
              "      border-radius: 50%;\n",
              "      cursor: pointer;\n",
              "      display: none;\n",
              "      fill: #1967D2;\n",
              "      height: 32px;\n",
              "      padding: 0 0 0 0;\n",
              "      width: 32px;\n",
              "    }\n",
              "\n",
              "    .colab-df-convert:hover {\n",
              "      background-color: #E2EBFA;\n",
              "      box-shadow: 0px 1px 2px rgba(60, 64, 67, 0.3), 0px 1px 3px 1px rgba(60, 64, 67, 0.15);\n",
              "      fill: #174EA6;\n",
              "    }\n",
              "\n",
              "    [theme=dark] .colab-df-convert {\n",
              "      background-color: #3B4455;\n",
              "      fill: #D2E3FC;\n",
              "    }\n",
              "\n",
              "    [theme=dark] .colab-df-convert:hover {\n",
              "      background-color: #434B5C;\n",
              "      box-shadow: 0px 1px 3px 1px rgba(0, 0, 0, 0.15);\n",
              "      filter: drop-shadow(0px 1px 2px rgba(0, 0, 0, 0.3));\n",
              "      fill: #FFFFFF;\n",
              "    }\n",
              "  </style>\n",
              "\n",
              "      <script>\n",
              "        const buttonEl =\n",
              "          document.querySelector('#df-9551302d-a380-4ebb-afbe-34a05e31d7aa button.colab-df-convert');\n",
              "        buttonEl.style.display =\n",
              "          google.colab.kernel.accessAllowed ? 'block' : 'none';\n",
              "\n",
              "        async function convertToInteractive(key) {\n",
              "          const element = document.querySelector('#df-9551302d-a380-4ebb-afbe-34a05e31d7aa');\n",
              "          const dataTable =\n",
              "            await google.colab.kernel.invokeFunction('convertToInteractive',\n",
              "                                                     [key], {});\n",
              "          if (!dataTable) return;\n",
              "\n",
              "          const docLinkHtml = 'Like what you see? Visit the ' +\n",
              "            '<a target=\"_blank\" href=https://colab.research.google.com/notebooks/data_table.ipynb>data table notebook</a>'\n",
              "            + ' to learn more about interactive tables.';\n",
              "          element.innerHTML = '';\n",
              "          dataTable['output_type'] = 'display_data';\n",
              "          await google.colab.output.renderOutput(dataTable, element);\n",
              "          const docLink = document.createElement('div');\n",
              "          docLink.innerHTML = docLinkHtml;\n",
              "          element.appendChild(docLink);\n",
              "        }\n",
              "      </script>\n",
              "    </div>\n",
              "  </div>\n",
              "  "
            ]
          },
          "metadata": {},
          "execution_count": 67
        }
      ],
      "source": [
        "df[df.duplicated(subset=['article_link'])]"
      ]
    },
    {
      "cell_type": "markdown",
      "metadata": {
        "id": "EkvVHI1ECKlJ"
      },
      "source": [
        "After analyzing, I feel that there are some human mistake in collecting the data (hazz) and as multiple teams participating in collecting data, there may be some overlapping."
      ]
    },
    {
      "cell_type": "code",
      "execution_count": null,
      "metadata": {
        "id": "gl85OaMbB2J1"
      },
      "outputs": [],
      "source": [
        "df = df.drop_duplicates(subset=['article_link'], keep='first')"
      ]
    },
    {
      "cell_type": "markdown",
      "metadata": {
        "id": "-CDFL83bDBEk"
      },
      "source": [
        "I finished! Now I'll check if there are any duplicated headlines from the same news"
      ]
    },
    {
      "cell_type": "code",
      "execution_count": null,
      "metadata": {
        "colab": {
          "base_uri": "https://localhost:8080/"
        },
        "id": "Vt4ioOv8uGkq",
        "outputId": "a659c8ab-0ce8-4e7c-ab10-8ecae367f7de"
      },
      "outputs": [
        {
          "output_type": "execute_result",
          "data": {
            "text/plain": [
              "41"
            ]
          },
          "metadata": {},
          "execution_count": 69
        }
      ],
      "source": [
        "df.duplicated(subset=['headline']).sum()"
      ]
    },
    {
      "cell_type": "code",
      "execution_count": null,
      "metadata": {
        "colab": {
          "base_uri": "https://localhost:8080/"
        },
        "id": "q1_8OGx_DGAr",
        "outputId": "1f631f1c-622c-42b4-f80a-2160111779fc"
      },
      "outputs": [
        {
          "output_type": "execute_result",
          "data": {
            "text/plain": [
              "     is_sarcastic                                           headline  \\\n",
              "240             0  Giải Báo Nhân Dân - Dấu ấn năm của người làm b...   \n",
              "3050            0        Chiều cao phụ thuộc phần lớn vào di truyền?   \n",
              "3398            0  Ngân hàng Nhà nước tiếp tục hạ lãi suất điều hành   \n",
              "3547            0        Tham nhũng vặt luôn có mặt trên từng cây số   \n",
              "3620            0  Giải cứu hàng trăm người bị mua bán qua biên giới   \n",
              "4115            0       Chủ tịch nước Võ Văn Thưởng thăm đảo Phú Quý   \n",
              "5327            0                   Những vụ việc người dân quan tâm   \n",
              "5760            1           Phim The Idol có nội dung hạ thấp phụ nữ   \n",
              "5770            1  BLACKPINK sẽ có kì nghỉ ngắn trước khi tiếp tụ...   \n",
              "5866            0  Canh bún ‘nhiều tên gọi nhất TP.HCM’: 8 người ...   \n",
              "5986            0  European Wellness: Khi xu hướng sức khỏe chủ đ...   \n",
              "6013            0       Khai mạc Lễ hội Nho-Vang Ninh Thuận năm 2023   \n",
              "6037            0              Tiềm năng nhạc Việt từ thế giới phẳng   \n",
              "6039            0  Hậu trường nghề xuất bản 100 năm qua trong 'Nh...   \n",
              "6146            0  Tạm đình chỉ Giám đốc Trung tâm Điều độ hệ thố...   \n",
              "6430            1  Chú rể trốn đám cưới, cô dâu đuổi theo 20km bắ...   \n",
              "6431            1  Nước mưa ở concert của Taylor Swift được rao b...   \n",
              "6432            1         Trúng số độc đắc nhờ... cãi nhau với chồng   \n",
              "6433            1  Cặp đôi bị phạt hơn 12.640 năm tù giam vì tội ...   \n",
              "6434            1       'Bay chức' vì bài phỏng vấn thực hiện bởi AI   \n",
              "6435            1      Thả nhầm nghi phạm giết người vì lỗi đánh máy   \n",
              "6436            1  Nhà mốt Pháp ra mắt mẫu túi xách nữ làm từ thi...   \n",
              "6437            1  Tình nhân bỏ trốn cùng 30 con heo khi bạn trai...   \n",
              "6438            1  Sao Arsenal 'chế giễu' Man Utd sau trận thua N...   \n",
              "6439            1  Nhà đài chơi chiêu lừa khán giả, tung loạt pos...   \n",
              "6440            1  Vợ tố cáo chồng mới cưới vì bị 'đào mỏ' mất 2 ...   \n",
              "6441            1  Người đàn ông phải trang điểm vì bị vợ 'này nọ...   \n",
              "6442            1  Thanh niên ôm Messi nổi tiếng toàn cầu với kho...   \n",
              "6443            1  Chàng trai chạy vào sân ôm Messi, cười mãn ngu...   \n",
              "6444            1  Cầu thủ ngơ ngác vì đối diện khung thành trống...   \n",
              "6445            1  Thủ môn báo hại đội nhà thủng lưới vì đỡ bóng hụt   \n",
              "6446            1             Cầu thủ tát trọng tài khi bị thổi phạt   \n",
              "6447            1  Cô gái thi vượt chướng ngại vật nhưng chạy đến...   \n",
              "6448            1       Chàng trai ngao ngán khi gặp cao thủ bida lỗ   \n",
              "6449            1  Võ sư truyền điện Trung Quốc bị võ sĩ MMA đấm ...   \n",
              "6450            1           Chàng trai châu Phi sút penalty như hack   \n",
              "6451            1  Chàng trai hóa Lukaku khi đối diện khung thành...   \n",
              "6453            1  Cổ động viên hóa trang thành cầu thủ, vào sân ...   \n",
              "6454            1  Disney làm phiên bản hoạt hình của 'Nàng tiên ...   \n",
              "6455            1  Jennie Blackpink bị Cnet tố 'lười biếng' khi b...   \n",
              "6464            1  Trấn Thành lại khóc lóc, xin lỗi bạn gái cũ tr...   \n",
              "\n",
              "                                           article_link  \n",
              "240   https://nhandan.vn/giai-bao-nhan-dan-dau-an-na...  \n",
              "3050  https://tuoitre.vn/chieu-cao-phu-thuoc-phan-lo...  \n",
              "3398  https://antv.gov.vn/kinh-te-5/ngan-hang-nha-nu...  \n",
              "3547  Tham nhũng vặt luôn có mặt trên từng cây số - ...  \n",
              "3620        https://www.youtube.com/watch?v=DhRmbDF9M0Q  \n",
              "4115  https://vnexpress.net/chu-tich-nuoc-vo-van-thu...  \n",
              "5327  https://tuoitre.vnhttps://tuoitre.vn/playlist/...  \n",
              "5760  https://kenh14.vn/phim-the-idol-ha-thap-phu-nu...  \n",
              "5770  https://kenh14.vn/blackpink-se-co-ki-nghi-ngan...  \n",
              "5866  https://thanhnien.vn//canh-bun-nhieu-ten-goi-n...  \n",
              "5986  https://thanhnien.vn//european-wellness-khi-xu...  \n",
              "6013  https://thanhnien.vn//khai-mac-le-hoi-nho-vang...  \n",
              "6037  https://thanhnien.vn//tiem-nang-nhac-viet-tu-t...  \n",
              "6039  https://thanhnien.vn//hau-truong-nghe-xuat-ban...  \n",
              "6146  https://thanhnien.vn//tam-dinh-chi-giam-doc-tr...  \n",
              "6430  https://cuoi.tuoitre.vn/tin-tuc-cuoi.htm/chu-r...  \n",
              "6431  https://cuoi.tuoitre.vn/tin-tuc-cuoi.htm/nuoc-...  \n",
              "6432  https://cuoi.tuoitre.vn/tin-tuc-cuoi.htm/trung...  \n",
              "6433  https://cuoi.tuoitre.vn/tin-tuc-cuoi.htm/cap-d...  \n",
              "6434  https://cuoi.tuoitre.vn/tin-tuc-cuoi.htm/bay-c...  \n",
              "6435  https://cuoi.tuoitre.vn/tin-tuc-cuoi.htm/tha-n...  \n",
              "6436  https://cuoi.tuoitre.vn/tin-tuc-cuoi.htm/nha-m...  \n",
              "6437  https://cuoi.tuoitre.vn/tin-tuc-cuoi.htm/tinh-...  \n",
              "6438  https://cuoi.tuoitre.vn/tin-tuc-cuoi.htm/sao-a...  \n",
              "6439  https://cuoi.tuoitre.vn/tin-tuc-cuoi.htm/nha-d...  \n",
              "6440  https://cuoi.tuoitre.vn/tin-tuc-cuoi.htm/vo-to...  \n",
              "6441  https://cuoi.tuoitre.vn/tin-tuc-cuoi.htm/nguoi...  \n",
              "6442  https://cuoi.tuoitre.vn/the-thao-cuoi.htm/than...  \n",
              "6443  https://cuoi.tuoitre.vn/the-thao-cuoi.htm/chan...  \n",
              "6444  https://cuoi.tuoitre.vn/the-thao-cuoi.htm/cau-...  \n",
              "6445  https://cuoi.tuoitre.vn/the-thao-cuoi.htm/thu-...  \n",
              "6446  https://cuoi.tuoitre.vn/the-thao-cuoi.htm/cau-...  \n",
              "6447  https://cuoi.tuoitre.vn/the-thao-cuoi.htm/co-g...  \n",
              "6448  https://cuoi.tuoitre.vn/the-thao-cuoi.htm/chan...  \n",
              "6449  https://cuoi.tuoitre.vn/the-thao-cuoi.htm/vo-s...  \n",
              "6450  https://cuoi.tuoitre.vn/the-thao-cuoi.htm/chan...  \n",
              "6451  https://cuoi.tuoitre.vn/the-thao-cuoi.htm/chan...  \n",
              "6453  https://cuoi.tuoitre.vn/the-thao-cuoi.htm/co-d...  \n",
              "6454  https://cuoi.tuoitre.vn/showbiz-muon-mau.htm/d...  \n",
              "6455  https://cuoi.tuoitre.vn/showbiz-muon-mau.htm/j...  \n",
              "6464  https://cuoi.tuoitre.vn/showbiz-muon-mau.htm/t...  "
            ],
            "text/html": [
              "\n",
              "  <div id=\"df-0c46ec2a-fc57-464a-9353-773df9479a32\">\n",
              "    <div class=\"colab-df-container\">\n",
              "      <div>\n",
              "<style scoped>\n",
              "    .dataframe tbody tr th:only-of-type {\n",
              "        vertical-align: middle;\n",
              "    }\n",
              "\n",
              "    .dataframe tbody tr th {\n",
              "        vertical-align: top;\n",
              "    }\n",
              "\n",
              "    .dataframe thead th {\n",
              "        text-align: right;\n",
              "    }\n",
              "</style>\n",
              "<table border=\"1\" class=\"dataframe\">\n",
              "  <thead>\n",
              "    <tr style=\"text-align: right;\">\n",
              "      <th></th>\n",
              "      <th>is_sarcastic</th>\n",
              "      <th>headline</th>\n",
              "      <th>article_link</th>\n",
              "    </tr>\n",
              "  </thead>\n",
              "  <tbody>\n",
              "    <tr>\n",
              "      <th>240</th>\n",
              "      <td>0</td>\n",
              "      <td>Giải Báo Nhân Dân - Dấu ấn năm của người làm b...</td>\n",
              "      <td>https://nhandan.vn/giai-bao-nhan-dan-dau-an-na...</td>\n",
              "    </tr>\n",
              "    <tr>\n",
              "      <th>3050</th>\n",
              "      <td>0</td>\n",
              "      <td>Chiều cao phụ thuộc phần lớn vào di truyền?</td>\n",
              "      <td>https://tuoitre.vn/chieu-cao-phu-thuoc-phan-lo...</td>\n",
              "    </tr>\n",
              "    <tr>\n",
              "      <th>3398</th>\n",
              "      <td>0</td>\n",
              "      <td>Ngân hàng Nhà nước tiếp tục hạ lãi suất điều hành</td>\n",
              "      <td>https://antv.gov.vn/kinh-te-5/ngan-hang-nha-nu...</td>\n",
              "    </tr>\n",
              "    <tr>\n",
              "      <th>3547</th>\n",
              "      <td>0</td>\n",
              "      <td>Tham nhũng vặt luôn có mặt trên từng cây số</td>\n",
              "      <td>Tham nhũng vặt luôn có mặt trên từng cây số - ...</td>\n",
              "    </tr>\n",
              "    <tr>\n",
              "      <th>3620</th>\n",
              "      <td>0</td>\n",
              "      <td>Giải cứu hàng trăm người bị mua bán qua biên giới</td>\n",
              "      <td>https://www.youtube.com/watch?v=DhRmbDF9M0Q</td>\n",
              "    </tr>\n",
              "    <tr>\n",
              "      <th>4115</th>\n",
              "      <td>0</td>\n",
              "      <td>Chủ tịch nước Võ Văn Thưởng thăm đảo Phú Quý</td>\n",
              "      <td>https://vnexpress.net/chu-tich-nuoc-vo-van-thu...</td>\n",
              "    </tr>\n",
              "    <tr>\n",
              "      <th>5327</th>\n",
              "      <td>0</td>\n",
              "      <td>Những vụ việc người dân quan tâm</td>\n",
              "      <td>https://tuoitre.vnhttps://tuoitre.vn/playlist/...</td>\n",
              "    </tr>\n",
              "    <tr>\n",
              "      <th>5760</th>\n",
              "      <td>1</td>\n",
              "      <td>Phim The Idol có nội dung hạ thấp phụ nữ</td>\n",
              "      <td>https://kenh14.vn/phim-the-idol-ha-thap-phu-nu...</td>\n",
              "    </tr>\n",
              "    <tr>\n",
              "      <th>5770</th>\n",
              "      <td>1</td>\n",
              "      <td>BLACKPINK sẽ có kì nghỉ ngắn trước khi tiếp tụ...</td>\n",
              "      <td>https://kenh14.vn/blackpink-se-co-ki-nghi-ngan...</td>\n",
              "    </tr>\n",
              "    <tr>\n",
              "      <th>5866</th>\n",
              "      <td>0</td>\n",
              "      <td>Canh bún ‘nhiều tên gọi nhất TP.HCM’: 8 người ...</td>\n",
              "      <td>https://thanhnien.vn//canh-bun-nhieu-ten-goi-n...</td>\n",
              "    </tr>\n",
              "    <tr>\n",
              "      <th>5986</th>\n",
              "      <td>0</td>\n",
              "      <td>European Wellness: Khi xu hướng sức khỏe chủ đ...</td>\n",
              "      <td>https://thanhnien.vn//european-wellness-khi-xu...</td>\n",
              "    </tr>\n",
              "    <tr>\n",
              "      <th>6013</th>\n",
              "      <td>0</td>\n",
              "      <td>Khai mạc Lễ hội Nho-Vang Ninh Thuận năm 2023</td>\n",
              "      <td>https://thanhnien.vn//khai-mac-le-hoi-nho-vang...</td>\n",
              "    </tr>\n",
              "    <tr>\n",
              "      <th>6037</th>\n",
              "      <td>0</td>\n",
              "      <td>Tiềm năng nhạc Việt từ thế giới phẳng</td>\n",
              "      <td>https://thanhnien.vn//tiem-nang-nhac-viet-tu-t...</td>\n",
              "    </tr>\n",
              "    <tr>\n",
              "      <th>6039</th>\n",
              "      <td>0</td>\n",
              "      <td>Hậu trường nghề xuất bản 100 năm qua trong 'Nh...</td>\n",
              "      <td>https://thanhnien.vn//hau-truong-nghe-xuat-ban...</td>\n",
              "    </tr>\n",
              "    <tr>\n",
              "      <th>6146</th>\n",
              "      <td>0</td>\n",
              "      <td>Tạm đình chỉ Giám đốc Trung tâm Điều độ hệ thố...</td>\n",
              "      <td>https://thanhnien.vn//tam-dinh-chi-giam-doc-tr...</td>\n",
              "    </tr>\n",
              "    <tr>\n",
              "      <th>6430</th>\n",
              "      <td>1</td>\n",
              "      <td>Chú rể trốn đám cưới, cô dâu đuổi theo 20km bắ...</td>\n",
              "      <td>https://cuoi.tuoitre.vn/tin-tuc-cuoi.htm/chu-r...</td>\n",
              "    </tr>\n",
              "    <tr>\n",
              "      <th>6431</th>\n",
              "      <td>1</td>\n",
              "      <td>Nước mưa ở concert của Taylor Swift được rao b...</td>\n",
              "      <td>https://cuoi.tuoitre.vn/tin-tuc-cuoi.htm/nuoc-...</td>\n",
              "    </tr>\n",
              "    <tr>\n",
              "      <th>6432</th>\n",
              "      <td>1</td>\n",
              "      <td>Trúng số độc đắc nhờ... cãi nhau với chồng</td>\n",
              "      <td>https://cuoi.tuoitre.vn/tin-tuc-cuoi.htm/trung...</td>\n",
              "    </tr>\n",
              "    <tr>\n",
              "      <th>6433</th>\n",
              "      <td>1</td>\n",
              "      <td>Cặp đôi bị phạt hơn 12.640 năm tù giam vì tội ...</td>\n",
              "      <td>https://cuoi.tuoitre.vn/tin-tuc-cuoi.htm/cap-d...</td>\n",
              "    </tr>\n",
              "    <tr>\n",
              "      <th>6434</th>\n",
              "      <td>1</td>\n",
              "      <td>'Bay chức' vì bài phỏng vấn thực hiện bởi AI</td>\n",
              "      <td>https://cuoi.tuoitre.vn/tin-tuc-cuoi.htm/bay-c...</td>\n",
              "    </tr>\n",
              "    <tr>\n",
              "      <th>6435</th>\n",
              "      <td>1</td>\n",
              "      <td>Thả nhầm nghi phạm giết người vì lỗi đánh máy</td>\n",
              "      <td>https://cuoi.tuoitre.vn/tin-tuc-cuoi.htm/tha-n...</td>\n",
              "    </tr>\n",
              "    <tr>\n",
              "      <th>6436</th>\n",
              "      <td>1</td>\n",
              "      <td>Nhà mốt Pháp ra mắt mẫu túi xách nữ làm từ thi...</td>\n",
              "      <td>https://cuoi.tuoitre.vn/tin-tuc-cuoi.htm/nha-m...</td>\n",
              "    </tr>\n",
              "    <tr>\n",
              "      <th>6437</th>\n",
              "      <td>1</td>\n",
              "      <td>Tình nhân bỏ trốn cùng 30 con heo khi bạn trai...</td>\n",
              "      <td>https://cuoi.tuoitre.vn/tin-tuc-cuoi.htm/tinh-...</td>\n",
              "    </tr>\n",
              "    <tr>\n",
              "      <th>6438</th>\n",
              "      <td>1</td>\n",
              "      <td>Sao Arsenal 'chế giễu' Man Utd sau trận thua N...</td>\n",
              "      <td>https://cuoi.tuoitre.vn/tin-tuc-cuoi.htm/sao-a...</td>\n",
              "    </tr>\n",
              "    <tr>\n",
              "      <th>6439</th>\n",
              "      <td>1</td>\n",
              "      <td>Nhà đài chơi chiêu lừa khán giả, tung loạt pos...</td>\n",
              "      <td>https://cuoi.tuoitre.vn/tin-tuc-cuoi.htm/nha-d...</td>\n",
              "    </tr>\n",
              "    <tr>\n",
              "      <th>6440</th>\n",
              "      <td>1</td>\n",
              "      <td>Vợ tố cáo chồng mới cưới vì bị 'đào mỏ' mất 2 ...</td>\n",
              "      <td>https://cuoi.tuoitre.vn/tin-tuc-cuoi.htm/vo-to...</td>\n",
              "    </tr>\n",
              "    <tr>\n",
              "      <th>6441</th>\n",
              "      <td>1</td>\n",
              "      <td>Người đàn ông phải trang điểm vì bị vợ 'này nọ...</td>\n",
              "      <td>https://cuoi.tuoitre.vn/tin-tuc-cuoi.htm/nguoi...</td>\n",
              "    </tr>\n",
              "    <tr>\n",
              "      <th>6442</th>\n",
              "      <td>1</td>\n",
              "      <td>Thanh niên ôm Messi nổi tiếng toàn cầu với kho...</td>\n",
              "      <td>https://cuoi.tuoitre.vn/the-thao-cuoi.htm/than...</td>\n",
              "    </tr>\n",
              "    <tr>\n",
              "      <th>6443</th>\n",
              "      <td>1</td>\n",
              "      <td>Chàng trai chạy vào sân ôm Messi, cười mãn ngu...</td>\n",
              "      <td>https://cuoi.tuoitre.vn/the-thao-cuoi.htm/chan...</td>\n",
              "    </tr>\n",
              "    <tr>\n",
              "      <th>6444</th>\n",
              "      <td>1</td>\n",
              "      <td>Cầu thủ ngơ ngác vì đối diện khung thành trống...</td>\n",
              "      <td>https://cuoi.tuoitre.vn/the-thao-cuoi.htm/cau-...</td>\n",
              "    </tr>\n",
              "    <tr>\n",
              "      <th>6445</th>\n",
              "      <td>1</td>\n",
              "      <td>Thủ môn báo hại đội nhà thủng lưới vì đỡ bóng hụt</td>\n",
              "      <td>https://cuoi.tuoitre.vn/the-thao-cuoi.htm/thu-...</td>\n",
              "    </tr>\n",
              "    <tr>\n",
              "      <th>6446</th>\n",
              "      <td>1</td>\n",
              "      <td>Cầu thủ tát trọng tài khi bị thổi phạt</td>\n",
              "      <td>https://cuoi.tuoitre.vn/the-thao-cuoi.htm/cau-...</td>\n",
              "    </tr>\n",
              "    <tr>\n",
              "      <th>6447</th>\n",
              "      <td>1</td>\n",
              "      <td>Cô gái thi vượt chướng ngại vật nhưng chạy đến...</td>\n",
              "      <td>https://cuoi.tuoitre.vn/the-thao-cuoi.htm/co-g...</td>\n",
              "    </tr>\n",
              "    <tr>\n",
              "      <th>6448</th>\n",
              "      <td>1</td>\n",
              "      <td>Chàng trai ngao ngán khi gặp cao thủ bida lỗ</td>\n",
              "      <td>https://cuoi.tuoitre.vn/the-thao-cuoi.htm/chan...</td>\n",
              "    </tr>\n",
              "    <tr>\n",
              "      <th>6449</th>\n",
              "      <td>1</td>\n",
              "      <td>Võ sư truyền điện Trung Quốc bị võ sĩ MMA đấm ...</td>\n",
              "      <td>https://cuoi.tuoitre.vn/the-thao-cuoi.htm/vo-s...</td>\n",
              "    </tr>\n",
              "    <tr>\n",
              "      <th>6450</th>\n",
              "      <td>1</td>\n",
              "      <td>Chàng trai châu Phi sút penalty như hack</td>\n",
              "      <td>https://cuoi.tuoitre.vn/the-thao-cuoi.htm/chan...</td>\n",
              "    </tr>\n",
              "    <tr>\n",
              "      <th>6451</th>\n",
              "      <td>1</td>\n",
              "      <td>Chàng trai hóa Lukaku khi đối diện khung thành...</td>\n",
              "      <td>https://cuoi.tuoitre.vn/the-thao-cuoi.htm/chan...</td>\n",
              "    </tr>\n",
              "    <tr>\n",
              "      <th>6453</th>\n",
              "      <td>1</td>\n",
              "      <td>Cổ động viên hóa trang thành cầu thủ, vào sân ...</td>\n",
              "      <td>https://cuoi.tuoitre.vn/the-thao-cuoi.htm/co-d...</td>\n",
              "    </tr>\n",
              "    <tr>\n",
              "      <th>6454</th>\n",
              "      <td>1</td>\n",
              "      <td>Disney làm phiên bản hoạt hình của 'Nàng tiên ...</td>\n",
              "      <td>https://cuoi.tuoitre.vn/showbiz-muon-mau.htm/d...</td>\n",
              "    </tr>\n",
              "    <tr>\n",
              "      <th>6455</th>\n",
              "      <td>1</td>\n",
              "      <td>Jennie Blackpink bị Cnet tố 'lười biếng' khi b...</td>\n",
              "      <td>https://cuoi.tuoitre.vn/showbiz-muon-mau.htm/j...</td>\n",
              "    </tr>\n",
              "    <tr>\n",
              "      <th>6464</th>\n",
              "      <td>1</td>\n",
              "      <td>Trấn Thành lại khóc lóc, xin lỗi bạn gái cũ tr...</td>\n",
              "      <td>https://cuoi.tuoitre.vn/showbiz-muon-mau.htm/t...</td>\n",
              "    </tr>\n",
              "  </tbody>\n",
              "</table>\n",
              "</div>\n",
              "      <button class=\"colab-df-convert\" onclick=\"convertToInteractive('df-0c46ec2a-fc57-464a-9353-773df9479a32')\"\n",
              "              title=\"Convert this dataframe to an interactive table.\"\n",
              "              style=\"display:none;\">\n",
              "        \n",
              "  <svg xmlns=\"http://www.w3.org/2000/svg\" height=\"24px\"viewBox=\"0 0 24 24\"\n",
              "       width=\"24px\">\n",
              "    <path d=\"M0 0h24v24H0V0z\" fill=\"none\"/>\n",
              "    <path d=\"M18.56 5.44l.94 2.06.94-2.06 2.06-.94-2.06-.94-.94-2.06-.94 2.06-2.06.94zm-11 1L8.5 8.5l.94-2.06 2.06-.94-2.06-.94L8.5 2.5l-.94 2.06-2.06.94zm10 10l.94 2.06.94-2.06 2.06-.94-2.06-.94-.94-2.06-.94 2.06-2.06.94z\"/><path d=\"M17.41 7.96l-1.37-1.37c-.4-.4-.92-.59-1.43-.59-.52 0-1.04.2-1.43.59L10.3 9.45l-7.72 7.72c-.78.78-.78 2.05 0 2.83L4 21.41c.39.39.9.59 1.41.59.51 0 1.02-.2 1.41-.59l7.78-7.78 2.81-2.81c.8-.78.8-2.07 0-2.86zM5.41 20L4 18.59l7.72-7.72 1.47 1.35L5.41 20z\"/>\n",
              "  </svg>\n",
              "      </button>\n",
              "      \n",
              "  <style>\n",
              "    .colab-df-container {\n",
              "      display:flex;\n",
              "      flex-wrap:wrap;\n",
              "      gap: 12px;\n",
              "    }\n",
              "\n",
              "    .colab-df-convert {\n",
              "      background-color: #E8F0FE;\n",
              "      border: none;\n",
              "      border-radius: 50%;\n",
              "      cursor: pointer;\n",
              "      display: none;\n",
              "      fill: #1967D2;\n",
              "      height: 32px;\n",
              "      padding: 0 0 0 0;\n",
              "      width: 32px;\n",
              "    }\n",
              "\n",
              "    .colab-df-convert:hover {\n",
              "      background-color: #E2EBFA;\n",
              "      box-shadow: 0px 1px 2px rgba(60, 64, 67, 0.3), 0px 1px 3px 1px rgba(60, 64, 67, 0.15);\n",
              "      fill: #174EA6;\n",
              "    }\n",
              "\n",
              "    [theme=dark] .colab-df-convert {\n",
              "      background-color: #3B4455;\n",
              "      fill: #D2E3FC;\n",
              "    }\n",
              "\n",
              "    [theme=dark] .colab-df-convert:hover {\n",
              "      background-color: #434B5C;\n",
              "      box-shadow: 0px 1px 3px 1px rgba(0, 0, 0, 0.15);\n",
              "      filter: drop-shadow(0px 1px 2px rgba(0, 0, 0, 0.3));\n",
              "      fill: #FFFFFF;\n",
              "    }\n",
              "  </style>\n",
              "\n",
              "      <script>\n",
              "        const buttonEl =\n",
              "          document.querySelector('#df-0c46ec2a-fc57-464a-9353-773df9479a32 button.colab-df-convert');\n",
              "        buttonEl.style.display =\n",
              "          google.colab.kernel.accessAllowed ? 'block' : 'none';\n",
              "\n",
              "        async function convertToInteractive(key) {\n",
              "          const element = document.querySelector('#df-0c46ec2a-fc57-464a-9353-773df9479a32');\n",
              "          const dataTable =\n",
              "            await google.colab.kernel.invokeFunction('convertToInteractive',\n",
              "                                                     [key], {});\n",
              "          if (!dataTable) return;\n",
              "\n",
              "          const docLinkHtml = 'Like what you see? Visit the ' +\n",
              "            '<a target=\"_blank\" href=https://colab.research.google.com/notebooks/data_table.ipynb>data table notebook</a>'\n",
              "            + ' to learn more about interactive tables.';\n",
              "          element.innerHTML = '';\n",
              "          dataTable['output_type'] = 'display_data';\n",
              "          await google.colab.output.renderOutput(dataTable, element);\n",
              "          const docLink = document.createElement('div');\n",
              "          docLink.innerHTML = docLinkHtml;\n",
              "          element.appendChild(docLink);\n",
              "        }\n",
              "      </script>\n",
              "    </div>\n",
              "  </div>\n",
              "  "
            ]
          },
          "metadata": {},
          "execution_count": 70
        }
      ],
      "source": [
        "df[df.duplicated(subset=['headline'])]"
      ]
    },
    {
      "cell_type": "markdown",
      "metadata": {
        "id": "TCy-wr9VDhe_"
      },
      "source": [
        "For simplicity, I'll just remove and keep the first line"
      ]
    },
    {
      "cell_type": "code",
      "execution_count": null,
      "metadata": {
        "id": "89tokrh7DlFl"
      },
      "outputs": [],
      "source": [
        "df = df.drop_duplicates(subset=['headline'], keep='first')"
      ]
    },
    {
      "cell_type": "markdown",
      "metadata": {
        "id": "2gGXQMXpDr1I"
      },
      "source": [
        "OK! Now I've done removing duplicates!"
      ]
    },
    {
      "cell_type": "code",
      "execution_count": null,
      "metadata": {
        "colab": {
          "base_uri": "https://localhost:8080/"
        },
        "id": "0woo0DbqDq2x",
        "outputId": "f3dd3a54-5645-4a35-ec34-a2b861b76a02"
      },
      "outputs": [
        {
          "output_type": "stream",
          "name": "stdout",
          "text": [
            "<class 'pandas.core.frame.DataFrame'>\n",
            "Int64Index: 4988 entries, 0 to 6483\n",
            "Data columns (total 3 columns):\n",
            " #   Column        Non-Null Count  Dtype \n",
            "---  ------        --------------  ----- \n",
            " 0   is_sarcastic  4988 non-null   object\n",
            " 1   headline      4988 non-null   object\n",
            " 2   article_link  4988 non-null   object\n",
            "dtypes: object(3)\n",
            "memory usage: 155.9+ KB\n"
          ]
        }
      ],
      "source": [
        "df.info()"
      ]
    },
    {
      "cell_type": "markdown",
      "metadata": {
        "id": "_gkJSd3IDwat"
      },
      "source": [
        "### Digitalize data so the computer can understand\n",
        "\n",
        "\n",
        "As the datatype when we read the file is object, we need to convert/encode content to numbers"
      ]
    },
    {
      "cell_type": "markdown",
      "metadata": {
        "id": "oj6O8YmPkHr-"
      },
      "source": [
        "#### Convert `is_sarcastic` values to intergers"
      ]
    },
    {
      "cell_type": "code",
      "execution_count": null,
      "metadata": {
        "id": "xz6W4y2xP-Z0"
      },
      "outputs": [],
      "source": [
        "import numpy as np"
      ]
    },
    {
      "cell_type": "code",
      "execution_count": null,
      "metadata": {
        "id": "qKprqFZztVA6"
      },
      "outputs": [],
      "source": [
        "# datatype\n",
        "df = df.astype({'is_sarcastic': \"uint8\"})"
      ]
    },
    {
      "cell_type": "code",
      "execution_count": null,
      "metadata": {
        "colab": {
          "base_uri": "https://localhost:8080/"
        },
        "id": "hgOEvLejta4Z",
        "outputId": "06297858-027c-492b-8fcc-62f54db0da64"
      },
      "outputs": [
        {
          "output_type": "stream",
          "name": "stdout",
          "text": [
            "<class 'pandas.core.frame.DataFrame'>\n",
            "Int64Index: 4988 entries, 0 to 6483\n",
            "Data columns (total 3 columns):\n",
            " #   Column        Non-Null Count  Dtype \n",
            "---  ------        --------------  ----- \n",
            " 0   is_sarcastic  4988 non-null   uint8 \n",
            " 1   headline      4988 non-null   object\n",
            " 2   article_link  4988 non-null   object\n",
            "dtypes: object(2), uint8(1)\n",
            "memory usage: 121.8+ KB\n"
          ]
        }
      ],
      "source": [
        "df.info()"
      ]
    },
    {
      "cell_type": "markdown",
      "metadata": {
        "id": "7o6QMOSUEAAW"
      },
      "source": [
        "#### Encode with language model"
      ]
    },
    {
      "cell_type": "markdown",
      "metadata": {
        "id": "ZYlZOCyfZ-uz"
      },
      "source": [
        "Mr. An suggests using https://github.com/VinAIResearch/PhoBERT\n",
        "\n",
        "\n"
      ]
    },
    {
      "cell_type": "markdown",
      "metadata": {
        "id": "er5nPDhPjhI0"
      },
      "source": [
        "##### Word segmented"
      ]
    },
    {
      "cell_type": "code",
      "execution_count": null,
      "metadata": {
        "id": "2ddoCp4GEWv3"
      },
      "outputs": [],
      "source": [
        "!mkdir vncorenlp"
      ]
    },
    {
      "cell_type": "code",
      "execution_count": null,
      "metadata": {
        "id": "eZCcP7IlEHuO",
        "colab": {
          "base_uri": "https://localhost:8080/"
        },
        "outputId": "a5a44eb2-15e2-4d15-967e-cd5e0b3141df"
      },
      "outputs": [
        {
          "output_type": "stream",
          "name": "stdout",
          "text": [
            "['Ông Nguyễn_Khắc_Chúc đang làm_việc tại Đại_học Quốc_gia Hà_Nội .', 'Bà Lan , vợ ông Chúc , cũng làm_việc tại đây .']\n"
          ]
        }
      ],
      "source": [
        "import py_vncorenlp\n",
        "\n",
        "# Automatically download VnCoreNLP components from the original repository\n",
        "# and save them in some local machine folder\n",
        "py_vncorenlp.download_model(save_dir='/content/vncorenlp')\n",
        "\n",
        "# Load the word and sentence segmentation component\n",
        "rdrsegmenter = py_vncorenlp.VnCoreNLP(annotators=[\"wseg\"], save_dir='/content/vncorenlp')\n",
        "\n",
        "text = \"Ông Nguyễn Khắc Chúc  đang làm việc tại Đại học Quốc gia Hà Nội. Bà Lan, vợ ông Chúc, cũng làm việc tại đây.\"\n",
        "\n",
        "output = rdrsegmenter.word_segment(text)\n",
        "\n",
        "print(output)"
      ]
    },
    {
      "cell_type": "code",
      "execution_count": null,
      "metadata": {
        "id": "YfvfSX9_SmsR"
      },
      "outputs": [],
      "source": [
        "for i, row in df.iterrows():\n",
        "    try:\n",
        "        left_part, right_part = df.at[i, 'headline'].rsplit('-', 1)\n",
        "    except: continue\n",
        "    if right_part == ' Tuổi Trẻ Online':\n",
        "        df.at[i,'headline'] = left_part"
      ]
    },
    {
      "cell_type": "code",
      "execution_count": null,
      "metadata": {
        "id": "1pA7UoqGQ4JK"
      },
      "outputs": [],
      "source": [
        "for i, row in df.iterrows():\n",
        "    k = rdrsegmenter.word_segment(df.at[i, 'headline'])\n",
        "    df.at[i, 'headline'] = ' '.join(k)\n"
      ]
    },
    {
      "cell_type": "code",
      "execution_count": null,
      "metadata": {
        "colab": {
          "base_uri": "https://localhost:8080/"
        },
        "id": "jEUhw6GWUP56",
        "outputId": "d5faf63c-9a82-4c96-a6ba-4114dffd2918"
      },
      "outputs": [
        {
          "output_type": "execute_result",
          "data": {
            "text/plain": [
              "\"Túi_xách ' bể cá di_động ' của Nhật khiến dân_tình xôn_xao\""
            ],
            "application/vnd.google.colaboratory.intrinsic+json": {
              "type": "string"
            }
          },
          "metadata": {},
          "execution_count": 80
        }
      ],
      "source": [
        "df.at[1023, 'headline']"
      ]
    },
    {
      "cell_type": "markdown",
      "metadata": {
        "id": "yqv4CjHAJavh"
      },
      "source": [
        "##### Encode article links"
      ]
    },
    {
      "cell_type": "markdown",
      "metadata": {
        "id": "yytXcevxJca4"
      },
      "source": [
        "Let's see, I see that the links are long, but most of them have the same content as the headline. The question is whether article link can provide any useful information?\n",
        "\n",
        "In fact, some newspaper is believed to tend to be more sarcastic while some papers are believed to provide legitimate information. So how can we utilize this information? It's the URL!\n",
        "\n",
        "As we may know that common pattern for the URLs is http(s)://(domain name of the newspaper)/(content). Therefore, by extracting the domain name and encoding it, we may provide useful information to the model"
      ]
    },
    {
      "cell_type": "code",
      "source": [
        "df.reset_index(drop=True, inplace=True)"
      ],
      "metadata": {
        "id": "3pQFD9sRJ1YN"
      },
      "execution_count": null,
      "outputs": []
    },
    {
      "cell_type": "code",
      "execution_count": null,
      "metadata": {
        "id": "rdw0Y-k8K7eA"
      },
      "outputs": [],
      "source": [
        "import re # regex"
      ]
    },
    {
      "cell_type": "markdown",
      "metadata": {
        "id": "LK3-wmVMTMbI"
      },
      "source": [
        "Visit here to understand my regex pattern\n",
        "https://regex101.com/r/cebEnF/1"
      ]
    },
    {
      "cell_type": "code",
      "execution_count": null,
      "metadata": {
        "colab": {
          "base_uri": "https://localhost:8080/"
        },
        "id": "o2Lq1zrELQNu",
        "outputId": "6bb3b8a6-b20f-4b7a-f902-2b9b52796212"
      },
      "outputs": [
        {
          "output_type": "execute_result",
          "data": {
            "text/plain": [
              "'cuoi.tuoitre.vn'"
            ],
            "application/vnd.google.colaboratory.intrinsic+json": {
              "type": "string"
            }
          },
          "metadata": {},
          "execution_count": 83
        }
      ],
      "source": [
        "re.search(r'^(?:https?://)?(?:www.)?(\\w+(?:[.-]\\w+)*)\\b', \\\n",
        "        'www.cuoi.tuoitre.vn/somthing/ss/s/ssd/chuyen-gia-michelin-am-tham-danh-gia-quan-hu-tieu-binh-dan-20230617174701624.htm').groups()[0]"
      ]
    },
    {
      "cell_type": "code",
      "execution_count": null,
      "metadata": {
        "id": "6R19_eeFTbMS"
      },
      "outputs": [],
      "source": [
        "def get_domain_name(link):\n",
        "    return re.search(r'^(?:https?://)?(?:www.)?(\\w+(?:[.-]\\w+)*)\\b', link).groups()[0]"
      ]
    },
    {
      "cell_type": "code",
      "execution_count": null,
      "metadata": {
        "id": "zweGqzjeTzDD"
      },
      "outputs": [],
      "source": [
        "df['domain_name'] = df.apply(lambda row: get_domain_name(row['article_link']), axis=1)"
      ]
    },
    {
      "cell_type": "code",
      "execution_count": null,
      "metadata": {
        "colab": {
          "base_uri": "https://localhost:8080/"
        },
        "id": "08nQt1wlUSl0",
        "outputId": "6f365141-a27d-40aa-f524-067335c83b53"
      },
      "outputs": [
        {
          "output_type": "stream",
          "name": "stdout",
          "text": [
            "<class 'pandas.core.frame.DataFrame'>\n",
            "RangeIndex: 4988 entries, 0 to 4987\n",
            "Data columns (total 4 columns):\n",
            " #   Column        Non-Null Count  Dtype \n",
            "---  ------        --------------  ----- \n",
            " 0   is_sarcastic  4988 non-null   uint8 \n",
            " 1   headline      4988 non-null   object\n",
            " 2   article_link  4988 non-null   object\n",
            " 3   domain_name   4988 non-null   object\n",
            "dtypes: object(3), uint8(1)\n",
            "memory usage: 121.9+ KB\n"
          ]
        }
      ],
      "source": [
        "df.info()"
      ]
    },
    {
      "cell_type": "code",
      "execution_count": null,
      "metadata": {
        "colab": {
          "base_uri": "https://localhost:8080/"
        },
        "id": "SqBC9zQjXT7d",
        "outputId": "3997ceb1-0173-4af2-df54-d151d70b772d"
      },
      "outputs": [
        {
          "output_type": "execute_result",
          "data": {
            "text/plain": [
              "          domain_name\n",
              "0     cuoi.tuoitre.vn\n",
              "1     cuoi.tuoitre.vn\n",
              "2     cuoi.tuoitre.vn\n",
              "3     cuoi.tuoitre.vn\n",
              "4     cuoi.tuoitre.vn\n",
              "...               ...\n",
              "4983        kenh14.vn\n",
              "4984        kenh14.vn\n",
              "4985        kenh14.vn\n",
              "4986        kenh14.vn\n",
              "4987  cuoi.tuoitre.vn\n",
              "\n",
              "[4988 rows x 1 columns]"
            ],
            "text/html": [
              "\n",
              "  <div id=\"df-8c1b55c6-b291-45eb-bc5a-977a34932333\">\n",
              "    <div class=\"colab-df-container\">\n",
              "      <div>\n",
              "<style scoped>\n",
              "    .dataframe tbody tr th:only-of-type {\n",
              "        vertical-align: middle;\n",
              "    }\n",
              "\n",
              "    .dataframe tbody tr th {\n",
              "        vertical-align: top;\n",
              "    }\n",
              "\n",
              "    .dataframe thead th {\n",
              "        text-align: right;\n",
              "    }\n",
              "</style>\n",
              "<table border=\"1\" class=\"dataframe\">\n",
              "  <thead>\n",
              "    <tr style=\"text-align: right;\">\n",
              "      <th></th>\n",
              "      <th>domain_name</th>\n",
              "    </tr>\n",
              "  </thead>\n",
              "  <tbody>\n",
              "    <tr>\n",
              "      <th>0</th>\n",
              "      <td>cuoi.tuoitre.vn</td>\n",
              "    </tr>\n",
              "    <tr>\n",
              "      <th>1</th>\n",
              "      <td>cuoi.tuoitre.vn</td>\n",
              "    </tr>\n",
              "    <tr>\n",
              "      <th>2</th>\n",
              "      <td>cuoi.tuoitre.vn</td>\n",
              "    </tr>\n",
              "    <tr>\n",
              "      <th>3</th>\n",
              "      <td>cuoi.tuoitre.vn</td>\n",
              "    </tr>\n",
              "    <tr>\n",
              "      <th>4</th>\n",
              "      <td>cuoi.tuoitre.vn</td>\n",
              "    </tr>\n",
              "    <tr>\n",
              "      <th>...</th>\n",
              "      <td>...</td>\n",
              "    </tr>\n",
              "    <tr>\n",
              "      <th>4983</th>\n",
              "      <td>kenh14.vn</td>\n",
              "    </tr>\n",
              "    <tr>\n",
              "      <th>4984</th>\n",
              "      <td>kenh14.vn</td>\n",
              "    </tr>\n",
              "    <tr>\n",
              "      <th>4985</th>\n",
              "      <td>kenh14.vn</td>\n",
              "    </tr>\n",
              "    <tr>\n",
              "      <th>4986</th>\n",
              "      <td>kenh14.vn</td>\n",
              "    </tr>\n",
              "    <tr>\n",
              "      <th>4987</th>\n",
              "      <td>cuoi.tuoitre.vn</td>\n",
              "    </tr>\n",
              "  </tbody>\n",
              "</table>\n",
              "<p>4988 rows × 1 columns</p>\n",
              "</div>\n",
              "      <button class=\"colab-df-convert\" onclick=\"convertToInteractive('df-8c1b55c6-b291-45eb-bc5a-977a34932333')\"\n",
              "              title=\"Convert this dataframe to an interactive table.\"\n",
              "              style=\"display:none;\">\n",
              "        \n",
              "  <svg xmlns=\"http://www.w3.org/2000/svg\" height=\"24px\"viewBox=\"0 0 24 24\"\n",
              "       width=\"24px\">\n",
              "    <path d=\"M0 0h24v24H0V0z\" fill=\"none\"/>\n",
              "    <path d=\"M18.56 5.44l.94 2.06.94-2.06 2.06-.94-2.06-.94-.94-2.06-.94 2.06-2.06.94zm-11 1L8.5 8.5l.94-2.06 2.06-.94-2.06-.94L8.5 2.5l-.94 2.06-2.06.94zm10 10l.94 2.06.94-2.06 2.06-.94-2.06-.94-.94-2.06-.94 2.06-2.06.94z\"/><path d=\"M17.41 7.96l-1.37-1.37c-.4-.4-.92-.59-1.43-.59-.52 0-1.04.2-1.43.59L10.3 9.45l-7.72 7.72c-.78.78-.78 2.05 0 2.83L4 21.41c.39.39.9.59 1.41.59.51 0 1.02-.2 1.41-.59l7.78-7.78 2.81-2.81c.8-.78.8-2.07 0-2.86zM5.41 20L4 18.59l7.72-7.72 1.47 1.35L5.41 20z\"/>\n",
              "  </svg>\n",
              "      </button>\n",
              "      \n",
              "  <style>\n",
              "    .colab-df-container {\n",
              "      display:flex;\n",
              "      flex-wrap:wrap;\n",
              "      gap: 12px;\n",
              "    }\n",
              "\n",
              "    .colab-df-convert {\n",
              "      background-color: #E8F0FE;\n",
              "      border: none;\n",
              "      border-radius: 50%;\n",
              "      cursor: pointer;\n",
              "      display: none;\n",
              "      fill: #1967D2;\n",
              "      height: 32px;\n",
              "      padding: 0 0 0 0;\n",
              "      width: 32px;\n",
              "    }\n",
              "\n",
              "    .colab-df-convert:hover {\n",
              "      background-color: #E2EBFA;\n",
              "      box-shadow: 0px 1px 2px rgba(60, 64, 67, 0.3), 0px 1px 3px 1px rgba(60, 64, 67, 0.15);\n",
              "      fill: #174EA6;\n",
              "    }\n",
              "\n",
              "    [theme=dark] .colab-df-convert {\n",
              "      background-color: #3B4455;\n",
              "      fill: #D2E3FC;\n",
              "    }\n",
              "\n",
              "    [theme=dark] .colab-df-convert:hover {\n",
              "      background-color: #434B5C;\n",
              "      box-shadow: 0px 1px 3px 1px rgba(0, 0, 0, 0.15);\n",
              "      filter: drop-shadow(0px 1px 2px rgba(0, 0, 0, 0.3));\n",
              "      fill: #FFFFFF;\n",
              "    }\n",
              "  </style>\n",
              "\n",
              "      <script>\n",
              "        const buttonEl =\n",
              "          document.querySelector('#df-8c1b55c6-b291-45eb-bc5a-977a34932333 button.colab-df-convert');\n",
              "        buttonEl.style.display =\n",
              "          google.colab.kernel.accessAllowed ? 'block' : 'none';\n",
              "\n",
              "        async function convertToInteractive(key) {\n",
              "          const element = document.querySelector('#df-8c1b55c6-b291-45eb-bc5a-977a34932333');\n",
              "          const dataTable =\n",
              "            await google.colab.kernel.invokeFunction('convertToInteractive',\n",
              "                                                     [key], {});\n",
              "          if (!dataTable) return;\n",
              "\n",
              "          const docLinkHtml = 'Like what you see? Visit the ' +\n",
              "            '<a target=\"_blank\" href=https://colab.research.google.com/notebooks/data_table.ipynb>data table notebook</a>'\n",
              "            + ' to learn more about interactive tables.';\n",
              "          element.innerHTML = '';\n",
              "          dataTable['output_type'] = 'display_data';\n",
              "          await google.colab.output.renderOutput(dataTable, element);\n",
              "          const docLink = document.createElement('div');\n",
              "          docLink.innerHTML = docLinkHtml;\n",
              "          element.appendChild(docLink);\n",
              "        }\n",
              "      </script>\n",
              "    </div>\n",
              "  </div>\n",
              "  "
            ]
          },
          "metadata": {},
          "execution_count": 87
        }
      ],
      "source": [
        "df[['domain_name']]"
      ]
    },
    {
      "cell_type": "code",
      "execution_count": null,
      "metadata": {
        "colab": {
          "base_uri": "https://localhost:8080/"
        },
        "id": "mF4JA5IqXN7f",
        "outputId": "e2272c1e-8387-4aa3-cfd3-16221a240fc9"
      },
      "outputs": [
        {
          "output_type": "execute_result",
          "data": {
            "text/plain": [
              "array(['cuoi.tuoitre.vn', 'nhandan.vn', 'vtv.vn', 'vnexpress.net',\n",
              "       '24h.com.vn', 'dantri.com.vn', 'tuoitre.vn', 'baothanhhoa.vn',\n",
              "       'thanhnien.vn', 'vtc.vn', 'xabuon.com', 'facebook.com', 'we25.vn',\n",
              "       'soha.vn', 'spiderum.com', 'Ba', 'antv.gov.vn',\n",
              "       'video.vnexpress.net', 'youtube.com', 'laodong.vn',\n",
              "       'doisongphapluat.com', 'kenh14.vn', 'vneconomy.vn',\n",
              "       'thesaigontimes.vn', 'tuyengiao.vn',\n",
              "       'phapluat.tuoitrethudo.com.vn', 'lifestyle.zingnews.vn',\n",
              "       'doanhnghiepvn.vn', 'zingnews.vn', 'tech.zingnews.vn',\n",
              "       'bongdaplus.vn', 'vov.vn', '2sao.vn', 'cuoituan.tuoitre.vn',\n",
              "       'kienthuc.net.vn', 'nguoiduatin.vn', 'saostar.vn', 'vietnamnet.vn',\n",
              "       'hhttps', 'tuoitre.vnhttps'], dtype=object)"
            ]
          },
          "metadata": {},
          "execution_count": 88
        }
      ],
      "source": [
        "df.domain_name.unique()"
      ]
    },
    {
      "cell_type": "markdown",
      "metadata": {
        "id": "ZyO-6pwLX6ES"
      },
      "source": [
        "Tới đây lại thấy human mistakes, chẳng hạn Ba??? hhttps?? tuoitre.vnhttps??? Tên miền lạ quá, check thử thì thấy đúng là human mistakes thiệt (như cell dưới nè) :) , well, vì số lượng nhỏ nên là mình típ tục sửa bằng tay...\n",
        "\n",
        "Edit 1: Nếu nhìn ở cell trên không thấy human mistakes, vậy mistake từ tui (Uyên =)) ), tui nói vậy vì khi chạy lần 2 thì tới chỗ này nó bị lỗi, nên nếu mn chạy mà thấy cell ở đây lỗi thì xóa từ đây cho tới seem good giùm tui."
      ]
    },
    {
      "cell_type": "code",
      "execution_count": null,
      "metadata": {
        "colab": {
          "base_uri": "https://localhost:8080/"
        },
        "id": "xbQnWKVkYl4I",
        "outputId": "d9912567-ad08-4835-a424-0d15a1df5950"
      },
      "outputs": [
        {
          "output_type": "execute_result",
          "data": {
            "text/plain": [
              "                                               headline  \\\n",
              "3273  Bàn về chính_sách không nhập_tịch vận_động_viê...   \n",
              "3951             Elon_Musk bị kiện vì thổi giá Dogecoin   \n",
              "4379  Đã bắt Y Thô_Ayun , một trong những nghi phạm ...   \n",
              "4381  Podcast : Cô_giáo Lê_Thị_Dung được giảm 45 thá...   \n",
              "4382  Cách uống trà tiết_lộ bạn bị_động hay chủ_động...   \n",
              "4383  Jennie_Blackpink bị Cnet tố ' lười_biếng ' khi...   \n",
              "4384  Bữa ăn trên máy_bay : Ngon hay_dở , sang hay x...   \n",
              "4385  Nhạc_sĩ Khắc_Huề : Nhạc tiền_chiến đã từng ăn_...   \n",
              "\n",
              "                                           article_link      domain_name  \n",
              "3273  Bàn về chính sách không nhập tịch vận đ...               Ba  \n",
              "3951  hhttps://vnexpress.net/elon-musk-bi-kien-vi-th...           hhttps  \n",
              "4379  https://tuoitre.vnhttps://tuoitre.vn/video/vu-...  tuoitre.vnhttps  \n",
              "4381  https://tuoitre.vnhttps://podcast.tuoitre.vn/p...  tuoitre.vnhttps  \n",
              "4382  https://tuoitre.vnhttps://cuoi.tuoitre.vn/cach...  tuoitre.vnhttps  \n",
              "4383  https://tuoitre.vnhttps://cuoi.tuoitre.vn/jenn...  tuoitre.vnhttps  \n",
              "4384  https://tuoitre.vnhttps://cuoituan.tuoitre.vn/...  tuoitre.vnhttps  \n",
              "4385  https://tuoitre.vnhttps://cuoituan.tuoitre.vn/...  tuoitre.vnhttps  "
            ],
            "text/html": [
              "\n",
              "  <div id=\"df-cc6cab4a-fcfa-4f76-a013-734a2cf5b9bb\">\n",
              "    <div class=\"colab-df-container\">\n",
              "      <div>\n",
              "<style scoped>\n",
              "    .dataframe tbody tr th:only-of-type {\n",
              "        vertical-align: middle;\n",
              "    }\n",
              "\n",
              "    .dataframe tbody tr th {\n",
              "        vertical-align: top;\n",
              "    }\n",
              "\n",
              "    .dataframe thead th {\n",
              "        text-align: right;\n",
              "    }\n",
              "</style>\n",
              "<table border=\"1\" class=\"dataframe\">\n",
              "  <thead>\n",
              "    <tr style=\"text-align: right;\">\n",
              "      <th></th>\n",
              "      <th>headline</th>\n",
              "      <th>article_link</th>\n",
              "      <th>domain_name</th>\n",
              "    </tr>\n",
              "  </thead>\n",
              "  <tbody>\n",
              "    <tr>\n",
              "      <th>3273</th>\n",
              "      <td>Bàn về chính_sách không nhập_tịch vận_động_viê...</td>\n",
              "      <td>Bàn về chính sách không nhập tịch vận đ...</td>\n",
              "      <td>Ba</td>\n",
              "    </tr>\n",
              "    <tr>\n",
              "      <th>3951</th>\n",
              "      <td>Elon_Musk bị kiện vì thổi giá Dogecoin</td>\n",
              "      <td>hhttps://vnexpress.net/elon-musk-bi-kien-vi-th...</td>\n",
              "      <td>hhttps</td>\n",
              "    </tr>\n",
              "    <tr>\n",
              "      <th>4379</th>\n",
              "      <td>Đã bắt Y Thô_Ayun , một trong những nghi phạm ...</td>\n",
              "      <td>https://tuoitre.vnhttps://tuoitre.vn/video/vu-...</td>\n",
              "      <td>tuoitre.vnhttps</td>\n",
              "    </tr>\n",
              "    <tr>\n",
              "      <th>4381</th>\n",
              "      <td>Podcast : Cô_giáo Lê_Thị_Dung được giảm 45 thá...</td>\n",
              "      <td>https://tuoitre.vnhttps://podcast.tuoitre.vn/p...</td>\n",
              "      <td>tuoitre.vnhttps</td>\n",
              "    </tr>\n",
              "    <tr>\n",
              "      <th>4382</th>\n",
              "      <td>Cách uống trà tiết_lộ bạn bị_động hay chủ_động...</td>\n",
              "      <td>https://tuoitre.vnhttps://cuoi.tuoitre.vn/cach...</td>\n",
              "      <td>tuoitre.vnhttps</td>\n",
              "    </tr>\n",
              "    <tr>\n",
              "      <th>4383</th>\n",
              "      <td>Jennie_Blackpink bị Cnet tố ' lười_biếng ' khi...</td>\n",
              "      <td>https://tuoitre.vnhttps://cuoi.tuoitre.vn/jenn...</td>\n",
              "      <td>tuoitre.vnhttps</td>\n",
              "    </tr>\n",
              "    <tr>\n",
              "      <th>4384</th>\n",
              "      <td>Bữa ăn trên máy_bay : Ngon hay_dở , sang hay x...</td>\n",
              "      <td>https://tuoitre.vnhttps://cuoituan.tuoitre.vn/...</td>\n",
              "      <td>tuoitre.vnhttps</td>\n",
              "    </tr>\n",
              "    <tr>\n",
              "      <th>4385</th>\n",
              "      <td>Nhạc_sĩ Khắc_Huề : Nhạc tiền_chiến đã từng ăn_...</td>\n",
              "      <td>https://tuoitre.vnhttps://cuoituan.tuoitre.vn/...</td>\n",
              "      <td>tuoitre.vnhttps</td>\n",
              "    </tr>\n",
              "  </tbody>\n",
              "</table>\n",
              "</div>\n",
              "      <button class=\"colab-df-convert\" onclick=\"convertToInteractive('df-cc6cab4a-fcfa-4f76-a013-734a2cf5b9bb')\"\n",
              "              title=\"Convert this dataframe to an interactive table.\"\n",
              "              style=\"display:none;\">\n",
              "        \n",
              "  <svg xmlns=\"http://www.w3.org/2000/svg\" height=\"24px\"viewBox=\"0 0 24 24\"\n",
              "       width=\"24px\">\n",
              "    <path d=\"M0 0h24v24H0V0z\" fill=\"none\"/>\n",
              "    <path d=\"M18.56 5.44l.94 2.06.94-2.06 2.06-.94-2.06-.94-.94-2.06-.94 2.06-2.06.94zm-11 1L8.5 8.5l.94-2.06 2.06-.94-2.06-.94L8.5 2.5l-.94 2.06-2.06.94zm10 10l.94 2.06.94-2.06 2.06-.94-2.06-.94-.94-2.06-.94 2.06-2.06.94z\"/><path d=\"M17.41 7.96l-1.37-1.37c-.4-.4-.92-.59-1.43-.59-.52 0-1.04.2-1.43.59L10.3 9.45l-7.72 7.72c-.78.78-.78 2.05 0 2.83L4 21.41c.39.39.9.59 1.41.59.51 0 1.02-.2 1.41-.59l7.78-7.78 2.81-2.81c.8-.78.8-2.07 0-2.86zM5.41 20L4 18.59l7.72-7.72 1.47 1.35L5.41 20z\"/>\n",
              "  </svg>\n",
              "      </button>\n",
              "      \n",
              "  <style>\n",
              "    .colab-df-container {\n",
              "      display:flex;\n",
              "      flex-wrap:wrap;\n",
              "      gap: 12px;\n",
              "    }\n",
              "\n",
              "    .colab-df-convert {\n",
              "      background-color: #E8F0FE;\n",
              "      border: none;\n",
              "      border-radius: 50%;\n",
              "      cursor: pointer;\n",
              "      display: none;\n",
              "      fill: #1967D2;\n",
              "      height: 32px;\n",
              "      padding: 0 0 0 0;\n",
              "      width: 32px;\n",
              "    }\n",
              "\n",
              "    .colab-df-convert:hover {\n",
              "      background-color: #E2EBFA;\n",
              "      box-shadow: 0px 1px 2px rgba(60, 64, 67, 0.3), 0px 1px 3px 1px rgba(60, 64, 67, 0.15);\n",
              "      fill: #174EA6;\n",
              "    }\n",
              "\n",
              "    [theme=dark] .colab-df-convert {\n",
              "      background-color: #3B4455;\n",
              "      fill: #D2E3FC;\n",
              "    }\n",
              "\n",
              "    [theme=dark] .colab-df-convert:hover {\n",
              "      background-color: #434B5C;\n",
              "      box-shadow: 0px 1px 3px 1px rgba(0, 0, 0, 0.15);\n",
              "      filter: drop-shadow(0px 1px 2px rgba(0, 0, 0, 0.3));\n",
              "      fill: #FFFFFF;\n",
              "    }\n",
              "  </style>\n",
              "\n",
              "      <script>\n",
              "        const buttonEl =\n",
              "          document.querySelector('#df-cc6cab4a-fcfa-4f76-a013-734a2cf5b9bb button.colab-df-convert');\n",
              "        buttonEl.style.display =\n",
              "          google.colab.kernel.accessAllowed ? 'block' : 'none';\n",
              "\n",
              "        async function convertToInteractive(key) {\n",
              "          const element = document.querySelector('#df-cc6cab4a-fcfa-4f76-a013-734a2cf5b9bb');\n",
              "          const dataTable =\n",
              "            await google.colab.kernel.invokeFunction('convertToInteractive',\n",
              "                                                     [key], {});\n",
              "          if (!dataTable) return;\n",
              "\n",
              "          const docLinkHtml = 'Like what you see? Visit the ' +\n",
              "            '<a target=\"_blank\" href=https://colab.research.google.com/notebooks/data_table.ipynb>data table notebook</a>'\n",
              "            + ' to learn more about interactive tables.';\n",
              "          element.innerHTML = '';\n",
              "          dataTable['output_type'] = 'display_data';\n",
              "          await google.colab.output.renderOutput(dataTable, element);\n",
              "          const docLink = document.createElement('div');\n",
              "          docLink.innerHTML = docLinkHtml;\n",
              "          element.appendChild(docLink);\n",
              "        }\n",
              "      </script>\n",
              "    </div>\n",
              "  </div>\n",
              "  "
            ]
          },
          "metadata": {},
          "execution_count": 89
        }
      ],
      "source": [
        "df.iloc[[3273, 3951, 4379, 4381, 4382, 4383, 4384, 4385]][['headline', 'article_link', 'domain_name']]"
      ]
    },
    {
      "cell_type": "markdown",
      "metadata": {
        "id": "0HIDNXS5ZO9b"
      },
      "source": [
        "Row 3273, vì ko có link nên best practice là drop lun he"
      ]
    },
    {
      "cell_type": "code",
      "execution_count": null,
      "metadata": {
        "id": "VmySmJeZXK9F"
      },
      "outputs": [],
      "source": [
        "df = df.drop([3273])"
      ]
    },
    {
      "cell_type": "code",
      "execution_count": null,
      "metadata": {
        "id": "_r4wabp9ZZ56"
      },
      "outputs": [],
      "source": [
        "df.at[3951, 'article_link'] = 'https://vnexpress.net/elon-musk-bi-kien-vi-thoi-gia-dogecoin-4612891.html'\n",
        "df.at[4379, 'article_link'] = 'https://tuoitre.vn/video/vu-tan-cong-2-tru-so-ubnd-xa-o-dak-lak-da-bat-47-nghi-pham-lien-quan-co-ke-cam-dau-144372.htm'\n",
        "df.at[4381, 'article_link'] = 'https://podcast.tuoitre.vn/podcast-co-giao-le-thi-dung-duoc-giam-45-thang-tu-tand-tinh-nghe-an-giai-thich-gi-ve-chuyen-nay-3217.htm'\n",
        "df.at[4382, 'article_link'] = 'https://cuoi.tuoitre.vn/cach-uong-tra-tiet-lo-ban-bi-dong-hay-chu-dong-tim-kiem-tinh-yeu-20230614103228045.htm'\n",
        "df.at[4383, 'article_link'] = 'https://cuoi.tuoitre.vn/jennie-blackpink-bi-cnet-to-luoi-bieng-khi-bat-ngo-roi-concert-20230615163555364.htm'\n",
        "df.at[4384, 'article_link'] = 'https://cuoituan.tuoitre.vn/bua-an-tren-may-bay-ngon-hay-do-sang-hay-xoang-20230607083900181.htm'\n",
        "df.at[4385, 'article_link'] = 'https://cuoituan.tuoitre.vn/nhac-si-khac-hue-nhac-tien-chien-da-tung-an-khach-20230607092225963.htm'"
      ]
    },
    {
      "cell_type": "markdown",
      "metadata": {
        "id": "lEXCSCr1aKax"
      },
      "source": [
        "Ok.. mình lại clean xong, thử check lại nèoooo"
      ]
    },
    {
      "cell_type": "code",
      "execution_count": null,
      "metadata": {
        "id": "rONtiXJoaGQK"
      },
      "outputs": [],
      "source": [
        "df['domain_name'] = df.apply(lambda row: get_domain_name(row['article_link']), axis=1)"
      ]
    },
    {
      "cell_type": "code",
      "execution_count": null,
      "metadata": {
        "colab": {
          "base_uri": "https://localhost:8080/"
        },
        "id": "IqM-ZIfdamCU",
        "outputId": "bd963266-3e0c-4ea3-fd9a-3ecb8b51773f"
      },
      "outputs": [
        {
          "output_type": "execute_result",
          "data": {
            "text/plain": [
              "array(['cuoi.tuoitre.vn', 'nhandan.vn', 'vtv.vn', 'vnexpress.net',\n",
              "       '24h.com.vn', 'dantri.com.vn', 'tuoitre.vn', 'baothanhhoa.vn',\n",
              "       'thanhnien.vn', 'vtc.vn', 'xabuon.com', 'facebook.com', 'we25.vn',\n",
              "       'soha.vn', 'spiderum.com', 'antv.gov.vn', 'video.vnexpress.net',\n",
              "       'youtube.com', 'laodong.vn', 'doisongphapluat.com', 'kenh14.vn',\n",
              "       'vneconomy.vn', 'thesaigontimes.vn', 'tuyengiao.vn',\n",
              "       'phapluat.tuoitrethudo.com.vn', 'lifestyle.zingnews.vn',\n",
              "       'doanhnghiepvn.vn', 'zingnews.vn', 'tech.zingnews.vn',\n",
              "       'bongdaplus.vn', 'vov.vn', '2sao.vn', 'cuoituan.tuoitre.vn',\n",
              "       'kienthuc.net.vn', 'nguoiduatin.vn', 'saostar.vn', 'vietnamnet.vn',\n",
              "       'podcast.tuoitre.vn'], dtype=object)"
            ]
          },
          "metadata": {},
          "execution_count": 93
        }
      ],
      "source": [
        "df.domain_name.unique()"
      ]
    },
    {
      "cell_type": "markdown",
      "metadata": {
        "id": "iBLPB9S8aT3n"
      },
      "source": [
        "Uh huh, seem good, now encode it!!"
      ]
    },
    {
      "cell_type": "code",
      "execution_count": null,
      "metadata": {
        "id": "sPBnh5RBaQJV"
      },
      "outputs": [],
      "source": [
        "domain_names = sorted(list(df.domain_name.unique()))"
      ]
    },
    {
      "cell_type": "code",
      "execution_count": null,
      "metadata": {
        "colab": {
          "base_uri": "https://localhost:8080/"
        },
        "id": "JCQS6sZ4a9dE",
        "outputId": "1490036f-9dc8-465b-cff8-974ee709d6e4"
      },
      "outputs": [
        {
          "output_type": "execute_result",
          "data": {
            "text/plain": [
              "['24h.com.vn',\n",
              " '2sao.vn',\n",
              " 'antv.gov.vn',\n",
              " 'baothanhhoa.vn',\n",
              " 'bongdaplus.vn',\n",
              " 'cuoi.tuoitre.vn',\n",
              " 'cuoituan.tuoitre.vn',\n",
              " 'dantri.com.vn',\n",
              " 'doanhnghiepvn.vn',\n",
              " 'doisongphapluat.com',\n",
              " 'facebook.com',\n",
              " 'kenh14.vn',\n",
              " 'kienthuc.net.vn',\n",
              " 'laodong.vn',\n",
              " 'lifestyle.zingnews.vn',\n",
              " 'nguoiduatin.vn',\n",
              " 'nhandan.vn',\n",
              " 'phapluat.tuoitrethudo.com.vn',\n",
              " 'podcast.tuoitre.vn',\n",
              " 'saostar.vn',\n",
              " 'soha.vn',\n",
              " 'spiderum.com',\n",
              " 'tech.zingnews.vn',\n",
              " 'thanhnien.vn',\n",
              " 'thesaigontimes.vn',\n",
              " 'tuoitre.vn',\n",
              " 'tuyengiao.vn',\n",
              " 'video.vnexpress.net',\n",
              " 'vietnamnet.vn',\n",
              " 'vneconomy.vn',\n",
              " 'vnexpress.net',\n",
              " 'vov.vn',\n",
              " 'vtc.vn',\n",
              " 'vtv.vn',\n",
              " 'we25.vn',\n",
              " 'xabuon.com',\n",
              " 'youtube.com',\n",
              " 'zingnews.vn']"
            ]
          },
          "metadata": {},
          "execution_count": 95
        }
      ],
      "source": [
        "domain_names"
      ]
    },
    {
      "cell_type": "code",
      "execution_count": null,
      "metadata": {
        "colab": {
          "base_uri": "https://localhost:8080/"
        },
        "id": "_HONh3FJa36Y",
        "outputId": "e01565a1-fbe3-43a0-9517-ac3207625083"
      },
      "outputs": [
        {
          "output_type": "execute_result",
          "data": {
            "text/plain": [
              "'nhandan.vn'"
            ],
            "application/vnd.google.colaboratory.intrinsic+json": {
              "type": "string"
            }
          },
          "metadata": {},
          "execution_count": 96
        }
      ],
      "source": [
        "df.at[100, 'domain_name']"
      ]
    },
    {
      "cell_type": "code",
      "execution_count": null,
      "metadata": {
        "colab": {
          "base_uri": "https://localhost:8080/"
        },
        "id": "7wNPerl8avQh",
        "outputId": "17619b72-322f-40d8-d3d4-803f71036bbb"
      },
      "outputs": [
        {
          "output_type": "execute_result",
          "data": {
            "text/plain": [
              "16"
            ]
          },
          "metadata": {},
          "execution_count": 97
        }
      ],
      "source": [
        "domain_names.index(df.at[100, 'domain_name'])"
      ]
    },
    {
      "cell_type": "code",
      "execution_count": null,
      "metadata": {
        "id": "lSb5vqoPaYoS"
      },
      "outputs": [],
      "source": [
        "df['encoded_domain_name'] = df.apply(lambda row: domain_names.index(row['domain_name']), axis=1)"
      ]
    },
    {
      "cell_type": "code",
      "execution_count": null,
      "metadata": {
        "colab": {
          "base_uri": "https://localhost:8080/"
        },
        "id": "bN3rQLzzbcX1",
        "outputId": "d9e6912c-6121-45f6-bd52-5fb54cf71920"
      },
      "outputs": [
        {
          "output_type": "stream",
          "name": "stdout",
          "text": [
            "<class 'pandas.core.frame.DataFrame'>\n",
            "Int64Index: 4987 entries, 0 to 4987\n",
            "Data columns (total 5 columns):\n",
            " #   Column               Non-Null Count  Dtype \n",
            "---  ------               --------------  ----- \n",
            " 0   is_sarcastic         4987 non-null   uint8 \n",
            " 1   headline             4987 non-null   object\n",
            " 2   article_link         4987 non-null   object\n",
            " 3   domain_name          4987 non-null   object\n",
            " 4   encoded_domain_name  4987 non-null   int64 \n",
            "dtypes: int64(1), object(3), uint8(1)\n",
            "memory usage: 328.7+ KB\n"
          ]
        }
      ],
      "source": [
        "df.info()"
      ]
    },
    {
      "cell_type": "markdown",
      "metadata": {
        "id": "7Xh0cUB4jrDb"
      },
      "source": [
        "##### Encode headlines\n",
        "\n",
        "This usually took 17 minutes to encode, so if you just want to test my results or have fun with my model, please navigate to [Playground](https://colab.research.google.com/drive/1M5FrgKJrESES-vnnrCbLdRV4JZGWci6E#scrollTo=oXbT7lY7PvR0) part at the end of this notebook."
      ]
    },
    {
      "cell_type": "code",
      "execution_count": null,
      "metadata": {
        "id": "4lWOSww2QfTK"
      },
      "outputs": [],
      "source": [
        "import torch\n",
        "from transformers import AutoModel, AutoTokenizer"
      ]
    },
    {
      "cell_type": "markdown",
      "metadata": {
        "id": "m4Dil26YC3OO"
      },
      "source": [
        "https://huggingface.co/docs/transformers/model_doc/phobert"
      ]
    },
    {
      "cell_type": "code",
      "execution_count": null,
      "metadata": {
        "colab": {
          "base_uri": "https://localhost:8080/"
        },
        "id": "Qe-XutxY1gLh",
        "outputId": "04dc8614-ed9b-40b3-fa8d-707797a6bb44"
      },
      "outputs": [
        {
          "output_type": "execute_result",
          "data": {
            "text/plain": [
              "32"
            ]
          },
          "metadata": {},
          "execution_count": 101
        }
      ],
      "source": [
        "max_len = 0\n",
        "for headline in df.headline:\n",
        "    max_len = max(max_len, len(headline.split(' ')))\n",
        "\n",
        "max_len"
      ]
    },
    {
      "cell_type": "markdown",
      "metadata": {
        "id": "nNm_LqSE2FCc"
      },
      "source": [
        "Max length of the given headline is 32. For sure, I'll accept a headline length 40 after segmented"
      ]
    },
    {
      "cell_type": "code",
      "execution_count": null,
      "metadata": {
        "colab": {
          "base_uri": "https://localhost:8080/",
          "height": 274,
          "referenced_widgets": [
            "3b9664bd11404a2eb536202ea6b7dfc1",
            "a08bed5ce488485293c0faa97ec5f31d",
            "04c5db034dfc453fbd63eff6c1c92865",
            "c34829e42e824a94a672eb9768cae21d",
            "d24f2be8a6d840c0b1124518e69ea1db",
            "c88d8a53dc0a4f1faeeb2ced95774a38",
            "f2a42f9bf54748d5a644c43ec4c90a12",
            "0fd565ca9bd0481f913b992c87ab45f1",
            "229fa85b152e41d0834383bf76ac370a",
            "51f465b670ac4d8f98ad1711b98a8ad7",
            "072b9d0bc59448b18b0a819dbd4c7a6f",
            "2975b6d894bb46ceac441a6871db5632",
            "8af753aab99e4b16bf7f0bbc29657a88",
            "f29228ecd1b140da882fb66afcffa5a9",
            "427facdef8e44089b74ba410d16b801e",
            "3e03eb3e16f346d7ab9e75629e27367a",
            "e8962c1af9d64ca58327eb0503999287",
            "19f77b7b22464d238c1398c8b56dd792",
            "6ed3327e74c2418182ac9958fb983bd2",
            "55bf99c9308749de95aacdb2d2e52d49",
            "9cb71ee28e044ca68465ef7c52ca97c3",
            "60ad2c68c2c6486fad4eb33b157bbba8",
            "8ba7e68953564ed7a688e09e173f16ad",
            "2572e5acfd344d9f87a08b57c473980f",
            "9c8ba379aa0e49129ef303869310ead6",
            "fe736b9ff53f4477a257156984ec673f",
            "b2e2fc5107d349a29a720e7dd4ff60bb",
            "9c3b874a32834ad68840813bf3ebc2d2",
            "d065c22476bd4ffd9d89f02352ba4dfe",
            "acb79fd5e05b4fa1888cd9e310f07662",
            "00098d40b3fd40faa8817a772998933b",
            "037926abdf8740f08bf520a6d08481d8",
            "500f7abc3eb1469ea5e1a0896ef0b3a5",
            "55a966b6cd5946c99baa83683c0548fa",
            "c114bf4bc9454e22a395551641b1ace4",
            "7c83f8b2d59547b4add13eea641dacbe",
            "829f69c502904616b8fe4c0c28095132",
            "546e36d3254f45f8a00b3c31d9d065b6",
            "a1d91fe36c714448906b68270bba9ed0",
            "1eb27289042f458aaadfe1135da1005f",
            "878c7b44d442475ab4dfeb92f1cbe676",
            "b611271fabcb45ce85c739d8dae1c004",
            "52620f3eacf64ed795116679079b5316",
            "3ddceaa927b04bdcacd701b0ca7769ee"
          ]
        },
        "id": "te3pT2H9Q3aA",
        "outputId": "e805ba4c-55fa-4f5f-b168-08952c004390"
      },
      "outputs": [
        {
          "output_type": "display_data",
          "data": {
            "text/plain": [
              "Downloading (…)lve/main/config.json:   0%|          | 0.00/678 [00:00<?, ?B/s]"
            ],
            "application/vnd.jupyter.widget-view+json": {
              "version_major": 2,
              "version_minor": 0,
              "model_id": "3b9664bd11404a2eb536202ea6b7dfc1"
            }
          },
          "metadata": {}
        },
        {
          "output_type": "display_data",
          "data": {
            "text/plain": [
              "Downloading pytorch_model.bin:   0%|          | 0.00/540M [00:00<?, ?B/s]"
            ],
            "application/vnd.jupyter.widget-view+json": {
              "version_major": 2,
              "version_minor": 0,
              "model_id": "2975b6d894bb46ceac441a6871db5632"
            }
          },
          "metadata": {}
        },
        {
          "output_type": "stream",
          "name": "stderr",
          "text": [
            "Some weights of the model checkpoint at vinai/phobert-base-v2 were not used when initializing RobertaModel: ['lm_head.layer_norm.bias', 'lm_head.bias', 'lm_head.layer_norm.weight', 'lm_head.dense.bias', 'lm_head.dense.weight']\n",
            "- This IS expected if you are initializing RobertaModel from the checkpoint of a model trained on another task or with another architecture (e.g. initializing a BertForSequenceClassification model from a BertForPreTraining model).\n",
            "- This IS NOT expected if you are initializing RobertaModel from the checkpoint of a model that you expect to be exactly identical (initializing a BertForSequenceClassification model from a BertForSequenceClassification model).\n",
            "Some weights of RobertaModel were not initialized from the model checkpoint at vinai/phobert-base-v2 and are newly initialized: ['roberta.pooler.dense.weight', 'roberta.pooler.dense.bias']\n",
            "You should probably TRAIN this model on a down-stream task to be able to use it for predictions and inference.\n"
          ]
        },
        {
          "output_type": "display_data",
          "data": {
            "text/plain": [
              "Downloading (…)solve/main/vocab.txt:   0%|          | 0.00/895k [00:00<?, ?B/s]"
            ],
            "application/vnd.jupyter.widget-view+json": {
              "version_major": 2,
              "version_minor": 0,
              "model_id": "8ba7e68953564ed7a688e09e173f16ad"
            }
          },
          "metadata": {}
        },
        {
          "output_type": "display_data",
          "data": {
            "text/plain": [
              "Downloading (…)solve/main/bpe.codes:   0%|          | 0.00/1.14M [00:00<?, ?B/s]"
            ],
            "application/vnd.jupyter.widget-view+json": {
              "version_major": 2,
              "version_minor": 0,
              "model_id": "55a966b6cd5946c99baa83683c0548fa"
            }
          },
          "metadata": {}
        },
        {
          "output_type": "stream",
          "name": "stderr",
          "text": [
            "Special tokens have been added in the vocabulary, make sure the associated word embeddings are fine-tuned or trained.\n"
          ]
        }
      ],
      "source": [
        "phobert = AutoModel.from_pretrained(\"vinai/phobert-base-v2\")\n",
        "tokenizer = AutoTokenizer.from_pretrained(\"vinai/phobert-base-v2\", model_max_length=50, padding_side='right')"
      ]
    },
    {
      "cell_type": "code",
      "execution_count": null,
      "metadata": {
        "id": "GQJk_xnf_6JS"
      },
      "outputs": [],
      "source": [
        "# INPUT TEXT MUST BE ALREADY WORD-SEGMENTED!\n",
        "sentence = 'Chúng_tôi là những nghiên_cứu_viên .'\n",
        "\n",
        "input_ids = torch.tensor([tokenizer.encode(sentence)])\n",
        "\n",
        "with torch.no_grad():\n",
        "    features = phobert(input_ids)  # Models outputs are now tuples\n"
      ]
    },
    {
      "cell_type": "code",
      "execution_count": null,
      "metadata": {
        "id": "eulLTvSDADQo",
        "colab": {
          "base_uri": "https://localhost:8080/"
        },
        "outputId": "4775f76d-3677-49be-8e81-f20da45142da"
      },
      "outputs": [
        {
          "output_type": "execute_result",
          "data": {
            "text/plain": [
              "BaseModelOutputWithPoolingAndCrossAttentions(last_hidden_state=tensor([[[ 3.8362e-02,  7.0703e-01, -1.3202e-01,  ..., -9.7446e-02,\n",
              "           2.5193e-01,  3.4828e-01],\n",
              "         [ 2.1041e-01,  2.3984e-01,  9.1060e-03,  ..., -3.2423e-04,\n",
              "          -1.7492e-01,  4.0127e-02],\n",
              "         [ 2.3745e-01,  9.8412e-03, -1.6509e-01,  ..., -4.3379e-02,\n",
              "          -7.5782e-02,  4.6838e-02],\n",
              "         ...,\n",
              "         [ 2.3041e-01,  3.7583e-01,  1.7601e-02,  ...,  7.8472e-02,\n",
              "           1.8661e-01,  5.2052e-02],\n",
              "         [-2.3020e-01,  5.0276e-01,  1.0913e-01,  ..., -7.3261e-02,\n",
              "           1.4339e-01,  1.8320e-01],\n",
              "         [ 1.8813e-01,  6.2870e-01, -2.4809e-01,  ..., -4.8115e-02,\n",
              "           1.6404e-01,  4.7204e-01]]]), pooler_output=tensor([[ 4.8969e-02,  2.9771e-02, -1.2664e-01, -1.7084e-03,  8.4410e-02,\n",
              "         -2.6195e-01,  6.4106e-02, -2.2721e-01, -8.0225e-02,  1.9737e-01,\n",
              "          7.9173e-02,  3.8484e-02, -4.9895e-02,  1.1739e-01, -1.9993e-01,\n",
              "          3.0486e-02, -3.5442e-01,  1.5142e-01,  3.9705e-02,  3.3269e-01,\n",
              "          6.9332e-03,  1.5272e-01, -3.6708e-02, -7.9701e-03,  1.5318e-01,\n",
              "         -1.1287e-01,  1.8410e-01, -1.7084e-01,  1.6469e-02, -8.0792e-02,\n",
              "         -1.3169e-01, -6.8834e-02, -5.3576e-02,  2.7751e-02,  1.0930e-03,\n",
              "          2.8798e-01, -6.1870e-02, -1.5787e-01,  1.4881e-02,  2.8780e-02,\n",
              "          1.1921e-01,  1.3574e-01, -2.0667e-01, -1.7073e-01,  2.0949e-01,\n",
              "          5.4674e-02,  2.6745e-01,  1.5754e-01, -1.3618e-01,  6.4414e-02,\n",
              "         -1.1037e-02, -2.0180e-01,  5.0450e-02,  4.6794e-02,  1.8109e-03,\n",
              "         -2.0101e-01, -1.0945e-02,  1.3384e-01,  9.1664e-02,  2.3777e-01,\n",
              "         -1.8819e-01, -1.4817e-02, -2.2302e-02,  6.5453e-02, -7.8439e-02,\n",
              "          1.4632e-01,  2.2294e-01,  1.1841e-01, -1.5523e-01,  1.7541e-02,\n",
              "          8.7631e-02,  2.3011e-02,  1.3798e-01, -1.6942e-01, -4.8203e-02,\n",
              "         -1.7621e-01, -5.3734e-02, -2.1374e-01,  2.2926e-01, -1.2520e-01,\n",
              "          3.7341e-02,  8.8905e-03, -9.4575e-02,  1.0098e-01, -8.6866e-02,\n",
              "         -1.2819e-02,  1.1989e-01, -7.9118e-02, -1.9561e-01,  1.0328e-03,\n",
              "         -5.6366e-02,  9.5372e-03, -1.2068e-01,  2.5424e-01, -1.4698e-01,\n",
              "          4.8106e-02,  2.0309e-01, -1.0144e-01,  2.2261e-02,  3.7147e-02,\n",
              "          3.0676e-02, -1.1388e-01, -7.9113e-02, -2.6230e-01,  1.5235e-01,\n",
              "         -2.0742e-01,  6.4304e-02,  8.2596e-02,  1.5538e-01,  6.3498e-02,\n",
              "          1.2305e-01, -2.8762e-01,  1.8500e-02,  2.0700e-01, -8.9971e-02,\n",
              "         -2.0649e-01,  1.6779e-01, -6.7759e-02, -1.8587e-01, -4.8066e-02,\n",
              "          3.1905e-01, -7.5431e-03, -2.8744e-01,  3.1675e-01, -4.3058e-02,\n",
              "         -3.2872e-02, -2.9666e-02,  1.7608e-01,  9.7267e-02,  8.4990e-02,\n",
              "          1.1097e-01, -7.0890e-02, -3.0536e-02, -3.2114e-01,  1.8325e-01,\n",
              "         -2.3782e-01,  1.1448e-01,  5.5051e-02,  1.5188e-01, -9.1128e-02,\n",
              "         -1.5882e-02,  1.0296e-01,  4.3445e-02,  3.6382e-02, -3.2095e-02,\n",
              "          6.6518e-02, -1.1783e-01,  3.1611e-01, -1.6303e-01, -9.7467e-02,\n",
              "          7.2854e-03, -5.5350e-02,  1.4692e-01,  9.0571e-02, -6.3232e-02,\n",
              "          7.7029e-02,  2.9436e-01, -2.2141e-01, -1.0853e-01,  1.2450e-01,\n",
              "         -1.7619e-02, -4.5616e-02,  3.6991e-01,  5.1836e-02,  7.5352e-02,\n",
              "         -8.6023e-02, -2.7524e-02, -1.6738e-01,  4.7191e-02, -8.5124e-02,\n",
              "         -1.5055e-01,  3.0111e-01,  1.0982e-01,  2.0662e-01,  1.2756e-01,\n",
              "          1.1378e-01,  6.5827e-03, -1.1250e-01,  1.2593e-02,  2.2550e-01,\n",
              "         -5.1316e-02,  2.3162e-01,  1.3104e-01, -8.4269e-02,  3.6924e-03,\n",
              "          1.2171e-02,  1.3255e-01, -4.5418e-02, -2.5232e-02,  1.8685e-02,\n",
              "         -3.8780e-02, -1.2344e-02,  2.0957e-01, -4.0386e-01, -4.3284e-02,\n",
              "         -7.4458e-02,  8.2950e-02, -4.0831e-02,  6.6471e-02,  1.3242e-01,\n",
              "          1.0735e-01,  1.0393e-02, -1.2881e-01, -1.2387e-01, -2.6605e-02,\n",
              "         -6.3379e-02, -3.5779e-03, -3.4001e-01, -1.3871e-01,  1.5516e-01,\n",
              "          2.1659e-02, -1.4097e-02,  1.9631e-02, -4.7865e-01, -5.3698e-02,\n",
              "          3.3203e-01,  2.5967e-02,  6.7327e-02, -7.0787e-02, -5.2069e-02,\n",
              "         -3.6511e-02, -4.8920e-02,  2.4023e-01,  2.9696e-01, -2.8417e-01,\n",
              "          1.4321e-01,  4.8044e-02, -7.2668e-02, -1.1598e-01, -2.8829e-02,\n",
              "         -4.2983e-02, -1.5715e-01,  3.3920e-02, -2.1197e-01, -1.4797e-01,\n",
              "          9.3827e-02,  1.8421e-01,  7.3693e-02, -6.3334e-05,  1.4058e-01,\n",
              "          2.8525e-01,  6.7922e-04,  1.7448e-01, -8.2914e-02,  1.2675e-01,\n",
              "          1.8580e-02, -1.1468e-01, -1.1141e-01,  6.1535e-02,  1.3203e-01,\n",
              "          1.1779e-01, -3.1208e-03,  1.3187e-01, -5.5512e-02,  1.1364e-01,\n",
              "         -3.5305e-01,  1.5696e-01, -2.6116e-01,  2.8417e-01, -7.5107e-03,\n",
              "         -1.9934e-01,  6.8944e-02,  1.7448e-01, -4.3566e-02, -3.3918e-02,\n",
              "         -7.3264e-02,  1.1117e-01, -1.2458e-01, -3.4237e-01,  2.2928e-01,\n",
              "          4.8126e-02,  1.2405e-01,  7.2585e-02,  2.5417e-02,  8.7947e-02,\n",
              "         -2.6246e-02, -2.6986e-01, -1.6210e-01,  1.0516e-01,  2.0394e-01,\n",
              "          2.1276e-02,  3.3266e-01, -2.7218e-02,  5.5960e-03,  1.1640e-01,\n",
              "          2.5017e-01,  8.9151e-02, -5.2226e-02, -1.2957e-01,  6.8758e-02,\n",
              "          1.8169e-01,  1.1386e-02,  1.1283e-01, -4.2730e-02, -1.8472e-01,\n",
              "         -3.2291e-01, -7.9127e-02,  1.4637e-01, -8.2545e-03,  7.4657e-02,\n",
              "          1.2111e-01,  1.2655e-02,  5.4587e-02,  3.3350e-02,  6.6933e-02,\n",
              "          2.4116e-01, -1.9751e-01, -1.8189e-01,  4.0707e-02, -1.7346e-01,\n",
              "          1.3155e-01, -1.8660e-01, -2.1451e-01,  2.6265e-02, -7.4641e-02,\n",
              "         -1.8254e-01, -9.7371e-02, -6.0294e-02,  2.3228e-01, -1.5110e-01,\n",
              "          1.4501e-01, -2.0524e-01,  6.9513e-02, -2.6127e-01, -1.5044e-02,\n",
              "          4.9207e-02,  2.5242e-02, -1.6099e-01, -7.2788e-02,  6.2529e-02,\n",
              "         -1.1179e-01,  9.5770e-02, -6.1440e-02, -9.7079e-02, -5.3306e-02,\n",
              "          2.3029e-03,  1.2610e-01,  5.9691e-02,  6.2580e-03, -3.8028e-02,\n",
              "         -3.4286e-02,  6.8229e-02, -1.4390e-01,  1.2119e-01,  3.0921e-02,\n",
              "         -2.0270e-01,  1.2794e-01, -1.8950e-02,  9.3811e-02, -1.4020e-02,\n",
              "         -1.2761e-01, -3.4491e-02, -1.2210e-01, -5.2347e-02, -1.5910e-02,\n",
              "         -2.7839e-02,  2.4411e-01,  8.4765e-02, -7.1675e-02, -7.9617e-02,\n",
              "          2.4472e-01,  9.0679e-02,  1.5802e-01, -1.2482e-01, -1.0168e-01,\n",
              "          2.3242e-01,  1.2569e-01,  4.1392e-02,  2.2201e-01, -6.6604e-02,\n",
              "          1.1922e-01, -2.0406e-02,  1.1669e-01,  1.1565e-01, -1.2934e-02,\n",
              "         -8.8981e-02,  4.4913e-02,  9.3775e-02,  2.1785e-03,  1.4460e-01,\n",
              "          2.9264e-01, -1.7740e-01,  1.7725e-02, -2.4377e-01,  8.2493e-02,\n",
              "         -4.5472e-02,  4.7645e-02,  8.4227e-02,  5.3180e-02,  1.0941e-01,\n",
              "         -1.1401e-01, -2.0345e-01, -8.8437e-02,  4.0867e-01, -1.7779e-01,\n",
              "          9.6112e-02, -9.0507e-02, -3.8674e-02,  1.4002e-01,  2.5760e-01,\n",
              "         -1.7458e-01, -3.9009e-02, -7.2889e-02, -2.1116e-01, -1.2278e-01,\n",
              "          9.5691e-03,  1.3088e-01,  5.8516e-02,  1.3568e-01,  7.1944e-02,\n",
              "          2.9723e-02,  1.1611e-01, -2.8021e-01, -1.7875e-01,  3.9048e-02,\n",
              "         -2.1182e-01, -6.4611e-02, -5.5580e-02, -1.3014e-01, -1.2207e-01,\n",
              "          5.6522e-02,  6.2468e-02,  3.7069e-02,  4.0157e-02, -2.0540e-02,\n",
              "          6.0388e-02,  1.6091e-01, -1.5043e-02, -1.3536e-01,  1.1097e-02,\n",
              "         -7.3537e-02,  1.5671e-01,  6.2824e-02,  8.2455e-02, -9.8875e-02,\n",
              "         -1.5686e-02, -7.6200e-02,  4.7810e-02,  1.3680e-03,  2.4317e-01,\n",
              "         -2.6997e-02, -8.3075e-02,  1.9935e-01,  1.5171e-01, -1.6455e-02,\n",
              "          1.7654e-01, -1.6847e-01,  1.4070e-01,  1.5404e-01,  9.9593e-02,\n",
              "          2.5476e-01,  3.7990e-02,  6.7501e-02,  1.8316e-01,  3.7325e-01,\n",
              "          9.6623e-02, -3.2531e-01, -3.0004e-01, -6.8094e-02, -1.7366e-01,\n",
              "          2.7454e-01,  1.5172e-02,  3.9888e-01,  1.4125e-01, -3.5755e-02,\n",
              "          3.1674e-01,  5.9723e-03, -1.1905e-01, -1.7594e-01,  1.3325e-01,\n",
              "         -2.5273e-01,  3.7246e-02,  2.6876e-01, -1.8146e-02,  1.1034e-01,\n",
              "         -1.0661e-01,  1.0817e-01,  4.9746e-02,  1.3630e-01,  1.2861e-02,\n",
              "          3.7057e-02,  1.4271e-01,  2.2247e-02, -1.6104e-01, -2.9169e-02,\n",
              "          3.9705e-02,  1.3143e-01, -2.4088e-01, -5.7775e-02, -1.1365e-01,\n",
              "          5.5269e-03, -2.8938e-01, -9.9305e-02,  2.5868e-02,  8.7330e-02,\n",
              "          1.1340e-01,  3.1535e-01, -5.1019e-02,  9.4392e-02,  1.0178e-01,\n",
              "          1.1962e-01,  1.4211e-02, -2.2517e-01, -5.7298e-02, -3.5230e-02,\n",
              "          1.1107e-01,  5.3720e-02, -4.8937e-02, -8.1965e-03,  3.1614e-02,\n",
              "          9.5396e-03, -1.1113e-02,  1.5882e-01,  8.0317e-02, -2.2941e-01,\n",
              "         -8.7134e-02,  1.6787e-02,  1.9893e-01, -1.0553e-01, -1.5241e-01,\n",
              "          4.5749e-02, -1.7228e-01, -1.6882e-01,  3.6046e-02, -4.1897e-02,\n",
              "          5.8848e-02,  6.2954e-02, -1.0454e-01, -1.6548e-01,  2.4060e-01,\n",
              "         -5.1098e-02, -2.3920e-01, -2.4600e-01,  1.6353e-01,  2.0291e-01,\n",
              "         -3.1790e-01,  8.5511e-02, -5.5107e-02,  4.9171e-02, -2.6761e-01,\n",
              "          7.6148e-02, -2.5213e-01, -5.2521e-02, -1.3970e-01, -7.1173e-03,\n",
              "          3.3466e-03, -6.3664e-02,  7.3286e-02, -1.8744e-01, -1.3717e-01,\n",
              "         -1.7109e-01,  1.5372e-01, -6.7390e-03, -2.9434e-01,  5.3136e-03,\n",
              "          1.4028e-02, -1.1740e-01,  2.8742e-02, -1.1439e-01, -1.3245e-01,\n",
              "         -1.0683e-01, -7.6974e-02, -2.8377e-02,  1.1493e-01, -1.8719e-01,\n",
              "         -2.1917e-04, -8.0911e-02,  1.3186e-01,  1.9391e-01, -3.0165e-01,\n",
              "          2.2801e-01,  4.5197e-02, -5.8943e-02, -1.4783e-01, -9.2011e-02,\n",
              "          1.1916e-01,  1.3063e-02,  1.3246e-01,  1.0534e-01,  1.5394e-01,\n",
              "          9.7912e-02, -6.5451e-02,  9.8006e-02,  1.8852e-01, -7.0667e-02,\n",
              "          1.9511e-01, -5.6934e-02,  1.5073e-01,  1.2209e-02,  1.0297e-02,\n",
              "         -1.1459e-01,  1.6913e-02, -4.5440e-02, -1.5815e-01, -5.0518e-02,\n",
              "          3.9563e-01,  8.3897e-02, -2.2252e-01, -2.0837e-02,  2.1716e-01,\n",
              "          1.2454e-01,  2.4128e-02, -1.4005e-01,  2.4230e-01,  4.0322e-02,\n",
              "          1.3750e-01, -1.8639e-02, -1.7372e-03, -8.7431e-02, -8.5766e-02,\n",
              "         -2.4481e-02, -1.0983e-01, -2.0357e-01,  1.1135e-01,  5.7460e-02,\n",
              "         -6.9039e-02,  1.2813e-01,  2.2752e-01, -3.1563e-01,  1.2937e-01,\n",
              "         -1.6267e-01,  1.9069e-02,  1.8090e-01,  2.6717e-01, -7.0912e-02,\n",
              "         -1.7573e-01, -2.8909e-01, -2.1840e-01,  6.6393e-02,  9.3224e-02,\n",
              "          2.9647e-02, -9.3200e-02,  2.2970e-01, -1.2625e-01,  1.1113e-02,\n",
              "          2.4424e-02, -1.8637e-01,  1.2505e-01, -8.7744e-02,  3.2201e-02,\n",
              "         -6.2562e-02,  1.1568e-01,  2.8812e-02, -3.1788e-02,  1.8251e-01,\n",
              "          4.1938e-02, -1.7742e-01,  2.3589e-01,  5.7361e-02, -1.3056e-01,\n",
              "         -2.4253e-01, -7.2389e-02,  4.6761e-02, -1.6643e-03, -2.0535e-01,\n",
              "         -3.6897e-01, -4.1494e-02,  1.8482e-02, -1.5744e-01,  6.3600e-02,\n",
              "          9.9478e-02, -6.4052e-02,  6.7511e-02, -5.9155e-02,  2.1532e-01,\n",
              "          1.7394e-01, -3.0078e-01, -7.6355e-02, -1.3593e-01,  1.1890e-01,\n",
              "          4.6146e-02,  3.3285e-01, -2.6260e-01,  1.0440e-02,  1.5401e-01,\n",
              "         -2.4083e-01,  1.3086e-01, -1.1578e-01,  1.5615e-01, -2.0592e-01,\n",
              "          3.5507e-01, -1.0607e-01,  3.1073e-02,  2.4814e-02, -2.7918e-02,\n",
              "          1.2837e-01,  4.4257e-02, -5.7460e-02,  1.3947e-01, -6.1275e-02,\n",
              "         -1.3899e-01, -1.7503e-01, -1.4600e-01,  1.1142e-01, -2.0938e-01,\n",
              "          1.1177e-01, -2.6245e-02, -8.3034e-03, -1.1206e-01, -9.8744e-02,\n",
              "          8.5137e-02,  2.0781e-01,  4.7546e-02, -1.5292e-01, -3.8691e-02,\n",
              "         -2.5797e-01, -7.8583e-02, -8.9220e-02,  4.9144e-02, -4.1931e-02,\n",
              "          8.0683e-02,  1.1685e-01, -2.9747e-02,  6.5658e-02, -1.5956e-01,\n",
              "          1.1266e-01, -4.7177e-03, -1.7129e-01, -7.6367e-02,  4.0670e-02,\n",
              "         -3.6714e-02, -1.2637e-01, -2.0495e-02, -1.9173e-01,  1.0809e-01,\n",
              "         -1.5978e-01,  3.1692e-02, -7.6968e-02,  8.4693e-02,  1.3531e-01,\n",
              "         -2.2118e-01,  2.2830e-01,  4.1297e-04, -4.1693e-02,  1.2488e-02,\n",
              "         -1.9712e-01, -5.6300e-03, -6.9010e-02, -4.0424e-02, -2.9437e-02,\n",
              "          1.7418e-01,  1.1165e-02,  1.7543e-01,  1.5894e-02, -9.6099e-02,\n",
              "         -1.1734e-01, -1.2644e-01,  1.2484e-01, -2.4269e-02,  5.8119e-03,\n",
              "         -1.0620e-02,  1.7338e-01, -7.9380e-02,  5.7574e-02,  1.2148e-01,\n",
              "          1.9451e-01,  8.1626e-02,  9.8213e-02,  2.2536e-01,  3.4194e-02,\n",
              "         -2.6067e-01,  1.5168e-01,  1.9815e-01,  1.0622e-01, -2.8495e-01,\n",
              "          6.4741e-02, -1.6634e-01,  2.0592e-01]]), hidden_states=None, past_key_values=None, attentions=None, cross_attentions=None)"
            ]
          },
          "metadata": {},
          "execution_count": 104
        }
      ],
      "source": [
        "features"
      ]
    },
    {
      "cell_type": "code",
      "execution_count": null,
      "metadata": {
        "id": "v3UzG3BYB0Ue"
      },
      "outputs": [],
      "source": [
        "input_ids = tokenizer(df['headline'].tolist(), padding=True)['input_ids']"
      ]
    },
    {
      "cell_type": "code",
      "execution_count": null,
      "metadata": {
        "id": "GvHUADkV1WFW"
      },
      "outputs": [],
      "source": [
        "input_ids = torch.tensor(tokenizer(df['headline'].tolist(), padding=True)['input_ids'])"
      ]
    },
    {
      "cell_type": "code",
      "execution_count": null,
      "metadata": {
        "colab": {
          "base_uri": "https://localhost:8080/"
        },
        "id": "--O5AmLCDT4L",
        "outputId": "d9983dba-93ac-4955-fe8f-6b4256c57d96"
      },
      "outputs": [
        {
          "output_type": "execute_result",
          "data": {
            "text/plain": [
              "torch.Size([4987, 50])"
            ]
          },
          "metadata": {},
          "execution_count": 107
        }
      ],
      "source": [
        "input_ids.shape"
      ]
    },
    {
      "cell_type": "code",
      "execution_count": null,
      "metadata": {
        "id": "ID51QBJC3jZ3"
      },
      "outputs": [],
      "source": [
        "attention_mask = torch.tensor(tokenizer(df['headline'].tolist(), padding='longest')['attention_mask'])"
      ]
    },
    {
      "cell_type": "code",
      "execution_count": null,
      "metadata": {
        "colab": {
          "base_uri": "https://localhost:8080/"
        },
        "id": "_2astwN43tGq",
        "outputId": "67acaf10-f0bb-4a4d-d711-47f48f7d0dce"
      },
      "outputs": [
        {
          "output_type": "execute_result",
          "data": {
            "text/plain": [
              "torch.Size([4987, 50])"
            ]
          },
          "metadata": {},
          "execution_count": 109
        }
      ],
      "source": [
        "attention_mask.shape"
      ]
    },
    {
      "cell_type": "code",
      "execution_count": null,
      "metadata": {
        "id": "RR5JLn-S3ovb"
      },
      "outputs": [],
      "source": [
        "input_ids[attention_mask == 0] = 0"
      ]
    },
    {
      "cell_type": "code",
      "execution_count": null,
      "metadata": {
        "colab": {
          "base_uri": "https://localhost:8080/"
        },
        "id": "0rGnGUab4eG9",
        "outputId": "23571aef-1ddd-4675-ba4c-e123f8454407"
      },
      "outputs": [
        {
          "output_type": "execute_result",
          "data": {
            "text/plain": [
              "tensor([[    0,   104,   843,  ...,     0,     0,     0],\n",
              "        [    0,   345,   651,  ...,     0,     0,     0],\n",
              "        [    0,   716, 12540,  ...,     0,     0,     0],\n",
              "        ...,\n",
              "        [    0, 19507,   123,  ...,     0,     0,     0],\n",
              "        [    0,  4172,   723,  ...,     0,     0,     0],\n",
              "        [    0, 22014,  7502,  ...,     0,     0,     0]])"
            ]
          },
          "metadata": {},
          "execution_count": 111
        }
      ],
      "source": [
        "input_ids"
      ]
    },
    {
      "cell_type": "code",
      "execution_count": null,
      "metadata": {
        "id": "sDZ0h0fK6Q1W"
      },
      "outputs": [],
      "source": [
        "#Load satisfied data into PhoBert => encoded features\n",
        "with torch.no_grad():\n",
        "    features = phobert(input_ids, attention_mask=attention_mask)"
      ]
    },
    {
      "cell_type": "code",
      "source": [
        "encoded_headlines = features[0][:,0,:]"
      ],
      "metadata": {
        "id": "CxtrD5mBH156"
      },
      "execution_count": null,
      "outputs": []
    },
    {
      "cell_type": "markdown",
      "source": [
        "###### Concat into dataframe"
      ],
      "metadata": {
        "id": "4Sf9kQVMK9Gc"
      }
    },
    {
      "cell_type": "code",
      "execution_count": null,
      "metadata": {
        "id": "Q2JCV5KvUo_O"
      },
      "outputs": [],
      "source": [
        "new_feature_names = [f'encoded_headline_{i}' for i in range(features[0][:,0,:].shape[1])]"
      ]
    },
    {
      "cell_type": "code",
      "execution_count": null,
      "metadata": {
        "id": "H0oBLLS3VEBI"
      },
      "outputs": [],
      "source": [
        "encoded_features = pd.DataFrame(encoded_headlines, columns=new_feature_names)"
      ]
    },
    {
      "cell_type": "code",
      "execution_count": null,
      "metadata": {
        "colab": {
          "base_uri": "https://localhost:8080/"
        },
        "id": "TzimW1jzVSom",
        "outputId": "b7370fdc-4c92-4462-e00f-7a579fce6fed"
      },
      "outputs": [
        {
          "output_type": "execute_result",
          "data": {
            "text/plain": [
              "      encoded_headline_0  encoded_headline_1  encoded_headline_2  \\\n",
              "0               0.033422            0.305205           -0.417557   \n",
              "1               0.073644            0.485370            0.055190   \n",
              "2              -0.096734            0.093791            0.165336   \n",
              "3              -0.132824            0.438649           -0.321680   \n",
              "4              -0.051635            0.499025           -0.325871   \n",
              "...                  ...                 ...                 ...   \n",
              "4982            0.134450            0.225579            0.172906   \n",
              "4983            0.251519            0.203235           -0.060440   \n",
              "4984            0.116489            0.317285           -0.148098   \n",
              "4985           -0.076961            0.417736           -0.058899   \n",
              "4986            0.166269            0.244140           -0.207559   \n",
              "\n",
              "      encoded_headline_3  encoded_headline_4  encoded_headline_5  \\\n",
              "0              -0.330316           -0.025818           -0.120075   \n",
              "1              -0.669204           -0.163963           -0.075909   \n",
              "2              -0.705018            0.070637            0.237961   \n",
              "3              -0.841378           -0.056313           -0.021127   \n",
              "4              -0.332288           -0.133100           -0.175451   \n",
              "...                  ...                 ...                 ...   \n",
              "4982           -0.727169           -0.342575           -0.016906   \n",
              "4983           -0.715348           -0.054816            0.046977   \n",
              "4984           -0.456860           -0.095687           -0.143878   \n",
              "4985           -0.654037           -0.263015           -0.042765   \n",
              "4986           -0.831147           -0.144531            0.209601   \n",
              "\n",
              "      encoded_headline_6  encoded_headline_7  encoded_headline_8  \\\n",
              "0              -0.151688            0.235589           -0.236982   \n",
              "1              -0.041192            0.120644           -0.109598   \n",
              "2               0.126512            0.201941           -0.053225   \n",
              "3               0.115351           -0.017801           -0.414843   \n",
              "4              -0.403884           -0.220232           -0.232696   \n",
              "...                  ...                 ...                 ...   \n",
              "4982            0.076609           -0.074625           -0.183009   \n",
              "4983           -0.206125           -0.068869           -0.133184   \n",
              "4984           -0.360087           -0.131919           -0.230110   \n",
              "4985           -0.091424            0.003117           -0.262053   \n",
              "4986            0.082216            0.209924           -0.180961   \n",
              "\n",
              "      encoded_headline_9  ...  encoded_headline_758  encoded_headline_759  \\\n",
              "0               0.234116  ...             -0.102580             -0.261289   \n",
              "1               0.141733  ...             -0.039424             -0.286794   \n",
              "2               0.085033  ...              0.001373             -0.273495   \n",
              "3               0.333651  ...             -0.100712             -0.108610   \n",
              "4               0.018254  ...             -0.299672              0.010025   \n",
              "...                  ...  ...                   ...                   ...   \n",
              "4982            0.154480  ...             -0.139581              0.004288   \n",
              "4983            0.171153  ...              0.155975             -0.016802   \n",
              "4984            0.134124  ...             -0.216931             -0.164060   \n",
              "4985            0.181087  ...             -0.238664             -0.181601   \n",
              "4986           -0.112910  ...             -0.175385             -0.104840   \n",
              "\n",
              "      encoded_headline_760  encoded_headline_761  encoded_headline_762  \\\n",
              "0                 0.248752              0.516627              0.234362   \n",
              "1                -0.059746              0.361260              0.157325   \n",
              "2                -0.219930              0.495419             -0.008607   \n",
              "3                -0.061869              0.344799              0.197393   \n",
              "4                 0.118793              0.241738             -0.017925   \n",
              "...                    ...                   ...                   ...   \n",
              "4982             -0.025204              0.409946              0.069010   \n",
              "4983             -0.064703              0.428035              0.098874   \n",
              "4984              0.147770              0.381159              0.235248   \n",
              "4985             -0.066968              0.336676              0.041550   \n",
              "4986             -0.153504              0.453075              0.164254   \n",
              "\n",
              "      encoded_headline_763  encoded_headline_764  encoded_headline_765  \\\n",
              "0                 0.163669              0.063705             -0.098685   \n",
              "1                -0.085021              0.136786             -0.219867   \n",
              "2                 0.024792              0.081651             -0.543439   \n",
              "3                -0.050434             -0.119511             -0.365258   \n",
              "4                 0.002191             -0.330170             -0.120347   \n",
              "...                    ...                   ...                   ...   \n",
              "4982             -0.038081              0.047906             -0.071381   \n",
              "4983             -0.081417             -0.186875             -0.262130   \n",
              "4984              0.046145             -0.161988             -0.295474   \n",
              "4985             -0.107116             -0.121541             -0.081804   \n",
              "4986              0.066416              0.007371             -0.221555   \n",
              "\n",
              "      encoded_headline_766  encoded_headline_767  \n",
              "0                 0.152957              0.037526  \n",
              "1                 0.176389              0.085574  \n",
              "2                 0.449472              0.257076  \n",
              "3                 0.621727             -0.070584  \n",
              "4                 0.125586             -0.042315  \n",
              "...                    ...                   ...  \n",
              "4982              0.369184              0.327146  \n",
              "4983              0.027531              0.076329  \n",
              "4984              0.281682             -0.135814  \n",
              "4985              0.184818              0.190171  \n",
              "4986              0.517115              0.142658  \n",
              "\n",
              "[4987 rows x 768 columns]"
            ],
            "text/html": [
              "\n",
              "  <div id=\"df-c86f0477-12a1-4883-9a17-a93922740bf4\">\n",
              "    <div class=\"colab-df-container\">\n",
              "      <div>\n",
              "<style scoped>\n",
              "    .dataframe tbody tr th:only-of-type {\n",
              "        vertical-align: middle;\n",
              "    }\n",
              "\n",
              "    .dataframe tbody tr th {\n",
              "        vertical-align: top;\n",
              "    }\n",
              "\n",
              "    .dataframe thead th {\n",
              "        text-align: right;\n",
              "    }\n",
              "</style>\n",
              "<table border=\"1\" class=\"dataframe\">\n",
              "  <thead>\n",
              "    <tr style=\"text-align: right;\">\n",
              "      <th></th>\n",
              "      <th>encoded_headline_0</th>\n",
              "      <th>encoded_headline_1</th>\n",
              "      <th>encoded_headline_2</th>\n",
              "      <th>encoded_headline_3</th>\n",
              "      <th>encoded_headline_4</th>\n",
              "      <th>encoded_headline_5</th>\n",
              "      <th>encoded_headline_6</th>\n",
              "      <th>encoded_headline_7</th>\n",
              "      <th>encoded_headline_8</th>\n",
              "      <th>encoded_headline_9</th>\n",
              "      <th>...</th>\n",
              "      <th>encoded_headline_758</th>\n",
              "      <th>encoded_headline_759</th>\n",
              "      <th>encoded_headline_760</th>\n",
              "      <th>encoded_headline_761</th>\n",
              "      <th>encoded_headline_762</th>\n",
              "      <th>encoded_headline_763</th>\n",
              "      <th>encoded_headline_764</th>\n",
              "      <th>encoded_headline_765</th>\n",
              "      <th>encoded_headline_766</th>\n",
              "      <th>encoded_headline_767</th>\n",
              "    </tr>\n",
              "  </thead>\n",
              "  <tbody>\n",
              "    <tr>\n",
              "      <th>0</th>\n",
              "      <td>0.033422</td>\n",
              "      <td>0.305205</td>\n",
              "      <td>-0.417557</td>\n",
              "      <td>-0.330316</td>\n",
              "      <td>-0.025818</td>\n",
              "      <td>-0.120075</td>\n",
              "      <td>-0.151688</td>\n",
              "      <td>0.235589</td>\n",
              "      <td>-0.236982</td>\n",
              "      <td>0.234116</td>\n",
              "      <td>...</td>\n",
              "      <td>-0.102580</td>\n",
              "      <td>-0.261289</td>\n",
              "      <td>0.248752</td>\n",
              "      <td>0.516627</td>\n",
              "      <td>0.234362</td>\n",
              "      <td>0.163669</td>\n",
              "      <td>0.063705</td>\n",
              "      <td>-0.098685</td>\n",
              "      <td>0.152957</td>\n",
              "      <td>0.037526</td>\n",
              "    </tr>\n",
              "    <tr>\n",
              "      <th>1</th>\n",
              "      <td>0.073644</td>\n",
              "      <td>0.485370</td>\n",
              "      <td>0.055190</td>\n",
              "      <td>-0.669204</td>\n",
              "      <td>-0.163963</td>\n",
              "      <td>-0.075909</td>\n",
              "      <td>-0.041192</td>\n",
              "      <td>0.120644</td>\n",
              "      <td>-0.109598</td>\n",
              "      <td>0.141733</td>\n",
              "      <td>...</td>\n",
              "      <td>-0.039424</td>\n",
              "      <td>-0.286794</td>\n",
              "      <td>-0.059746</td>\n",
              "      <td>0.361260</td>\n",
              "      <td>0.157325</td>\n",
              "      <td>-0.085021</td>\n",
              "      <td>0.136786</td>\n",
              "      <td>-0.219867</td>\n",
              "      <td>0.176389</td>\n",
              "      <td>0.085574</td>\n",
              "    </tr>\n",
              "    <tr>\n",
              "      <th>2</th>\n",
              "      <td>-0.096734</td>\n",
              "      <td>0.093791</td>\n",
              "      <td>0.165336</td>\n",
              "      <td>-0.705018</td>\n",
              "      <td>0.070637</td>\n",
              "      <td>0.237961</td>\n",
              "      <td>0.126512</td>\n",
              "      <td>0.201941</td>\n",
              "      <td>-0.053225</td>\n",
              "      <td>0.085033</td>\n",
              "      <td>...</td>\n",
              "      <td>0.001373</td>\n",
              "      <td>-0.273495</td>\n",
              "      <td>-0.219930</td>\n",
              "      <td>0.495419</td>\n",
              "      <td>-0.008607</td>\n",
              "      <td>0.024792</td>\n",
              "      <td>0.081651</td>\n",
              "      <td>-0.543439</td>\n",
              "      <td>0.449472</td>\n",
              "      <td>0.257076</td>\n",
              "    </tr>\n",
              "    <tr>\n",
              "      <th>3</th>\n",
              "      <td>-0.132824</td>\n",
              "      <td>0.438649</td>\n",
              "      <td>-0.321680</td>\n",
              "      <td>-0.841378</td>\n",
              "      <td>-0.056313</td>\n",
              "      <td>-0.021127</td>\n",
              "      <td>0.115351</td>\n",
              "      <td>-0.017801</td>\n",
              "      <td>-0.414843</td>\n",
              "      <td>0.333651</td>\n",
              "      <td>...</td>\n",
              "      <td>-0.100712</td>\n",
              "      <td>-0.108610</td>\n",
              "      <td>-0.061869</td>\n",
              "      <td>0.344799</td>\n",
              "      <td>0.197393</td>\n",
              "      <td>-0.050434</td>\n",
              "      <td>-0.119511</td>\n",
              "      <td>-0.365258</td>\n",
              "      <td>0.621727</td>\n",
              "      <td>-0.070584</td>\n",
              "    </tr>\n",
              "    <tr>\n",
              "      <th>4</th>\n",
              "      <td>-0.051635</td>\n",
              "      <td>0.499025</td>\n",
              "      <td>-0.325871</td>\n",
              "      <td>-0.332288</td>\n",
              "      <td>-0.133100</td>\n",
              "      <td>-0.175451</td>\n",
              "      <td>-0.403884</td>\n",
              "      <td>-0.220232</td>\n",
              "      <td>-0.232696</td>\n",
              "      <td>0.018254</td>\n",
              "      <td>...</td>\n",
              "      <td>-0.299672</td>\n",
              "      <td>0.010025</td>\n",
              "      <td>0.118793</td>\n",
              "      <td>0.241738</td>\n",
              "      <td>-0.017925</td>\n",
              "      <td>0.002191</td>\n",
              "      <td>-0.330170</td>\n",
              "      <td>-0.120347</td>\n",
              "      <td>0.125586</td>\n",
              "      <td>-0.042315</td>\n",
              "    </tr>\n",
              "    <tr>\n",
              "      <th>...</th>\n",
              "      <td>...</td>\n",
              "      <td>...</td>\n",
              "      <td>...</td>\n",
              "      <td>...</td>\n",
              "      <td>...</td>\n",
              "      <td>...</td>\n",
              "      <td>...</td>\n",
              "      <td>...</td>\n",
              "      <td>...</td>\n",
              "      <td>...</td>\n",
              "      <td>...</td>\n",
              "      <td>...</td>\n",
              "      <td>...</td>\n",
              "      <td>...</td>\n",
              "      <td>...</td>\n",
              "      <td>...</td>\n",
              "      <td>...</td>\n",
              "      <td>...</td>\n",
              "      <td>...</td>\n",
              "      <td>...</td>\n",
              "      <td>...</td>\n",
              "    </tr>\n",
              "    <tr>\n",
              "      <th>4982</th>\n",
              "      <td>0.134450</td>\n",
              "      <td>0.225579</td>\n",
              "      <td>0.172906</td>\n",
              "      <td>-0.727169</td>\n",
              "      <td>-0.342575</td>\n",
              "      <td>-0.016906</td>\n",
              "      <td>0.076609</td>\n",
              "      <td>-0.074625</td>\n",
              "      <td>-0.183009</td>\n",
              "      <td>0.154480</td>\n",
              "      <td>...</td>\n",
              "      <td>-0.139581</td>\n",
              "      <td>0.004288</td>\n",
              "      <td>-0.025204</td>\n",
              "      <td>0.409946</td>\n",
              "      <td>0.069010</td>\n",
              "      <td>-0.038081</td>\n",
              "      <td>0.047906</td>\n",
              "      <td>-0.071381</td>\n",
              "      <td>0.369184</td>\n",
              "      <td>0.327146</td>\n",
              "    </tr>\n",
              "    <tr>\n",
              "      <th>4983</th>\n",
              "      <td>0.251519</td>\n",
              "      <td>0.203235</td>\n",
              "      <td>-0.060440</td>\n",
              "      <td>-0.715348</td>\n",
              "      <td>-0.054816</td>\n",
              "      <td>0.046977</td>\n",
              "      <td>-0.206125</td>\n",
              "      <td>-0.068869</td>\n",
              "      <td>-0.133184</td>\n",
              "      <td>0.171153</td>\n",
              "      <td>...</td>\n",
              "      <td>0.155975</td>\n",
              "      <td>-0.016802</td>\n",
              "      <td>-0.064703</td>\n",
              "      <td>0.428035</td>\n",
              "      <td>0.098874</td>\n",
              "      <td>-0.081417</td>\n",
              "      <td>-0.186875</td>\n",
              "      <td>-0.262130</td>\n",
              "      <td>0.027531</td>\n",
              "      <td>0.076329</td>\n",
              "    </tr>\n",
              "    <tr>\n",
              "      <th>4984</th>\n",
              "      <td>0.116489</td>\n",
              "      <td>0.317285</td>\n",
              "      <td>-0.148098</td>\n",
              "      <td>-0.456860</td>\n",
              "      <td>-0.095687</td>\n",
              "      <td>-0.143878</td>\n",
              "      <td>-0.360087</td>\n",
              "      <td>-0.131919</td>\n",
              "      <td>-0.230110</td>\n",
              "      <td>0.134124</td>\n",
              "      <td>...</td>\n",
              "      <td>-0.216931</td>\n",
              "      <td>-0.164060</td>\n",
              "      <td>0.147770</td>\n",
              "      <td>0.381159</td>\n",
              "      <td>0.235248</td>\n",
              "      <td>0.046145</td>\n",
              "      <td>-0.161988</td>\n",
              "      <td>-0.295474</td>\n",
              "      <td>0.281682</td>\n",
              "      <td>-0.135814</td>\n",
              "    </tr>\n",
              "    <tr>\n",
              "      <th>4985</th>\n",
              "      <td>-0.076961</td>\n",
              "      <td>0.417736</td>\n",
              "      <td>-0.058899</td>\n",
              "      <td>-0.654037</td>\n",
              "      <td>-0.263015</td>\n",
              "      <td>-0.042765</td>\n",
              "      <td>-0.091424</td>\n",
              "      <td>0.003117</td>\n",
              "      <td>-0.262053</td>\n",
              "      <td>0.181087</td>\n",
              "      <td>...</td>\n",
              "      <td>-0.238664</td>\n",
              "      <td>-0.181601</td>\n",
              "      <td>-0.066968</td>\n",
              "      <td>0.336676</td>\n",
              "      <td>0.041550</td>\n",
              "      <td>-0.107116</td>\n",
              "      <td>-0.121541</td>\n",
              "      <td>-0.081804</td>\n",
              "      <td>0.184818</td>\n",
              "      <td>0.190171</td>\n",
              "    </tr>\n",
              "    <tr>\n",
              "      <th>4986</th>\n",
              "      <td>0.166269</td>\n",
              "      <td>0.244140</td>\n",
              "      <td>-0.207559</td>\n",
              "      <td>-0.831147</td>\n",
              "      <td>-0.144531</td>\n",
              "      <td>0.209601</td>\n",
              "      <td>0.082216</td>\n",
              "      <td>0.209924</td>\n",
              "      <td>-0.180961</td>\n",
              "      <td>-0.112910</td>\n",
              "      <td>...</td>\n",
              "      <td>-0.175385</td>\n",
              "      <td>-0.104840</td>\n",
              "      <td>-0.153504</td>\n",
              "      <td>0.453075</td>\n",
              "      <td>0.164254</td>\n",
              "      <td>0.066416</td>\n",
              "      <td>0.007371</td>\n",
              "      <td>-0.221555</td>\n",
              "      <td>0.517115</td>\n",
              "      <td>0.142658</td>\n",
              "    </tr>\n",
              "  </tbody>\n",
              "</table>\n",
              "<p>4987 rows × 768 columns</p>\n",
              "</div>\n",
              "      <button class=\"colab-df-convert\" onclick=\"convertToInteractive('df-c86f0477-12a1-4883-9a17-a93922740bf4')\"\n",
              "              title=\"Convert this dataframe to an interactive table.\"\n",
              "              style=\"display:none;\">\n",
              "        \n",
              "  <svg xmlns=\"http://www.w3.org/2000/svg\" height=\"24px\"viewBox=\"0 0 24 24\"\n",
              "       width=\"24px\">\n",
              "    <path d=\"M0 0h24v24H0V0z\" fill=\"none\"/>\n",
              "    <path d=\"M18.56 5.44l.94 2.06.94-2.06 2.06-.94-2.06-.94-.94-2.06-.94 2.06-2.06.94zm-11 1L8.5 8.5l.94-2.06 2.06-.94-2.06-.94L8.5 2.5l-.94 2.06-2.06.94zm10 10l.94 2.06.94-2.06 2.06-.94-2.06-.94-.94-2.06-.94 2.06-2.06.94z\"/><path d=\"M17.41 7.96l-1.37-1.37c-.4-.4-.92-.59-1.43-.59-.52 0-1.04.2-1.43.59L10.3 9.45l-7.72 7.72c-.78.78-.78 2.05 0 2.83L4 21.41c.39.39.9.59 1.41.59.51 0 1.02-.2 1.41-.59l7.78-7.78 2.81-2.81c.8-.78.8-2.07 0-2.86zM5.41 20L4 18.59l7.72-7.72 1.47 1.35L5.41 20z\"/>\n",
              "  </svg>\n",
              "      </button>\n",
              "      \n",
              "  <style>\n",
              "    .colab-df-container {\n",
              "      display:flex;\n",
              "      flex-wrap:wrap;\n",
              "      gap: 12px;\n",
              "    }\n",
              "\n",
              "    .colab-df-convert {\n",
              "      background-color: #E8F0FE;\n",
              "      border: none;\n",
              "      border-radius: 50%;\n",
              "      cursor: pointer;\n",
              "      display: none;\n",
              "      fill: #1967D2;\n",
              "      height: 32px;\n",
              "      padding: 0 0 0 0;\n",
              "      width: 32px;\n",
              "    }\n",
              "\n",
              "    .colab-df-convert:hover {\n",
              "      background-color: #E2EBFA;\n",
              "      box-shadow: 0px 1px 2px rgba(60, 64, 67, 0.3), 0px 1px 3px 1px rgba(60, 64, 67, 0.15);\n",
              "      fill: #174EA6;\n",
              "    }\n",
              "\n",
              "    [theme=dark] .colab-df-convert {\n",
              "      background-color: #3B4455;\n",
              "      fill: #D2E3FC;\n",
              "    }\n",
              "\n",
              "    [theme=dark] .colab-df-convert:hover {\n",
              "      background-color: #434B5C;\n",
              "      box-shadow: 0px 1px 3px 1px rgba(0, 0, 0, 0.15);\n",
              "      filter: drop-shadow(0px 1px 2px rgba(0, 0, 0, 0.3));\n",
              "      fill: #FFFFFF;\n",
              "    }\n",
              "  </style>\n",
              "\n",
              "      <script>\n",
              "        const buttonEl =\n",
              "          document.querySelector('#df-c86f0477-12a1-4883-9a17-a93922740bf4 button.colab-df-convert');\n",
              "        buttonEl.style.display =\n",
              "          google.colab.kernel.accessAllowed ? 'block' : 'none';\n",
              "\n",
              "        async function convertToInteractive(key) {\n",
              "          const element = document.querySelector('#df-c86f0477-12a1-4883-9a17-a93922740bf4');\n",
              "          const dataTable =\n",
              "            await google.colab.kernel.invokeFunction('convertToInteractive',\n",
              "                                                     [key], {});\n",
              "          if (!dataTable) return;\n",
              "\n",
              "          const docLinkHtml = 'Like what you see? Visit the ' +\n",
              "            '<a target=\"_blank\" href=https://colab.research.google.com/notebooks/data_table.ipynb>data table notebook</a>'\n",
              "            + ' to learn more about interactive tables.';\n",
              "          element.innerHTML = '';\n",
              "          dataTable['output_type'] = 'display_data';\n",
              "          await google.colab.output.renderOutput(dataTable, element);\n",
              "          const docLink = document.createElement('div');\n",
              "          docLink.innerHTML = docLinkHtml;\n",
              "          element.appendChild(docLink);\n",
              "        }\n",
              "      </script>\n",
              "    </div>\n",
              "  </div>\n",
              "  "
            ]
          },
          "metadata": {},
          "execution_count": 116
        }
      ],
      "source": [
        "encoded_features"
      ]
    },
    {
      "cell_type": "code",
      "execution_count": null,
      "metadata": {
        "colab": {
          "base_uri": "https://localhost:8080/"
        },
        "id": "FntZdwSRVf99",
        "outputId": "5ce33563-cc17-42d6-f964-a0c506e3b85e"
      },
      "outputs": [
        {
          "output_type": "execute_result",
          "data": {
            "text/plain": [
              "      is_sarcastic                                           headline  \\\n",
              "0                1                ' Chỉ có tiền mới làm vợ vui thôi '   \n",
              "1                1  Người đàn_ông đứng hình 3 giây khi đập mặt vào...   \n",
              "2                1  Hai gymer ngơ_ngác trước anh lao_công nâng tạ ...   \n",
              "3                1                Những tác_hại của thuốc_lá - Phần 1   \n",
              "4                1  Sấm nổ ngang_tai khi con gái kêu mẹ ' trời mưa...   \n",
              "...            ...                                                ...   \n",
              "4983             1  Gặp_gỡ Nhà Xoài_Đây : Mẹ 9x chia_sẻ quan_điểm ...   \n",
              "4984             1  CADMIUM - nữ_sinh 2k6 khuấy_đảo Rap_Việt lần đ...   \n",
              "4985             1  Đem tiền về quê sống thử 1 tháng , chàng trai ...   \n",
              "4986             1  Thanh_niên nhớ quay_quắt vị cơm tấm , bún_bò k...   \n",
              "4987             1               Bạo_lực học_đường : Tốt khoe xấu che   \n",
              "\n",
              "                                           article_link      domain_name  \\\n",
              "0     https://cuoi.tuoitre.vn/chi-co-tien-moi-lam-vo...  cuoi.tuoitre.vn   \n",
              "1     https://cuoi.tuoitre.vn/nguoi-dan-ong-dung-hin...  cuoi.tuoitre.vn   \n",
              "2     https://cuoi.tuoitre.vn/hai-gymer-ngo-ngac-tru...  cuoi.tuoitre.vn   \n",
              "3     https://cuoi.tuoitre.vn/nhung-tac-hai-cua-thuo...  cuoi.tuoitre.vn   \n",
              "4     https://cuoi.tuoitre.vn/sam-no-ngang-tai-khi-c...  cuoi.tuoitre.vn   \n",
              "...                                                 ...              ...   \n",
              "4983  https://kenh14.vn/gap-go-nha-xoai-day-me-9x-ch...        kenh14.vn   \n",
              "4984  https://kenh14.vn/cadmium-nu-sinh-2k6-khuay-da...        kenh14.vn   \n",
              "4985  https://kenh14.vn/dem-tien-ve-que-song-thu-1-t...        kenh14.vn   \n",
              "4986  https://kenh14.vn/thanh-nien-nho-quay-quat-vi-...        kenh14.vn   \n",
              "4987  https://cuoi.tuoitre.vn/bao-luc-hoc-duong-tot-...  cuoi.tuoitre.vn   \n",
              "\n",
              "      encoded_domain_name  \n",
              "0                       5  \n",
              "1                       5  \n",
              "2                       5  \n",
              "3                       5  \n",
              "4                       5  \n",
              "...                   ...  \n",
              "4983                   11  \n",
              "4984                   11  \n",
              "4985                   11  \n",
              "4986                   11  \n",
              "4987                    5  \n",
              "\n",
              "[4987 rows x 5 columns]"
            ],
            "text/html": [
              "\n",
              "  <div id=\"df-68ac59f4-3a10-4bef-b4f8-21ce3346e08f\">\n",
              "    <div class=\"colab-df-container\">\n",
              "      <div>\n",
              "<style scoped>\n",
              "    .dataframe tbody tr th:only-of-type {\n",
              "        vertical-align: middle;\n",
              "    }\n",
              "\n",
              "    .dataframe tbody tr th {\n",
              "        vertical-align: top;\n",
              "    }\n",
              "\n",
              "    .dataframe thead th {\n",
              "        text-align: right;\n",
              "    }\n",
              "</style>\n",
              "<table border=\"1\" class=\"dataframe\">\n",
              "  <thead>\n",
              "    <tr style=\"text-align: right;\">\n",
              "      <th></th>\n",
              "      <th>is_sarcastic</th>\n",
              "      <th>headline</th>\n",
              "      <th>article_link</th>\n",
              "      <th>domain_name</th>\n",
              "      <th>encoded_domain_name</th>\n",
              "    </tr>\n",
              "  </thead>\n",
              "  <tbody>\n",
              "    <tr>\n",
              "      <th>0</th>\n",
              "      <td>1</td>\n",
              "      <td>' Chỉ có tiền mới làm vợ vui thôi '</td>\n",
              "      <td>https://cuoi.tuoitre.vn/chi-co-tien-moi-lam-vo...</td>\n",
              "      <td>cuoi.tuoitre.vn</td>\n",
              "      <td>5</td>\n",
              "    </tr>\n",
              "    <tr>\n",
              "      <th>1</th>\n",
              "      <td>1</td>\n",
              "      <td>Người đàn_ông đứng hình 3 giây khi đập mặt vào...</td>\n",
              "      <td>https://cuoi.tuoitre.vn/nguoi-dan-ong-dung-hin...</td>\n",
              "      <td>cuoi.tuoitre.vn</td>\n",
              "      <td>5</td>\n",
              "    </tr>\n",
              "    <tr>\n",
              "      <th>2</th>\n",
              "      <td>1</td>\n",
              "      <td>Hai gymer ngơ_ngác trước anh lao_công nâng tạ ...</td>\n",
              "      <td>https://cuoi.tuoitre.vn/hai-gymer-ngo-ngac-tru...</td>\n",
              "      <td>cuoi.tuoitre.vn</td>\n",
              "      <td>5</td>\n",
              "    </tr>\n",
              "    <tr>\n",
              "      <th>3</th>\n",
              "      <td>1</td>\n",
              "      <td>Những tác_hại của thuốc_lá - Phần 1</td>\n",
              "      <td>https://cuoi.tuoitre.vn/nhung-tac-hai-cua-thuo...</td>\n",
              "      <td>cuoi.tuoitre.vn</td>\n",
              "      <td>5</td>\n",
              "    </tr>\n",
              "    <tr>\n",
              "      <th>4</th>\n",
              "      <td>1</td>\n",
              "      <td>Sấm nổ ngang_tai khi con gái kêu mẹ ' trời mưa...</td>\n",
              "      <td>https://cuoi.tuoitre.vn/sam-no-ngang-tai-khi-c...</td>\n",
              "      <td>cuoi.tuoitre.vn</td>\n",
              "      <td>5</td>\n",
              "    </tr>\n",
              "    <tr>\n",
              "      <th>...</th>\n",
              "      <td>...</td>\n",
              "      <td>...</td>\n",
              "      <td>...</td>\n",
              "      <td>...</td>\n",
              "      <td>...</td>\n",
              "    </tr>\n",
              "    <tr>\n",
              "      <th>4983</th>\n",
              "      <td>1</td>\n",
              "      <td>Gặp_gỡ Nhà Xoài_Đây : Mẹ 9x chia_sẻ quan_điểm ...</td>\n",
              "      <td>https://kenh14.vn/gap-go-nha-xoai-day-me-9x-ch...</td>\n",
              "      <td>kenh14.vn</td>\n",
              "      <td>11</td>\n",
              "    </tr>\n",
              "    <tr>\n",
              "      <th>4984</th>\n",
              "      <td>1</td>\n",
              "      <td>CADMIUM - nữ_sinh 2k6 khuấy_đảo Rap_Việt lần đ...</td>\n",
              "      <td>https://kenh14.vn/cadmium-nu-sinh-2k6-khuay-da...</td>\n",
              "      <td>kenh14.vn</td>\n",
              "      <td>11</td>\n",
              "    </tr>\n",
              "    <tr>\n",
              "      <th>4985</th>\n",
              "      <td>1</td>\n",
              "      <td>Đem tiền về quê sống thử 1 tháng , chàng trai ...</td>\n",
              "      <td>https://kenh14.vn/dem-tien-ve-que-song-thu-1-t...</td>\n",
              "      <td>kenh14.vn</td>\n",
              "      <td>11</td>\n",
              "    </tr>\n",
              "    <tr>\n",
              "      <th>4986</th>\n",
              "      <td>1</td>\n",
              "      <td>Thanh_niên nhớ quay_quắt vị cơm tấm , bún_bò k...</td>\n",
              "      <td>https://kenh14.vn/thanh-nien-nho-quay-quat-vi-...</td>\n",
              "      <td>kenh14.vn</td>\n",
              "      <td>11</td>\n",
              "    </tr>\n",
              "    <tr>\n",
              "      <th>4987</th>\n",
              "      <td>1</td>\n",
              "      <td>Bạo_lực học_đường : Tốt khoe xấu che</td>\n",
              "      <td>https://cuoi.tuoitre.vn/bao-luc-hoc-duong-tot-...</td>\n",
              "      <td>cuoi.tuoitre.vn</td>\n",
              "      <td>5</td>\n",
              "    </tr>\n",
              "  </tbody>\n",
              "</table>\n",
              "<p>4987 rows × 5 columns</p>\n",
              "</div>\n",
              "      <button class=\"colab-df-convert\" onclick=\"convertToInteractive('df-68ac59f4-3a10-4bef-b4f8-21ce3346e08f')\"\n",
              "              title=\"Convert this dataframe to an interactive table.\"\n",
              "              style=\"display:none;\">\n",
              "        \n",
              "  <svg xmlns=\"http://www.w3.org/2000/svg\" height=\"24px\"viewBox=\"0 0 24 24\"\n",
              "       width=\"24px\">\n",
              "    <path d=\"M0 0h24v24H0V0z\" fill=\"none\"/>\n",
              "    <path d=\"M18.56 5.44l.94 2.06.94-2.06 2.06-.94-2.06-.94-.94-2.06-.94 2.06-2.06.94zm-11 1L8.5 8.5l.94-2.06 2.06-.94-2.06-.94L8.5 2.5l-.94 2.06-2.06.94zm10 10l.94 2.06.94-2.06 2.06-.94-2.06-.94-.94-2.06-.94 2.06-2.06.94z\"/><path d=\"M17.41 7.96l-1.37-1.37c-.4-.4-.92-.59-1.43-.59-.52 0-1.04.2-1.43.59L10.3 9.45l-7.72 7.72c-.78.78-.78 2.05 0 2.83L4 21.41c.39.39.9.59 1.41.59.51 0 1.02-.2 1.41-.59l7.78-7.78 2.81-2.81c.8-.78.8-2.07 0-2.86zM5.41 20L4 18.59l7.72-7.72 1.47 1.35L5.41 20z\"/>\n",
              "  </svg>\n",
              "      </button>\n",
              "      \n",
              "  <style>\n",
              "    .colab-df-container {\n",
              "      display:flex;\n",
              "      flex-wrap:wrap;\n",
              "      gap: 12px;\n",
              "    }\n",
              "\n",
              "    .colab-df-convert {\n",
              "      background-color: #E8F0FE;\n",
              "      border: none;\n",
              "      border-radius: 50%;\n",
              "      cursor: pointer;\n",
              "      display: none;\n",
              "      fill: #1967D2;\n",
              "      height: 32px;\n",
              "      padding: 0 0 0 0;\n",
              "      width: 32px;\n",
              "    }\n",
              "\n",
              "    .colab-df-convert:hover {\n",
              "      background-color: #E2EBFA;\n",
              "      box-shadow: 0px 1px 2px rgba(60, 64, 67, 0.3), 0px 1px 3px 1px rgba(60, 64, 67, 0.15);\n",
              "      fill: #174EA6;\n",
              "    }\n",
              "\n",
              "    [theme=dark] .colab-df-convert {\n",
              "      background-color: #3B4455;\n",
              "      fill: #D2E3FC;\n",
              "    }\n",
              "\n",
              "    [theme=dark] .colab-df-convert:hover {\n",
              "      background-color: #434B5C;\n",
              "      box-shadow: 0px 1px 3px 1px rgba(0, 0, 0, 0.15);\n",
              "      filter: drop-shadow(0px 1px 2px rgba(0, 0, 0, 0.3));\n",
              "      fill: #FFFFFF;\n",
              "    }\n",
              "  </style>\n",
              "\n",
              "      <script>\n",
              "        const buttonEl =\n",
              "          document.querySelector('#df-68ac59f4-3a10-4bef-b4f8-21ce3346e08f button.colab-df-convert');\n",
              "        buttonEl.style.display =\n",
              "          google.colab.kernel.accessAllowed ? 'block' : 'none';\n",
              "\n",
              "        async function convertToInteractive(key) {\n",
              "          const element = document.querySelector('#df-68ac59f4-3a10-4bef-b4f8-21ce3346e08f');\n",
              "          const dataTable =\n",
              "            await google.colab.kernel.invokeFunction('convertToInteractive',\n",
              "                                                     [key], {});\n",
              "          if (!dataTable) return;\n",
              "\n",
              "          const docLinkHtml = 'Like what you see? Visit the ' +\n",
              "            '<a target=\"_blank\" href=https://colab.research.google.com/notebooks/data_table.ipynb>data table notebook</a>'\n",
              "            + ' to learn more about interactive tables.';\n",
              "          element.innerHTML = '';\n",
              "          dataTable['output_type'] = 'display_data';\n",
              "          await google.colab.output.renderOutput(dataTable, element);\n",
              "          const docLink = document.createElement('div');\n",
              "          docLink.innerHTML = docLinkHtml;\n",
              "          element.appendChild(docLink);\n",
              "        }\n",
              "      </script>\n",
              "    </div>\n",
              "  </div>\n",
              "  "
            ]
          },
          "metadata": {},
          "execution_count": 117
        }
      ],
      "source": [
        "df"
      ]
    },
    {
      "cell_type": "code",
      "execution_count": null,
      "metadata": {
        "id": "no9R7bPOWwBU"
      },
      "outputs": [],
      "source": [
        "df.reset_index(drop=True, inplace=True)\n",
        "encoded_features.reset_index(drop=True, inplace=True)"
      ]
    },
    {
      "cell_type": "code",
      "execution_count": null,
      "metadata": {
        "id": "G--cOFWSUf43"
      },
      "outputs": [],
      "source": [
        "df = pd.concat([df, encoded_features], axis=1)"
      ]
    },
    {
      "cell_type": "code",
      "execution_count": null,
      "metadata": {
        "colab": {
          "base_uri": "https://localhost:8080/"
        },
        "id": "S3HX6ypGXDss",
        "outputId": "9b8c89e7-45d5-4423-96e4-de798e2c184a"
      },
      "outputs": [
        {
          "output_type": "stream",
          "name": "stdout",
          "text": [
            "<class 'pandas.core.frame.DataFrame'>\n",
            "RangeIndex: 4987 entries, 0 to 4986\n",
            "Columns: 773 entries, is_sarcastic to encoded_headline_767\n",
            "dtypes: float32(768), int64(1), object(3), uint8(1)\n",
            "memory usage: 14.8+ MB\n"
          ]
        }
      ],
      "source": [
        "df.info()"
      ]
    },
    {
      "cell_type": "markdown",
      "metadata": {
        "id": "yf-3KkNcdck9"
      },
      "source": [
        "### Train/test/split\n",
        "\n",
        "\n",
        "Since number of samples in the dataset is 4988, which is quite huge. I will split into 3 sets with the ratio 80/10/10\n",
        "\n",
        "Remember to shuffle the dataset, and use stratified splitting"
      ]
    },
    {
      "cell_type": "code",
      "execution_count": null,
      "metadata": {
        "id": "1qn-Sz8-ncMa"
      },
      "outputs": [],
      "source": [
        "from sklearn.model_selection import train_test_split"
      ]
    },
    {
      "cell_type": "code",
      "source": [
        "def split_set(X, y):\n",
        "    X_train, X_devtest, y_train, y_devtest = train_test_split(X, y,\n",
        "                                                    random_state=7,\n",
        "                                                    stratify=y,\n",
        "                                                    test_size=0.2)\n",
        "    X_dev, X_test, y_dev, y_test = train_test_split(X_devtest, y_devtest,\n",
        "                                                random_state=7,\n",
        "                                                stratify=y_devtest,\n",
        "                                                test_size=0.5)\n",
        "    return X_train, y_train, X_dev, y_dev, X_test, y_test"
      ],
      "metadata": {
        "id": "UWq_GTbyvczb"
      },
      "execution_count": null,
      "outputs": []
    },
    {
      "cell_type": "markdown",
      "metadata": {
        "id": "8CMIbDLudnpC"
      },
      "source": [
        "## Experimenting\n",
        "\n",
        "\n",
        "Using any of SVM or neural network is ok\n",
        "\n",
        "- If using SVM => convert to numpy array\n",
        "\n",
        "- If using neural network => use tensor, PyTorch Tensor is recommended\n",
        "\n",
        "\n",
        "However, since we have no time to experiment (neural network costs a veryyyyy long time to train :) ) , just use SVM (and fine-tuned) and write conclusion for it.\n",
        "\n",
        "We'll comeback later to use neural network"
      ]
    },
    {
      "cell_type": "markdown",
      "metadata": {
        "id": "54F99jOSbCwc"
      },
      "source": [
        "### SVM without article link"
      ]
    },
    {
      "cell_type": "code",
      "execution_count": null,
      "metadata": {
        "id": "IT9FDql7bCwi"
      },
      "outputs": [],
      "source": [
        "from sklearn.svm import SVC\n",
        "from sklearn.model_selection import StratifiedShuffleSplit\n",
        "from sklearn.model_selection import GridSearchCV"
      ]
    },
    {
      "cell_type": "code",
      "source": [
        "## without link\n",
        "X = np.c_[ encoded_headlines ]\n",
        "y = df['is_sarcastic'].values"
      ],
      "metadata": {
        "id": "Za4rsTqxfwRw"
      },
      "execution_count": null,
      "outputs": []
    },
    {
      "cell_type": "code",
      "source": [
        "from sklearn.preprocessing import MinMaxScaler\n",
        "scaler = MinMaxScaler()\n",
        "scaler.fit(X)\n",
        "\n",
        "scaled_X = scaler.transform(X)"
      ],
      "metadata": {
        "id": "GRYkP3MywFs6"
      },
      "execution_count": null,
      "outputs": []
    },
    {
      "cell_type": "code",
      "source": [
        "X_train, y_train, X_dev, y_dev, X_test, y_test = split_set(scaled_X, y)"
      ],
      "metadata": {
        "id": "_iMv1icewGSN"
      },
      "execution_count": null,
      "outputs": []
    },
    {
      "cell_type": "markdown",
      "metadata": {
        "id": "rXh5JipSbCwj"
      },
      "source": [
        "#### Fine tuning"
      ]
    },
    {
      "cell_type": "code",
      "execution_count": null,
      "metadata": {
        "id": "tPBz960RbCwj"
      },
      "outputs": [],
      "source": [
        "X_traindev = np.vstack([X_train, X_dev])"
      ]
    },
    {
      "cell_type": "code",
      "execution_count": null,
      "metadata": {
        "colab": {
          "base_uri": "https://localhost:8080/"
        },
        "id": "GaMx9O2jbCwj",
        "outputId": "0f857fb8-aef6-453b-dd07-b8b427dbea63"
      },
      "outputs": [
        {
          "output_type": "execute_result",
          "data": {
            "text/plain": [
              "(4488, 768)"
            ]
          },
          "metadata": {},
          "execution_count": 433
        }
      ],
      "source": [
        "X_traindev.shape"
      ]
    },
    {
      "cell_type": "code",
      "execution_count": null,
      "metadata": {
        "id": "Zd20IdfUbCwj"
      },
      "outputs": [],
      "source": [
        "y_traindev = np.concatenate([y_train, y_dev])"
      ]
    },
    {
      "cell_type": "code",
      "execution_count": null,
      "metadata": {
        "colab": {
          "base_uri": "https://localhost:8080/"
        },
        "id": "WbjVjdeObCwj",
        "outputId": "bcf2bcea-040f-4fd3-e3a0-9df70551569a"
      },
      "outputs": [
        {
          "output_type": "execute_result",
          "data": {
            "text/plain": [
              "(4488,)"
            ]
          },
          "metadata": {},
          "execution_count": 434
        }
      ],
      "source": [
        "y_traindev.shape"
      ]
    },
    {
      "cell_type": "code",
      "execution_count": null,
      "metadata": {
        "colab": {
          "base_uri": "https://localhost:8080/"
        },
        "id": "2efas1vlbCwk",
        "outputId": "64b4a962-811c-4ac7-9413-128ea9c87cab"
      },
      "outputs": [
        {
          "output_type": "stream",
          "name": "stdout",
          "text": [
            "Fitting 3 folds for each of 35 candidates, totalling 105 fits\n",
            "[CV 1/3] END .....C=0.1, gamma=0.01, kernel=rbf;, score=0.818 total time=  10.3s\n",
            "[CV 2/3] END .....C=0.1, gamma=0.01, kernel=rbf;, score=0.828 total time=   8.4s\n",
            "[CV 3/3] END .....C=0.1, gamma=0.01, kernel=rbf;, score=0.828 total time=   9.5s\n",
            "[CV 1/3] END ......C=0.1, gamma=0.1, kernel=rbf;, score=0.824 total time=  11.3s\n",
            "[CV 2/3] END ......C=0.1, gamma=0.1, kernel=rbf;, score=0.826 total time=  10.4s\n",
            "[CV 3/3] END ......C=0.1, gamma=0.1, kernel=rbf;, score=0.816 total time=   9.2s\n",
            "[CV 1/3] END ......C=0.1, gamma=1.0, kernel=rbf;, score=0.589 total time=  15.5s\n",
            "[CV 2/3] END ......C=0.1, gamma=1.0, kernel=rbf;, score=0.589 total time=  22.7s\n",
            "[CV 3/3] END ......C=0.1, gamma=1.0, kernel=rbf;, score=0.589 total time=  20.1s\n",
            "[CV 1/3] END .....C=0.1, gamma=10.0, kernel=rbf;, score=0.589 total time=  12.0s\n",
            "[CV 2/3] END .....C=0.1, gamma=10.0, kernel=rbf;, score=0.589 total time=  14.7s\n",
            "[CV 3/3] END .....C=0.1, gamma=10.0, kernel=rbf;, score=0.589 total time=  13.2s\n",
            "[CV 1/3] END ....C=0.1, gamma=100.0, kernel=rbf;, score=0.589 total time=  19.6s\n",
            "[CV 2/3] END ....C=0.1, gamma=100.0, kernel=rbf;, score=0.589 total time=  25.8s\n",
            "[CV 3/3] END ....C=0.1, gamma=100.0, kernel=rbf;, score=0.589 total time=  16.4s\n",
            "[CV 1/3] END .....C=1.0, gamma=0.01, kernel=rbf;, score=0.852 total time=   6.0s\n",
            "[CV 2/3] END .....C=1.0, gamma=0.01, kernel=rbf;, score=0.858 total time=   6.3s\n",
            "[CV 3/3] END .....C=1.0, gamma=0.01, kernel=rbf;, score=0.850 total time=   5.8s\n",
            "[CV 1/3] END ......C=1.0, gamma=0.1, kernel=rbf;, score=0.866 total time=  11.7s\n",
            "[CV 2/3] END ......C=1.0, gamma=0.1, kernel=rbf;, score=0.872 total time=  15.0s\n",
            "[CV 3/3] END ......C=1.0, gamma=0.1, kernel=rbf;, score=0.864 total time=  12.3s\n",
            "[CV 1/3] END ......C=1.0, gamma=1.0, kernel=rbf;, score=0.591 total time=  19.7s\n",
            "[CV 2/3] END ......C=1.0, gamma=1.0, kernel=rbf;, score=0.595 total time=  14.6s\n",
            "[CV 3/3] END ......C=1.0, gamma=1.0, kernel=rbf;, score=0.591 total time=  12.2s\n",
            "[CV 1/3] END .....C=1.0, gamma=10.0, kernel=rbf;, score=0.589 total time=  12.1s\n",
            "[CV 2/3] END .....C=1.0, gamma=10.0, kernel=rbf;, score=0.593 total time=  11.6s\n",
            "[CV 3/3] END .....C=1.0, gamma=10.0, kernel=rbf;, score=0.591 total time=  11.7s\n",
            "[CV 1/3] END ....C=1.0, gamma=100.0, kernel=rbf;, score=0.589 total time=  13.3s\n",
            "[CV 2/3] END ....C=1.0, gamma=100.0, kernel=rbf;, score=0.593 total time=  11.9s\n",
            "[CV 3/3] END ....C=1.0, gamma=100.0, kernel=rbf;, score=0.591 total time=  15.6s\n",
            "[CV 1/3] END ....C=10.0, gamma=0.01, kernel=rbf;, score=0.846 total time=   6.0s\n",
            "[CV 2/3] END ....C=10.0, gamma=0.01, kernel=rbf;, score=0.852 total time=   9.8s\n",
            "[CV 3/3] END ....C=10.0, gamma=0.01, kernel=rbf;, score=0.846 total time=   6.4s\n",
            "[CV 1/3] END .....C=10.0, gamma=0.1, kernel=rbf;, score=0.866 total time=  13.5s\n",
            "[CV 2/3] END .....C=10.0, gamma=0.1, kernel=rbf;, score=0.874 total time=  10.3s\n",
            "[CV 3/3] END .....C=10.0, gamma=0.1, kernel=rbf;, score=0.874 total time=  10.5s\n",
            "[CV 1/3] END .....C=10.0, gamma=1.0, kernel=rbf;, score=0.591 total time=  12.3s\n",
            "[CV 2/3] END .....C=10.0, gamma=1.0, kernel=rbf;, score=0.595 total time=  11.7s\n",
            "[CV 3/3] END .....C=10.0, gamma=1.0, kernel=rbf;, score=0.591 total time=  12.3s\n",
            "[CV 1/3] END ....C=10.0, gamma=10.0, kernel=rbf;, score=0.589 total time=  13.1s\n",
            "[CV 2/3] END ....C=10.0, gamma=10.0, kernel=rbf;, score=0.593 total time=  19.6s\n",
            "[CV 3/3] END ....C=10.0, gamma=10.0, kernel=rbf;, score=0.591 total time=  24.4s\n",
            "[CV 1/3] END ...C=10.0, gamma=100.0, kernel=rbf;, score=0.589 total time=  25.2s\n",
            "[CV 2/3] END ...C=10.0, gamma=100.0, kernel=rbf;, score=0.593 total time=  16.1s\n",
            "[CV 3/3] END ...C=10.0, gamma=100.0, kernel=rbf;, score=0.591 total time=  13.1s\n",
            "[CV 1/3] END ...C=100.0, gamma=0.01, kernel=rbf;, score=0.844 total time=   6.3s\n",
            "[CV 2/3] END ...C=100.0, gamma=0.01, kernel=rbf;, score=0.854 total time=   7.2s\n",
            "[CV 3/3] END ...C=100.0, gamma=0.01, kernel=rbf;, score=0.854 total time=   6.0s\n",
            "[CV 1/3] END ....C=100.0, gamma=0.1, kernel=rbf;, score=0.866 total time=  10.6s\n",
            "[CV 2/3] END ....C=100.0, gamma=0.1, kernel=rbf;, score=0.874 total time=  10.9s\n",
            "[CV 3/3] END ....C=100.0, gamma=0.1, kernel=rbf;, score=0.874 total time=   9.9s\n",
            "[CV 1/3] END ....C=100.0, gamma=1.0, kernel=rbf;, score=0.591 total time=  12.4s\n",
            "[CV 2/3] END ....C=100.0, gamma=1.0, kernel=rbf;, score=0.595 total time=  12.2s\n",
            "[CV 3/3] END ....C=100.0, gamma=1.0, kernel=rbf;, score=0.591 total time=  12.3s\n",
            "[CV 1/3] END ...C=100.0, gamma=10.0, kernel=rbf;, score=0.589 total time=  12.3s\n",
            "[CV 2/3] END ...C=100.0, gamma=10.0, kernel=rbf;, score=0.593 total time=  11.7s\n",
            "[CV 3/3] END ...C=100.0, gamma=10.0, kernel=rbf;, score=0.591 total time=  11.7s\n",
            "[CV 1/3] END ..C=100.0, gamma=100.0, kernel=rbf;, score=0.589 total time=  12.8s\n",
            "[CV 2/3] END ..C=100.0, gamma=100.0, kernel=rbf;, score=0.593 total time=  12.7s\n",
            "[CV 3/3] END ..C=100.0, gamma=100.0, kernel=rbf;, score=0.591 total time=  12.7s\n",
            "[CV 1/3] END ..C=1000.0, gamma=0.01, kernel=rbf;, score=0.846 total time=   6.5s\n",
            "[CV 2/3] END ..C=1000.0, gamma=0.01, kernel=rbf;, score=0.854 total time=   6.7s\n",
            "[CV 3/3] END ..C=1000.0, gamma=0.01, kernel=rbf;, score=0.854 total time=   5.9s\n",
            "[CV 1/3] END ...C=1000.0, gamma=0.1, kernel=rbf;, score=0.866 total time=  11.8s\n",
            "[CV 2/3] END ...C=1000.0, gamma=0.1, kernel=rbf;, score=0.874 total time=  10.1s\n",
            "[CV 3/3] END ...C=1000.0, gamma=0.1, kernel=rbf;, score=0.874 total time=   9.7s\n",
            "[CV 1/3] END ...C=1000.0, gamma=1.0, kernel=rbf;, score=0.591 total time=  12.2s\n",
            "[CV 2/3] END ...C=1000.0, gamma=1.0, kernel=rbf;, score=0.595 total time=  12.5s\n",
            "[CV 3/3] END ...C=1000.0, gamma=1.0, kernel=rbf;, score=0.591 total time=  12.0s\n",
            "[CV 1/3] END ..C=1000.0, gamma=10.0, kernel=rbf;, score=0.589 total time=  12.4s\n",
            "[CV 2/3] END ..C=1000.0, gamma=10.0, kernel=rbf;, score=0.593 total time=  12.2s\n",
            "[CV 3/3] END ..C=1000.0, gamma=10.0, kernel=rbf;, score=0.591 total time=  11.9s\n",
            "[CV 1/3] END .C=1000.0, gamma=100.0, kernel=rbf;, score=0.589 total time=  12.4s\n",
            "[CV 2/3] END .C=1000.0, gamma=100.0, kernel=rbf;, score=0.593 total time=  12.0s\n",
            "[CV 3/3] END .C=1000.0, gamma=100.0, kernel=rbf;, score=0.591 total time=  12.3s\n",
            "[CV 1/3] END .C=10000.0, gamma=0.01, kernel=rbf;, score=0.846 total time=   5.8s\n",
            "[CV 2/3] END .C=10000.0, gamma=0.01, kernel=rbf;, score=0.854 total time=   6.8s\n",
            "[CV 3/3] END .C=10000.0, gamma=0.01, kernel=rbf;, score=0.854 total time=   5.9s\n",
            "[CV 1/3] END ..C=10000.0, gamma=0.1, kernel=rbf;, score=0.866 total time=  10.3s\n",
            "[CV 2/3] END ..C=10000.0, gamma=0.1, kernel=rbf;, score=0.874 total time=  10.4s\n",
            "[CV 3/3] END ..C=10000.0, gamma=0.1, kernel=rbf;, score=0.874 total time=   9.6s\n",
            "[CV 1/3] END ..C=10000.0, gamma=1.0, kernel=rbf;, score=0.591 total time=  12.4s\n",
            "[CV 2/3] END ..C=10000.0, gamma=1.0, kernel=rbf;, score=0.595 total time=  12.3s\n",
            "[CV 3/3] END ..C=10000.0, gamma=1.0, kernel=rbf;, score=0.591 total time=  19.7s\n",
            "[CV 1/3] END .C=10000.0, gamma=10.0, kernel=rbf;, score=0.589 total time=  15.9s\n",
            "[CV 2/3] END .C=10000.0, gamma=10.0, kernel=rbf;, score=0.593 total time=  12.2s\n",
            "[CV 3/3] END .C=10000.0, gamma=10.0, kernel=rbf;, score=0.591 total time=  12.1s\n",
            "[CV 1/3] END C=10000.0, gamma=100.0, kernel=rbf;, score=0.589 total time=  12.0s\n",
            "[CV 2/3] END C=10000.0, gamma=100.0, kernel=rbf;, score=0.593 total time=  12.2s\n",
            "[CV 3/3] END C=10000.0, gamma=100.0, kernel=rbf;, score=0.591 total time=  12.2s\n",
            "[CV 1/3] END C=100000.0, gamma=0.01, kernel=rbf;, score=0.846 total time=   5.7s\n",
            "[CV 2/3] END C=100000.0, gamma=0.01, kernel=rbf;, score=0.854 total time=   6.4s\n",
            "[CV 3/3] END C=100000.0, gamma=0.01, kernel=rbf;, score=0.854 total time=   6.2s\n",
            "[CV 1/3] END .C=100000.0, gamma=0.1, kernel=rbf;, score=0.866 total time=  10.1s\n",
            "[CV 2/3] END .C=100000.0, gamma=0.1, kernel=rbf;, score=0.874 total time=   9.1s\n",
            "[CV 3/3] END .C=100000.0, gamma=0.1, kernel=rbf;, score=0.874 total time=  10.2s\n",
            "[CV 1/3] END .C=100000.0, gamma=1.0, kernel=rbf;, score=0.591 total time=  12.0s\n",
            "[CV 2/3] END .C=100000.0, gamma=1.0, kernel=rbf;, score=0.595 total time=  12.3s\n",
            "[CV 3/3] END .C=100000.0, gamma=1.0, kernel=rbf;, score=0.591 total time=  11.8s\n",
            "[CV 1/3] END C=100000.0, gamma=10.0, kernel=rbf;, score=0.589 total time=  11.7s\n",
            "[CV 2/3] END C=100000.0, gamma=10.0, kernel=rbf;, score=0.593 total time=  12.0s\n",
            "[CV 3/3] END C=100000.0, gamma=10.0, kernel=rbf;, score=0.591 total time=  13.4s\n",
            "[CV 1/3] END C=100000.0, gamma=100.0, kernel=rbf;, score=0.589 total time=  15.7s\n",
            "[CV 2/3] END C=100000.0, gamma=100.0, kernel=rbf;, score=0.593 total time=  12.2s\n",
            "[CV 3/3] END C=100000.0, gamma=100.0, kernel=rbf;, score=0.591 total time=  12.0s\n",
            "The best parameters are {'C': 10.0, 'gamma': 0.1, 'kernel': 'rbf'} with a score of 0.87\n"
          ]
        }
      ],
      "source": [
        "param_grid = {'C': np.logspace(-1, 3, 5),\n",
        "              'gamma': np.logspace(-3, 1, 5),\n",
        "              'kernel': ['rbf']}\n",
        "\n",
        "cv = StratifiedShuffleSplit(n_splits=3, test_size=1/9, random_state=42)\n",
        "\n",
        "grid = GridSearchCV(SVC(), param_grid, refit=True, verbose=3, cv=cv)\n",
        "\n",
        "grid.fit(X_traindev, y_traindev)\n",
        "\n",
        "print(\n",
        "    \"The best parameters are %s with a score of %0.2f\"\n",
        "    % (grid.best_params_, grid.best_score_)\n",
        ")"
      ]
    },
    {
      "cell_type": "markdown",
      "metadata": {
        "id": "09ZmZBjEbCwk"
      },
      "source": [
        "#### Train"
      ]
    },
    {
      "cell_type": "code",
      "execution_count": null,
      "metadata": {
        "id": "Xp3zUy6GbCwk",
        "colab": {
          "base_uri": "https://localhost:8080/",
          "height": 92
        },
        "outputId": "6b33bebc-a521-4b5e-896e-e198eb554abd"
      },
      "outputs": [
        {
          "output_type": "stream",
          "name": "stdout",
          "text": [
            "[LibSVM]"
          ]
        },
        {
          "output_type": "execute_result",
          "data": {
            "text/plain": [
              "SVC(C=10.0, class_weight='balanced', gamma=0.1, verbose=1)"
            ],
            "text/html": [
              "<style>#sk-container-id-5 {color: black;background-color: white;}#sk-container-id-5 pre{padding: 0;}#sk-container-id-5 div.sk-toggleable {background-color: white;}#sk-container-id-5 label.sk-toggleable__label {cursor: pointer;display: block;width: 100%;margin-bottom: 0;padding: 0.3em;box-sizing: border-box;text-align: center;}#sk-container-id-5 label.sk-toggleable__label-arrow:before {content: \"▸\";float: left;margin-right: 0.25em;color: #696969;}#sk-container-id-5 label.sk-toggleable__label-arrow:hover:before {color: black;}#sk-container-id-5 div.sk-estimator:hover label.sk-toggleable__label-arrow:before {color: black;}#sk-container-id-5 div.sk-toggleable__content {max-height: 0;max-width: 0;overflow: hidden;text-align: left;background-color: #f0f8ff;}#sk-container-id-5 div.sk-toggleable__content pre {margin: 0.2em;color: black;border-radius: 0.25em;background-color: #f0f8ff;}#sk-container-id-5 input.sk-toggleable__control:checked~div.sk-toggleable__content {max-height: 200px;max-width: 100%;overflow: auto;}#sk-container-id-5 input.sk-toggleable__control:checked~label.sk-toggleable__label-arrow:before {content: \"▾\";}#sk-container-id-5 div.sk-estimator input.sk-toggleable__control:checked~label.sk-toggleable__label {background-color: #d4ebff;}#sk-container-id-5 div.sk-label input.sk-toggleable__control:checked~label.sk-toggleable__label {background-color: #d4ebff;}#sk-container-id-5 input.sk-hidden--visually {border: 0;clip: rect(1px 1px 1px 1px);clip: rect(1px, 1px, 1px, 1px);height: 1px;margin: -1px;overflow: hidden;padding: 0;position: absolute;width: 1px;}#sk-container-id-5 div.sk-estimator {font-family: monospace;background-color: #f0f8ff;border: 1px dotted black;border-radius: 0.25em;box-sizing: border-box;margin-bottom: 0.5em;}#sk-container-id-5 div.sk-estimator:hover {background-color: #d4ebff;}#sk-container-id-5 div.sk-parallel-item::after {content: \"\";width: 100%;border-bottom: 1px solid gray;flex-grow: 1;}#sk-container-id-5 div.sk-label:hover label.sk-toggleable__label {background-color: #d4ebff;}#sk-container-id-5 div.sk-serial::before {content: \"\";position: absolute;border-left: 1px solid gray;box-sizing: border-box;top: 0;bottom: 0;left: 50%;z-index: 0;}#sk-container-id-5 div.sk-serial {display: flex;flex-direction: column;align-items: center;background-color: white;padding-right: 0.2em;padding-left: 0.2em;position: relative;}#sk-container-id-5 div.sk-item {position: relative;z-index: 1;}#sk-container-id-5 div.sk-parallel {display: flex;align-items: stretch;justify-content: center;background-color: white;position: relative;}#sk-container-id-5 div.sk-item::before, #sk-container-id-5 div.sk-parallel-item::before {content: \"\";position: absolute;border-left: 1px solid gray;box-sizing: border-box;top: 0;bottom: 0;left: 50%;z-index: -1;}#sk-container-id-5 div.sk-parallel-item {display: flex;flex-direction: column;z-index: 1;position: relative;background-color: white;}#sk-container-id-5 div.sk-parallel-item:first-child::after {align-self: flex-end;width: 50%;}#sk-container-id-5 div.sk-parallel-item:last-child::after {align-self: flex-start;width: 50%;}#sk-container-id-5 div.sk-parallel-item:only-child::after {width: 0;}#sk-container-id-5 div.sk-dashed-wrapped {border: 1px dashed gray;margin: 0 0.4em 0.5em 0.4em;box-sizing: border-box;padding-bottom: 0.4em;background-color: white;}#sk-container-id-5 div.sk-label label {font-family: monospace;font-weight: bold;display: inline-block;line-height: 1.2em;}#sk-container-id-5 div.sk-label-container {text-align: center;}#sk-container-id-5 div.sk-container {/* jupyter's `normalize.less` sets `[hidden] { display: none; }` but bootstrap.min.css set `[hidden] { display: none !important; }` so we also need the `!important` here to be able to override the default hidden behavior on the sphinx rendered scikit-learn.org. See: https://github.com/scikit-learn/scikit-learn/issues/21755 */display: inline-block !important;position: relative;}#sk-container-id-5 div.sk-text-repr-fallback {display: none;}</style><div id=\"sk-container-id-5\" class=\"sk-top-container\"><div class=\"sk-text-repr-fallback\"><pre>SVC(C=10.0, class_weight=&#x27;balanced&#x27;, gamma=0.1, verbose=1)</pre><b>In a Jupyter environment, please rerun this cell to show the HTML representation or trust the notebook. <br />On GitHub, the HTML representation is unable to render, please try loading this page with nbviewer.org.</b></div><div class=\"sk-container\" hidden><div class=\"sk-item\"><div class=\"sk-estimator sk-toggleable\"><input class=\"sk-toggleable__control sk-hidden--visually\" id=\"sk-estimator-id-5\" type=\"checkbox\" checked><label for=\"sk-estimator-id-5\" class=\"sk-toggleable__label sk-toggleable__label-arrow\">SVC</label><div class=\"sk-toggleable__content\"><pre>SVC(C=10.0, class_weight=&#x27;balanced&#x27;, gamma=0.1, verbose=1)</pre></div></div></div></div></div>"
            ]
          },
          "metadata": {},
          "execution_count": 160
        }
      ],
      "source": [
        "clf_svmrbf = SVC(C=10.0, gamma=.1, kernel='rbf', verbose=1, class_weight='balanced')\n",
        "clf_svmrbf.fit(X_train, y_train)"
      ]
    },
    {
      "cell_type": "markdown",
      "source": [
        "#### Save pretrained model"
      ],
      "metadata": {
        "id": "iYxN4SzlxHr1"
      }
    },
    {
      "cell_type": "code",
      "source": [
        "%cd /content/"
      ],
      "metadata": {
        "colab": {
          "base_uri": "https://localhost:8080/"
        },
        "outputId": "5b2fca2b-dd54-4717-d88f-13cb58b6b35b",
        "id": "qUOoQo5vxHr2"
      },
      "execution_count": null,
      "outputs": [
        {
          "output_type": "stream",
          "name": "stdout",
          "text": [
            "/content\n"
          ]
        }
      ]
    },
    {
      "cell_type": "code",
      "source": [
        "import pickle"
      ],
      "metadata": {
        "id": "yNbk0YHVxHr2"
      },
      "execution_count": null,
      "outputs": []
    },
    {
      "cell_type": "code",
      "source": [
        "filename = 'balanced_SVC.pkl'\n",
        "pickle.dump(clf_svmrbf, open(filename, 'wb'))"
      ],
      "metadata": {
        "id": "VQbOhe_XxHr2"
      },
      "execution_count": null,
      "outputs": []
    },
    {
      "cell_type": "code",
      "source": [
        "filename = 'imbalanced_SVC.pkl'\n",
        "pickle.dump(clf_svmrbf, open(filename, 'wb'))"
      ],
      "metadata": {
        "id": "89QGVikexHr2"
      },
      "execution_count": null,
      "outputs": []
    },
    {
      "cell_type": "markdown",
      "source": [
        "#### Load pretrained models"
      ],
      "metadata": {
        "id": "9L_xzoaSxZY7"
      }
    },
    {
      "cell_type": "code",
      "source": [
        "import pickle\n",
        "%cd /content/"
      ],
      "metadata": {
        "colab": {
          "base_uri": "https://localhost:8080/"
        },
        "id": "OIIR8B6CyLej",
        "outputId": "c4fc5422-ca37-4364-ead2-0f65d004b984"
      },
      "execution_count": null,
      "outputs": [
        {
          "output_type": "stream",
          "name": "stdout",
          "text": [
            "/content\n"
          ]
        }
      ]
    },
    {
      "cell_type": "code",
      "source": [
        "## uncomment those lines if you want to use balanced model\n",
        "# !wget https://raw.githubusercontent.com/uyenbhku/CS114.N21/main/sarcasm_detection_dataset/balanced_SVC.pkl\n",
        "# clf_svmrbf = pickle.load(open('balanced_SVC.pkl', 'rb'))"
      ],
      "metadata": {
        "colab": {
          "base_uri": "https://localhost:8080/"
        },
        "id": "k6behaZsyQij",
        "outputId": "21dcbe13-f285-42a2-9a63-ee1985e650c2"
      },
      "execution_count": null,
      "outputs": [
        {
          "output_type": "stream",
          "name": "stdout",
          "text": [
            "--2023-06-30 14:55:52--  https://raw.githubusercontent.com/uyenbhku/CS114.N21/main/sarcasm_detection_dataset/balanced_SVC.pkl\n",
            "Resolving raw.githubusercontent.com (raw.githubusercontent.com)... 185.199.108.133, 185.199.109.133, 185.199.110.133, ...\n",
            "Connecting to raw.githubusercontent.com (raw.githubusercontent.com)|185.199.108.133|:443... connected.\n",
            "HTTP request sent, awaiting response... 200 OK\n",
            "Length: 16958386 (16M) [application/octet-stream]\n",
            "Saving to: ‘balanced_SVC.pkl.1’\n",
            "\n",
            "balanced_SVC.pkl.1  100%[===================>]  16.17M  96.2MB/s    in 0.2s    \n",
            "\n",
            "2023-06-30 14:55:53 (96.2 MB/s) - ‘balanced_SVC.pkl.1’ saved [16958386/16958386]\n",
            "\n"
          ]
        }
      ]
    },
    {
      "cell_type": "code",
      "source": [
        "!wget https://raw.githubusercontent.com/uyenbhku/CS114.N21/main/sarcasm_detection_dataset/imbalanced_SVC.pkl\n",
        "clf_svmrbf = pickle.load(open('imbalanced_SVC.pkl', 'rb'))"
      ],
      "metadata": {
        "colab": {
          "base_uri": "https://localhost:8080/"
        },
        "id": "l79pJYbwxyMd",
        "outputId": "c2b39a22-5bf7-4744-8ce2-0898a242511b"
      },
      "execution_count": null,
      "outputs": [
        {
          "output_type": "stream",
          "name": "stdout",
          "text": [
            "--2023-06-30 14:56:32--  https://raw.githubusercontent.com/uyenbhku/CS114.N21/main/sarcasm_detection_dataset/imbalanced_SVC.pkl\n",
            "Resolving raw.githubusercontent.com (raw.githubusercontent.com)... 185.199.110.133, 185.199.109.133, 185.199.111.133, ...\n",
            "Connecting to raw.githubusercontent.com (raw.githubusercontent.com)|185.199.110.133|:443... connected.\n",
            "HTTP request sent, awaiting response... 200 OK\n",
            "Length: 16946048 (16M) [application/octet-stream]\n",
            "Saving to: ‘imbalanced_SVC.pkl.1’\n",
            "\n",
            "\rimbalanced_SVC.pkl.   0%[                    ]       0  --.-KB/s               \rimbalanced_SVC.pkl. 100%[===================>]  16.16M  --.-KB/s    in 0.05s   \n",
            "\n",
            "2023-06-30 14:56:32 (298 MB/s) - ‘imbalanced_SVC.pkl.1’ saved [16946048/16946048]\n",
            "\n"
          ]
        }
      ]
    },
    {
      "cell_type": "markdown",
      "metadata": {
        "id": "rJNqLjfVbCwk"
      },
      "source": [
        "#### Evaluate"
      ]
    },
    {
      "cell_type": "code",
      "execution_count": null,
      "metadata": {
        "id": "wnQ4HIo9bCwk"
      },
      "outputs": [],
      "source": [
        "import matplotlib.pyplot as plt\n",
        "from sklearn import metrics"
      ]
    },
    {
      "cell_type": "code",
      "execution_count": null,
      "metadata": {
        "id": "ttmSJTqrbCwk"
      },
      "outputs": [],
      "source": [
        "y_preds = clf_svmrbf.predict(X_test)"
      ]
    },
    {
      "cell_type": "markdown",
      "metadata": {
        "id": "GzGnMDu_bCwk"
      },
      "source": [
        "##### Before handling imbalanced dataset"
      ]
    },
    {
      "cell_type": "code",
      "execution_count": null,
      "metadata": {
        "colab": {
          "base_uri": "https://localhost:8080/"
        },
        "id": "rSguyLY6bCwl",
        "outputId": "ea82f17a-14d1-4cbe-a587-535f49f65300"
      },
      "outputs": [
        {
          "output_type": "stream",
          "name": "stdout",
          "text": [
            "Classification report for classifier SVC(C=10.0, gamma=0.1, verbose=1) in dev set:\n",
            "              precision    recall  f1-score   support\n",
            "\n",
            "           0       0.87      0.88      0.88       294\n",
            "           1       0.83      0.81      0.82       205\n",
            "\n",
            "    accuracy                           0.85       499\n",
            "   macro avg       0.85      0.85      0.85       499\n",
            "weighted avg       0.85      0.85      0.85       499\n",
            "\n",
            "\n"
          ]
        }
      ],
      "source": [
        "print(\n",
        "    f\"Classification report for classifier {clf_svmrbf} in dev set:\\n\"\n",
        "    f\"{metrics.classification_report(y_dev, clf_svmrbf.predict(X_dev))}\\n\"\n",
        ")"
      ]
    },
    {
      "cell_type": "code",
      "execution_count": null,
      "metadata": {
        "colab": {
          "base_uri": "https://localhost:8080/"
        },
        "id": "ijGbZuGPbCwl",
        "outputId": "797c00fe-b476-4697-bb8d-477b80945bba"
      },
      "outputs": [
        {
          "output_type": "stream",
          "name": "stdout",
          "text": [
            "Classification report for classifier SVC(C=10.0, gamma=0.1, verbose=1):\n",
            "              precision    recall  f1-score   support\n",
            "\n",
            "           0       0.88      0.88      0.88       294\n",
            "           1       0.83      0.83      0.83       205\n",
            "\n",
            "    accuracy                           0.86       499\n",
            "   macro avg       0.86      0.86      0.86       499\n",
            "weighted avg       0.86      0.86      0.86       499\n",
            "\n",
            "\n"
          ]
        }
      ],
      "source": [
        "print(\n",
        "    f\"Classification report for classifier {clf_svmrbf}:\\n\"\n",
        "    f\"{metrics.classification_report(y_test, y_preds)}\\n\"\n",
        ")"
      ]
    },
    {
      "cell_type": "code",
      "execution_count": null,
      "metadata": {
        "colab": {
          "base_uri": "https://localhost:8080/",
          "height": 551
        },
        "id": "eIyPICXGbCwl",
        "outputId": "a13423b8-0212-430e-e1be-9922a2b89650"
      },
      "outputs": [
        {
          "output_type": "stream",
          "name": "stdout",
          "text": [
            "Confusion matrix:\n",
            "[[259  35]\n",
            " [ 35 170]]\n"
          ]
        },
        {
          "output_type": "display_data",
          "data": {
            "text/plain": [
              "<Figure size 640x480 with 2 Axes>"
            ],
            "image/png": "[encoded data removed]"
          },
          "metadata": {}
        }
      ],
      "source": [
        "disp = metrics.ConfusionMatrixDisplay.from_predictions(y_test, y_preds)\n",
        "disp.figure_.suptitle(\"Confusion Matrix\")\n",
        "print(f\"Confusion matrix:\\n{disp.confusion_matrix}\")\n",
        "\n",
        "plt.show()"
      ]
    },
    {
      "cell_type": "markdown",
      "metadata": {
        "id": "WxEbMQ7ObCwl"
      },
      "source": [
        "##### After handling"
      ]
    },
    {
      "cell_type": "code",
      "execution_count": null,
      "metadata": {
        "colab": {
          "base_uri": "https://localhost:8080/"
        },
        "id": "nxfUXLcbbCwl",
        "outputId": "d37f7392-28d5-49cd-985f-b7b9206ffe25"
      },
      "outputs": [
        {
          "output_type": "stream",
          "name": "stdout",
          "text": [
            "Classification report for classifier SVC(C=10.0, class_weight='balanced', gamma=0.1, verbose=1) in dev set:\n",
            "              precision    recall  f1-score   support\n",
            "\n",
            "           0       0.87      0.88      0.88       294\n",
            "           1       0.83      0.81      0.82       205\n",
            "\n",
            "    accuracy                           0.85       499\n",
            "   macro avg       0.85      0.85      0.85       499\n",
            "weighted avg       0.85      0.85      0.85       499\n",
            "\n",
            "\n"
          ]
        }
      ],
      "source": [
        "print(\n",
        "    f\"Classification report for classifier {clf_svmrbf} in dev set:\\n\"\n",
        "    f\"{metrics.classification_report(y_dev, clf_svmrbf.predict(X_dev))}\\n\"\n",
        ")"
      ]
    },
    {
      "cell_type": "code",
      "execution_count": null,
      "metadata": {
        "colab": {
          "base_uri": "https://localhost:8080/"
        },
        "id": "5d6cuqFnbCwl",
        "outputId": "8e770e56-9084-4537-9de8-94ed9ee294d6"
      },
      "outputs": [
        {
          "output_type": "stream",
          "name": "stdout",
          "text": [
            "Classification report for classifier SVC(C=10.0, class_weight='balanced', gamma=0.1, verbose=1):\n",
            "              precision    recall  f1-score   support\n",
            "\n",
            "           0       0.88      0.88      0.88       294\n",
            "           1       0.83      0.83      0.83       205\n",
            "\n",
            "    accuracy                           0.86       499\n",
            "   macro avg       0.86      0.86      0.86       499\n",
            "weighted avg       0.86      0.86      0.86       499\n",
            "\n",
            "\n"
          ]
        }
      ],
      "source": [
        "print(\n",
        "    f\"Classification report for classifier {clf_svmrbf}:\\n\"\n",
        "    f\"{metrics.classification_report(y_test, y_preds)}\\n\"\n",
        ")"
      ]
    },
    {
      "cell_type": "code",
      "execution_count": null,
      "metadata": {
        "colab": {
          "base_uri": "https://localhost:8080/",
          "height": 551
        },
        "id": "1iy4tKGKbCwl",
        "outputId": "bfa2c9ba-c610-455d-a098-184031c28c1d"
      },
      "outputs": [
        {
          "output_type": "stream",
          "name": "stdout",
          "text": [
            "Confusion matrix:\n",
            "[[259  35]\n",
            " [ 35 170]]\n"
          ]
        },
        {
          "output_type": "display_data",
          "data": {
            "text/plain": [
              "<Figure size 640x480 with 2 Axes>"
            ],
            "image/png": "[encoded data removed]"
          },
          "metadata": {}
        }
      ],
      "source": [
        "disp = metrics.ConfusionMatrixDisplay.from_predictions(y_test, y_preds)\n",
        "disp.figure_.suptitle(\"Confusion Matrix\")\n",
        "print(f\"Confusion matrix:\\n{disp.confusion_matrix}\")\n",
        "\n",
        "plt.show()"
      ]
    },
    {
      "cell_type": "markdown",
      "metadata": {
        "id": "UN_ZEXqmezhN"
      },
      "source": [
        "### SVM with article link"
      ]
    },
    {
      "cell_type": "code",
      "execution_count": null,
      "metadata": {
        "id": "vl02NcRRhBz9"
      },
      "outputs": [],
      "source": [
        "from sklearn.svm import SVC\n",
        "from sklearn.model_selection import StratifiedShuffleSplit\n",
        "from sklearn.model_selection import GridSearchCV"
      ]
    },
    {
      "cell_type": "code",
      "source": [
        "X = np.c_[ encoded_headlines, df['encoded_domain_name'].values ]\n",
        "y = df['is_sarcastic'].values"
      ],
      "metadata": {
        "id": "4n5FPs91vSBv"
      },
      "execution_count": null,
      "outputs": []
    },
    {
      "cell_type": "code",
      "source": [
        "from sklearn.preprocessing import MinMaxScaler\n",
        "scaler = MinMaxScaler()\n",
        "scaler.fit(X)\n",
        "\n",
        "scaled_X = scaler.transform(X)"
      ],
      "metadata": {
        "id": "0b_cClH1wjMb"
      },
      "execution_count": null,
      "outputs": []
    },
    {
      "cell_type": "code",
      "source": [
        "X_train, y_train, X_dev, y_dev, X_test, y_test = split_set(scaled_X, y)"
      ],
      "metadata": {
        "id": "dJhYn_90wjMc"
      },
      "execution_count": null,
      "outputs": []
    },
    {
      "cell_type": "markdown",
      "metadata": {
        "id": "jKg7cxgL5dxy"
      },
      "source": [
        "#### Fine tuning"
      ]
    },
    {
      "cell_type": "code",
      "execution_count": null,
      "metadata": {
        "id": "G2cWD7OrciT2"
      },
      "outputs": [],
      "source": [
        "X_traindev = np.vstack([X_train, X_dev])"
      ]
    },
    {
      "cell_type": "code",
      "execution_count": null,
      "metadata": {
        "colab": {
          "base_uri": "https://localhost:8080/"
        },
        "id": "XLsrWderdK5S",
        "outputId": "56d584bd-b130-4a40-bcd8-4ec21c8719cd"
      },
      "outputs": [
        {
          "output_type": "execute_result",
          "data": {
            "text/plain": [
              "(4488, 769)"
            ]
          },
          "metadata": {},
          "execution_count": 406
        }
      ],
      "source": [
        "X_traindev.shape"
      ]
    },
    {
      "cell_type": "code",
      "execution_count": null,
      "metadata": {
        "id": "K_iFfG8kcrP9"
      },
      "outputs": [],
      "source": [
        "y_traindev = np.concatenate([y_train, y_dev])"
      ]
    },
    {
      "cell_type": "code",
      "execution_count": null,
      "metadata": {
        "colab": {
          "base_uri": "https://localhost:8080/"
        },
        "id": "WxFTG6uicZnH",
        "outputId": "dbddeacf-328b-49b3-92c7-14d14b125090"
      },
      "outputs": [
        {
          "data": {
            "text/plain": [
              "(4488,)"
            ]
          },
          "execution_count": 231,
          "metadata": {},
          "output_type": "execute_result"
        }
      ],
      "source": [
        "y_traindev.shape"
      ]
    },
    {
      "cell_type": "code",
      "execution_count": null,
      "metadata": {
        "colab": {
          "base_uri": "https://localhost:8080/"
        },
        "id": "NLcvnxf4X--G",
        "outputId": "8530b991-7370-49fc-d12a-b779e61c7f5b"
      },
      "outputs": [
        {
          "output_type": "stream",
          "name": "stdout",
          "text": [
            "Fitting 3 folds for each of 63 candidates, totalling 189 fits\n",
            "[CV 1/3] END ..C=0.01, gamma=0.0001, kernel=rbf;, score=0.589 total time=  13.0s\n",
            "[CV 2/3] END ..C=0.01, gamma=0.0001, kernel=rbf;, score=0.589 total time=   8.1s\n",
            "[CV 3/3] END ..C=0.01, gamma=0.0001, kernel=rbf;, score=0.589 total time=  10.9s\n",
            "[CV 1/3] END ...C=0.01, gamma=0.001, kernel=rbf;, score=0.589 total time=   8.9s\n",
            "[CV 2/3] END ...C=0.01, gamma=0.001, kernel=rbf;, score=0.589 total time=   8.3s\n",
            "[CV 3/3] END ...C=0.01, gamma=0.001, kernel=rbf;, score=0.589 total time=   8.9s\n",
            "[CV 1/3] END ....C=0.01, gamma=0.01, kernel=rbf;, score=0.589 total time=  11.2s\n",
            "[CV 2/3] END ....C=0.01, gamma=0.01, kernel=rbf;, score=0.589 total time=  16.5s\n",
            "[CV 3/3] END ....C=0.01, gamma=0.01, kernel=rbf;, score=0.589 total time=   8.8s\n",
            "[CV 1/3] END .....C=0.01, gamma=0.1, kernel=rbf;, score=0.589 total time=   8.1s\n",
            "[CV 2/3] END .....C=0.01, gamma=0.1, kernel=rbf;, score=0.589 total time=   9.2s\n",
            "[CV 3/3] END .....C=0.01, gamma=0.1, kernel=rbf;, score=0.589 total time=  12.8s\n",
            "[CV 1/3] END .....C=0.01, gamma=1.0, kernel=rbf;, score=0.589 total time=  10.7s\n",
            "[CV 2/3] END .....C=0.01, gamma=1.0, kernel=rbf;, score=0.589 total time=   9.9s\n",
            "[CV 3/3] END .....C=0.01, gamma=1.0, kernel=rbf;, score=0.589 total time=  10.7s\n",
            "[CV 1/3] END ....C=0.01, gamma=10.0, kernel=rbf;, score=0.589 total time=  11.9s\n",
            "[CV 2/3] END ....C=0.01, gamma=10.0, kernel=rbf;, score=0.589 total time=   9.9s\n",
            "[CV 3/3] END ....C=0.01, gamma=10.0, kernel=rbf;, score=0.589 total time=  10.2s\n",
            "[CV 1/3] END ...C=0.01, gamma=100.0, kernel=rbf;, score=0.589 total time=  10.6s\n",
            "[CV 2/3] END ...C=0.01, gamma=100.0, kernel=rbf;, score=0.589 total time=  10.6s\n",
            "[CV 3/3] END ...C=0.01, gamma=100.0, kernel=rbf;, score=0.589 total time=   9.6s\n",
            "[CV 1/3] END ...C=0.1, gamma=0.0001, kernel=rbf;, score=0.589 total time=   8.9s\n",
            "[CV 2/3] END ...C=0.1, gamma=0.0001, kernel=rbf;, score=0.589 total time=   8.6s\n",
            "[CV 3/3] END ...C=0.1, gamma=0.0001, kernel=rbf;, score=0.589 total time=   8.6s\n",
            "[CV 1/3] END ....C=0.1, gamma=0.001, kernel=rbf;, score=0.589 total time=   9.0s\n",
            "[CV 2/3] END ....C=0.1, gamma=0.001, kernel=rbf;, score=0.589 total time=   7.9s\n",
            "[CV 3/3] END ....C=0.1, gamma=0.001, kernel=rbf;, score=0.589 total time=   8.9s\n",
            "[CV 1/3] END .....C=0.1, gamma=0.01, kernel=rbf;, score=0.893 total time=   7.4s\n",
            "[CV 2/3] END .....C=0.1, gamma=0.01, kernel=rbf;, score=0.893 total time=   8.1s\n",
            "[CV 3/3] END .....C=0.1, gamma=0.01, kernel=rbf;, score=0.910 total time=   7.7s\n",
            "[CV 1/3] END ......C=0.1, gamma=0.1, kernel=rbf;, score=0.884 total time=   7.8s\n",
            "[CV 2/3] END ......C=0.1, gamma=0.1, kernel=rbf;, score=0.862 total time=   8.2s\n",
            "[CV 3/3] END ......C=0.1, gamma=0.1, kernel=rbf;, score=0.885 total time=   7.6s\n",
            "[CV 1/3] END ......C=0.1, gamma=1.0, kernel=rbf;, score=0.589 total time=  13.0s\n",
            "[CV 2/3] END ......C=0.1, gamma=1.0, kernel=rbf;, score=0.589 total time=  15.1s\n",
            "[CV 3/3] END ......C=0.1, gamma=1.0, kernel=rbf;, score=0.589 total time=  11.0s\n",
            "[CV 1/3] END .....C=0.1, gamma=10.0, kernel=rbf;, score=0.589 total time=  11.9s\n",
            "[CV 2/3] END .....C=0.1, gamma=10.0, kernel=rbf;, score=0.589 total time=  11.7s\n",
            "[CV 3/3] END .....C=0.1, gamma=10.0, kernel=rbf;, score=0.589 total time=  13.4s\n",
            "[CV 1/3] END ....C=0.1, gamma=100.0, kernel=rbf;, score=0.589 total time=  15.5s\n",
            "[CV 2/3] END ....C=0.1, gamma=100.0, kernel=rbf;, score=0.589 total time=  15.0s\n",
            "[CV 3/3] END ....C=0.1, gamma=100.0, kernel=rbf;, score=0.589 total time=  16.5s\n",
            "[CV 1/3] END ...C=1.0, gamma=0.0001, kernel=rbf;, score=0.589 total time=   9.3s\n",
            "[CV 2/3] END ...C=1.0, gamma=0.0001, kernel=rbf;, score=0.589 total time=   9.3s\n",
            "[CV 3/3] END ...C=1.0, gamma=0.0001, kernel=rbf;, score=0.589 total time=   7.9s\n",
            "[CV 1/3] END ....C=1.0, gamma=0.001, kernel=rbf;, score=0.898 total time=   8.0s\n",
            "[CV 2/3] END ....C=1.0, gamma=0.001, kernel=rbf;, score=0.907 total time=   7.0s\n",
            "[CV 3/3] END ....C=1.0, gamma=0.001, kernel=rbf;, score=0.920 total time=   7.8s\n",
            "[CV 1/3] END .....C=1.0, gamma=0.01, kernel=rbf;, score=0.950 total time=   3.6s\n",
            "[CV 2/3] END .....C=1.0, gamma=0.01, kernel=rbf;, score=0.946 total time=   3.7s\n",
            "[CV 3/3] END .....C=1.0, gamma=0.01, kernel=rbf;, score=0.944 total time=   4.8s\n",
            "[CV 1/3] END ......C=1.0, gamma=0.1, kernel=rbf;, score=0.946 total time=   6.9s\n",
            "[CV 2/3] END ......C=1.0, gamma=0.1, kernel=rbf;, score=0.943 total time=  11.5s\n",
            "[CV 3/3] END ......C=1.0, gamma=0.1, kernel=rbf;, score=0.942 total time=  11.3s\n",
            "[CV 1/3] END ......C=1.0, gamma=1.0, kernel=rbf;, score=0.591 total time=  10.5s\n",
            "[CV 2/3] END ......C=1.0, gamma=1.0, kernel=rbf;, score=0.594 total time=  14.0s\n",
            "[CV 3/3] END ......C=1.0, gamma=1.0, kernel=rbf;, score=0.593 total time=  10.6s\n",
            "[CV 1/3] END .....C=1.0, gamma=10.0, kernel=rbf;, score=0.590 total time=  10.8s\n",
            "[CV 2/3] END .....C=1.0, gamma=10.0, kernel=rbf;, score=0.593 total time=  10.6s\n",
            "[CV 3/3] END .....C=1.0, gamma=10.0, kernel=rbf;, score=0.592 total time=  14.3s\n",
            "[CV 1/3] END ....C=1.0, gamma=100.0, kernel=rbf;, score=0.590 total time=  20.5s\n",
            "[CV 2/3] END ....C=1.0, gamma=100.0, kernel=rbf;, score=0.593 total time=  15.7s\n",
            "[CV 3/3] END ....C=1.0, gamma=100.0, kernel=rbf;, score=0.592 total time=  12.5s\n",
            "[CV 1/3] END ..C=10.0, gamma=0.0001, kernel=rbf;, score=0.899 total time=  13.7s\n",
            "[CV 2/3] END ..C=10.0, gamma=0.0001, kernel=rbf;, score=0.908 total time=   9.8s\n",
            "[CV 3/3] END ..C=10.0, gamma=0.0001, kernel=rbf;, score=0.922 total time=  12.6s\n",
            "[CV 1/3] END ...C=10.0, gamma=0.001, kernel=rbf;, score=0.954 total time=   4.0s\n",
            "[CV 2/3] END ...C=10.0, gamma=0.001, kernel=rbf;, score=0.948 total time=   4.3s\n",
            "[CV 3/3] END ...C=10.0, gamma=0.001, kernel=rbf;, score=0.945 total time=   3.6s\n",
            "[CV 1/3] END ....C=10.0, gamma=0.01, kernel=rbf;, score=0.944 total time=   3.7s\n",
            "[CV 2/3] END ....C=10.0, gamma=0.01, kernel=rbf;, score=0.941 total time=   5.5s\n",
            "[CV 3/3] END ....C=10.0, gamma=0.01, kernel=rbf;, score=0.942 total time=   3.7s\n",
            "[CV 1/3] END .....C=10.0, gamma=0.1, kernel=rbf;, score=0.944 total time=  10.6s\n",
            "[CV 2/3] END .....C=10.0, gamma=0.1, kernel=rbf;, score=0.945 total time=   7.6s\n",
            "[CV 3/3] END .....C=10.0, gamma=0.1, kernel=rbf;, score=0.940 total time=   8.5s\n",
            "[CV 1/3] END .....C=10.0, gamma=1.0, kernel=rbf;, score=0.591 total time=  10.5s\n",
            "[CV 2/3] END .....C=10.0, gamma=1.0, kernel=rbf;, score=0.594 total time=  10.5s\n",
            "[CV 3/3] END .....C=10.0, gamma=1.0, kernel=rbf;, score=0.593 total time=  11.1s\n",
            "[CV 1/3] END ....C=10.0, gamma=10.0, kernel=rbf;, score=0.590 total time=  11.2s\n",
            "[CV 2/3] END ....C=10.0, gamma=10.0, kernel=rbf;, score=0.593 total time=  11.8s\n",
            "[CV 3/3] END ....C=10.0, gamma=10.0, kernel=rbf;, score=0.592 total time=  10.6s\n",
            "[CV 1/3] END ...C=10.0, gamma=100.0, kernel=rbf;, score=0.590 total time=  11.1s\n",
            "[CV 2/3] END ...C=10.0, gamma=100.0, kernel=rbf;, score=0.593 total time=  12.4s\n",
            "[CV 3/3] END ...C=10.0, gamma=100.0, kernel=rbf;, score=0.592 total time=  10.8s\n",
            "[CV 1/3] END .C=100.0, gamma=0.0001, kernel=rbf;, score=0.954 total time=   3.8s\n",
            "[CV 2/3] END .C=100.0, gamma=0.0001, kernel=rbf;, score=0.948 total time=   3.5s\n",
            "[CV 3/3] END .C=100.0, gamma=0.0001, kernel=rbf;, score=0.945 total time=   3.5s\n",
            "[CV 1/3] END ..C=100.0, gamma=0.001, kernel=rbf;, score=0.940 total time=   2.9s\n",
            "[CV 2/3] END ..C=100.0, gamma=0.001, kernel=rbf;, score=0.939 total time=   2.7s\n",
            "[CV 3/3] END ..C=100.0, gamma=0.001, kernel=rbf;, score=0.940 total time=   2.3s\n",
            "[CV 1/3] END ...C=100.0, gamma=0.01, kernel=rbf;, score=0.919 total time=   2.7s\n",
            "[CV 2/3] END ...C=100.0, gamma=0.01, kernel=rbf;, score=0.919 total time=   2.9s\n",
            "[CV 3/3] END ...C=100.0, gamma=0.01, kernel=rbf;, score=0.915 total time=   3.2s\n",
            "[CV 1/3] END ....C=100.0, gamma=0.1, kernel=rbf;, score=0.944 total time=   7.7s\n",
            "[CV 2/3] END ....C=100.0, gamma=0.1, kernel=rbf;, score=0.945 total time=   7.8s\n",
            "[CV 3/3] END ....C=100.0, gamma=0.1, kernel=rbf;, score=0.940 total time=   7.6s\n",
            "[CV 1/3] END ....C=100.0, gamma=1.0, kernel=rbf;, score=0.591 total time=  11.0s\n",
            "[CV 2/3] END ....C=100.0, gamma=1.0, kernel=rbf;, score=0.594 total time=  10.7s\n",
            "[CV 3/3] END ....C=100.0, gamma=1.0, kernel=rbf;, score=0.593 total time=  10.3s\n",
            "[CV 1/3] END ...C=100.0, gamma=10.0, kernel=rbf;, score=0.590 total time=  11.0s\n",
            "[CV 2/3] END ...C=100.0, gamma=10.0, kernel=rbf;, score=0.593 total time=  10.9s\n",
            "[CV 3/3] END ...C=100.0, gamma=10.0, kernel=rbf;, score=0.592 total time=  10.6s\n",
            "[CV 1/3] END ..C=100.0, gamma=100.0, kernel=rbf;, score=0.590 total time=  10.8s\n",
            "[CV 2/3] END ..C=100.0, gamma=100.0, kernel=rbf;, score=0.593 total time=  11.1s\n",
            "[CV 3/3] END ..C=100.0, gamma=100.0, kernel=rbf;, score=0.592 total time=  11.1s\n",
            "[CV 1/3] END C=1000.0, gamma=0.0001, kernel=rbf;, score=0.939 total time=   2.2s\n",
            "[CV 2/3] END C=1000.0, gamma=0.0001, kernel=rbf;, score=0.939 total time=   2.3s\n",
            "[CV 3/3] END C=1000.0, gamma=0.0001, kernel=rbf;, score=0.940 total time=   2.3s\n",
            "[CV 1/3] END .C=1000.0, gamma=0.001, kernel=rbf;, score=0.902 total time=   2.8s\n",
            "[CV 2/3] END .C=1000.0, gamma=0.001, kernel=rbf;, score=0.905 total time=   3.1s\n",
            "[CV 3/3] END .C=1000.0, gamma=0.001, kernel=rbf;, score=0.904 total time=   2.5s\n",
            "[CV 1/3] END ..C=1000.0, gamma=0.01, kernel=rbf;, score=0.918 total time=   2.8s\n",
            "[CV 2/3] END ..C=1000.0, gamma=0.01, kernel=rbf;, score=0.919 total time=   3.3s\n",
            "[CV 3/3] END ..C=1000.0, gamma=0.01, kernel=rbf;, score=0.915 total time=   6.0s\n",
            "[CV 1/3] END ...C=1000.0, gamma=0.1, kernel=rbf;, score=0.944 total time=   9.3s\n",
            "[CV 2/3] END ...C=1000.0, gamma=0.1, kernel=rbf;, score=0.945 total time=   8.3s\n",
            "[CV 3/3] END ...C=1000.0, gamma=0.1, kernel=rbf;, score=0.940 total time=  10.5s\n",
            "[CV 1/3] END ...C=1000.0, gamma=1.0, kernel=rbf;, score=0.591 total time=  10.2s\n",
            "[CV 2/3] END ...C=1000.0, gamma=1.0, kernel=rbf;, score=0.594 total time=  10.9s\n",
            "[CV 3/3] END ...C=1000.0, gamma=1.0, kernel=rbf;, score=0.593 total time=  11.0s\n",
            "[CV 1/3] END ..C=1000.0, gamma=10.0, kernel=rbf;, score=0.590 total time=  10.8s\n",
            "[CV 2/3] END ..C=1000.0, gamma=10.0, kernel=rbf;, score=0.593 total time=  10.0s\n",
            "[CV 3/3] END ..C=1000.0, gamma=10.0, kernel=rbf;, score=0.592 total time=  10.7s\n",
            "[CV 1/3] END .C=1000.0, gamma=100.0, kernel=rbf;, score=0.590 total time=  10.8s\n",
            "[CV 2/3] END .C=1000.0, gamma=100.0, kernel=rbf;, score=0.593 total time=  10.2s\n",
            "[CV 3/3] END .C=1000.0, gamma=100.0, kernel=rbf;, score=0.592 total time=  10.7s\n",
            "[CV 1/3] END C=10000.0, gamma=0.0001, kernel=rbf;, score=0.898 total time=   2.7s\n",
            "[CV 2/3] END C=10000.0, gamma=0.0001, kernel=rbf;, score=0.899 total time=   3.2s\n",
            "[CV 3/3] END C=10000.0, gamma=0.0001, kernel=rbf;, score=0.903 total time=   2.4s\n",
            "[CV 1/3] END C=10000.0, gamma=0.001, kernel=rbf;, score=0.878 total time=   2.4s\n",
            "[CV 2/3] END C=10000.0, gamma=0.001, kernel=rbf;, score=0.890 total time=   2.4s\n",
            "[CV 3/3] END C=10000.0, gamma=0.001, kernel=rbf;, score=0.893 total time=   2.5s\n",
            "[CV 1/3] END .C=10000.0, gamma=0.01, kernel=rbf;, score=0.918 total time=   3.7s\n",
            "[CV 2/3] END .C=10000.0, gamma=0.01, kernel=rbf;, score=0.919 total time=   3.0s\n",
            "[CV 3/3] END .C=10000.0, gamma=0.01, kernel=rbf;, score=0.915 total time=   2.6s\n",
            "[CV 1/3] END ..C=10000.0, gamma=0.1, kernel=rbf;, score=0.944 total time=   7.4s\n",
            "[CV 2/3] END ..C=10000.0, gamma=0.1, kernel=rbf;, score=0.945 total time=   7.6s\n",
            "[CV 3/3] END ..C=10000.0, gamma=0.1, kernel=rbf;, score=0.940 total time=   7.8s\n",
            "[CV 1/3] END ..C=10000.0, gamma=1.0, kernel=rbf;, score=0.591 total time=  10.3s\n",
            "[CV 2/3] END ..C=10000.0, gamma=1.0, kernel=rbf;, score=0.594 total time=  10.7s\n",
            "[CV 3/3] END ..C=10000.0, gamma=1.0, kernel=rbf;, score=0.593 total time=  10.9s\n",
            "[CV 1/3] END .C=10000.0, gamma=10.0, kernel=rbf;, score=0.590 total time=  10.1s\n",
            "[CV 2/3] END .C=10000.0, gamma=10.0, kernel=rbf;, score=0.593 total time=  10.4s\n",
            "[CV 3/3] END .C=10000.0, gamma=10.0, kernel=rbf;, score=0.592 total time=  10.5s\n",
            "[CV 1/3] END C=10000.0, gamma=100.0, kernel=rbf;, score=0.590 total time=  11.0s\n",
            "[CV 2/3] END C=10000.0, gamma=100.0, kernel=rbf;, score=0.593 total time=  11.5s\n",
            "[CV 3/3] END C=10000.0, gamma=100.0, kernel=rbf;, score=0.592 total time=  10.6s\n",
            "[CV 1/3] END C=100000.0, gamma=0.0001, kernel=rbf;, score=0.868 total time=   2.7s\n",
            "[CV 2/3] END C=100000.0, gamma=0.0001, kernel=rbf;, score=0.883 total time=   3.4s\n",
            "[CV 3/3] END C=100000.0, gamma=0.0001, kernel=rbf;, score=0.881 total time=   2.7s\n",
            "[CV 1/3] END C=100000.0, gamma=0.001, kernel=rbf;, score=0.878 total time=   2.5s\n",
            "[CV 2/3] END C=100000.0, gamma=0.001, kernel=rbf;, score=0.890 total time=   2.5s\n",
            "[CV 3/3] END C=100000.0, gamma=0.001, kernel=rbf;, score=0.893 total time=   2.4s\n",
            "[CV 1/3] END C=100000.0, gamma=0.01, kernel=rbf;, score=0.918 total time=   3.5s\n",
            "[CV 2/3] END C=100000.0, gamma=0.01, kernel=rbf;, score=0.919 total time=   3.2s\n",
            "[CV 3/3] END C=100000.0, gamma=0.01, kernel=rbf;, score=0.915 total time=   2.8s\n",
            "[CV 1/3] END .C=100000.0, gamma=0.1, kernel=rbf;, score=0.944 total time=   7.6s\n",
            "[CV 2/3] END .C=100000.0, gamma=0.1, kernel=rbf;, score=0.945 total time=   8.0s\n",
            "[CV 3/3] END .C=100000.0, gamma=0.1, kernel=rbf;, score=0.940 total time=   8.2s\n",
            "[CV 1/3] END .C=100000.0, gamma=1.0, kernel=rbf;, score=0.591 total time=  10.2s\n",
            "[CV 2/3] END .C=100000.0, gamma=1.0, kernel=rbf;, score=0.594 total time=  10.8s\n",
            "[CV 3/3] END .C=100000.0, gamma=1.0, kernel=rbf;, score=0.593 total time=  10.9s\n",
            "[CV 1/3] END C=100000.0, gamma=10.0, kernel=rbf;, score=0.590 total time=  10.1s\n",
            "[CV 2/3] END C=100000.0, gamma=10.0, kernel=rbf;, score=0.593 total time=  10.0s\n",
            "[CV 3/3] END C=100000.0, gamma=10.0, kernel=rbf;, score=0.592 total time=  10.6s\n",
            "[CV 1/3] END C=100000.0, gamma=100.0, kernel=rbf;, score=0.590 total time=  11.1s\n",
            "[CV 2/3] END C=100000.0, gamma=100.0, kernel=rbf;, score=0.593 total time=   9.7s\n",
            "[CV 3/3] END C=100000.0, gamma=100.0, kernel=rbf;, score=0.592 total time=  10.6s\n",
            "[CV 1/3] END C=1000000.0, gamma=0.0001, kernel=rbf;, score=0.868 total time=   2.6s\n",
            "[CV 2/3] END C=1000000.0, gamma=0.0001, kernel=rbf;, score=0.883 total time=   3.1s\n",
            "[CV 3/3] END C=1000000.0, gamma=0.0001, kernel=rbf;, score=0.881 total time=   3.2s\n",
            "[CV 1/3] END C=1000000.0, gamma=0.001, kernel=rbf;, score=0.878 total time=   2.5s\n",
            "[CV 2/3] END C=1000000.0, gamma=0.001, kernel=rbf;, score=0.890 total time=   2.4s\n",
            "[CV 3/3] END C=1000000.0, gamma=0.001, kernel=rbf;, score=0.893 total time=   2.5s\n",
            "[CV 1/3] END C=1000000.0, gamma=0.01, kernel=rbf;, score=0.918 total time=   3.4s\n",
            "[CV 2/3] END C=1000000.0, gamma=0.01, kernel=rbf;, score=0.919 total time=   3.6s\n",
            "[CV 3/3] END C=1000000.0, gamma=0.01, kernel=rbf;, score=0.915 total time=   2.7s\n",
            "[CV 1/3] END C=1000000.0, gamma=0.1, kernel=rbf;, score=0.944 total time=   7.2s\n",
            "[CV 2/3] END C=1000000.0, gamma=0.1, kernel=rbf;, score=0.945 total time=   7.8s\n",
            "[CV 3/3] END C=1000000.0, gamma=0.1, kernel=rbf;, score=0.940 total time=   7.6s\n",
            "[CV 1/3] END C=1000000.0, gamma=1.0, kernel=rbf;, score=0.591 total time=  11.6s\n",
            "[CV 2/3] END C=1000000.0, gamma=1.0, kernel=rbf;, score=0.594 total time=  10.6s\n",
            "[CV 3/3] END C=1000000.0, gamma=1.0, kernel=rbf;, score=0.593 total time=  10.9s\n",
            "[CV 1/3] END C=1000000.0, gamma=10.0, kernel=rbf;, score=0.590 total time=  10.1s\n",
            "[CV 2/3] END C=1000000.0, gamma=10.0, kernel=rbf;, score=0.593 total time=  10.4s\n",
            "[CV 3/3] END C=1000000.0, gamma=10.0, kernel=rbf;, score=0.592 total time=  10.6s\n",
            "[CV 1/3] END C=1000000.0, gamma=100.0, kernel=rbf;, score=0.590 total time=  10.9s\n",
            "[CV 2/3] END C=1000000.0, gamma=100.0, kernel=rbf;, score=0.593 total time=   9.7s\n",
            "[CV 3/3] END C=1000000.0, gamma=100.0, kernel=rbf;, score=0.592 total time=  10.8s\n",
            "The best parameters are {'C': 10.0, 'gamma': 0.001, 'kernel': 'rbf'} with a score of 0.95\n"
          ]
        }
      ],
      "source": [
        "param_grid = {'C': np.logspace(-1, 5, 7),\n",
        "              'gamma': np.logspace(-2, 2, 5),\n",
        "              'kernel': ['rbf']}\n",
        "\n",
        "cv = StratifiedShuffleSplit(n_splits=3, test_size=0.25, random_state=42)\n",
        "\n",
        "grid = GridSearchCV(SVC(), param_grid, refit=True, verbose=3, cv=cv)\n",
        "\n",
        "grid.fit(X_traindev, y_traindev)\n",
        "\n",
        "print(\n",
        "    \"The best parameters are %s with a score of %0.2f\"\n",
        "    % (grid.best_params_, grid.best_score_)\n",
        ")"
      ]
    },
    {
      "cell_type": "markdown",
      "metadata": {
        "id": "aIdOSKFK5yG-"
      },
      "source": [
        "#### Train"
      ]
    },
    {
      "cell_type": "code",
      "execution_count": null,
      "metadata": {
        "colab": {
          "base_uri": "https://localhost:8080/",
          "height": 74
        },
        "id": "YKPGrbqLfQae",
        "outputId": "1987e9e4-78d2-4ce0-e321-caa0824348be"
      },
      "outputs": [
        {
          "output_type": "execute_result",
          "data": {
            "text/plain": [
              "SVC(C=10.0, gamma=0.001)"
            ],
            "text/html": [
              "<style>#sk-container-id-3 {color: black;background-color: white;}#sk-container-id-3 pre{padding: 0;}#sk-container-id-3 div.sk-toggleable {background-color: white;}#sk-container-id-3 label.sk-toggleable__label {cursor: pointer;display: block;width: 100%;margin-bottom: 0;padding: 0.3em;box-sizing: border-box;text-align: center;}#sk-container-id-3 label.sk-toggleable__label-arrow:before {content: \"▸\";float: left;margin-right: 0.25em;color: #696969;}#sk-container-id-3 label.sk-toggleable__label-arrow:hover:before {color: black;}#sk-container-id-3 div.sk-estimator:hover label.sk-toggleable__label-arrow:before {color: black;}#sk-container-id-3 div.sk-toggleable__content {max-height: 0;max-width: 0;overflow: hidden;text-align: left;background-color: #f0f8ff;}#sk-container-id-3 div.sk-toggleable__content pre {margin: 0.2em;color: black;border-radius: 0.25em;background-color: #f0f8ff;}#sk-container-id-3 input.sk-toggleable__control:checked~div.sk-toggleable__content {max-height: 200px;max-width: 100%;overflow: auto;}#sk-container-id-3 input.sk-toggleable__control:checked~label.sk-toggleable__label-arrow:before {content: \"▾\";}#sk-container-id-3 div.sk-estimator input.sk-toggleable__control:checked~label.sk-toggleable__label {background-color: #d4ebff;}#sk-container-id-3 div.sk-label input.sk-toggleable__control:checked~label.sk-toggleable__label {background-color: #d4ebff;}#sk-container-id-3 input.sk-hidden--visually {border: 0;clip: rect(1px 1px 1px 1px);clip: rect(1px, 1px, 1px, 1px);height: 1px;margin: -1px;overflow: hidden;padding: 0;position: absolute;width: 1px;}#sk-container-id-3 div.sk-estimator {font-family: monospace;background-color: #f0f8ff;border: 1px dotted black;border-radius: 0.25em;box-sizing: border-box;margin-bottom: 0.5em;}#sk-container-id-3 div.sk-estimator:hover {background-color: #d4ebff;}#sk-container-id-3 div.sk-parallel-item::after {content: \"\";width: 100%;border-bottom: 1px solid gray;flex-grow: 1;}#sk-container-id-3 div.sk-label:hover label.sk-toggleable__label {background-color: #d4ebff;}#sk-container-id-3 div.sk-serial::before {content: \"\";position: absolute;border-left: 1px solid gray;box-sizing: border-box;top: 0;bottom: 0;left: 50%;z-index: 0;}#sk-container-id-3 div.sk-serial {display: flex;flex-direction: column;align-items: center;background-color: white;padding-right: 0.2em;padding-left: 0.2em;position: relative;}#sk-container-id-3 div.sk-item {position: relative;z-index: 1;}#sk-container-id-3 div.sk-parallel {display: flex;align-items: stretch;justify-content: center;background-color: white;position: relative;}#sk-container-id-3 div.sk-item::before, #sk-container-id-3 div.sk-parallel-item::before {content: \"\";position: absolute;border-left: 1px solid gray;box-sizing: border-box;top: 0;bottom: 0;left: 50%;z-index: -1;}#sk-container-id-3 div.sk-parallel-item {display: flex;flex-direction: column;z-index: 1;position: relative;background-color: white;}#sk-container-id-3 div.sk-parallel-item:first-child::after {align-self: flex-end;width: 50%;}#sk-container-id-3 div.sk-parallel-item:last-child::after {align-self: flex-start;width: 50%;}#sk-container-id-3 div.sk-parallel-item:only-child::after {width: 0;}#sk-container-id-3 div.sk-dashed-wrapped {border: 1px dashed gray;margin: 0 0.4em 0.5em 0.4em;box-sizing: border-box;padding-bottom: 0.4em;background-color: white;}#sk-container-id-3 div.sk-label label {font-family: monospace;font-weight: bold;display: inline-block;line-height: 1.2em;}#sk-container-id-3 div.sk-label-container {text-align: center;}#sk-container-id-3 div.sk-container {/* jupyter's `normalize.less` sets `[hidden] { display: none; }` but bootstrap.min.css set `[hidden] { display: none !important; }` so we also need the `!important` here to be able to override the default hidden behavior on the sphinx rendered scikit-learn.org. See: https://github.com/scikit-learn/scikit-learn/issues/21755 */display: inline-block !important;position: relative;}#sk-container-id-3 div.sk-text-repr-fallback {display: none;}</style><div id=\"sk-container-id-3\" class=\"sk-top-container\"><div class=\"sk-text-repr-fallback\"><pre>SVC(C=10.0, gamma=0.001)</pre><b>In a Jupyter environment, please rerun this cell to show the HTML representation or trust the notebook. <br />On GitHub, the HTML representation is unable to render, please try loading this page with nbviewer.org.</b></div><div class=\"sk-container\" hidden><div class=\"sk-item\"><div class=\"sk-estimator sk-toggleable\"><input class=\"sk-toggleable__control sk-hidden--visually\" id=\"sk-estimator-id-3\" type=\"checkbox\" checked><label for=\"sk-estimator-id-3\" class=\"sk-toggleable__label sk-toggleable__label-arrow\">SVC</label><div class=\"sk-toggleable__content\"><pre>SVC(C=10.0, gamma=0.001)</pre></div></div></div></div></div>"
            ]
          },
          "metadata": {},
          "execution_count": 147
        }
      ],
      "source": [
        "clf_svmrbf_l = SVC(C=10.0, gamma=0.001, kernel='rbf')\n",
        "clf_svmrbf_l.fit(X_train, y_train)"
      ]
    },
    {
      "cell_type": "markdown",
      "source": [
        "#### Save pretrained model"
      ],
      "metadata": {
        "id": "t8LxOM41uWLi"
      }
    },
    {
      "cell_type": "code",
      "source": [
        "%cd /content/"
      ],
      "metadata": {
        "colab": {
          "base_uri": "https://localhost:8080/"
        },
        "id": "QudAu95hu6Rz",
        "outputId": "5b2fca2b-dd54-4717-d88f-13cb58b6b35b"
      },
      "execution_count": null,
      "outputs": [
        {
          "output_type": "stream",
          "name": "stdout",
          "text": [
            "/content\n"
          ]
        }
      ]
    },
    {
      "cell_type": "code",
      "source": [
        "import pickle"
      ],
      "metadata": {
        "id": "JXWZNKNhuVYX"
      },
      "execution_count": null,
      "outputs": []
    },
    {
      "cell_type": "code",
      "source": [
        "filename = 'balanced_SVC_with_link.pkl'\n",
        "pickle.dump(clf_svmrbf_l, open(filename, 'wb'))"
      ],
      "metadata": {
        "id": "BAXMrRkXui62"
      },
      "execution_count": null,
      "outputs": []
    },
    {
      "cell_type": "code",
      "source": [
        "filename = 'imbalanced_SVC_with_link.pkl'\n",
        "pickle.dump(clf_svmrbf_l, open(filename, 'wb'))"
      ],
      "metadata": {
        "id": "wcWb5Jg2uy8m"
      },
      "execution_count": null,
      "outputs": []
    },
    {
      "cell_type": "markdown",
      "source": [
        "#### Load pretrained model"
      ],
      "metadata": {
        "id": "7uCQt0cPuZC4"
      }
    },
    {
      "cell_type": "code",
      "source": [
        "import pickle\n",
        "%cd /content/"
      ],
      "metadata": {
        "id": "1JHpaCB2vDbs"
      },
      "execution_count": null,
      "outputs": []
    },
    {
      "cell_type": "code",
      "source": [
        "# !wget https://raw.githubusercontent.com/uyenbhku/CS114.N21/main/sarcasm_detection_dataset/balanced_SVC_with_link.pkl\n",
        "# clf_svmrbf_l = pickle.load(open('balanced_SVC_with_link.pkl', 'rb'))"
      ],
      "metadata": {
        "id": "tckwmlb-ysSR"
      },
      "execution_count": null,
      "outputs": []
    },
    {
      "cell_type": "code",
      "source": [
        "!wget https://raw.githubusercontent.com/uyenbhku/CS114.N21/main/sarcasm_detection_dataset/imbalanced_SVC_with_link.pkl\n",
        "clf_svmrbf_l = pickle.load(open('imbalanced_SVC_with_link.pkl', 'rb'))"
      ],
      "metadata": {
        "id": "cpzdUro7vD7f"
      },
      "execution_count": null,
      "outputs": []
    },
    {
      "cell_type": "markdown",
      "metadata": {
        "id": "MxWHYig3feFC"
      },
      "source": [
        "#### Evaluate"
      ]
    },
    {
      "cell_type": "code",
      "execution_count": null,
      "metadata": {
        "id": "lu6FYS1Gf8DV"
      },
      "outputs": [],
      "source": [
        "import matplotlib.pyplot as plt\n",
        "from sklearn import metrics"
      ]
    },
    {
      "cell_type": "code",
      "execution_count": null,
      "metadata": {
        "id": "Z_tLGpqle3er"
      },
      "outputs": [],
      "source": [
        "y_preds = clf_svmrbf_l.predict(X_test)"
      ]
    },
    {
      "cell_type": "markdown",
      "metadata": {
        "id": "hJKBoXRx6x3h"
      },
      "source": [
        "##### Before handling imbalanced dataset"
      ]
    },
    {
      "cell_type": "code",
      "execution_count": null,
      "metadata": {
        "colab": {
          "base_uri": "https://localhost:8080/"
        },
        "id": "I1gup3ZoAcUd",
        "outputId": "771ed8c6-f7d0-4207-d808-987e493c26bc"
      },
      "outputs": [
        {
          "output_type": "stream",
          "name": "stdout",
          "text": [
            "Classification report for classifier SVC(C=10.0, gamma=0.001) in dev set:\n",
            "              precision    recall  f1-score   support\n",
            "\n",
            "           0       0.93      0.97      0.95       294\n",
            "           1       0.95      0.89      0.92       205\n",
            "\n",
            "    accuracy                           0.93       499\n",
            "   macro avg       0.94      0.93      0.93       499\n",
            "weighted avg       0.93      0.93      0.93       499\n",
            "\n",
            "\n"
          ]
        }
      ],
      "source": [
        "print(\n",
        "    f\"Classification report for classifier {clf_svmrbf_l} in dev set:\\n\"\n",
        "    f\"{metrics.classification_report(y_dev, clf_svmrbf_l.predict(X_dev))}\\n\"\n",
        ")"
      ]
    },
    {
      "cell_type": "code",
      "execution_count": null,
      "metadata": {
        "colab": {
          "base_uri": "https://localhost:8080/"
        },
        "id": "0RrDeQ4BfcSx",
        "outputId": "bfcdd967-93f2-4c83-d2b2-b02912a9fbd2"
      },
      "outputs": [
        {
          "output_type": "stream",
          "name": "stdout",
          "text": [
            "Classification report for classifier SVC(C=10.0, gamma=0.001):\n",
            "              precision    recall  f1-score   support\n",
            "\n",
            "           0       0.95      0.96      0.96       294\n",
            "           1       0.94      0.93      0.94       205\n",
            "\n",
            "    accuracy                           0.95       499\n",
            "   macro avg       0.95      0.95      0.95       499\n",
            "weighted avg       0.95      0.95      0.95       499\n",
            "\n",
            "\n"
          ]
        }
      ],
      "source": [
        "print(\n",
        "    f\"Classification report for classifier {clf_svmrbf_l}:\\n\"\n",
        "    f\"{metrics.classification_report(y_test, y_preds)}\\n\"\n",
        ")"
      ]
    },
    {
      "cell_type": "code",
      "execution_count": null,
      "metadata": {
        "colab": {
          "base_uri": "https://localhost:8080/",
          "height": 551
        },
        "id": "jlapN7-2fjrC",
        "outputId": "b145ac75-ef66-4d1a-d47f-3df61caf34b6"
      },
      "outputs": [
        {
          "output_type": "stream",
          "name": "stdout",
          "text": [
            "Confusion matrix:\n",
            "[[282  12]\n",
            " [ 14 191]]\n"
          ]
        },
        {
          "output_type": "display_data",
          "data": {
            "text/plain": [
              "<Figure size 640x480 with 2 Axes>"
            ],
            "image/png": "[encoded data removed]"
          },
          "metadata": {}
        }
      ],
      "source": [
        "disp = metrics.ConfusionMatrixDisplay.from_predictions(y_test, y_preds)\n",
        "disp.figure_.suptitle(\"Confusion Matrix\")\n",
        "print(f\"Confusion matrix:\\n{disp.confusion_matrix}\")\n",
        "\n",
        "plt.show()"
      ]
    },
    {
      "cell_type": "markdown",
      "metadata": {
        "id": "JDQJtWla64qb"
      },
      "source": [
        "##### After handling"
      ]
    },
    {
      "cell_type": "code",
      "execution_count": null,
      "metadata": {
        "colab": {
          "base_uri": "https://localhost:8080/"
        },
        "id": "IPt4AB5YCAwH",
        "outputId": "67c4b312-4e71-4517-8944-161afe5d4cf3"
      },
      "outputs": [
        {
          "output_type": "stream",
          "name": "stdout",
          "text": [
            "Classification report for classifier SVC(C=10.0, class_weight='balanced', gamma=0.001) in dev set:\n",
            "              precision    recall  f1-score   support\n",
            "\n",
            "           0       0.93      0.95      0.94       294\n",
            "           1       0.93      0.90      0.91       205\n",
            "\n",
            "    accuracy                           0.93       499\n",
            "   macro avg       0.93      0.93      0.93       499\n",
            "weighted avg       0.93      0.93      0.93       499\n",
            "\n",
            "\n"
          ]
        }
      ],
      "source": [
        "print(\n",
        "    f\"Classification report for classifier {clf_svmrbf_l} in dev set:\\n\"\n",
        "    f\"{metrics.classification_report(y_dev, clf_svmrbf_l.predict(X_dev))}\\n\"\n",
        ")"
      ]
    },
    {
      "cell_type": "code",
      "execution_count": null,
      "metadata": {
        "colab": {
          "base_uri": "https://localhost:8080/"
        },
        "id": "Rzg-bqJT64qc",
        "outputId": "0001f317-86a6-488a-a976-0d1d7fd424e6"
      },
      "outputs": [
        {
          "output_type": "stream",
          "name": "stdout",
          "text": [
            "Classification report for classifier SVC(C=10.0, class_weight='balanced', gamma=0.001):\n",
            "              precision    recall  f1-score   support\n",
            "\n",
            "           0       0.95      0.95      0.95       294\n",
            "           1       0.93      0.93      0.93       205\n",
            "\n",
            "    accuracy                           0.94       499\n",
            "   macro avg       0.94      0.94      0.94       499\n",
            "weighted avg       0.94      0.94      0.94       499\n",
            "\n",
            "\n"
          ]
        }
      ],
      "source": [
        "print(\n",
        "    f\"Classification report for classifier {clf_svmrbf_l}:\\n\"\n",
        "    f\"{metrics.classification_report(y_test, y_preds)}\\n\"\n",
        ")"
      ]
    },
    {
      "cell_type": "code",
      "execution_count": null,
      "metadata": {
        "colab": {
          "base_uri": "https://localhost:8080/",
          "height": 551
        },
        "id": "Z4J6FBYY64qc",
        "outputId": "742fce3b-e87d-427f-aa3b-aab3350073ef"
      },
      "outputs": [
        {
          "output_type": "stream",
          "name": "stdout",
          "text": [
            "Confusion matrix:\n",
            "[[280  14]\n",
            " [ 14 191]]\n"
          ]
        },
        {
          "output_type": "display_data",
          "data": {
            "text/plain": [
              "<Figure size 640x480 with 2 Axes>"
            ],
            "image/png": "[encoded data removed]"
          },
          "metadata": {}
        }
      ],
      "source": [
        "disp = metrics.ConfusionMatrixDisplay.from_predictions(y_test, y_preds)\n",
        "disp.figure_.suptitle(\"Confusion Matrix\")\n",
        "print(f\"Confusion matrix:\\n{disp.confusion_matrix}\")\n",
        "\n",
        "plt.show()"
      ]
    },
    {
      "cell_type": "markdown",
      "metadata": {
        "id": "lrVqhn52lx6k"
      },
      "source": [
        "## Conclusion"
      ]
    },
    {
      "cell_type": "markdown",
      "metadata": {
        "id": "6OvVm1YP6NOs"
      },
      "source": [
        "### Error Analysis"
      ]
    },
    {
      "cell_type": "markdown",
      "metadata": {
        "id": "JJSyJL8P7TEH"
      },
      "source": [
        "#### Imbalanced dataset?\n",
        "It can be seen that the dataset is quite imbalanced. However, after handling the imbalanced thing, there's no much change in the performance. Therefore, this might be not a problem."
      ]
    },
    {
      "cell_type": "code",
      "execution_count": null,
      "metadata": {
        "colab": {
          "base_uri": "https://localhost:8080/"
        },
        "id": "_uZXEIdI6QC2",
        "outputId": "a0c2b6c7-2049-448e-f09a-23588d8e3435"
      },
      "outputs": [
        {
          "data": {
            "image/png": "[encoded data removed]",
            "text/plain": [
              "<Figure size 640x480 with 1 Axes>"
            ]
          },
          "metadata": {},
          "output_type": "display_data"
        }
      ],
      "source": [
        "plt.hist(y);"
      ]
    },
    {
      "cell_type": "code",
      "execution_count": null,
      "metadata": {
        "colab": {
          "base_uri": "https://localhost:8080/"
        },
        "id": "VWV1r4gR7bmj",
        "outputId": "367e3c3e-d74c-4a35-e0d4-6220e8227ca7"
      },
      "outputs": [
        {
          "data": {
            "image/png": "[encoded data removed]",
            "text/plain": [
              "<Figure size 640x480 with 1 Axes>"
            ]
          },
          "metadata": {},
          "output_type": "display_data"
        }
      ],
      "source": [
        "plt.hist(y_train);"
      ]
    },
    {
      "cell_type": "code",
      "execution_count": null,
      "metadata": {
        "colab": {
          "base_uri": "https://localhost:8080/"
        },
        "id": "GnGGrCeL8tex",
        "outputId": "ea7cd9a2-e05f-47cc-8b0f-c91d9ad519e9"
      },
      "outputs": [
        {
          "data": {
            "image/png": "[encoded data removed]",
            "text/plain": [
              "<Figure size 640x480 with 1 Axes>"
            ]
          },
          "metadata": {},
          "output_type": "display_data"
        }
      ],
      "source": [
        "plt.hist(y_test);"
      ]
    },
    {
      "cell_type": "markdown",
      "metadata": {
        "id": "9DINBK0JTZyp"
      },
      "source": [
        "#### Explore the dataset"
      ]
    },
    {
      "cell_type": "code",
      "execution_count": null,
      "metadata": {
        "colab": {
          "base_uri": "https://localhost:8080/",
          "height": 36
        },
        "id": "t3QCWii_Rp4r",
        "outputId": "4d2feb0a-84e5-4bdc-9a29-0d830e175c71"
      },
      "outputs": [
        {
          "data": {
            "application/vnd.google.colaboratory.intrinsic+json": {
              "type": "string"
            },
            "text/plain": [
              "'cuoi.tuoitre.vn'"
            ]
          },
          "execution_count": 188,
          "metadata": {},
          "output_type": "execute_result"
        }
      ],
      "source": [
        "domain_names[5]"
      ]
    },
    {
      "cell_type": "code",
      "execution_count": null,
      "metadata": {
        "colab": {
          "base_uri": "https://localhost:8080/",
          "height": 36
        },
        "id": "WZlSCiJXRrp5",
        "outputId": "b8ca7266-80f7-4103-ec51-c5efc02bde6b"
      },
      "outputs": [
        {
          "data": {
            "application/vnd.google.colaboratory.intrinsic+json": {
              "type": "string"
            },
            "text/plain": [
              "'tuoitre.vn'"
            ]
          },
          "execution_count": 189,
          "metadata": {},
          "output_type": "execute_result"
        }
      ],
      "source": [
        "domain_names[25]"
      ]
    },
    {
      "cell_type": "markdown",
      "metadata": {
        "id": "xQC5jpQlT8IC"
      },
      "source": [
        "##### Label 1 - is sarcastic"
      ]
    },
    {
      "cell_type": "code",
      "execution_count": null,
      "metadata": {
        "id": "yCgk1wnRRXS8"
      },
      "outputs": [],
      "source": [
        "labels, counts = np.unique(df.encoded_domain_name[df.is_sarcastic==1], return_counts=True)"
      ]
    },
    {
      "cell_type": "code",
      "execution_count": null,
      "metadata": {
        "colab": {
          "base_uri": "https://localhost:8080/"
        },
        "id": "rca0h6t4TMP0",
        "outputId": "f59f746a-793a-420d-ad5e-ec585973130f"
      },
      "outputs": [
        {
          "name": "stdout",
          "output_type": "stream",
          "text": [
            "24h.com.vn: 27 \t percentage 100.00%\n",
            "2sao.vn: 2 \t percentage 100.00%\n",
            "baothanhhoa.vn: 9 \t percentage 100.00%\n",
            "bongdaplus.vn: 1 \t percentage 100.00%\n",
            "cuoi.tuoitre.vn: 1599 \t percentage 99.26%\n",
            "cuoituan.tuoitre.vn: 1 \t percentage 33.33%\n",
            "dantri.com.vn: 4 \t percentage 13.79%\n",
            "doisongphapluat.com: 6 \t percentage 40.00%\n",
            "facebook.com: 15 \t percentage 100.00%\n",
            "kenh14.vn: 166 \t percentage 86.46%\n",
            "kienthuc.net.vn: 1 \t percentage 100.00%\n",
            "laodong.vn: 2 \t percentage 13.33%\n",
            "lifestyle.zingnews.vn: 19 \t percentage 48.72%\n",
            "nguoiduatin.vn: 1 \t percentage 100.00%\n",
            "saostar.vn: 11 \t percentage 68.75%\n",
            "soha.vn: 1 \t percentage 100.00%\n",
            "spiderum.com: 47 \t percentage 88.68%\n",
            "thanhnien.vn: 2 \t percentage 0.39%\n",
            "tuoitre.vn: 24 \t percentage 1.45%\n",
            "vietnamnet.vn: 21 \t percentage 84.00%\n",
            "vnexpress.net: 38 \t percentage 16.24%\n",
            "vov.vn: 1 \t percentage 100.00%\n",
            "vtv.vn: 1 \t percentage 1.28%\n",
            "we25.vn: 1 \t percentage 100.00%\n",
            "xabuon.com: 10 \t percentage 100.00%\n",
            "youtube.com: 37 \t percentage 26.62%\n",
            "zingnews.vn: 1 \t percentage 12.50%\n"
          ]
        }
      ],
      "source": [
        "for label, count in zip(labels, counts):\n",
        "    print(f\"{domain_names[label]}: {count} \\t percentage {count*100/(df.encoded_domain_name == label).sum():.2f}%\")"
      ]
    },
    {
      "cell_type": "markdown",
      "metadata": {
        "id": "GCutKOZBTiBx"
      },
      "source": [
        "It can be seen that this dataset is completely biased that most headlines from cuoi.tuoitre.vn are sarcastic."
      ]
    },
    {
      "cell_type": "markdown",
      "metadata": {
        "id": "viaeY9tIUTEr"
      },
      "source": [
        "##### Label 0 - is not sarcastic"
      ]
    },
    {
      "cell_type": "code",
      "execution_count": null,
      "metadata": {
        "id": "qxXVrLcZUTEw"
      },
      "outputs": [],
      "source": [
        "labels, counts = np.unique(df.encoded_domain_name[df.is_sarcastic==0], return_counts=True)"
      ]
    },
    {
      "cell_type": "code",
      "execution_count": null,
      "metadata": {
        "colab": {
          "base_uri": "https://localhost:8080/"
        },
        "id": "fNDb05LUUTEw",
        "outputId": "111ed871-12ac-414b-d9d5-23849c1a81ad"
      },
      "outputs": [
        {
          "name": "stdout",
          "output_type": "stream",
          "text": [
            "antv.gov.vn: 17 \t percentage 100.00%\n",
            "cuoi.tuoitre.vn: 12 \t percentage 0.74%\n",
            "cuoituan.tuoitre.vn: 2 \t percentage 66.67%\n",
            "dantri.com.vn: 25 \t percentage 86.21%\n",
            "doanhnghiepvn.vn: 1 \t percentage 100.00%\n",
            "doisongphapluat.com: 9 \t percentage 60.00%\n",
            "kenh14.vn: 26 \t percentage 13.54%\n",
            "laodong.vn: 13 \t percentage 86.67%\n",
            "lifestyle.zingnews.vn: 20 \t percentage 51.28%\n",
            "nhandan.vn: 223 \t percentage 100.00%\n",
            "phapluat.tuoitrethudo.com.vn: 1 \t percentage 100.00%\n",
            "podcast.tuoitre.vn: 1 \t percentage 100.00%\n",
            "saostar.vn: 5 \t percentage 31.25%\n",
            "spiderum.com: 6 \t percentage 11.32%\n",
            "tech.zingnews.vn: 8 \t percentage 100.00%\n",
            "thanhnien.vn: 513 \t percentage 99.61%\n",
            "thesaigontimes.vn: 8 \t percentage 100.00%\n",
            "tuoitre.vn: 1632 \t percentage 98.55%\n",
            "tuyengiao.vn: 1 \t percentage 100.00%\n",
            "video.vnexpress.net: 1 \t percentage 100.00%\n",
            "vietnamnet.vn: 4 \t percentage 16.00%\n",
            "vneconomy.vn: 6 \t percentage 100.00%\n",
            "vnexpress.net: 196 \t percentage 83.76%\n",
            "vtc.vn: 23 \t percentage 100.00%\n",
            "vtv.vn: 77 \t percentage 98.72%\n",
            "youtube.com: 102 \t percentage 73.38%\n",
            "zingnews.vn: 7 \t percentage 87.50%\n"
          ]
        }
      ],
      "source": [
        "for label, count in zip(labels, counts):\n",
        "    print(f\"{domain_names[label]}: {count} \\t percentage {count*100/(df.encoded_domain_name == label).sum():.2f}%\")"
      ]
    },
    {
      "cell_type": "markdown",
      "metadata": {
        "id": "CZoDv8MhUTEx"
      },
      "source": [
        "It can be seen that this dataset is completely biased that most headlines from tuoitre.vn are not sarcastic."
      ]
    },
    {
      "cell_type": "code",
      "execution_count": null,
      "metadata": {
        "colab": {
          "base_uri": "https://localhost:8080/",
          "height": 393
        },
        "id": "n2zlfq1BWnV-",
        "outputId": "eee7ddc2-4bf7-4b12-b672-ecacc66433ef"
      },
      "outputs": [
        {
          "data": {
            "text/html": [
              "\n",
              "  <div id=\"df-0e1a52eb-a16f-4ae9-93fe-7af84e9fecd1\">\n",
              "    <div class=\"colab-df-container\">\n",
              "      <div>\n",
              "<style scoped>\n",
              "    .dataframe tbody tr th:only-of-type {\n",
              "        vertical-align: middle;\n",
              "    }\n",
              "\n",
              "    .dataframe tbody tr th {\n",
              "        vertical-align: top;\n",
              "    }\n",
              "\n",
              "    .dataframe thead th {\n",
              "        text-align: right;\n",
              "    }\n",
              "</style>\n",
              "<table border=\"1\" class=\"dataframe\">\n",
              "  <thead>\n",
              "    <tr style=\"text-align: right;\">\n",
              "      <th></th>\n",
              "      <th>is_sarcastic</th>\n",
              "      <th>encoded_headline_0</th>\n",
              "      <th>encoded_headline_1</th>\n",
              "      <th>encoded_headline_2</th>\n",
              "      <th>encoded_headline_3</th>\n",
              "      <th>encoded_headline_4</th>\n",
              "      <th>encoded_headline_5</th>\n",
              "      <th>encoded_headline_6</th>\n",
              "      <th>encoded_headline_7</th>\n",
              "      <th>encoded_headline_8</th>\n",
              "      <th>...</th>\n",
              "      <th>encoded_headline_41</th>\n",
              "      <th>encoded_headline_42</th>\n",
              "      <th>encoded_headline_43</th>\n",
              "      <th>encoded_headline_44</th>\n",
              "      <th>encoded_headline_45</th>\n",
              "      <th>encoded_headline_46</th>\n",
              "      <th>encoded_headline_47</th>\n",
              "      <th>encoded_headline_48</th>\n",
              "      <th>encoded_headline_49</th>\n",
              "      <th>encoded_domain_name</th>\n",
              "    </tr>\n",
              "  </thead>\n",
              "  <tbody>\n",
              "    <tr>\n",
              "      <th>count</th>\n",
              "      <td>4987.000000</td>\n",
              "      <td>4987.0</td>\n",
              "      <td>4987.000000</td>\n",
              "      <td>4987.000000</td>\n",
              "      <td>4987.000000</td>\n",
              "      <td>4987.000000</td>\n",
              "      <td>4987.000000</td>\n",
              "      <td>4987.000000</td>\n",
              "      <td>4987.000000</td>\n",
              "      <td>4987.000000</td>\n",
              "      <td>...</td>\n",
              "      <td>4987.000000</td>\n",
              "      <td>4987.000000</td>\n",
              "      <td>4987.000000</td>\n",
              "      <td>4987.000000</td>\n",
              "      <td>4987.000000</td>\n",
              "      <td>4987.000000</td>\n",
              "      <td>4987.000000</td>\n",
              "      <td>4987.000000</td>\n",
              "      <td>4987.000000</td>\n",
              "      <td>4987.000000</td>\n",
              "    </tr>\n",
              "    <tr>\n",
              "      <th>mean</th>\n",
              "      <td>0.410668</td>\n",
              "      <td>0.0</td>\n",
              "      <td>9989.328253</td>\n",
              "      <td>5519.303389</td>\n",
              "      <td>4959.386004</td>\n",
              "      <td>4155.864047</td>\n",
              "      <td>3963.771205</td>\n",
              "      <td>3880.249048</td>\n",
              "      <td>3659.103268</td>\n",
              "      <td>3518.616804</td>\n",
              "      <td>...</td>\n",
              "      <td>1.565871</td>\n",
              "      <td>3.081813</td>\n",
              "      <td>17.835974</td>\n",
              "      <td>1.000602</td>\n",
              "      <td>1.336074</td>\n",
              "      <td>5.075797</td>\n",
              "      <td>12.124524</td>\n",
              "      <td>1.222579</td>\n",
              "      <td>1.000201</td>\n",
              "      <td>17.473631</td>\n",
              "    </tr>\n",
              "    <tr>\n",
              "      <th>std</th>\n",
              "      <td>0.492004</td>\n",
              "      <td>0.0</td>\n",
              "      <td>12587.654109</td>\n",
              "      <td>11078.397298</td>\n",
              "      <td>10346.993906</td>\n",
              "      <td>9188.011361</td>\n",
              "      <td>8920.106136</td>\n",
              "      <td>8856.144679</td>\n",
              "      <td>8653.310344</td>\n",
              "      <td>8550.891849</td>\n",
              "      <td>...</td>\n",
              "      <td>39.566502</td>\n",
              "      <td>111.598635</td>\n",
              "      <td>927.390460</td>\n",
              "      <td>0.031661</td>\n",
              "      <td>23.733092</td>\n",
              "      <td>287.827468</td>\n",
              "      <td>785.599344</td>\n",
              "      <td>15.718218</td>\n",
              "      <td>0.014161</td>\n",
              "      <td>10.110037</td>\n",
              "    </tr>\n",
              "    <tr>\n",
              "      <th>min</th>\n",
              "      <td>0.000000</td>\n",
              "      <td>0.0</td>\n",
              "      <td>22.000000</td>\n",
              "      <td>2.000000</td>\n",
              "      <td>1.000000</td>\n",
              "      <td>1.000000</td>\n",
              "      <td>1.000000</td>\n",
              "      <td>1.000000</td>\n",
              "      <td>1.000000</td>\n",
              "      <td>1.000000</td>\n",
              "      <td>...</td>\n",
              "      <td>1.000000</td>\n",
              "      <td>1.000000</td>\n",
              "      <td>1.000000</td>\n",
              "      <td>1.000000</td>\n",
              "      <td>1.000000</td>\n",
              "      <td>1.000000</td>\n",
              "      <td>1.000000</td>\n",
              "      <td>1.000000</td>\n",
              "      <td>1.000000</td>\n",
              "      <td>0.000000</td>\n",
              "    </tr>\n",
              "    <tr>\n",
              "      <th>25%</th>\n",
              "      <td>0.000000</td>\n",
              "      <td>0.0</td>\n",
              "      <td>1193.000000</td>\n",
              "      <td>219.000000</td>\n",
              "      <td>104.000000</td>\n",
              "      <td>101.000000</td>\n",
              "      <td>82.000000</td>\n",
              "      <td>72.500000</td>\n",
              "      <td>47.000000</td>\n",
              "      <td>30.000000</td>\n",
              "      <td>...</td>\n",
              "      <td>1.000000</td>\n",
              "      <td>1.000000</td>\n",
              "      <td>1.000000</td>\n",
              "      <td>1.000000</td>\n",
              "      <td>1.000000</td>\n",
              "      <td>1.000000</td>\n",
              "      <td>1.000000</td>\n",
              "      <td>1.000000</td>\n",
              "      <td>1.000000</td>\n",
              "      <td>5.000000</td>\n",
              "    </tr>\n",
              "    <tr>\n",
              "      <th>50%</th>\n",
              "      <td>0.000000</td>\n",
              "      <td>0.0</td>\n",
              "      <td>4807.000000</td>\n",
              "      <td>1066.000000</td>\n",
              "      <td>862.000000</td>\n",
              "      <td>612.000000</td>\n",
              "      <td>579.000000</td>\n",
              "      <td>505.000000</td>\n",
              "      <td>397.000000</td>\n",
              "      <td>335.000000</td>\n",
              "      <td>...</td>\n",
              "      <td>1.000000</td>\n",
              "      <td>1.000000</td>\n",
              "      <td>1.000000</td>\n",
              "      <td>1.000000</td>\n",
              "      <td>1.000000</td>\n",
              "      <td>1.000000</td>\n",
              "      <td>1.000000</td>\n",
              "      <td>1.000000</td>\n",
              "      <td>1.000000</td>\n",
              "      <td>23.000000</td>\n",
              "    </tr>\n",
              "    <tr>\n",
              "      <th>75%</th>\n",
              "      <td>1.000000</td>\n",
              "      <td>0.0</td>\n",
              "      <td>13248.000000</td>\n",
              "      <td>4591.500000</td>\n",
              "      <td>4036.000000</td>\n",
              "      <td>3163.500000</td>\n",
              "      <td>3069.000000</td>\n",
              "      <td>2998.500000</td>\n",
              "      <td>2671.000000</td>\n",
              "      <td>2357.500000</td>\n",
              "      <td>...</td>\n",
              "      <td>1.000000</td>\n",
              "      <td>1.000000</td>\n",
              "      <td>1.000000</td>\n",
              "      <td>1.000000</td>\n",
              "      <td>1.000000</td>\n",
              "      <td>1.000000</td>\n",
              "      <td>1.000000</td>\n",
              "      <td>1.000000</td>\n",
              "      <td>1.000000</td>\n",
              "      <td>25.000000</td>\n",
              "    </tr>\n",
              "    <tr>\n",
              "      <th>max</th>\n",
              "      <td>1.000000</td>\n",
              "      <td>0.0</td>\n",
              "      <td>63151.000000</td>\n",
              "      <td>62372.000000</td>\n",
              "      <td>63356.000000</td>\n",
              "      <td>63356.000000</td>\n",
              "      <td>61538.000000</td>\n",
              "      <td>61685.000000</td>\n",
              "      <td>61218.000000</td>\n",
              "      <td>61920.000000</td>\n",
              "      <td>...</td>\n",
              "      <td>2795.000000</td>\n",
              "      <td>7220.000000</td>\n",
              "      <td>61538.000000</td>\n",
              "      <td>3.000000</td>\n",
              "      <td>1677.000000</td>\n",
              "      <td>20327.000000</td>\n",
              "      <td>55479.000000</td>\n",
              "      <td>1111.000000</td>\n",
              "      <td>2.000000</td>\n",
              "      <td>37.000000</td>\n",
              "    </tr>\n",
              "  </tbody>\n",
              "</table>\n",
              "<p>8 rows × 52 columns</p>\n",
              "</div>\n",
              "      <button class=\"colab-df-convert\" onclick=\"convertToInteractive('df-0e1a52eb-a16f-4ae9-93fe-7af84e9fecd1')\"\n",
              "              title=\"Convert this dataframe to an interactive table.\"\n",
              "              style=\"display:none;\">\n",
              "        \n",
              "  <svg xmlns=\"http://www.w3.org/2000/svg\" height=\"24px\"viewBox=\"0 0 24 24\"\n",
              "       width=\"24px\">\n",
              "    <path d=\"M0 0h24v24H0V0z\" fill=\"none\"/>\n",
              "    <path d=\"M18.56 5.44l.94 2.06.94-2.06 2.06-.94-2.06-.94-.94-2.06-.94 2.06-2.06.94zm-11 1L8.5 8.5l.94-2.06 2.06-.94-2.06-.94L8.5 2.5l-.94 2.06-2.06.94zm10 10l.94 2.06.94-2.06 2.06-.94-2.06-.94-.94-2.06-.94 2.06-2.06.94z\"/><path d=\"M17.41 7.96l-1.37-1.37c-.4-.4-.92-.59-1.43-.59-.52 0-1.04.2-1.43.59L10.3 9.45l-7.72 7.72c-.78.78-.78 2.05 0 2.83L4 21.41c.39.39.9.59 1.41.59.51 0 1.02-.2 1.41-.59l7.78-7.78 2.81-2.81c.8-.78.8-2.07 0-2.86zM5.41 20L4 18.59l7.72-7.72 1.47 1.35L5.41 20z\"/>\n",
              "  </svg>\n",
              "      </button>\n",
              "      \n",
              "  <style>\n",
              "    .colab-df-container {\n",
              "      display:flex;\n",
              "      flex-wrap:wrap;\n",
              "      gap: 12px;\n",
              "    }\n",
              "\n",
              "    .colab-df-convert {\n",
              "      background-color: #E8F0FE;\n",
              "      border: none;\n",
              "      border-radius: 50%;\n",
              "      cursor: pointer;\n",
              "      display: none;\n",
              "      fill: #1967D2;\n",
              "      height: 32px;\n",
              "      padding: 0 0 0 0;\n",
              "      width: 32px;\n",
              "    }\n",
              "\n",
              "    .colab-df-convert:hover {\n",
              "      background-color: #E2EBFA;\n",
              "      box-shadow: 0px 1px 2px rgba(60, 64, 67, 0.3), 0px 1px 3px 1px rgba(60, 64, 67, 0.15);\n",
              "      fill: #174EA6;\n",
              "    }\n",
              "\n",
              "    [theme=dark] .colab-df-convert {\n",
              "      background-color: #3B4455;\n",
              "      fill: #D2E3FC;\n",
              "    }\n",
              "\n",
              "    [theme=dark] .colab-df-convert:hover {\n",
              "      background-color: #434B5C;\n",
              "      box-shadow: 0px 1px 3px 1px rgba(0, 0, 0, 0.15);\n",
              "      filter: drop-shadow(0px 1px 2px rgba(0, 0, 0, 0.3));\n",
              "      fill: #FFFFFF;\n",
              "    }\n",
              "  </style>\n",
              "\n",
              "      <script>\n",
              "        const buttonEl =\n",
              "          document.querySelector('#df-0e1a52eb-a16f-4ae9-93fe-7af84e9fecd1 button.colab-df-convert');\n",
              "        buttonEl.style.display =\n",
              "          google.colab.kernel.accessAllowed ? 'block' : 'none';\n",
              "\n",
              "        async function convertToInteractive(key) {\n",
              "          const element = document.querySelector('#df-0e1a52eb-a16f-4ae9-93fe-7af84e9fecd1');\n",
              "          const dataTable =\n",
              "            await google.colab.kernel.invokeFunction('convertToInteractive',\n",
              "                                                     [key], {});\n",
              "          if (!dataTable) return;\n",
              "\n",
              "          const docLinkHtml = 'Like what you see? Visit the ' +\n",
              "            '<a target=\"_blank\" href=https://colab.research.google.com/notebooks/data_table.ipynb>data table notebook</a>'\n",
              "            + ' to learn more about interactive tables.';\n",
              "          element.innerHTML = '';\n",
              "          dataTable['output_type'] = 'display_data';\n",
              "          await google.colab.output.renderOutput(dataTable, element);\n",
              "          const docLink = document.createElement('div');\n",
              "          docLink.innerHTML = docLinkHtml;\n",
              "          element.appendChild(docLink);\n",
              "        }\n",
              "      </script>\n",
              "    </div>\n",
              "  </div>\n",
              "  "
            ],
            "text/plain": [
              "       is_sarcastic  encoded_headline_0  encoded_headline_1  \\\n",
              "count   4987.000000              4987.0         4987.000000   \n",
              "mean       0.410668                 0.0         9989.328253   \n",
              "std        0.492004                 0.0        12587.654109   \n",
              "min        0.000000                 0.0           22.000000   \n",
              "25%        0.000000                 0.0         1193.000000   \n",
              "50%        0.000000                 0.0         4807.000000   \n",
              "75%        1.000000                 0.0        13248.000000   \n",
              "max        1.000000                 0.0        63151.000000   \n",
              "\n",
              "       encoded_headline_2  encoded_headline_3  encoded_headline_4  \\\n",
              "count         4987.000000         4987.000000         4987.000000   \n",
              "mean          5519.303389         4959.386004         4155.864047   \n",
              "std          11078.397298        10346.993906         9188.011361   \n",
              "min              2.000000            1.000000            1.000000   \n",
              "25%            219.000000          104.000000          101.000000   \n",
              "50%           1066.000000          862.000000          612.000000   \n",
              "75%           4591.500000         4036.000000         3163.500000   \n",
              "max          62372.000000        63356.000000        63356.000000   \n",
              "\n",
              "       encoded_headline_5  encoded_headline_6  encoded_headline_7  \\\n",
              "count         4987.000000         4987.000000         4987.000000   \n",
              "mean          3963.771205         3880.249048         3659.103268   \n",
              "std           8920.106136         8856.144679         8653.310344   \n",
              "min              1.000000            1.000000            1.000000   \n",
              "25%             82.000000           72.500000           47.000000   \n",
              "50%            579.000000          505.000000          397.000000   \n",
              "75%           3069.000000         2998.500000         2671.000000   \n",
              "max          61538.000000        61685.000000        61218.000000   \n",
              "\n",
              "       encoded_headline_8  ...  encoded_headline_41  encoded_headline_42  \\\n",
              "count         4987.000000  ...          4987.000000          4987.000000   \n",
              "mean          3518.616804  ...             1.565871             3.081813   \n",
              "std           8550.891849  ...            39.566502           111.598635   \n",
              "min              1.000000  ...             1.000000             1.000000   \n",
              "25%             30.000000  ...             1.000000             1.000000   \n",
              "50%            335.000000  ...             1.000000             1.000000   \n",
              "75%           2357.500000  ...             1.000000             1.000000   \n",
              "max          61920.000000  ...          2795.000000          7220.000000   \n",
              "\n",
              "       encoded_headline_43  encoded_headline_44  encoded_headline_45  \\\n",
              "count          4987.000000          4987.000000          4987.000000   \n",
              "mean             17.835974             1.000602             1.336074   \n",
              "std             927.390460             0.031661            23.733092   \n",
              "min               1.000000             1.000000             1.000000   \n",
              "25%               1.000000             1.000000             1.000000   \n",
              "50%               1.000000             1.000000             1.000000   \n",
              "75%               1.000000             1.000000             1.000000   \n",
              "max           61538.000000             3.000000          1677.000000   \n",
              "\n",
              "       encoded_headline_46  encoded_headline_47  encoded_headline_48  \\\n",
              "count          4987.000000          4987.000000          4987.000000   \n",
              "mean              5.075797            12.124524             1.222579   \n",
              "std             287.827468           785.599344            15.718218   \n",
              "min               1.000000             1.000000             1.000000   \n",
              "25%               1.000000             1.000000             1.000000   \n",
              "50%               1.000000             1.000000             1.000000   \n",
              "75%               1.000000             1.000000             1.000000   \n",
              "max           20327.000000         55479.000000          1111.000000   \n",
              "\n",
              "       encoded_headline_49  encoded_domain_name  \n",
              "count          4987.000000          4987.000000  \n",
              "mean              1.000201            17.473631  \n",
              "std               0.014161            10.110037  \n",
              "min               1.000000             0.000000  \n",
              "25%               1.000000             5.000000  \n",
              "50%               1.000000            23.000000  \n",
              "75%               1.000000            25.000000  \n",
              "max               2.000000            37.000000  \n",
              "\n",
              "[8 rows x 52 columns]"
            ]
          },
          "execution_count": 213,
          "metadata": {},
          "output_type": "execute_result"
        }
      ],
      "source": [
        "df.describe()"
      ]
    },
    {
      "cell_type": "markdown",
      "metadata": {
        "id": "Ir3TQ5A9IOgA"
      },
      "source": [
        "### Final Conclusion"
      ]
    },
    {
      "cell_type": "markdown",
      "metadata": {
        "id": "4FAagda_IT71"
      },
      "source": [
        "Trong bài tập này, nhóm chú trọng vào việc preprocess data.\n",
        "\n",
        "Để phân loại headlines, nhóm đã sử dụng SVM kernel rbf, một model máy học truyền thống để thực hiện phân loại. Lý do sử dụng SVM kernel rbf vì nó có khả năng nhận biết pattern trong cả linear và non-linear data. Kết hợp với kỹ thuật cross validation, nhóm đã tránh được khả năng overfitting của SVM.\n",
        "\n",
        "Accuracy đạt được khi có bổ sung thông tin domain_name của article là 0.95, khi không có là 0.85, một kết quả cũng tương đối cao.\n",
        "\n",
        "Tuy nhiên có thể thấy rằng, khi bổ sung domain_name - thông tin được trích từ article_link, có một vấn đề xảy ra đó là nó sẽ bias thành bài toán domain name classification vì thông qua việc khám phá dataset, có thể thấy, dataset chủ yếu chứa data thu thập từ tuoitre.vn và cuoi.tuoitre.vn, trong đó headline của cuoi.tuoitre.vn chủ yếu là sarcastic (hơn 99%) và headline của tuoitre.vn chủ yếu là non-sarcastic (hơn 98%). Khi đó có thể nói đây là bài toán domain name classification giữa domain name cuoi.tuoitre.vn và tuoitre.vn chứ không phải headline nữa. Do đó kết quả 0.95 đạt được là vì model đang classify domain_name, một bài toán dễ hơn rất nhiều so với headline.\n",
        "\n",
        "Vậy có thể nói rằng, thông tin về article_link không quan trọng trong bài toán này. Chỉ với headline, ta vẫn có thể sử dụng SVM để tạo ra một model tương đối chính xác. Để cải thiện thì ta vẫn có thể tiếp tục fine tuning SVM hoặc chuyển sang neural network, nhưng đó là chuyện tương lai!"
      ]
    },
    {
      "cell_type": "markdown",
      "metadata": {
        "id": "oXbT7lY7PvR0"
      },
      "source": [
        "# Playground\n",
        "\n",
        "How to:\n",
        "1. Execute Installation above\n",
        "2. Execute data prep and model prep\n",
        "3. Have fun"
      ]
    },
    {
      "cell_type": "markdown",
      "metadata": {
        "id": "_XSnP965iW4z"
      },
      "source": [
        "### Data preparation for serving"
      ]
    },
    {
      "cell_type": "code",
      "source": [
        "import numpy as np\n",
        "import os, re"
      ],
      "metadata": {
        "id": "7hrshFQI892u"
      },
      "execution_count": null,
      "outputs": []
    },
    {
      "cell_type": "code",
      "source": [
        "import py_vncorenlp\n",
        "%cd /content/\n",
        "\n",
        "if 'vncorenlp' not in os.listdir('.'):\n",
        "\n",
        "    !mkdir vncorenlp\n",
        "    # Automatically download VnCoreNLP components from the original repository\n",
        "    # and save them in some local machine folder\n",
        "    py_vncorenlp.download_model(save_dir='/content/vncorenlp')\n",
        "\n",
        "    # Load the word and sentence segmentation component\n",
        "    rdrsegmenter = py_vncorenlp.VnCoreNLP(annotators=[\"wseg\"], save_dir='/content/vncorenlp')\n"
      ],
      "metadata": {
        "colab": {
          "base_uri": "https://localhost:8080/"
        },
        "id": "mwFWYpRS8KyW",
        "outputId": "ae0d85e3-615b-4681-a06c-63116c52364d"
      },
      "execution_count": null,
      "outputs": [
        {
          "output_type": "stream",
          "name": "stdout",
          "text": [
            "/content\n"
          ]
        }
      ]
    },
    {
      "cell_type": "code",
      "source": [
        "import torch\n",
        "from transformers import AutoModel, AutoTokenizer\n",
        "\n",
        "phobert = AutoModel.from_pretrained(\"vinai/phobert-base-v2\")\n",
        "tokenizer = AutoTokenizer.from_pretrained(\"vinai/phobert-base-v2\", model_max_length=50, padding_side='right')"
      ],
      "metadata": {
        "id": "t-Lu-syM42sr"
      },
      "execution_count": null,
      "outputs": []
    },
    {
      "cell_type": "code",
      "source": [
        "os.listdir('.')"
      ],
      "metadata": {
        "colab": {
          "base_uri": "https://localhost:8080/"
        },
        "id": "j36vM3fm7YZI",
        "outputId": "a3eb984a-0983-4a0e-faad-c4c1c83dd00c"
      },
      "execution_count": null,
      "outputs": [
        {
          "output_type": "execute_result",
          "data": {
            "text/plain": [
              "['.config',\n",
              " 'scaler_w_link.pkl',\n",
              " 'imbalanced_SVC_with_link.pkl',\n",
              " 'scaler_no_link.pkl',\n",
              " 'imbalanced_SVC.pkl',\n",
              " 'sample_data']"
            ]
          },
          "metadata": {},
          "execution_count": 25
        }
      ]
    },
    {
      "cell_type": "code",
      "source": [
        "import pickle\n",
        "%cd /content/\n",
        "\n",
        "if 'scaler_no_link.pkl' not in os.listdir('.'):\n",
        "    !wget https://raw.githubusercontent.com/uyenbhku/CS114.N21/main/sarcasm_detection_dataset/scaler_no_link.pkl\n",
        "scaler_no_link = pickle.load(open('scaler_no_link.pkl', 'rb'))"
      ],
      "metadata": {
        "colab": {
          "base_uri": "https://localhost:8080/"
        },
        "id": "JUL65kJR6TSo",
        "outputId": "fef330a6-4f38-4f4f-d0da-7a3e1b1f64c5"
      },
      "execution_count": null,
      "outputs": [
        {
          "output_type": "stream",
          "name": "stdout",
          "text": [
            "/content\n",
            "--2023-07-02 14:07:52--  https://raw.githubusercontent.com/uyenbhku/CS114.N21/main/sarcasm_detection_dataset/scaler_no_link.pkl\n",
            "Resolving raw.githubusercontent.com (raw.githubusercontent.com)... 185.199.108.133, 185.199.109.133, 185.199.110.133, ...\n",
            "Connecting to raw.githubusercontent.com (raw.githubusercontent.com)|185.199.108.133|:443... connected.\n",
            "HTTP request sent, awaiting response... 200 OK\n",
            "Length: 15862 (15K) [application/octet-stream]\n",
            "Saving to: ‘scaler_no_link.pkl’\n",
            "\n",
            "scaler_no_link.pkl  100%[===================>]  15.49K  --.-KB/s    in 0.001s  \n",
            "\n",
            "2023-07-02 14:07:53 (10.5 MB/s) - ‘scaler_no_link.pkl’ saved [15862/15862]\n",
            "\n"
          ]
        }
      ]
    },
    {
      "cell_type": "code",
      "source": [
        "import pickle\n",
        "%cd /content/\n",
        "\n",
        "if 'scaler_w_link.pkl' not in os.listdir('.'):\n",
        "    !wget https://raw.githubusercontent.com/uyenbhku/CS114.N21/main/sarcasm_detection_dataset/scaler_w_link.pkl\n",
        "scaler_w_link = pickle.load(open('scaler_w_link.pkl', 'rb'))"
      ],
      "metadata": {
        "colab": {
          "base_uri": "https://localhost:8080/"
        },
        "id": "zVgIHGUt69w5",
        "outputId": "a914129d-910d-4a35-dd29-cecba275dd61"
      },
      "execution_count": null,
      "outputs": [
        {
          "output_type": "stream",
          "name": "stdout",
          "text": [
            "/content\n",
            "--2023-07-02 14:07:48--  https://raw.githubusercontent.com/uyenbhku/CS114.N21/main/sarcasm_detection_dataset/scaler_w_link.pkl\n",
            "Resolving raw.githubusercontent.com (raw.githubusercontent.com)... 185.199.108.133, 185.199.109.133, 185.199.111.133, ...\n",
            "Connecting to raw.githubusercontent.com (raw.githubusercontent.com)|185.199.108.133|:443... connected.\n",
            "HTTP request sent, awaiting response... 200 OK\n",
            "Length: 31262 (31K) [application/octet-stream]\n",
            "Saving to: ‘scaler_w_link.pkl’\n",
            "\n",
            "scaler_w_link.pkl   100%[===================>]  30.53K  --.-KB/s    in 0.002s  \n",
            "\n",
            "2023-07-02 14:07:49 (16.6 MB/s) - ‘scaler_w_link.pkl’ saved [31262/31262]\n",
            "\n"
          ]
        }
      ]
    },
    {
      "cell_type": "code",
      "source": [
        "domain_names = ['24h.com.vn',\n",
        "                '2sao.vn',\n",
        "                'antv.gov.vn',\n",
        "                'baothanhhoa.vn',\n",
        "                'bongdaplus.vn',\n",
        "                'cuoi.tuoitre.vn',\n",
        "                'cuoituan.tuoitre.vn',\n",
        "                'dantri.com.vn',\n",
        "                'doanhnghiepvn.vn',\n",
        "                'doisongphapluat.com',\n",
        "                'facebook.com',\n",
        "                'kenh14.vn',\n",
        "                'kienthuc.net.vn',\n",
        "                'laodong.vn',\n",
        "                'lifestyle.zingnews.vn',\n",
        "                'nguoiduatin.vn',\n",
        "                'nhandan.vn',\n",
        "                'phapluat.tuoitrethudo.com.vn',\n",
        "                'podcast.tuoitre.vn',\n",
        "                'saostar.vn',\n",
        "                'soha.vn',\n",
        "                'spiderum.com',\n",
        "                'tech.zingnews.vn',\n",
        "                'thanhnien.vn',\n",
        "                'thesaigontimes.vn',\n",
        "                'tuoitre.vn',\n",
        "                'tuyengiao.vn',\n",
        "                'video.vnexpress.net',\n",
        "                'vietnamnet.vn',\n",
        "                'vneconomy.vn',\n",
        "                'vnexpress.net',\n",
        "                'vov.vn',\n",
        "                'vtc.vn',\n",
        "                'vtv.vn',\n",
        "                'we25.vn',\n",
        "                'xabuon.com',\n",
        "                'youtube.com',\n",
        "                'zingnews.vn']"
      ],
      "metadata": {
        "id": "p96U5WWA-SJ9"
      },
      "execution_count": null,
      "outputs": []
    },
    {
      "cell_type": "code",
      "source": [
        "def get_domain_name(link):\n",
        "    return re.search(r'^(?:https?://)?(?:www.)?(\\w+(?:[.-]\\w+)*)\\b', link).groups()[0]"
      ],
      "metadata": {
        "id": "5UGy3-Y196UW"
      },
      "execution_count": null,
      "outputs": []
    },
    {
      "cell_type": "code",
      "execution_count": null,
      "metadata": {
        "id": "NY5k_2yOiuA-"
      },
      "outputs": [],
      "source": [
        "def create_single_sample(headline, article_link, has_link=True) :\n",
        "    try:\n",
        "        left_part, right_part = df.at[i, 'headline'].rsplit('-', 1)\n",
        "        if right_part == ' Tuổi Trẻ Online':\n",
        "            headline = left_part\n",
        "    except:\n",
        "        pass\n",
        "\n",
        "    segmented_headline = rdrsegmenter.word_segment(headline)\n",
        "    headline = ' '.join(segmented_headline)\n",
        "\n",
        "    sample_input_ids = torch.tensor([tokenizer(headline, padding='max_length')['input_ids']])\n",
        "    sample_attention_mask = torch.tensor([tokenizer(headline, padding='max_length')['attention_mask']])\n",
        "\n",
        "    with torch.no_grad():\n",
        "        sample_features = phobert(sample_input_ids, attention_mask=sample_attention_mask)\n",
        "\n",
        "    encoded_headline = sample_features[0][:,0,:].numpy()\n",
        "    if not has_link: return scaler_no_link.transform(np.array(encoded_headline))\n",
        "\n",
        "    domain_name = get_domain_name(article_link)\n",
        "    if (domain_name in domain_names):\n",
        "        encoded_domain_name = domain_names.index(domain_name)\n",
        "    else: encoded_domain_name = len(domain_names)\n",
        "\n",
        "    return scaler_w_link.transform(np.append(encoded_headline, encoded_domain_name).reshape(1,-1))"
      ]
    },
    {
      "cell_type": "code",
      "source": [
        "create_single_sample('Ông Giáp bán bánh mì đầu ngõ', 'tingia.vn/ong-giap-ban-banh-mi').shape"
      ],
      "metadata": {
        "colab": {
          "base_uri": "https://localhost:8080/"
        },
        "id": "dp2glqWwcmbZ",
        "outputId": "bf53215a-b4e3-430f-fd97-562869040725"
      },
      "execution_count": null,
      "outputs": [
        {
          "output_type": "execute_result",
          "data": {
            "text/plain": [
              "(1, 769)"
            ]
          },
          "metadata": {},
          "execution_count": 139
        }
      ]
    },
    {
      "cell_type": "markdown",
      "metadata": {
        "id": "ps6060e07uRM"
      },
      "source": [
        "### Model preparation for serving"
      ]
    },
    {
      "cell_type": "code",
      "source": [
        "import pickle\n",
        "%cd /content/"
      ],
      "metadata": {
        "colab": {
          "base_uri": "https://localhost:8080/"
        },
        "outputId": "88467d51-5b5b-4cde-a784-bf79203d80e4",
        "id": "C4pB5S7v72dj"
      },
      "execution_count": null,
      "outputs": [
        {
          "output_type": "stream",
          "name": "stdout",
          "text": [
            "/content\n"
          ]
        }
      ]
    },
    {
      "cell_type": "code",
      "source": [
        "## uncomment those lines if you want to use balanced model\n",
        "# !wget https://raw.githubusercontent.com/uyenbhku/CS114.N21/main/sarcasm_detection_dataset/balanced_SVC.pkl\n",
        "# clf_svmrbf = pickle.load(open('balanced_SVC.pkl', 'rb'))"
      ],
      "metadata": {
        "id": "KWAurY_u72dk"
      },
      "execution_count": null,
      "outputs": []
    },
    {
      "cell_type": "code",
      "source": [
        "!wget https://raw.githubusercontent.com/uyenbhku/CS114.N21/main/sarcasm_detection_dataset/imbalanced_SVC.pkl\n",
        "clf_svmrbf = pickle.load(open('imbalanced_SVC.pkl', 'rb'))"
      ],
      "metadata": {
        "colab": {
          "base_uri": "https://localhost:8080/"
        },
        "outputId": "c23fd8b4-8099-43cd-9551-fa0712b2784c",
        "id": "3Is6VIf472dk"
      },
      "execution_count": null,
      "outputs": [
        {
          "output_type": "stream",
          "name": "stdout",
          "text": [
            "--2023-07-02 14:09:34--  https://raw.githubusercontent.com/uyenbhku/CS114.N21/main/sarcasm_detection_dataset/imbalanced_SVC.pkl\n",
            "Resolving raw.githubusercontent.com (raw.githubusercontent.com)... 185.199.108.133, 185.199.109.133, 185.199.110.133, ...\n",
            "Connecting to raw.githubusercontent.com (raw.githubusercontent.com)|185.199.108.133|:443... connected.\n",
            "HTTP request sent, awaiting response... 200 OK\n",
            "Length: 16946048 (16M) [application/octet-stream]\n",
            "Saving to: ‘imbalanced_SVC.pkl’\n",
            "\n",
            "imbalanced_SVC.pkl  100%[===================>]  16.16M   101MB/s    in 0.2s    \n",
            "\n",
            "2023-07-02 14:09:34 (101 MB/s) - ‘imbalanced_SVC.pkl’ saved [16946048/16946048]\n",
            "\n"
          ]
        }
      ]
    },
    {
      "cell_type": "code",
      "source": [
        "import pickle\n",
        "%cd /content/"
      ],
      "metadata": {
        "colab": {
          "base_uri": "https://localhost:8080/"
        },
        "id": "OSwze4i77-ij",
        "outputId": "ab1ec2fd-c2c0-4af8-de89-f4d9d4e6ee5e"
      },
      "execution_count": null,
      "outputs": [
        {
          "output_type": "stream",
          "name": "stdout",
          "text": [
            "/content\n"
          ]
        }
      ]
    },
    {
      "cell_type": "code",
      "source": [
        "# !wget https://raw.githubusercontent.com/uyenbhku/CS114.N21/main/sarcasm_detection_dataset/balanced_SVC_with_link.pkl\n",
        "# clf_svmrbf_l = pickle.load(open('balanced_SVC_with_link.pkl', 'rb'))"
      ],
      "metadata": {
        "id": "p30f_yTc7-ip"
      },
      "execution_count": null,
      "outputs": []
    },
    {
      "cell_type": "code",
      "source": [
        "!wget https://raw.githubusercontent.com/uyenbhku/CS114.N21/main/sarcasm_detection_dataset/imbalanced_SVC_with_link.pkl\n",
        "clf_svmrbf_l = pickle.load(open('imbalanced_SVC_with_link.pkl', 'rb'))"
      ],
      "metadata": {
        "colab": {
          "base_uri": "https://localhost:8080/"
        },
        "id": "suj_TTOL7-ip",
        "outputId": "31406f63-e280-4f6e-f6a6-79cbc877b501"
      },
      "execution_count": null,
      "outputs": [
        {
          "output_type": "stream",
          "name": "stdout",
          "text": [
            "--2023-07-02 14:09:35--  https://raw.githubusercontent.com/uyenbhku/CS114.N21/main/sarcasm_detection_dataset/imbalanced_SVC_with_link.pkl\n",
            "Resolving raw.githubusercontent.com (raw.githubusercontent.com)... 185.199.109.133, 185.199.111.133, 185.199.110.133, ...\n",
            "Connecting to raw.githubusercontent.com (raw.githubusercontent.com)|185.199.109.133|:443... connected.\n",
            "HTTP request sent, awaiting response... 200 OK\n",
            "Length: 8321067 (7.9M) [application/octet-stream]\n",
            "Saving to: ‘imbalanced_SVC_with_link.pkl’\n",
            "\n",
            "imbalanced_SVC_with 100%[===================>]   7.94M  --.-KB/s    in 0.1s    \n",
            "\n",
            "2023-07-02 14:09:35 (65.9 MB/s) - ‘imbalanced_SVC_with_link.pkl’ saved [8321067/8321067]\n",
            "\n"
          ]
        }
      ]
    },
    {
      "cell_type": "markdown",
      "source": [
        "### Serving"
      ],
      "metadata": {
        "id": "Ko4Qx-Cv6QXy"
      }
    },
    {
      "cell_type": "code",
      "source": [
        "#@title Have fun without link\n",
        "test_headline = input('Give me headline: ')\n",
        "test_link = ''\n",
        "\n",
        "res = clf_svmrbf.predict(create_single_sample(test_headline, test_link, has_link=False))\n",
        "\n",
        "if res[0] == 1:\n",
        "    print('Is sarcastic')\n",
        "else: print('Is not sarcastic')"
      ],
      "metadata": {
        "cellView": "form",
        "id": "dSJwqxaNQ1ES",
        "colab": {
          "base_uri": "https://localhost:8080/"
        },
        "outputId": "8e207b86-03c0-4d45-a9eb-551e7e184add"
      },
      "execution_count": null,
      "outputs": [
        {
          "output_type": "stream",
          "name": "stdout",
          "text": [
            "Give me headline: Kim Uyên xinh đẹp\n",
            "Is not sarcastic\n"
          ]
        }
      ]
    },
    {
      "cell_type": "code",
      "execution_count": null,
      "metadata": {
        "cellView": "form",
        "colab": {
          "base_uri": "https://localhost:8080/"
        },
        "id": "i8pjfLIwPSwT",
        "outputId": "cf8b4edd-e58a-45ae-b3d3-d36272bd0d80"
      },
      "outputs": [
        {
          "output_type": "stream",
          "name": "stdout",
          "text": [
            "Give me headline: Tăng trưởng GDP Việt Nam 2023\n",
            "Is not sarcastic\n"
          ]
        }
      ],
      "source": [
        "#@title Have fun without link\n",
        "test_headline = input('Give me headline: ')\n",
        "test_link = ''\n",
        "\n",
        "res = clf_svmrbf.predict(create_single_sample(test_headline, test_link, has_link=False))\n",
        "\n",
        "if res[0] == 1:\n",
        "    print('Is sarcastic')\n",
        "else: print('Is not sarcastic')"
      ]
    },
    {
      "cell_type": "code",
      "source": [
        "#@title Have fun without link\n",
        "test_headline = input('Give me headline: ')\n",
        "test_link = ''\n",
        "\n",
        "res = clf_svmrbf.predict(create_single_sample(test_headline, test_link, has_link=False))\n",
        "\n",
        "if res[0] == 1:\n",
        "    print('Is sarcastic')\n",
        "else: print('Is not sarcastic')"
      ],
      "metadata": {
        "colab": {
          "base_uri": "https://localhost:8080/"
        },
        "cellView": "form",
        "id": "MsOT2ISeigbt",
        "outputId": "8b3430f3-74e3-4869-e2fe-d3a6847cc97b"
      },
      "execution_count": null,
      "outputs": [
        {
          "output_type": "stream",
          "name": "stdout",
          "text": [
            "Give me headline: Ông Giáp bán bánh mì đầu ngỏ bị bà Mai nhìn thấy và cái kết đắng\n",
            "Is sarcastic\n"
          ]
        }
      ]
    },
    {
      "cell_type": "code",
      "execution_count": null,
      "metadata": {
        "id": "klDeK6A1QRiC",
        "colab": {
          "base_uri": "https://localhost:8080/"
        },
        "cellView": "form",
        "outputId": "9dd35f4a-a9d5-4dfc-8d7d-5819c9f36c99"
      },
      "outputs": [
        {
          "output_type": "stream",
          "name": "stdout",
          "text": [
            "Give me headline: Ông Giáp bán bánh mì đầu ngỏ bị bà Mai nhìn thấy và cái kết đắng\n",
            "Give me the link to that article: cuoi.tuoitre.vn/ong-giap\n",
            "Is sarcastic\n"
          ]
        }
      ],
      "source": [
        "#@title Have fun\n",
        "test_headline = input('Give me headline: ')\n",
        "test_link = input('Give me the link to that article: ')\n",
        "\n",
        "res = clf_svmrbf_l.predict(create_single_sample(test_headline, test_link))\n",
        "\n",
        "if res[0] == 1:\n",
        "    print('Is sarcastic')\n",
        "else: print('Is not sarcastic')"
      ]
    },
    {
      "cell_type": "code",
      "source": [
        "#@title Have fun\n",
        "test_headline = input('Give me headline: ')\n",
        "test_link = input('Give me the link to that article: ')\n",
        "\n",
        "res = clf_svmrbf_l.predict(create_single_sample(test_headline, test_link))\n",
        "\n",
        "if res[0] == 1:\n",
        "    print('Is sarcastic')\n",
        "else: print('Is not sarcastic')"
      ],
      "metadata": {
        "colab": {
          "base_uri": "https://localhost:8080/"
        },
        "cellView": "form",
        "id": "QGjH0mBXipu6",
        "outputId": "13da7cc4-8974-4deb-820f-516ba63bb56d"
      },
      "execution_count": null,
      "outputs": [
        {
          "output_type": "stream",
          "name": "stdout",
          "text": [
            "Give me headline: Ông Giáp bán bánh mì đầu ngỏ bị bà Mai nhìn thấy và cái kết đắng\n",
            "Give me the link to that article: tingia.vn/ong-giap-ban-banh-mi\n",
            "Is not sarcastic\n"
          ]
        }
      ]
    },
    {
      "cell_type": "code",
      "source": [
        "#@title Have fun\n",
        "test_headline = input('Give me headline: ')\n",
        "test_link = input('Give me the link to that article: ')\n",
        "\n",
        "res = clf_svmrbf_l.predict(create_single_sample(test_headline, test_link))\n",
        "\n",
        "if res[0] == 1:\n",
        "    print('Is sarcastic')\n",
        "else: print('Is not sarcastic')"
      ],
      "metadata": {
        "colab": {
          "base_uri": "https://localhost:8080/"
        },
        "cellView": "form",
        "id": "GC7x9CU3i063",
        "outputId": "1bca22b2-2bb1-4a17-eab7-3bd2361d4002"
      },
      "execution_count": null,
      "outputs": [
        {
          "output_type": "stream",
          "name": "stdout",
          "text": [
            "Give me headline: Ông Giáp bán bánh mì đầu ngỏ bị bà Mai nhìn thấy và cái kết đắng\n",
            "Give me the link to that article: tuoitre.vn/ong-giap-ban-banh-mi\n",
            "Is not sarcastic\n"
          ]
        }
      ]
    },
    {
      "cell_type": "code",
      "source": [],
      "metadata": {
        "id": "z9N9In6ji7sy"
      },
      "execution_count": null,
      "outputs": []
    }
  ],
  "metadata": {
    "colab": {
      "collapsed_sections": [
        "Vysoe2EodXqx",
        "i0C8mduZgjz7",
        "HNdJnKf8nszG",
        "tRrjPawAjfL5",
        "QJhxDIV7tS_D",
        "yVyjaqzF42vP",
        "dV5yG6WqtsIT",
        "oj6O8YmPkHr-",
        "er5nPDhPjhI0",
        "yqv4CjHAJavh",
        "7Xh0cUB4jrDb",
        "yf-3KkNcdck9",
        "8CMIbDLudnpC",
        "54F99jOSbCwc",
        "rXh5JipSbCwj",
        "09ZmZBjEbCwk",
        "iYxN4SzlxHr1",
        "9L_xzoaSxZY7",
        "rJNqLjfVbCwk",
        "UN_ZEXqmezhN",
        "jKg7cxgL5dxy",
        "aIdOSKFK5yG-",
        "MxWHYig3feFC",
        "hJKBoXRx6x3h",
        "JDQJtWla64qb",
        "6OvVm1YP6NOs",
        "JJSyJL8P7TEH",
        "9DINBK0JTZyp",
        "xQC5jpQlT8IC",
        "viaeY9tIUTEr",
        "_XSnP965iW4z",
        "ps6060e07uRM"
      ],
      "provenance": [],
      "include_colab_link": true
    },
    "kernelspec": {
      "display_name": "Python 3",
      "name": "python3"
    },
    "language_info": {
      "name": "python"
    },
    "widgets": {
      "application/vnd.jupyter.widget-state+json": {
        "3b9664bd11404a2eb536202ea6b7dfc1": {
          "model_module": "@jupyter-widgets/controls",
          "model_name": "HBoxModel",
          "model_module_version": "1.5.0",
          "state": {
            "_dom_classes": [],
            "_model_module": "@jupyter-widgets/controls",
            "_model_module_version": "1.5.0",
            "_model_name": "HBoxModel",
            "_view_count": null,
            "_view_module": "@jupyter-widgets/controls",
            "_view_module_version": "1.5.0",
            "_view_name": "HBoxView",
            "box_style": "",
            "children": [
              "IPY_MODEL_a08bed5ce488485293c0faa97ec5f31d",
              "IPY_MODEL_04c5db034dfc453fbd63eff6c1c92865",
              "IPY_MODEL_c34829e42e824a94a672eb9768cae21d"
            ],
            "layout": "IPY_MODEL_d24f2be8a6d840c0b1124518e69ea1db"
          }
        },
        "a08bed5ce488485293c0faa97ec5f31d": {
          "model_module": "@jupyter-widgets/controls",
          "model_name": "HTMLModel",
          "model_module_version": "1.5.0",
          "state": {
            "_dom_classes": [],
            "_model_module": "@jupyter-widgets/controls",
            "_model_module_version": "1.5.0",
            "_model_name": "HTMLModel",
            "_view_count": null,
            "_view_module": "@jupyter-widgets/controls",
            "_view_module_version": "1.5.0",
            "_view_name": "HTMLView",
            "description": "",
            "description_tooltip": null,
            "layout": "IPY_MODEL_c88d8a53dc0a4f1faeeb2ced95774a38",
            "placeholder": "​",
            "style": "IPY_MODEL_f2a42f9bf54748d5a644c43ec4c90a12",
            "value": "Downloading (…)lve/main/config.json: 100%"
          }
        },
        "04c5db034dfc453fbd63eff6c1c92865": {
          "model_module": "@jupyter-widgets/controls",
          "model_name": "FloatProgressModel",
          "model_module_version": "1.5.0",
          "state": {
            "_dom_classes": [],
            "_model_module": "@jupyter-widgets/controls",
            "_model_module_version": "1.5.0",
            "_model_name": "FloatProgressModel",
            "_view_count": null,
            "_view_module": "@jupyter-widgets/controls",
            "_view_module_version": "1.5.0",
            "_view_name": "ProgressView",
            "bar_style": "success",
            "description": "",
            "description_tooltip": null,
            "layout": "IPY_MODEL_0fd565ca9bd0481f913b992c87ab45f1",
            "max": 678,
            "min": 0,
            "orientation": "horizontal",
            "style": "IPY_MODEL_229fa85b152e41d0834383bf76ac370a",
            "value": 678
          }
        },
        "c34829e42e824a94a672eb9768cae21d": {
          "model_module": "@jupyter-widgets/controls",
          "model_name": "HTMLModel",
          "model_module_version": "1.5.0",
          "state": {
            "_dom_classes": [],
            "_model_module": "@jupyter-widgets/controls",
            "_model_module_version": "1.5.0",
            "_model_name": "HTMLModel",
            "_view_count": null,
            "_view_module": "@jupyter-widgets/controls",
            "_view_module_version": "1.5.0",
            "_view_name": "HTMLView",
            "description": "",
            "description_tooltip": null,
            "layout": "IPY_MODEL_51f465b670ac4d8f98ad1711b98a8ad7",
            "placeholder": "​",
            "style": "IPY_MODEL_072b9d0bc59448b18b0a819dbd4c7a6f",
            "value": " 678/678 [00:00&lt;00:00, 19.3kB/s]"
          }
        },
        "d24f2be8a6d840c0b1124518e69ea1db": {
          "model_module": "@jupyter-widgets/base",
          "model_name": "LayoutModel",
          "model_module_version": "1.2.0",
          "state": {
            "_model_module": "@jupyter-widgets/base",
            "_model_module_version": "1.2.0",
            "_model_name": "LayoutModel",
            "_view_count": null,
            "_view_module": "@jupyter-widgets/base",
            "_view_module_version": "1.2.0",
            "_view_name": "LayoutView",
            "align_content": null,
            "align_items": null,
            "align_self": null,
            "border": null,
            "bottom": null,
            "display": null,
            "flex": null,
            "flex_flow": null,
            "grid_area": null,
            "grid_auto_columns": null,
            "grid_auto_flow": null,
            "grid_auto_rows": null,
            "grid_column": null,
            "grid_gap": null,
            "grid_row": null,
            "grid_template_areas": null,
            "grid_template_columns": null,
            "grid_template_rows": null,
            "height": null,
            "justify_content": null,
            "justify_items": null,
            "left": null,
            "margin": null,
            "max_height": null,
            "max_width": null,
            "min_height": null,
            "min_width": null,
            "object_fit": null,
            "object_position": null,
            "order": null,
            "overflow": null,
            "overflow_x": null,
            "overflow_y": null,
            "padding": null,
            "right": null,
            "top": null,
            "visibility": null,
            "width": null
          }
        },
        "c88d8a53dc0a4f1faeeb2ced95774a38": {
          "model_module": "@jupyter-widgets/base",
          "model_name": "LayoutModel",
          "model_module_version": "1.2.0",
          "state": {
            "_model_module": "@jupyter-widgets/base",
            "_model_module_version": "1.2.0",
            "_model_name": "LayoutModel",
            "_view_count": null,
            "_view_module": "@jupyter-widgets/base",
            "_view_module_version": "1.2.0",
            "_view_name": "LayoutView",
            "align_content": null,
            "align_items": null,
            "align_self": null,
            "border": null,
            "bottom": null,
            "display": null,
            "flex": null,
            "flex_flow": null,
            "grid_area": null,
            "grid_auto_columns": null,
            "grid_auto_flow": null,
            "grid_auto_rows": null,
            "grid_column": null,
            "grid_gap": null,
            "grid_row": null,
            "grid_template_areas": null,
            "grid_template_columns": null,
            "grid_template_rows": null,
            "height": null,
            "justify_content": null,
            "justify_items": null,
            "left": null,
            "margin": null,
            "max_height": null,
            "max_width": null,
            "min_height": null,
            "min_width": null,
            "object_fit": null,
            "object_position": null,
            "order": null,
            "overflow": null,
            "overflow_x": null,
            "overflow_y": null,
            "padding": null,
            "right": null,
            "top": null,
            "visibility": null,
            "width": null
          }
        },
        "f2a42f9bf54748d5a644c43ec4c90a12": {
          "model_module": "@jupyter-widgets/controls",
          "model_name": "DescriptionStyleModel",
          "model_module_version": "1.5.0",
          "state": {
            "_model_module": "@jupyter-widgets/controls",
            "_model_module_version": "1.5.0",
            "_model_name": "DescriptionStyleModel",
            "_view_count": null,
            "_view_module": "@jupyter-widgets/base",
            "_view_module_version": "1.2.0",
            "_view_name": "StyleView",
            "description_width": ""
          }
        },
        "0fd565ca9bd0481f913b992c87ab45f1": {
          "model_module": "@jupyter-widgets/base",
          "model_name": "LayoutModel",
          "model_module_version": "1.2.0",
          "state": {
            "_model_module": "@jupyter-widgets/base",
            "_model_module_version": "1.2.0",
            "_model_name": "LayoutModel",
            "_view_count": null,
            "_view_module": "@jupyter-widgets/base",
            "_view_module_version": "1.2.0",
            "_view_name": "LayoutView",
            "align_content": null,
            "align_items": null,
            "align_self": null,
            "border": null,
            "bottom": null,
            "display": null,
            "flex": null,
            "flex_flow": null,
            "grid_area": null,
            "grid_auto_columns": null,
            "grid_auto_flow": null,
            "grid_auto_rows": null,
            "grid_column": null,
            "grid_gap": null,
            "grid_row": null,
            "grid_template_areas": null,
            "grid_template_columns": null,
            "grid_template_rows": null,
            "height": null,
            "justify_content": null,
            "justify_items": null,
            "left": null,
            "margin": null,
            "max_height": null,
            "max_width": null,
            "min_height": null,
            "min_width": null,
            "object_fit": null,
            "object_position": null,
            "order": null,
            "overflow": null,
            "overflow_x": null,
            "overflow_y": null,
            "padding": null,
            "right": null,
            "top": null,
            "visibility": null,
            "width": null
          }
        },
        "229fa85b152e41d0834383bf76ac370a": {
          "model_module": "@jupyter-widgets/controls",
          "model_name": "ProgressStyleModel",
          "model_module_version": "1.5.0",
          "state": {
            "_model_module": "@jupyter-widgets/controls",
            "_model_module_version": "1.5.0",
            "_model_name": "ProgressStyleModel",
            "_view_count": null,
            "_view_module": "@jupyter-widgets/base",
            "_view_module_version": "1.2.0",
            "_view_name": "StyleView",
            "bar_color": null,
            "description_width": ""
          }
        },
        "51f465b670ac4d8f98ad1711b98a8ad7": {
          "model_module": "@jupyter-widgets/base",
          "model_name": "LayoutModel",
          "model_module_version": "1.2.0",
          "state": {
            "_model_module": "@jupyter-widgets/base",
            "_model_module_version": "1.2.0",
            "_model_name": "LayoutModel",
            "_view_count": null,
            "_view_module": "@jupyter-widgets/base",
            "_view_module_version": "1.2.0",
            "_view_name": "LayoutView",
            "align_content": null,
            "align_items": null,
            "align_self": null,
            "border": null,
            "bottom": null,
            "display": null,
            "flex": null,
            "flex_flow": null,
            "grid_area": null,
            "grid_auto_columns": null,
            "grid_auto_flow": null,
            "grid_auto_rows": null,
            "grid_column": null,
            "grid_gap": null,
            "grid_row": null,
            "grid_template_areas": null,
            "grid_template_columns": null,
            "grid_template_rows": null,
            "height": null,
            "justify_content": null,
            "justify_items": null,
            "left": null,
            "margin": null,
            "max_height": null,
            "max_width": null,
            "min_height": null,
            "min_width": null,
            "object_fit": null,
            "object_position": null,
            "order": null,
            "overflow": null,
            "overflow_x": null,
            "overflow_y": null,
            "padding": null,
            "right": null,
            "top": null,
            "visibility": null,
            "width": null
          }
        },
        "072b9d0bc59448b18b0a819dbd4c7a6f": {
          "model_module": "@jupyter-widgets/controls",
          "model_name": "DescriptionStyleModel",
          "model_module_version": "1.5.0",
          "state": {
            "_model_module": "@jupyter-widgets/controls",
            "_model_module_version": "1.5.0",
            "_model_name": "DescriptionStyleModel",
            "_view_count": null,
            "_view_module": "@jupyter-widgets/base",
            "_view_module_version": "1.2.0",
            "_view_name": "StyleView",
            "description_width": ""
          }
        },
        "2975b6d894bb46ceac441a6871db5632": {
          "model_module": "@jupyter-widgets/controls",
          "model_name": "HBoxModel",
          "model_module_version": "1.5.0",
          "state": {
            "_dom_classes": [],
            "_model_module": "@jupyter-widgets/controls",
            "_model_module_version": "1.5.0",
            "_model_name": "HBoxModel",
            "_view_count": null,
            "_view_module": "@jupyter-widgets/controls",
            "_view_module_version": "1.5.0",
            "_view_name": "HBoxView",
            "box_style": "",
            "children": [
              "IPY_MODEL_8af753aab99e4b16bf7f0bbc29657a88",
              "IPY_MODEL_f29228ecd1b140da882fb66afcffa5a9",
              "IPY_MODEL_427facdef8e44089b74ba410d16b801e"
            ],
            "layout": "IPY_MODEL_3e03eb3e16f346d7ab9e75629e27367a"
          }
        },
        "8af753aab99e4b16bf7f0bbc29657a88": {
          "model_module": "@jupyter-widgets/controls",
          "model_name": "HTMLModel",
          "model_module_version": "1.5.0",
          "state": {
            "_dom_classes": [],
            "_model_module": "@jupyter-widgets/controls",
            "_model_module_version": "1.5.0",
            "_model_name": "HTMLModel",
            "_view_count": null,
            "_view_module": "@jupyter-widgets/controls",
            "_view_module_version": "1.5.0",
            "_view_name": "HTMLView",
            "description": "",
            "description_tooltip": null,
            "layout": "IPY_MODEL_e8962c1af9d64ca58327eb0503999287",
            "placeholder": "​",
            "style": "IPY_MODEL_19f77b7b22464d238c1398c8b56dd792",
            "value": "Downloading pytorch_model.bin: 100%"
          }
        },
        "f29228ecd1b140da882fb66afcffa5a9": {
          "model_module": "@jupyter-widgets/controls",
          "model_name": "FloatProgressModel",
          "model_module_version": "1.5.0",
          "state": {
            "_dom_classes": [],
            "_model_module": "@jupyter-widgets/controls",
            "_model_module_version": "1.5.0",
            "_model_name": "FloatProgressModel",
            "_view_count": null,
            "_view_module": "@jupyter-widgets/controls",
            "_view_module_version": "1.5.0",
            "_view_name": "ProgressView",
            "bar_style": "success",
            "description": "",
            "description_tooltip": null,
            "layout": "IPY_MODEL_6ed3327e74c2418182ac9958fb983bd2",
            "max": 540322347,
            "min": 0,
            "orientation": "horizontal",
            "style": "IPY_MODEL_55bf99c9308749de95aacdb2d2e52d49",
            "value": 540322347
          }
        },
        "427facdef8e44089b74ba410d16b801e": {
          "model_module": "@jupyter-widgets/controls",
          "model_name": "HTMLModel",
          "model_module_version": "1.5.0",
          "state": {
            "_dom_classes": [],
            "_model_module": "@jupyter-widgets/controls",
            "_model_module_version": "1.5.0",
            "_model_name": "HTMLModel",
            "_view_count": null,
            "_view_module": "@jupyter-widgets/controls",
            "_view_module_version": "1.5.0",
            "_view_name": "HTMLView",
            "description": "",
            "description_tooltip": null,
            "layout": "IPY_MODEL_9cb71ee28e044ca68465ef7c52ca97c3",
            "placeholder": "​",
            "style": "IPY_MODEL_60ad2c68c2c6486fad4eb33b157bbba8",
            "value": " 540M/540M [00:06&lt;00:00, 97.0MB/s]"
          }
        },
        "3e03eb3e16f346d7ab9e75629e27367a": {
          "model_module": "@jupyter-widgets/base",
          "model_name": "LayoutModel",
          "model_module_version": "1.2.0",
          "state": {
            "_model_module": "@jupyter-widgets/base",
            "_model_module_version": "1.2.0",
            "_model_name": "LayoutModel",
            "_view_count": null,
            "_view_module": "@jupyter-widgets/base",
            "_view_module_version": "1.2.0",
            "_view_name": "LayoutView",
            "align_content": null,
            "align_items": null,
            "align_self": null,
            "border": null,
            "bottom": null,
            "display": null,
            "flex": null,
            "flex_flow": null,
            "grid_area": null,
            "grid_auto_columns": null,
            "grid_auto_flow": null,
            "grid_auto_rows": null,
            "grid_column": null,
            "grid_gap": null,
            "grid_row": null,
            "grid_template_areas": null,
            "grid_template_columns": null,
            "grid_template_rows": null,
            "height": null,
            "justify_content": null,
            "justify_items": null,
            "left": null,
            "margin": null,
            "max_height": null,
            "max_width": null,
            "min_height": null,
            "min_width": null,
            "object_fit": null,
            "object_position": null,
            "order": null,
            "overflow": null,
            "overflow_x": null,
            "overflow_y": null,
            "padding": null,
            "right": null,
            "top": null,
            "visibility": null,
            "width": null
          }
        },
        "e8962c1af9d64ca58327eb0503999287": {
          "model_module": "@jupyter-widgets/base",
          "model_name": "LayoutModel",
          "model_module_version": "1.2.0",
          "state": {
            "_model_module": "@jupyter-widgets/base",
            "_model_module_version": "1.2.0",
            "_model_name": "LayoutModel",
            "_view_count": null,
            "_view_module": "@jupyter-widgets/base",
            "_view_module_version": "1.2.0",
            "_view_name": "LayoutView",
            "align_content": null,
            "align_items": null,
            "align_self": null,
            "border": null,
            "bottom": null,
            "display": null,
            "flex": null,
            "flex_flow": null,
            "grid_area": null,
            "grid_auto_columns": null,
            "grid_auto_flow": null,
            "grid_auto_rows": null,
            "grid_column": null,
            "grid_gap": null,
            "grid_row": null,
            "grid_template_areas": null,
            "grid_template_columns": null,
            "grid_template_rows": null,
            "height": null,
            "justify_content": null,
            "justify_items": null,
            "left": null,
            "margin": null,
            "max_height": null,
            "max_width": null,
            "min_height": null,
            "min_width": null,
            "object_fit": null,
            "object_position": null,
            "order": null,
            "overflow": null,
            "overflow_x": null,
            "overflow_y": null,
            "padding": null,
            "right": null,
            "top": null,
            "visibility": null,
            "width": null
          }
        },
        "19f77b7b22464d238c1398c8b56dd792": {
          "model_module": "@jupyter-widgets/controls",
          "model_name": "DescriptionStyleModel",
          "model_module_version": "1.5.0",
          "state": {
            "_model_module": "@jupyter-widgets/controls",
            "_model_module_version": "1.5.0",
            "_model_name": "DescriptionStyleModel",
            "_view_count": null,
            "_view_module": "@jupyter-widgets/base",
            "_view_module_version": "1.2.0",
            "_view_name": "StyleView",
            "description_width": ""
          }
        },
        "6ed3327e74c2418182ac9958fb983bd2": {
          "model_module": "@jupyter-widgets/base",
          "model_name": "LayoutModel",
          "model_module_version": "1.2.0",
          "state": {
            "_model_module": "@jupyter-widgets/base",
            "_model_module_version": "1.2.0",
            "_model_name": "LayoutModel",
            "_view_count": null,
            "_view_module": "@jupyter-widgets/base",
            "_view_module_version": "1.2.0",
            "_view_name": "LayoutView",
            "align_content": null,
            "align_items": null,
            "align_self": null,
            "border": null,
            "bottom": null,
            "display": null,
            "flex": null,
            "flex_flow": null,
            "grid_area": null,
            "grid_auto_columns": null,
            "grid_auto_flow": null,
            "grid_auto_rows": null,
            "grid_column": null,
            "grid_gap": null,
            "grid_row": null,
            "grid_template_areas": null,
            "grid_template_columns": null,
            "grid_template_rows": null,
            "height": null,
            "justify_content": null,
            "justify_items": null,
            "left": null,
            "margin": null,
            "max_height": null,
            "max_width": null,
            "min_height": null,
            "min_width": null,
            "object_fit": null,
            "object_position": null,
            "order": null,
            "overflow": null,
            "overflow_x": null,
            "overflow_y": null,
            "padding": null,
            "right": null,
            "top": null,
            "visibility": null,
            "width": null
          }
        },
        "55bf99c9308749de95aacdb2d2e52d49": {
          "model_module": "@jupyter-widgets/controls",
          "model_name": "ProgressStyleModel",
          "model_module_version": "1.5.0",
          "state": {
            "_model_module": "@jupyter-widgets/controls",
            "_model_module_version": "1.5.0",
            "_model_name": "ProgressStyleModel",
            "_view_count": null,
            "_view_module": "@jupyter-widgets/base",
            "_view_module_version": "1.2.0",
            "_view_name": "StyleView",
            "bar_color": null,
            "description_width": ""
          }
        },
        "9cb71ee28e044ca68465ef7c52ca97c3": {
          "model_module": "@jupyter-widgets/base",
          "model_name": "LayoutModel",
          "model_module_version": "1.2.0",
          "state": {
            "_model_module": "@jupyter-widgets/base",
            "_model_module_version": "1.2.0",
            "_model_name": "LayoutModel",
            "_view_count": null,
            "_view_module": "@jupyter-widgets/base",
            "_view_module_version": "1.2.0",
            "_view_name": "LayoutView",
            "align_content": null,
            "align_items": null,
            "align_self": null,
            "border": null,
            "bottom": null,
            "display": null,
            "flex": null,
            "flex_flow": null,
            "grid_area": null,
            "grid_auto_columns": null,
            "grid_auto_flow": null,
            "grid_auto_rows": null,
            "grid_column": null,
            "grid_gap": null,
            "grid_row": null,
            "grid_template_areas": null,
            "grid_template_columns": null,
            "grid_template_rows": null,
            "height": null,
            "justify_content": null,
            "justify_items": null,
            "left": null,
            "margin": null,
            "max_height": null,
            "max_width": null,
            "min_height": null,
            "min_width": null,
            "object_fit": null,
            "object_position": null,
            "order": null,
            "overflow": null,
            "overflow_x": null,
            "overflow_y": null,
            "padding": null,
            "right": null,
            "top": null,
            "visibility": null,
            "width": null
          }
        },
        "60ad2c68c2c6486fad4eb33b157bbba8": {
          "model_module": "@jupyter-widgets/controls",
          "model_name": "DescriptionStyleModel",
          "model_module_version": "1.5.0",
          "state": {
            "_model_module": "@jupyter-widgets/controls",
            "_model_module_version": "1.5.0",
            "_model_name": "DescriptionStyleModel",
            "_view_count": null,
            "_view_module": "@jupyter-widgets/base",
            "_view_module_version": "1.2.0",
            "_view_name": "StyleView",
            "description_width": ""
          }
        },
        "8ba7e68953564ed7a688e09e173f16ad": {
          "model_module": "@jupyter-widgets/controls",
          "model_name": "HBoxModel",
          "model_module_version": "1.5.0",
          "state": {
            "_dom_classes": [],
            "_model_module": "@jupyter-widgets/controls",
            "_model_module_version": "1.5.0",
            "_model_name": "HBoxModel",
            "_view_count": null,
            "_view_module": "@jupyter-widgets/controls",
            "_view_module_version": "1.5.0",
            "_view_name": "HBoxView",
            "box_style": "",
            "children": [
              "IPY_MODEL_2572e5acfd344d9f87a08b57c473980f",
              "IPY_MODEL_9c8ba379aa0e49129ef303869310ead6",
              "IPY_MODEL_fe736b9ff53f4477a257156984ec673f"
            ],
            "layout": "IPY_MODEL_b2e2fc5107d349a29a720e7dd4ff60bb"
          }
        },
        "2572e5acfd344d9f87a08b57c473980f": {
          "model_module": "@jupyter-widgets/controls",
          "model_name": "HTMLModel",
          "model_module_version": "1.5.0",
          "state": {
            "_dom_classes": [],
            "_model_module": "@jupyter-widgets/controls",
            "_model_module_version": "1.5.0",
            "_model_name": "HTMLModel",
            "_view_count": null,
            "_view_module": "@jupyter-widgets/controls",
            "_view_module_version": "1.5.0",
            "_view_name": "HTMLView",
            "description": "",
            "description_tooltip": null,
            "layout": "IPY_MODEL_9c3b874a32834ad68840813bf3ebc2d2",
            "placeholder": "​",
            "style": "IPY_MODEL_d065c22476bd4ffd9d89f02352ba4dfe",
            "value": "Downloading (…)solve/main/vocab.txt: 100%"
          }
        },
        "9c8ba379aa0e49129ef303869310ead6": {
          "model_module": "@jupyter-widgets/controls",
          "model_name": "FloatProgressModel",
          "model_module_version": "1.5.0",
          "state": {
            "_dom_classes": [],
            "_model_module": "@jupyter-widgets/controls",
            "_model_module_version": "1.5.0",
            "_model_name": "FloatProgressModel",
            "_view_count": null,
            "_view_module": "@jupyter-widgets/controls",
            "_view_module_version": "1.5.0",
            "_view_name": "ProgressView",
            "bar_style": "success",
            "description": "",
            "description_tooltip": null,
            "layout": "IPY_MODEL_acb79fd5e05b4fa1888cd9e310f07662",
            "max": 895321,
            "min": 0,
            "orientation": "horizontal",
            "style": "IPY_MODEL_00098d40b3fd40faa8817a772998933b",
            "value": 895321
          }
        },
        "fe736b9ff53f4477a257156984ec673f": {
          "model_module": "@jupyter-widgets/controls",
          "model_name": "HTMLModel",
          "model_module_version": "1.5.0",
          "state": {
            "_dom_classes": [],
            "_model_module": "@jupyter-widgets/controls",
            "_model_module_version": "1.5.0",
            "_model_name": "HTMLModel",
            "_view_count": null,
            "_view_module": "@jupyter-widgets/controls",
            "_view_module_version": "1.5.0",
            "_view_name": "HTMLView",
            "description": "",
            "description_tooltip": null,
            "layout": "IPY_MODEL_037926abdf8740f08bf520a6d08481d8",
            "placeholder": "​",
            "style": "IPY_MODEL_500f7abc3eb1469ea5e1a0896ef0b3a5",
            "value": " 895k/895k [00:00&lt;00:00, 5.95MB/s]"
          }
        },
        "b2e2fc5107d349a29a720e7dd4ff60bb": {
          "model_module": "@jupyter-widgets/base",
          "model_name": "LayoutModel",
          "model_module_version": "1.2.0",
          "state": {
            "_model_module": "@jupyter-widgets/base",
            "_model_module_version": "1.2.0",
            "_model_name": "LayoutModel",
            "_view_count": null,
            "_view_module": "@jupyter-widgets/base",
            "_view_module_version": "1.2.0",
            "_view_name": "LayoutView",
            "align_content": null,
            "align_items": null,
            "align_self": null,
            "border": null,
            "bottom": null,
            "display": null,
            "flex": null,
            "flex_flow": null,
            "grid_area": null,
            "grid_auto_columns": null,
            "grid_auto_flow": null,
            "grid_auto_rows": null,
            "grid_column": null,
            "grid_gap": null,
            "grid_row": null,
            "grid_template_areas": null,
            "grid_template_columns": null,
            "grid_template_rows": null,
            "height": null,
            "justify_content": null,
            "justify_items": null,
            "left": null,
            "margin": null,
            "max_height": null,
            "max_width": null,
            "min_height": null,
            "min_width": null,
            "object_fit": null,
            "object_position": null,
            "order": null,
            "overflow": null,
            "overflow_x": null,
            "overflow_y": null,
            "padding": null,
            "right": null,
            "top": null,
            "visibility": null,
            "width": null
          }
        },
        "9c3b874a32834ad68840813bf3ebc2d2": {
          "model_module": "@jupyter-widgets/base",
          "model_name": "LayoutModel",
          "model_module_version": "1.2.0",
          "state": {
            "_model_module": "@jupyter-widgets/base",
            "_model_module_version": "1.2.0",
            "_model_name": "LayoutModel",
            "_view_count": null,
            "_view_module": "@jupyter-widgets/base",
            "_view_module_version": "1.2.0",
            "_view_name": "LayoutView",
            "align_content": null,
            "align_items": null,
            "align_self": null,
            "border": null,
            "bottom": null,
            "display": null,
            "flex": null,
            "flex_flow": null,
            "grid_area": null,
            "grid_auto_columns": null,
            "grid_auto_flow": null,
            "grid_auto_rows": null,
            "grid_column": null,
            "grid_gap": null,
            "grid_row": null,
            "grid_template_areas": null,
            "grid_template_columns": null,
            "grid_template_rows": null,
            "height": null,
            "justify_content": null,
            "justify_items": null,
            "left": null,
            "margin": null,
            "max_height": null,
            "max_width": null,
            "min_height": null,
            "min_width": null,
            "object_fit": null,
            "object_position": null,
            "order": null,
            "overflow": null,
            "overflow_x": null,
            "overflow_y": null,
            "padding": null,
            "right": null,
            "top": null,
            "visibility": null,
            "width": null
          }
        },
        "d065c22476bd4ffd9d89f02352ba4dfe": {
          "model_module": "@jupyter-widgets/controls",
          "model_name": "DescriptionStyleModel",
          "model_module_version": "1.5.0",
          "state": {
            "_model_module": "@jupyter-widgets/controls",
            "_model_module_version": "1.5.0",
            "_model_name": "DescriptionStyleModel",
            "_view_count": null,
            "_view_module": "@jupyter-widgets/base",
            "_view_module_version": "1.2.0",
            "_view_name": "StyleView",
            "description_width": ""
          }
        },
        "acb79fd5e05b4fa1888cd9e310f07662": {
          "model_module": "@jupyter-widgets/base",
          "model_name": "LayoutModel",
          "model_module_version": "1.2.0",
          "state": {
            "_model_module": "@jupyter-widgets/base",
            "_model_module_version": "1.2.0",
            "_model_name": "LayoutModel",
            "_view_count": null,
            "_view_module": "@jupyter-widgets/base",
            "_view_module_version": "1.2.0",
            "_view_name": "LayoutView",
            "align_content": null,
            "align_items": null,
            "align_self": null,
            "border": null,
            "bottom": null,
            "display": null,
            "flex": null,
            "flex_flow": null,
            "grid_area": null,
            "grid_auto_columns": null,
            "grid_auto_flow": null,
            "grid_auto_rows": null,
            "grid_column": null,
            "grid_gap": null,
            "grid_row": null,
            "grid_template_areas": null,
            "grid_template_columns": null,
            "grid_template_rows": null,
            "height": null,
            "justify_content": null,
            "justify_items": null,
            "left": null,
            "margin": null,
            "max_height": null,
            "max_width": null,
            "min_height": null,
            "min_width": null,
            "object_fit": null,
            "object_position": null,
            "order": null,
            "overflow": null,
            "overflow_x": null,
            "overflow_y": null,
            "padding": null,
            "right": null,
            "top": null,
            "visibility": null,
            "width": null
          }
        },
        "00098d40b3fd40faa8817a772998933b": {
          "model_module": "@jupyter-widgets/controls",
          "model_name": "ProgressStyleModel",
          "model_module_version": "1.5.0",
          "state": {
            "_model_module": "@jupyter-widgets/controls",
            "_model_module_version": "1.5.0",
            "_model_name": "ProgressStyleModel",
            "_view_count": null,
            "_view_module": "@jupyter-widgets/base",
            "_view_module_version": "1.2.0",
            "_view_name": "StyleView",
            "bar_color": null,
            "description_width": ""
          }
        },
        "037926abdf8740f08bf520a6d08481d8": {
          "model_module": "@jupyter-widgets/base",
          "model_name": "LayoutModel",
          "model_module_version": "1.2.0",
          "state": {
            "_model_module": "@jupyter-widgets/base",
            "_model_module_version": "1.2.0",
            "_model_name": "LayoutModel",
            "_view_count": null,
            "_view_module": "@jupyter-widgets/base",
            "_view_module_version": "1.2.0",
            "_view_name": "LayoutView",
            "align_content": null,
            "align_items": null,
            "align_self": null,
            "border": null,
            "bottom": null,
            "display": null,
            "flex": null,
            "flex_flow": null,
            "grid_area": null,
            "grid_auto_columns": null,
            "grid_auto_flow": null,
            "grid_auto_rows": null,
            "grid_column": null,
            "grid_gap": null,
            "grid_row": null,
            "grid_template_areas": null,
            "grid_template_columns": null,
            "grid_template_rows": null,
            "height": null,
            "justify_content": null,
            "justify_items": null,
            "left": null,
            "margin": null,
            "max_height": null,
            "max_width": null,
            "min_height": null,
            "min_width": null,
            "object_fit": null,
            "object_position": null,
            "order": null,
            "overflow": null,
            "overflow_x": null,
            "overflow_y": null,
            "padding": null,
            "right": null,
            "top": null,
            "visibility": null,
            "width": null
          }
        },
        "500f7abc3eb1469ea5e1a0896ef0b3a5": {
          "model_module": "@jupyter-widgets/controls",
          "model_name": "DescriptionStyleModel",
          "model_module_version": "1.5.0",
          "state": {
            "_model_module": "@jupyter-widgets/controls",
            "_model_module_version": "1.5.0",
            "_model_name": "DescriptionStyleModel",
            "_view_count": null,
            "_view_module": "@jupyter-widgets/base",
            "_view_module_version": "1.2.0",
            "_view_name": "StyleView",
            "description_width": ""
          }
        },
        "55a966b6cd5946c99baa83683c0548fa": {
          "model_module": "@jupyter-widgets/controls",
          "model_name": "HBoxModel",
          "model_module_version": "1.5.0",
          "state": {
            "_dom_classes": [],
            "_model_module": "@jupyter-widgets/controls",
            "_model_module_version": "1.5.0",
            "_model_name": "HBoxModel",
            "_view_count": null,
            "_view_module": "@jupyter-widgets/controls",
            "_view_module_version": "1.5.0",
            "_view_name": "HBoxView",
            "box_style": "",
            "children": [
              "IPY_MODEL_c114bf4bc9454e22a395551641b1ace4",
              "IPY_MODEL_7c83f8b2d59547b4add13eea641dacbe",
              "IPY_MODEL_829f69c502904616b8fe4c0c28095132"
            ],
            "layout": "IPY_MODEL_546e36d3254f45f8a00b3c31d9d065b6"
          }
        },
        "c114bf4bc9454e22a395551641b1ace4": {
          "model_module": "@jupyter-widgets/controls",
          "model_name": "HTMLModel",
          "model_module_version": "1.5.0",
          "state": {
            "_dom_classes": [],
            "_model_module": "@jupyter-widgets/controls",
            "_model_module_version": "1.5.0",
            "_model_name": "HTMLModel",
            "_view_count": null,
            "_view_module": "@jupyter-widgets/controls",
            "_view_module_version": "1.5.0",
            "_view_name": "HTMLView",
            "description": "",
            "description_tooltip": null,
            "layout": "IPY_MODEL_a1d91fe36c714448906b68270bba9ed0",
            "placeholder": "​",
            "style": "IPY_MODEL_1eb27289042f458aaadfe1135da1005f",
            "value": "Downloading (…)solve/main/bpe.codes: 100%"
          }
        },
        "7c83f8b2d59547b4add13eea641dacbe": {
          "model_module": "@jupyter-widgets/controls",
          "model_name": "FloatProgressModel",
          "model_module_version": "1.5.0",
          "state": {
            "_dom_classes": [],
            "_model_module": "@jupyter-widgets/controls",
            "_model_module_version": "1.5.0",
            "_model_name": "FloatProgressModel",
            "_view_count": null,
            "_view_module": "@jupyter-widgets/controls",
            "_view_module_version": "1.5.0",
            "_view_name": "ProgressView",
            "bar_style": "success",
            "description": "",
            "description_tooltip": null,
            "layout": "IPY_MODEL_878c7b44d442475ab4dfeb92f1cbe676",
            "max": 1135173,
            "min": 0,
            "orientation": "horizontal",
            "style": "IPY_MODEL_b611271fabcb45ce85c739d8dae1c004",
            "value": 1135173
          }
        },
        "829f69c502904616b8fe4c0c28095132": {
          "model_module": "@jupyter-widgets/controls",
          "model_name": "HTMLModel",
          "model_module_version": "1.5.0",
          "state": {
            "_dom_classes": [],
            "_model_module": "@jupyter-widgets/controls",
            "_model_module_version": "1.5.0",
            "_model_name": "HTMLModel",
            "_view_count": null,
            "_view_module": "@jupyter-widgets/controls",
            "_view_module_version": "1.5.0",
            "_view_name": "HTMLView",
            "description": "",
            "description_tooltip": null,
            "layout": "IPY_MODEL_52620f3eacf64ed795116679079b5316",
            "placeholder": "​",
            "style": "IPY_MODEL_3ddceaa927b04bdcacd701b0ca7769ee",
            "value": " 1.14M/1.14M [00:00&lt;00:00, 9.13MB/s]"
          }
        },
        "546e36d3254f45f8a00b3c31d9d065b6": {
          "model_module": "@jupyter-widgets/base",
          "model_name": "LayoutModel",
          "model_module_version": "1.2.0",
          "state": {
            "_model_module": "@jupyter-widgets/base",
            "_model_module_version": "1.2.0",
            "_model_name": "LayoutModel",
            "_view_count": null,
            "_view_module": "@jupyter-widgets/base",
            "_view_module_version": "1.2.0",
            "_view_name": "LayoutView",
            "align_content": null,
            "align_items": null,
            "align_self": null,
            "border": null,
            "bottom": null,
            "display": null,
            "flex": null,
            "flex_flow": null,
            "grid_area": null,
            "grid_auto_columns": null,
            "grid_auto_flow": null,
            "grid_auto_rows": null,
            "grid_column": null,
            "grid_gap": null,
            "grid_row": null,
            "grid_template_areas": null,
            "grid_template_columns": null,
            "grid_template_rows": null,
            "height": null,
            "justify_content": null,
            "justify_items": null,
            "left": null,
            "margin": null,
            "max_height": null,
            "max_width": null,
            "min_height": null,
            "min_width": null,
            "object_fit": null,
            "object_position": null,
            "order": null,
            "overflow": null,
            "overflow_x": null,
            "overflow_y": null,
            "padding": null,
            "right": null,
            "top": null,
            "visibility": null,
            "width": null
          }
        },
        "a1d91fe36c714448906b68270bba9ed0": {
          "model_module": "@jupyter-widgets/base",
          "model_name": "LayoutModel",
          "model_module_version": "1.2.0",
          "state": {
            "_model_module": "@jupyter-widgets/base",
            "_model_module_version": "1.2.0",
            "_model_name": "LayoutModel",
            "_view_count": null,
            "_view_module": "@jupyter-widgets/base",
            "_view_module_version": "1.2.0",
            "_view_name": "LayoutView",
            "align_content": null,
            "align_items": null,
            "align_self": null,
            "border": null,
            "bottom": null,
            "display": null,
            "flex": null,
            "flex_flow": null,
            "grid_area": null,
            "grid_auto_columns": null,
            "grid_auto_flow": null,
            "grid_auto_rows": null,
            "grid_column": null,
            "grid_gap": null,
            "grid_row": null,
            "grid_template_areas": null,
            "grid_template_columns": null,
            "grid_template_rows": null,
            "height": null,
            "justify_content": null,
            "justify_items": null,
            "left": null,
            "margin": null,
            "max_height": null,
            "max_width": null,
            "min_height": null,
            "min_width": null,
            "object_fit": null,
            "object_position": null,
            "order": null,
            "overflow": null,
            "overflow_x": null,
            "overflow_y": null,
            "padding": null,
            "right": null,
            "top": null,
            "visibility": null,
            "width": null
          }
        },
        "1eb27289042f458aaadfe1135da1005f": {
          "model_module": "@jupyter-widgets/controls",
          "model_name": "DescriptionStyleModel",
          "model_module_version": "1.5.0",
          "state": {
            "_model_module": "@jupyter-widgets/controls",
            "_model_module_version": "1.5.0",
            "_model_name": "DescriptionStyleModel",
            "_view_count": null,
            "_view_module": "@jupyter-widgets/base",
            "_view_module_version": "1.2.0",
            "_view_name": "StyleView",
            "description_width": ""
          }
        },
        "878c7b44d442475ab4dfeb92f1cbe676": {
          "model_module": "@jupyter-widgets/base",
          "model_name": "LayoutModel",
          "model_module_version": "1.2.0",
          "state": {
            "_model_module": "@jupyter-widgets/base",
            "_model_module_version": "1.2.0",
            "_model_name": "LayoutModel",
            "_view_count": null,
            "_view_module": "@jupyter-widgets/base",
            "_view_module_version": "1.2.0",
            "_view_name": "LayoutView",
            "align_content": null,
            "align_items": null,
            "align_self": null,
            "border": null,
            "bottom": null,
            "display": null,
            "flex": null,
            "flex_flow": null,
            "grid_area": null,
            "grid_auto_columns": null,
            "grid_auto_flow": null,
            "grid_auto_rows": null,
            "grid_column": null,
            "grid_gap": null,
            "grid_row": null,
            "grid_template_areas": null,
            "grid_template_columns": null,
            "grid_template_rows": null,
            "height": null,
            "justify_content": null,
            "justify_items": null,
            "left": null,
            "margin": null,
            "max_height": null,
            "max_width": null,
            "min_height": null,
            "min_width": null,
            "object_fit": null,
            "object_position": null,
            "order": null,
            "overflow": null,
            "overflow_x": null,
            "overflow_y": null,
            "padding": null,
            "right": null,
            "top": null,
            "visibility": null,
            "width": null
          }
        },
        "b611271fabcb45ce85c739d8dae1c004": {
          "model_module": "@jupyter-widgets/controls",
          "model_name": "ProgressStyleModel",
          "model_module_version": "1.5.0",
          "state": {
            "_model_module": "@jupyter-widgets/controls",
            "_model_module_version": "1.5.0",
            "_model_name": "ProgressStyleModel",
            "_view_count": null,
            "_view_module": "@jupyter-widgets/base",
            "_view_module_version": "1.2.0",
            "_view_name": "StyleView",
            "bar_color": null,
            "description_width": ""
          }
        },
        "52620f3eacf64ed795116679079b5316": {
          "model_module": "@jupyter-widgets/base",
          "model_name": "LayoutModel",
          "model_module_version": "1.2.0",
          "state": {
            "_model_module": "@jupyter-widgets/base",
            "_model_module_version": "1.2.0",
            "_model_name": "LayoutModel",
            "_view_count": null,
            "_view_module": "@jupyter-widgets/base",
            "_view_module_version": "1.2.0",
            "_view_name": "LayoutView",
            "align_content": null,
            "align_items": null,
            "align_self": null,
            "border": null,
            "bottom": null,
            "display": null,
            "flex": null,
            "flex_flow": null,
            "grid_area": null,
            "grid_auto_columns": null,
            "grid_auto_flow": null,
            "grid_auto_rows": null,
            "grid_column": null,
            "grid_gap": null,
            "grid_row": null,
            "grid_template_areas": null,
            "grid_template_columns": null,
            "grid_template_rows": null,
            "height": null,
            "justify_content": null,
            "justify_items": null,
            "left": null,
            "margin": null,
            "max_height": null,
            "max_width": null,
            "min_height": null,
            "min_width": null,
            "object_fit": null,
            "object_position": null,
            "order": null,
            "overflow": null,
            "overflow_x": null,
            "overflow_y": null,
            "padding": null,
            "right": null,
            "top": null,
            "visibility": null,
            "width": null
          }
        },
        "3ddceaa927b04bdcacd701b0ca7769ee": {
          "model_module": "@jupyter-widgets/controls",
          "model_name": "DescriptionStyleModel",
          "model_module_version": "1.5.0",
          "state": {
            "_model_module": "@jupyter-widgets/controls",
            "_model_module_version": "1.5.0",
            "_model_name": "DescriptionStyleModel",
            "_view_count": null,
            "_view_module": "@jupyter-widgets/base",
            "_view_module_version": "1.2.0",
            "_view_name": "StyleView",
            "description_width": ""
          }
        }
      }
    }
  },
  "nbformat": 4,
  "nbformat_minor": 0
}
